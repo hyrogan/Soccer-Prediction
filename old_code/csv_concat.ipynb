{
 "cells": [
  {
   "cell_type": "code",
   "execution_count": 1,
   "metadata": {
    "collapsed": true,
    "ExecuteTime": {
     "end_time": "2023-07-31T09:26:36.498399Z",
     "start_time": "2023-07-31T09:26:35.798819Z"
    }
   },
   "outputs": [],
   "source": [
    "import pandas as pd\n",
    "import glob\n",
    "#import os\n",
    "#import chardet"
   ]
  },
  {
   "cell_type": "code",
   "execution_count": 21,
   "outputs": [
    {
     "data": {
      "text/plain": "['season_2021-2022_sorted.csv',\n 'season_2014-2015_sorted.csv',\n 'season_2010-2011_sorted.csv',\n 'season_2018-2019_sorted.csv',\n 'season_2017-2018_sorted.csv',\n 'season_2020-2021_sorted.csv',\n 'season_2019-2020_sorted.csv',\n 'season_2013-2014_sorted.csv',\n 'season_2016-2017_sorted.csv',\n 'season_2012-2013_sorted.csv',\n 'season_2015-2016_sorted.csv',\n 'season_2011-2012_sorted.csv']"
     },
     "execution_count": 21,
     "metadata": {},
     "output_type": "execute_result"
    }
   ],
   "source": [
    "#list all csv files only\n",
    "csv_files = glob.glob('*.{}'.format('csv'))\n",
    "csv_files"
   ],
   "metadata": {
    "collapsed": false,
    "ExecuteTime": {
     "end_time": "2023-07-25T12:16:04.593104Z",
     "start_time": "2023-07-25T12:16:04.578949Z"
    }
   }
  },
  {
   "cell_type": "code",
   "execution_count": 22,
   "outputs": [
    {
     "data": {
      "text/plain": "''"
     },
     "execution_count": 22,
     "metadata": {},
     "output_type": "execute_result"
    }
   ],
   "source": [
    "df_concat = pd.concat([pd.read_csv(f) for f in csv_files ], ignore_index=True)\n",
    "#df_concat.to_csv(\"../data/season_2017-2018.csv\", index=False)\n",
    "\n",
    "\"\"\"\n",
    "with open('I2.csv', 'r', encoding='latin1') as f:\n",
    "    lines = f.readlines()\n",
    "\n",
    "with open('I2.csv', 'w', encoding='utf-8') as f:\n",
    "    for line in lines:\n",
    "        line = line.replace('\\xa0', ' ')\n",
    "        f.write(line)\n",
    "\n",
    "for f in csv_files:\n",
    "    rawdata = open(f, 'rb').read()\n",
    "    result = chardet.detect(rawdata)\n",
    "    encoding = result['encoding']\n",
    "    print(f'File: {f}, Encoding: {encoding}')\n",
    "\n",
    "    try:\n",
    "        df = pd.read_csv(f, encoding=encoding)\n",
    "    except UnicodeDecodeError:\n",
    "        print(f'Error decoding file: {f}')\n",
    "\"\"\"\n",
    ";"
   ],
   "metadata": {
    "collapsed": false,
    "ExecuteTime": {
     "end_time": "2023-07-25T12:16:09.083185Z",
     "start_time": "2023-07-25T12:16:07.985726Z"
    }
   }
  },
  {
   "cell_type": "code",
   "execution_count": 23,
   "outputs": [
    {
     "data": {
      "text/plain": "''"
     },
     "execution_count": 23,
     "metadata": {},
     "output_type": "execute_result"
    }
   ],
   "source": [
    "# Load your DataFrame\n",
    "df = df_concat\n",
    "\n",
    "# Convert 'Date' column to datetime format\n",
    "df['Date'] = pd.to_datetime(df['Date'], infer_datetime_format=True, dayfirst=True)\n",
    "\n",
    "\"\"\"\n",
    "# Check if 'Time' column exists\n",
    "if 'Time' in df.columns:\n",
    "    # Convert 'Time' column to datetime format\n",
    "    df['Time'] = pd.to_datetime(df['Time'], format='%H:%M').dt.time\n",
    "\"\"\"\n",
    "# Sort DataFrame by 'Date' and 'Time' if it exists, else just by 'Date'\n",
    "df = df.sort_values(by=['Date', 'Time'] if 'Time' in df.columns else ['Date'])\n",
    "\n",
    "# Convert 'Date' column back to 'DD/MM/YYYY' format\n",
    "df['Date'] = df['Date'].dt.strftime('%d/%m/%Y')\n",
    "\"\"\"\n",
    "# Check if 'Time' column exists\n",
    "if 'Time' in df.columns:\n",
    "    # Convert 'Time' column back to 'HH:MM' format\n",
    "    df['Time'] = df['Time'].apply(lambda x: x.strftime('%H:%M'))\n",
    "\"\"\"\n",
    "# Save sorted DataFrame back to csv\n",
    "df.to_csv('../data/season_2010-2022_sorted.csv', index=False)\n",
    ";"
   ],
   "metadata": {
    "collapsed": false,
    "ExecuteTime": {
     "end_time": "2023-07-25T12:16:23.275107Z",
     "start_time": "2023-07-25T12:16:18.009710Z"
    }
   }
  },
  {
   "cell_type": "code",
   "execution_count": 25,
   "outputs": [
    {
     "name": "stderr",
     "output_type": "stream",
     "text": [
      "/var/folders/js/lg3nlt2956z9yc23wzld8xm80000gn/T/ipykernel_47611/3953979075.py:2: DtypeWarning: Columns (2,126) have mixed types. Specify dtype option on import or set low_memory=False.\n",
      "  df = pd.read_csv('../data/season_2010-2022_sorted.csv')\n"
     ]
    }
   ],
   "source": [
    "# Load your DataFrame\n",
    "df = pd.read_csv('../data/season_2010-2022_sorted.csv')\n",
    "\n",
    "# Select only the desired columns\n",
    "df = df[['Div','Date','HomeTeam','AwayTeam','FTHG','FTAG','FTR']]\n",
    "\n",
    "# Save the DataFrame with the selected columns back to csv\n",
    "df.to_csv('../data/season_2010-2022_sorted_compressed.csv', index=False)"
   ],
   "metadata": {
    "collapsed": false,
    "ExecuteTime": {
     "end_time": "2023-07-25T12:18:40.528232Z",
     "start_time": "2023-07-25T12:18:39.217107Z"
    }
   }
  },
  {
   "cell_type": "code",
   "execution_count": 27,
   "outputs": [
    {
     "name": "stdout",
     "output_type": "stream",
     "text": [
      "Empty DataFrame\n",
      "Columns: [Div, Date, HomeTeam, AwayTeam, FTHG, FTAG, FTR]\n",
      "Index: []\n"
     ]
    }
   ],
   "source": [
    "# Load your DataFrame\n",
    "df = pd.read_csv('../data/season_2010-2022_sorted_compressed.csv')\n",
    "\n",
    "# Get rows with missing values\n",
    "rows_with_missing_values = df[df.isna().any(axis=1)]\n",
    "\n",
    "# Print rows with missing values\n",
    "print(rows_with_missing_values)"
   ],
   "metadata": {
    "collapsed": false,
    "ExecuteTime": {
     "end_time": "2023-07-25T12:27:13.140534Z",
     "start_time": "2023-07-25T12:27:12.985563Z"
    }
   }
  },
  {
   "cell_type": "code",
   "execution_count": 3,
   "outputs": [],
   "source": [
    "# Load your DataFrame\n",
    "df = pd.read_csv('../data/season_2022-2023_sorted.csv')\n",
    "\n",
    "# Filter rows where last character of 'Div' is '0' or '1'\n",
    "df_filtered = df[df['Div'].str[-1].isin(['0', '1'])]\n",
    "\n",
    "# Save the filtered DataFrame\n",
    "df_filtered.to_csv('../data/season_2022-2023_sorted_top.csv', index=False)"
   ],
   "metadata": {
    "collapsed": false,
    "ExecuteTime": {
     "end_time": "2023-07-31T09:29:42.238508Z",
     "start_time": "2023-07-31T09:29:41.717757Z"
    }
   }
  },
  {
   "cell_type": "code",
   "execution_count": 5,
   "outputs": [],
   "source": [
    "# Load your DataFrame\n",
    "df = pd.read_csv('../data/season_2022-2023_sorted_top.csv')\n",
    "\n",
    "# Filter rows where 'Div' is 'E0'\n",
    "df_filtered = df[df['Div'] == 'E0']\n",
    "\n",
    "# Save the filtered DataFrame\n",
    "df_filtered.to_csv('../data/season_2022-2023_premier_league.csv', index=False)\n"
   ],
   "metadata": {
    "collapsed": false,
    "ExecuteTime": {
     "end_time": "2023-07-31T09:35:21.851369Z",
     "start_time": "2023-07-31T09:35:21.744523Z"
    }
   }
  },
  {
   "cell_type": "code",
   "execution_count": null,
   "outputs": [],
   "source": [],
   "metadata": {
    "collapsed": false
   }
  }
 ],
 "metadata": {
  "kernelspec": {
   "display_name": "Python 3",
   "language": "python",
   "name": "python3"
  },
  "language_info": {
   "codemirror_mode": {
    "name": "ipython",
    "version": 2
   },
   "file_extension": ".py",
   "mimetype": "text/x-python",
   "name": "python",
   "nbconvert_exporter": "python",
   "pygments_lexer": "ipython2",
   "version": "2.7.6"
  }
 },
 "nbformat": 4,
 "nbformat_minor": 0
}

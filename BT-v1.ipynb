{
 "cells": [
  {
   "cell_type": "code",
   "execution_count": 8,
   "id": "e8814e25-8883-4c81-8552-0143fe177533",
   "metadata": {
    "tags": []
   },
   "outputs": [],
   "source": [
    "import numpy as np\n",
    "import pandas as pd\n",
    "from statsbombpy import sb\n"
   ]
  },
  {
   "cell_type": "code",
   "execution_count": 9,
   "outputs": [
    {
     "data": {
      "text/plain": "                     team  wins  losses  goals  total_yel_card  \\\n0       Manchester United  28.0     5.0   83.0            60.0   \n1                 Chelsea  24.0     3.0   64.0            62.0   \n2               Liverpool  20.0    10.0   57.0            44.0   \n3                 Arsenal  19.0     8.0   63.0            59.0   \n4       Tottenham Hotspur  17.0    12.0   57.0            48.0   \n..                    ...   ...     ...    ...             ...   \n235     Huddersfield Town   9.0    19.0   28.0            62.0   \n236          Swansea City   8.0    21.0   28.0            51.0   \n237           Southampton   7.0    16.0   37.0            63.0   \n238            Stoke City   7.0    19.0   35.0            62.0   \n239  West Bromwich Albion   6.0    19.0   31.0            73.0   \n\n     total_red_card  total_scoring_att  ontarget_scoring_att  hit_woodwork  \\\n0               1.0              698.0                 256.0          21.0   \n1               4.0              636.0                 216.0          14.0   \n2               0.0              668.0                 214.0          15.0   \n3               3.0              638.0                 226.0          19.0   \n4               3.0              520.0                 184.0           6.0   \n..              ...                ...                   ...           ...   \n235             3.0              362.0                 109.0           8.0   \n236             1.0              338.0                 103.0           8.0   \n237             2.0              450.0                 145.0          15.0   \n238             1.0              384.0                 132.0           8.0   \n239             1.0              378.0                 114.0           7.0   \n\n     att_hd_goal  ...  total_cross  corner_taken  touches  big_chance_missed  \\\n0           12.0  ...        918.0         258.0  25686.0                NaN   \n1           16.0  ...        897.0         231.0  24010.0                NaN   \n2            8.0  ...       1107.0         282.0  24150.0                NaN   \n3           10.0  ...        873.0         278.0  25592.0                NaN   \n4            5.0  ...        796.0         181.0  22200.0                NaN   \n..           ...  ...          ...           ...      ...                ...   \n235          5.0  ...        765.0         165.0  22619.0               21.0   \n236          3.0  ...        694.0         150.0  22775.0               26.0   \n237          7.0  ...        800.0         227.0  24639.0               37.0   \n238          8.0  ...        598.0         136.0  20368.0               33.0   \n239         10.0  ...        784.0         176.0  20552.0               28.0   \n\n     clearance_off_line  dispossessed  penalty_save  total_high_claim  \\\n0                   1.0           NaN           2.0              37.0   \n1                   2.0           NaN           1.0              74.0   \n2                   1.0           NaN           0.0              51.0   \n3                   1.0           NaN           0.0              88.0   \n4                   2.0           NaN           0.0              51.0   \n..                  ...           ...           ...               ...   \n235                 6.0         416.0           2.0              31.0   \n236                 1.0         439.0           3.0              44.0   \n237                 4.0         379.0           1.0              29.0   \n238                 3.0         402.0           0.0              27.0   \n239                 3.0         446.0           0.0              40.0   \n\n     punches     season  \n0       25.0  2006-2007  \n1       22.0  2006-2007  \n2       27.0  2006-2007  \n3       27.0  2006-2007  \n4       24.0  2006-2007  \n..       ...        ...  \n235     24.0  2017-2018  \n236     15.0  2017-2018  \n237     13.0  2017-2018  \n238     14.0  2017-2018  \n239      5.0  2017-2018  \n\n[240 rows x 42 columns]",
      "text/html": "<div>\n<style scoped>\n    .dataframe tbody tr th:only-of-type {\n        vertical-align: middle;\n    }\n\n    .dataframe tbody tr th {\n        vertical-align: top;\n    }\n\n    .dataframe thead th {\n        text-align: right;\n    }\n</style>\n<table border=\"1\" class=\"dataframe\">\n  <thead>\n    <tr style=\"text-align: right;\">\n      <th></th>\n      <th>team</th>\n      <th>wins</th>\n      <th>losses</th>\n      <th>goals</th>\n      <th>total_yel_card</th>\n      <th>total_red_card</th>\n      <th>total_scoring_att</th>\n      <th>ontarget_scoring_att</th>\n      <th>hit_woodwork</th>\n      <th>att_hd_goal</th>\n      <th>...</th>\n      <th>total_cross</th>\n      <th>corner_taken</th>\n      <th>touches</th>\n      <th>big_chance_missed</th>\n      <th>clearance_off_line</th>\n      <th>dispossessed</th>\n      <th>penalty_save</th>\n      <th>total_high_claim</th>\n      <th>punches</th>\n      <th>season</th>\n    </tr>\n  </thead>\n  <tbody>\n    <tr>\n      <th>0</th>\n      <td>Manchester United</td>\n      <td>28.0</td>\n      <td>5.0</td>\n      <td>83.0</td>\n      <td>60.0</td>\n      <td>1.0</td>\n      <td>698.0</td>\n      <td>256.0</td>\n      <td>21.0</td>\n      <td>12.0</td>\n      <td>...</td>\n      <td>918.0</td>\n      <td>258.0</td>\n      <td>25686.0</td>\n      <td>NaN</td>\n      <td>1.0</td>\n      <td>NaN</td>\n      <td>2.0</td>\n      <td>37.0</td>\n      <td>25.0</td>\n      <td>2006-2007</td>\n    </tr>\n    <tr>\n      <th>1</th>\n      <td>Chelsea</td>\n      <td>24.0</td>\n      <td>3.0</td>\n      <td>64.0</td>\n      <td>62.0</td>\n      <td>4.0</td>\n      <td>636.0</td>\n      <td>216.0</td>\n      <td>14.0</td>\n      <td>16.0</td>\n      <td>...</td>\n      <td>897.0</td>\n      <td>231.0</td>\n      <td>24010.0</td>\n      <td>NaN</td>\n      <td>2.0</td>\n      <td>NaN</td>\n      <td>1.0</td>\n      <td>74.0</td>\n      <td>22.0</td>\n      <td>2006-2007</td>\n    </tr>\n    <tr>\n      <th>2</th>\n      <td>Liverpool</td>\n      <td>20.0</td>\n      <td>10.0</td>\n      <td>57.0</td>\n      <td>44.0</td>\n      <td>0.0</td>\n      <td>668.0</td>\n      <td>214.0</td>\n      <td>15.0</td>\n      <td>8.0</td>\n      <td>...</td>\n      <td>1107.0</td>\n      <td>282.0</td>\n      <td>24150.0</td>\n      <td>NaN</td>\n      <td>1.0</td>\n      <td>NaN</td>\n      <td>0.0</td>\n      <td>51.0</td>\n      <td>27.0</td>\n      <td>2006-2007</td>\n    </tr>\n    <tr>\n      <th>3</th>\n      <td>Arsenal</td>\n      <td>19.0</td>\n      <td>8.0</td>\n      <td>63.0</td>\n      <td>59.0</td>\n      <td>3.0</td>\n      <td>638.0</td>\n      <td>226.0</td>\n      <td>19.0</td>\n      <td>10.0</td>\n      <td>...</td>\n      <td>873.0</td>\n      <td>278.0</td>\n      <td>25592.0</td>\n      <td>NaN</td>\n      <td>1.0</td>\n      <td>NaN</td>\n      <td>0.0</td>\n      <td>88.0</td>\n      <td>27.0</td>\n      <td>2006-2007</td>\n    </tr>\n    <tr>\n      <th>4</th>\n      <td>Tottenham Hotspur</td>\n      <td>17.0</td>\n      <td>12.0</td>\n      <td>57.0</td>\n      <td>48.0</td>\n      <td>3.0</td>\n      <td>520.0</td>\n      <td>184.0</td>\n      <td>6.0</td>\n      <td>5.0</td>\n      <td>...</td>\n      <td>796.0</td>\n      <td>181.0</td>\n      <td>22200.0</td>\n      <td>NaN</td>\n      <td>2.0</td>\n      <td>NaN</td>\n      <td>0.0</td>\n      <td>51.0</td>\n      <td>24.0</td>\n      <td>2006-2007</td>\n    </tr>\n    <tr>\n      <th>...</th>\n      <td>...</td>\n      <td>...</td>\n      <td>...</td>\n      <td>...</td>\n      <td>...</td>\n      <td>...</td>\n      <td>...</td>\n      <td>...</td>\n      <td>...</td>\n      <td>...</td>\n      <td>...</td>\n      <td>...</td>\n      <td>...</td>\n      <td>...</td>\n      <td>...</td>\n      <td>...</td>\n      <td>...</td>\n      <td>...</td>\n      <td>...</td>\n      <td>...</td>\n      <td>...</td>\n    </tr>\n    <tr>\n      <th>235</th>\n      <td>Huddersfield Town</td>\n      <td>9.0</td>\n      <td>19.0</td>\n      <td>28.0</td>\n      <td>62.0</td>\n      <td>3.0</td>\n      <td>362.0</td>\n      <td>109.0</td>\n      <td>8.0</td>\n      <td>5.0</td>\n      <td>...</td>\n      <td>765.0</td>\n      <td>165.0</td>\n      <td>22619.0</td>\n      <td>21.0</td>\n      <td>6.0</td>\n      <td>416.0</td>\n      <td>2.0</td>\n      <td>31.0</td>\n      <td>24.0</td>\n      <td>2017-2018</td>\n    </tr>\n    <tr>\n      <th>236</th>\n      <td>Swansea City</td>\n      <td>8.0</td>\n      <td>21.0</td>\n      <td>28.0</td>\n      <td>51.0</td>\n      <td>1.0</td>\n      <td>338.0</td>\n      <td>103.0</td>\n      <td>8.0</td>\n      <td>3.0</td>\n      <td>...</td>\n      <td>694.0</td>\n      <td>150.0</td>\n      <td>22775.0</td>\n      <td>26.0</td>\n      <td>1.0</td>\n      <td>439.0</td>\n      <td>3.0</td>\n      <td>44.0</td>\n      <td>15.0</td>\n      <td>2017-2018</td>\n    </tr>\n    <tr>\n      <th>237</th>\n      <td>Southampton</td>\n      <td>7.0</td>\n      <td>16.0</td>\n      <td>37.0</td>\n      <td>63.0</td>\n      <td>2.0</td>\n      <td>450.0</td>\n      <td>145.0</td>\n      <td>15.0</td>\n      <td>7.0</td>\n      <td>...</td>\n      <td>800.0</td>\n      <td>227.0</td>\n      <td>24639.0</td>\n      <td>37.0</td>\n      <td>4.0</td>\n      <td>379.0</td>\n      <td>1.0</td>\n      <td>29.0</td>\n      <td>13.0</td>\n      <td>2017-2018</td>\n    </tr>\n    <tr>\n      <th>238</th>\n      <td>Stoke City</td>\n      <td>7.0</td>\n      <td>19.0</td>\n      <td>35.0</td>\n      <td>62.0</td>\n      <td>1.0</td>\n      <td>384.0</td>\n      <td>132.0</td>\n      <td>8.0</td>\n      <td>8.0</td>\n      <td>...</td>\n      <td>598.0</td>\n      <td>136.0</td>\n      <td>20368.0</td>\n      <td>33.0</td>\n      <td>3.0</td>\n      <td>402.0</td>\n      <td>0.0</td>\n      <td>27.0</td>\n      <td>14.0</td>\n      <td>2017-2018</td>\n    </tr>\n    <tr>\n      <th>239</th>\n      <td>West Bromwich Albion</td>\n      <td>6.0</td>\n      <td>19.0</td>\n      <td>31.0</td>\n      <td>73.0</td>\n      <td>1.0</td>\n      <td>378.0</td>\n      <td>114.0</td>\n      <td>7.0</td>\n      <td>10.0</td>\n      <td>...</td>\n      <td>784.0</td>\n      <td>176.0</td>\n      <td>20552.0</td>\n      <td>28.0</td>\n      <td>3.0</td>\n      <td>446.0</td>\n      <td>0.0</td>\n      <td>40.0</td>\n      <td>5.0</td>\n      <td>2017-2018</td>\n    </tr>\n  </tbody>\n</table>\n<p>240 rows × 42 columns</p>\n</div>"
     },
     "execution_count": 9,
     "metadata": {},
     "output_type": "execute_result"
    }
   ],
   "source": [
    "df1 = pd.read_csv('../data/stats.csv')\n",
    "df1"
   ],
   "metadata": {
    "collapsed": false
   }
  },
  {
   "cell_type": "code",
   "execution_count": 11,
   "outputs": [
    {
     "data": {
      "text/plain": "              home_team         away_team  home_goals  away_goals result  \\\n0      Sheffield United         Liverpool         1.0         1.0      D   \n1               Arsenal       Aston Villa         1.0         1.0      D   \n2               Everton           Watford         2.0         1.0      H   \n3      Newcastle United    Wigan Athletic         2.0         1.0      H   \n4            Portsmouth  Blackburn Rovers         3.0         0.0      H   \n...                 ...               ...         ...         ...    ...   \n4555   Newcastle United           Chelsea         3.0         0.0      H   \n4556        Southampton   Manchester City         0.0         1.0      A   \n4557       Swansea City        Stoke City         1.0         2.0      A   \n4558  Tottenham Hotspur    Leicester City         5.0         4.0      H   \n4559    West Ham United           Everton         3.0         1.0      H   \n\n         season  \n0     2006-2007  \n1     2006-2007  \n2     2006-2007  \n3     2006-2007  \n4     2006-2007  \n...         ...  \n4555  2017-2018  \n4556  2017-2018  \n4557  2017-2018  \n4558  2017-2018  \n4559  2017-2018  \n\n[4560 rows x 6 columns]",
      "text/html": "<div>\n<style scoped>\n    .dataframe tbody tr th:only-of-type {\n        vertical-align: middle;\n    }\n\n    .dataframe tbody tr th {\n        vertical-align: top;\n    }\n\n    .dataframe thead th {\n        text-align: right;\n    }\n</style>\n<table border=\"1\" class=\"dataframe\">\n  <thead>\n    <tr style=\"text-align: right;\">\n      <th></th>\n      <th>home_team</th>\n      <th>away_team</th>\n      <th>home_goals</th>\n      <th>away_goals</th>\n      <th>result</th>\n      <th>season</th>\n    </tr>\n  </thead>\n  <tbody>\n    <tr>\n      <th>0</th>\n      <td>Sheffield United</td>\n      <td>Liverpool</td>\n      <td>1.0</td>\n      <td>1.0</td>\n      <td>D</td>\n      <td>2006-2007</td>\n    </tr>\n    <tr>\n      <th>1</th>\n      <td>Arsenal</td>\n      <td>Aston Villa</td>\n      <td>1.0</td>\n      <td>1.0</td>\n      <td>D</td>\n      <td>2006-2007</td>\n    </tr>\n    <tr>\n      <th>2</th>\n      <td>Everton</td>\n      <td>Watford</td>\n      <td>2.0</td>\n      <td>1.0</td>\n      <td>H</td>\n      <td>2006-2007</td>\n    </tr>\n    <tr>\n      <th>3</th>\n      <td>Newcastle United</td>\n      <td>Wigan Athletic</td>\n      <td>2.0</td>\n      <td>1.0</td>\n      <td>H</td>\n      <td>2006-2007</td>\n    </tr>\n    <tr>\n      <th>4</th>\n      <td>Portsmouth</td>\n      <td>Blackburn Rovers</td>\n      <td>3.0</td>\n      <td>0.0</td>\n      <td>H</td>\n      <td>2006-2007</td>\n    </tr>\n    <tr>\n      <th>...</th>\n      <td>...</td>\n      <td>...</td>\n      <td>...</td>\n      <td>...</td>\n      <td>...</td>\n      <td>...</td>\n    </tr>\n    <tr>\n      <th>4555</th>\n      <td>Newcastle United</td>\n      <td>Chelsea</td>\n      <td>3.0</td>\n      <td>0.0</td>\n      <td>H</td>\n      <td>2017-2018</td>\n    </tr>\n    <tr>\n      <th>4556</th>\n      <td>Southampton</td>\n      <td>Manchester City</td>\n      <td>0.0</td>\n      <td>1.0</td>\n      <td>A</td>\n      <td>2017-2018</td>\n    </tr>\n    <tr>\n      <th>4557</th>\n      <td>Swansea City</td>\n      <td>Stoke City</td>\n      <td>1.0</td>\n      <td>2.0</td>\n      <td>A</td>\n      <td>2017-2018</td>\n    </tr>\n    <tr>\n      <th>4558</th>\n      <td>Tottenham Hotspur</td>\n      <td>Leicester City</td>\n      <td>5.0</td>\n      <td>4.0</td>\n      <td>H</td>\n      <td>2017-2018</td>\n    </tr>\n    <tr>\n      <th>4559</th>\n      <td>West Ham United</td>\n      <td>Everton</td>\n      <td>3.0</td>\n      <td>1.0</td>\n      <td>H</td>\n      <td>2017-2018</td>\n    </tr>\n  </tbody>\n</table>\n<p>4560 rows × 6 columns</p>\n</div>"
     },
     "execution_count": 11,
     "metadata": {},
     "output_type": "execute_result"
    }
   ],
   "source": [
    "df2 = pd.read_csv('../data/results.csv')\n",
    "df2"
   ],
   "metadata": {
    "collapsed": false
   }
  },
  {
   "cell_type": "code",
   "execution_count": null,
   "outputs": [],
   "source": [],
   "metadata": {
    "collapsed": false
   }
  }
 ],
 "metadata": {
  "kernelspec": {
   "display_name": "Python 3 (ipykernel)",
   "language": "python",
   "name": "python3"
  },
  "language_info": {
   "codemirror_mode": {
    "name": "ipython",
    "version": 3
   },
   "file_extension": ".py",
   "mimetype": "text/x-python",
   "name": "python",
   "nbconvert_exporter": "python",
   "pygments_lexer": "ipython3",
   "version": "3.9.16"
  }
 },
 "nbformat": 4,
 "nbformat_minor": 5
}

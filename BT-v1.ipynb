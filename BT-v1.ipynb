{
 "cells": [
  {
   "cell_type": "code",
   "execution_count": 20,
   "id": "e8814e25-8883-4c81-8552-0143fe177533",
   "metadata": {
    "tags": []
   },
   "outputs": [],
   "source": [
    "import numpy as np\n",
    "import pandas as pd\n"
   ]
  },
  {
   "cell_type": "code",
   "execution_count": 21,
   "id": "4858be15-e415-406c-a6ca-bf378a9eede1",
   "metadata": {},
   "outputs": [],
   "source": [
    "x = 4\n"
   ]
  },
  {
   "cell_type": "code",
   "execution_count": 22,
   "id": "7cc3711c-a1dc-4f60-bd15-d8a5d583b089",
   "metadata": {},
   "outputs": [],
   "source": [
    "def squareroot(x):\n",
    "    return np.sqrt(x)\n",
    "\n",
    "def square(x):\n",
    "    return x**2\n",
    "\n",
    "#create a function that takes a list of lists and combines them to one list\n",
    "def combine_lists(list_of_lists):\n",
    "    return [item for sublist in list_of_lists for item in sublist]\n"
   ]
  },
  {
   "cell_type": "code",
   "execution_count": 23,
   "outputs": [
    {
     "data": {
      "text/plain": "[1, 2, 3, 4, 5, 6, 7, 8, 9]"
     },
     "execution_count": 23,
     "metadata": {},
     "output_type": "execute_result"
    }
   ],
   "source": [
    "combine_lists([[1,2,3],[4,5,6],[7,8,9]])"
   ],
   "metadata": {
    "collapsed": false
   }
  },
  {
   "cell_type": "code",
   "execution_count": 34,
   "outputs": [],
   "source": [
    "def parse(string):\n",
    "    return string.split()\n",
    "def toCharacters(string):\n",
    "    return list(string)\n",
    "def combineStrings(string1, string2):\n",
    "    return string1 + string2\n",
    "\n",
    "def charactersToStrings(list_of_characters):\n",
    "    return \"\".join(list_of_characters)\n"
   ],
   "metadata": {
    "collapsed": false
   }
  },
  {
   "cell_type": "code",
   "execution_count": 35,
   "outputs": [
    {
     "name": "stdout",
     "output_type": "stream",
     "text": [
      "['hello', 'world']\n",
      "['h', 'e', 'l', 'l', 'o', ' ', 'w', 'o', 'r', 'l', 'd']\n",
      "helloworldhello world\n"
     ]
    }
   ],
   "source": [
    "x = parse(\"hello world\")\n",
    "y = toCharacters(\"hello world\")\n",
    "print(x)\n",
    "print(y)\n",
    "print(charactersToStrings(combineStrings(x,y)))\n",
    "\n"
   ],
   "metadata": {
    "collapsed": false
   }
  },
  {
   "cell_type": "code",
   "execution_count": 25,
   "outputs": [],
   "source": [],
   "metadata": {
    "collapsed": false
   }
  }
 ],
 "metadata": {
  "kernelspec": {
   "display_name": "Python 3 (ipykernel)",
   "language": "python",
   "name": "python3"
  },
  "language_info": {
   "codemirror_mode": {
    "name": "ipython",
    "version": 3
   },
   "file_extension": ".py",
   "mimetype": "text/x-python",
   "name": "python",
   "nbconvert_exporter": "python",
   "pygments_lexer": "ipython3",
   "version": "3.9.16"
  }
 },
 "nbformat": 4,
 "nbformat_minor": 5
}

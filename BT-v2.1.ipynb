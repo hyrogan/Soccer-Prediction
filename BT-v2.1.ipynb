{
 "cells": [
  {
   "cell_type": "code",
   "execution_count": 223,
   "metadata": {
    "collapsed": true,
    "ExecuteTime": {
     "end_time": "2023-07-17T10:12:52.349654Z",
     "start_time": "2023-07-17T10:12:52.341704Z"
    }
   },
   "outputs": [],
   "source": [
    "import numpy as np\n",
    "import pandas as pd"
   ]
  },
  {
   "cell_type": "code",
   "execution_count": 224,
   "outputs": [],
   "source": [
    "# Function to initialize ratings\n",
    "def initialize_ratings(df_results):\n",
    "    ratings = {}\n",
    "\n",
    "    # Iterate over teams in the results data\n",
    "    teams = set(df_results['home_team']).union(set(df_results['away_team']))\n",
    "    for team in teams:\n",
    "        # Initialize ratings for each team\n",
    "        ratings[team] = {\n",
    "            'brH': 0.0,\n",
    "            'brA': 0.0,\n",
    "            'continuous_overunderperformances': 0\n",
    "        }\n",
    "    print('Teams:', teams, end='\\n\\n')\n",
    "    return ratings"
   ],
   "metadata": {
    "collapsed": false,
    "ExecuteTime": {
     "end_time": "2023-07-17T10:12:52.355472Z",
     "start_time": "2023-07-17T10:12:52.349977Z"
    }
   }
  },
  {
   "cell_type": "code",
   "execution_count": 225,
   "outputs": [],
   "source": [
    "# Function to update ratings based on results data\n",
    "def update_ratings(df_results, ratings):\n",
    "\n",
    "    #lambda: Determines to what extent the new match results influence the team ratings (could be improved to include temporal difference between matches)\n",
    "    learning_rate_lambda = 0.054\n",
    "\n",
    "    #psi: diminish the impact each additional goal difference error has on team ratings\n",
    "    diminishing_function_psi = lambda error: 3 * np.log10(1 + error)\n",
    "\n",
    "    #gamma: determines to what extent performances at the home grounds influence away team ratings and vice versa\n",
    "    learning_rate_gamma = 0.79\n",
    "\n",
    "    # Iterate over each match in the results data\n",
    "    for index, row in df_results.iterrows():\n",
    "        home_team = row['home_team']\n",
    "        away_team = row['away_team']\n",
    "\n",
    "        observed_goal_difference = row['home_goals'] - row['away_goals']\n",
    "\n",
    "        #Calculate expected goals for home team\n",
    "        expected_goal_x = 10 ** (abs(ratings[home_team]['brH']) / 3) - 1\n",
    "\n",
    "        #Calculate expected goals for away team\n",
    "        expected_goal_y = 10 ** (abs(ratings[away_team]['brA']) / 3) - 1\n",
    "\n",
    "        # Calculate expected goal difference based on ratings\n",
    "        expected_goal_difference = expected_goal_x - expected_goal_y\n",
    "\n",
    "        # Calculate the error between observed and expected goal difference\n",
    "        error = abs(observed_goal_difference - expected_goal_difference)\n",
    "\n",
    "        #diminish the impact of the goal difference error for both teams x and y respectively\n",
    "        if (expected_goal_difference < observed_goal_difference):\n",
    "            diminishing_function_psi_x = diminishing_function_psi(error)\n",
    "            diminishing_function_psi_y = -diminishing_function_psi(error)\n",
    "        else:\n",
    "            diminishing_function_psi_x = -diminishing_function_psi(error)\n",
    "            diminishing_function_psi_y = diminishing_function_psi(error)\n",
    "\n",
    "        # Update the home team ratings\n",
    "        previous_home_rating = ratings[home_team]['brH']\n",
    "        ratings[home_team]['brH'] = previous_home_rating + diminishing_function_psi_x * learning_rate_lambda\n",
    "        ratings[home_team]['brA'] += (ratings[home_team]['brH'] - previous_home_rating) * learning_rate_gamma\n",
    "\n",
    "        # Update the away team ratings\n",
    "        previous_away_rating = ratings[away_team]['brA']\n",
    "        ratings[away_team]['brA'] = previous_away_rating + diminishing_function_psi_y * learning_rate_lambda\n",
    "        ratings[away_team]['brH'] += (ratings[away_team]['brA'] - previous_away_rating) * learning_rate_gamma\n",
    "\n",
    "        # Update the continuous over/underperformances for the home team\n",
    "        if (observed_goal_difference > expected_goal_difference):\n",
    "            ratings[home_team]['continuous_overunderperformances'] = max(1, ratings[home_team]['continuous_overunderperformances'] + 1)\n",
    "            ratings[away_team]['continuous_overunderperformances'] = min(-1, ratings[away_team]['continuous_overunderperformances'] - 1)\n",
    "        elif (observed_goal_difference < expected_goal_difference):\n",
    "            ratings[home_team]['continuous_overunderperformances'] = min(-1, ratings[home_team]['continuous_overunderperformances'] - 1)\n",
    "            ratings[away_team]['continuous_overunderperformances'] = max(1, ratings[away_team]['continuous_overunderperformances'] + 1)\n",
    "\n",
    "        #What is supposed to happen in the rare case of observed goals = expected goals?\n",
    "\n",
    "        #printing to check\n",
    "        print(\"Home Team:\", home_team)\n",
    "        print(\"Away Team:\", away_team)\n",
    "        print(\"Observed Goal Difference:\", observed_goal_difference)\n",
    "        print(\"Expected Goal Difference:\", expected_goal_difference)\n",
    "        print(\"Error:\", error)\n",
    "        print(\"Background Rating x Home:\", ratings[home_team]['brH'])\n",
    "        print(\"Background Rating x Away:\", ratings[home_team]['brA'])\n",
    "        print(\"Background Rating y Home:\", ratings[away_team]['brH'])\n",
    "        print(\"Background Rating y Away:\", ratings[away_team]['brA'])\n",
    "        print(\"Continuous Over/Underperformances x:\", ratings[home_team]['continuous_overunderperformances'])\n",
    "        print(\"Continuous Over/Underperformances y:\", ratings[away_team]['continuous_overunderperformances'])\n",
    "\n",
    "\n",
    "    return ratings"
   ],
   "metadata": {
    "collapsed": false,
    "ExecuteTime": {
     "end_time": "2023-07-17T10:12:52.373147Z",
     "start_time": "2023-07-17T10:12:52.355668Z"
    }
   }
  },
  {
   "cell_type": "code",
   "execution_count": 226,
   "outputs": [],
   "source": [
    "# Function to calculate probabilities based on ratings\n",
    "def calculate_rating_difference(df_fixtures, ratings):\n",
    "\n",
    "     #phi: Represents the number of continuous performances, above or below expectations, which do not trigger the form factor\n",
    "    form_threshold_phi = 1\n",
    "\n",
    "    #mu: represents the rating difference used to establish provisional ratings from background ratings\n",
    "    rating_impact_mu = 0.01\n",
    "\n",
    "    #delta: the level by which rating impact μ diminishes with each additional continuous over/under-performance\n",
    "    diminishing_factor_delta = 2.5\n",
    "\n",
    "    # Iterate over each match in the results data\n",
    "    for index, row in df_fixtures.iterrows():\n",
    "        home_team = row['home_team']\n",
    "        away_team = row['away_team']\n",
    "\n",
    "        # Calculate performance factor for home team\n",
    "        a = ratings[home_team]['continuous_overunderperformances'] - form_threshold_phi\n",
    "        b = a ** diminishing_factor_delta\n",
    "        form_factor_home = a / b\n",
    "\n",
    "        # Calculate home team rating\n",
    "        home_rating = ratings[home_team]['brH']\n",
    "        if (ratings[home_team]['continuous_overunderperformances'] > form_threshold_phi):\n",
    "            home_rating = ratings[home_team]['brH'] + rating_impact_mu * form_factor_home\n",
    "        if (ratings[home_team]['continuous_overunderperformances'] < -form_threshold_phi):\n",
    "            home_rating = ratings[home_team]['brH'] - rating_impact_mu * form_factor_home\n",
    "\n",
    "        # Calculate performance factor for away team\n",
    "        c = ratings[away_team]['continuous_overunderperformances'] - form_threshold_phi\n",
    "        d = a ** diminishing_factor_delta\n",
    "        form_factor_away = c / d\n",
    "\n",
    "        # Calculate away team rating\n",
    "        away_rating = ratings[away_team]['brA']\n",
    "        if (ratings[away_team]['continuous_overunderperformances'] > form_threshold_phi):\n",
    "            away_rating = ratings[away_team]['brA'] + rating_impact_mu * form_factor_away\n",
    "        if (ratings[away_team]['continuous_overunderperformances'] < -form_threshold_phi):\n",
    "            away_rating = ratings[away_team]['brA'] - rating_impact_mu * form_factor_away\n",
    "\n",
    "        rating_difference = home_rating - away_rating\n",
    "\n",
    "\n",
    "    return rating_difference"
   ],
   "metadata": {
    "collapsed": false,
    "ExecuteTime": {
     "end_time": "2023-07-17T10:12:52.383770Z",
     "start_time": "2023-07-17T10:12:52.374982Z"
    }
   }
  },
  {
   "cell_type": "code",
   "execution_count": 227,
   "outputs": [],
   "source": [
    "def rps(probs, outcome):\n",
    "    cum_probs = np.cumsum(probs)\n",
    "    cum_outcomes = np.cumsum(outcome)\n",
    "\n",
    "    print(cum_outcomes)\n",
    "    print(cum_probs)\n",
    "    sum_rps = 0\n",
    "    for i in range(len(outcome)):\n",
    "        sum_rps+= (cum_probs[i] - cum_outcomes[i])**2\n",
    "\n",
    "    return sum_rps/(len(outcome)-1)"
   ],
   "metadata": {
    "collapsed": false,
    "ExecuteTime": {
     "end_time": "2023-07-17T10:12:52.387491Z",
     "start_time": "2023-07-17T10:12:52.381580Z"
    }
   }
  },
  {
   "cell_type": "code",
   "execution_count": 228,
   "outputs": [],
   "source": [
    "# Main function\n",
    "def main():\n",
    "    # Load the results data file for seasons 2006-07 to 2016-17\n",
    "    df_results = pd.read_csv('../data/smallResults.csv')\n",
    "\n",
    "    # Load the fixtures data file for the season 2017-18\n",
    "    df_fixtures = pd.read_csv('../data/smallFixtures.csv')\n",
    "\n",
    "    # Initialize ratings based on the results data\n",
    "    ratings = initialize_ratings(df_results)\n",
    "    #print ('Ratings:', ratings, end='\\n\\n')\n",
    "\n",
    "    ratings['Leicester City']['brH'] = 0.463014\n",
    "    ratings['Leicester City']['brA'] = 0.208624\n",
    "    ratings['Leicester City']['continuous_overunderperformances'] = 3\n",
    "\n",
    "    ratings['Stoke City']['brH'] = 0.537708\n",
    "    ratings['Stoke City']['brA'] = 0.037819\n",
    "    ratings['Stoke City']['continuous_overunderperformances'] = -1\n",
    "\n",
    "    # Calculate the rating difference between the two teams\n",
    "    rating_difference = calculate_rating_difference(df_fixtures, ratings)\n",
    "\n",
    "    print(\"Rating difference:\", rating_difference, end='\\n\\n')\n",
    "\n",
    "    # Update ratings based on the results data\n",
    "    ratings = update_ratings(df_results, ratings)\n",
    "\n",
    "    # Call Ranked Probability Score function\n",
    "    probs = [0.486, 0.261, 0.253]\n",
    "    outcome = [1, 0, 0]\n",
    "    rps_score = rps(probs, outcome)\n",
    "    print(\"RPS Score:\", rps_score, end='\\n\\n')\n"
   ],
   "metadata": {
    "collapsed": false,
    "ExecuteTime": {
     "end_time": "2023-07-17T10:12:52.394080Z",
     "start_time": "2023-07-17T10:12:52.391672Z"
    }
   }
  },
  {
   "cell_type": "code",
   "execution_count": 229,
   "outputs": [
    {
     "name": "stdout",
     "output_type": "stream",
     "text": [
      "Teams: {'Leicester City', 'Stoke City'}\n",
      "\n",
      "Rating difference: 0.42873053390593274\n",
      "\n",
      "Home Team: Leicester City\n",
      "Away Team: Stoke City\n",
      "Observed Goal Difference: 2.0\n",
      "Expected Goal Difference: 0.3972649893544433\n",
      "Error: 1.6027350106455567\n",
      "Background Rating x Home: 0.5303136525513428\n",
      "Background Rating x Away: 0.2617907255155608\n",
      "Background Rating y Home: 0.4845412744844391\n",
      "Background Rating y Away: -0.029480652551342808\n",
      "Continuous Over/Underperformances x: 4\n",
      "Continuous Over/Underperformances y: -2\n",
      "[1 1 1]\n",
      "[0.486 0.747 1.   ]\n",
      "RPS Score: 0.16410249999999998\n",
      "\n"
     ]
    }
   ],
   "source": [
    "if __name__ == '__main__':\n",
    "    main()"
   ],
   "metadata": {
    "collapsed": false,
    "ExecuteTime": {
     "end_time": "2023-07-17T10:12:52.410482Z",
     "start_time": "2023-07-17T10:12:52.396257Z"
    }
   }
  }
 ],
 "metadata": {
  "kernelspec": {
   "display_name": "Python 3",
   "language": "python",
   "name": "python3"
  },
  "language_info": {
   "codemirror_mode": {
    "name": "ipython",
    "version": 2
   },
   "file_extension": ".py",
   "mimetype": "text/x-python",
   "name": "python",
   "nbconvert_exporter": "python",
   "pygments_lexer": "ipython2",
   "version": "2.7.6"
  }
 },
 "nbformat": 4,
 "nbformat_minor": 0
}

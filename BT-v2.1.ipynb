{
 "cells": [
  {
   "cell_type": "code",
   "execution_count": 58,
   "metadata": {
    "collapsed": true,
    "ExecuteTime": {
     "end_time": "2023-07-13T12:53:12.551709Z",
     "start_time": "2023-07-13T12:53:12.545943Z"
    }
   },
   "outputs": [],
   "source": [
    "import numpy as np\n",
    "import pandas as pd"
   ]
  },
  {
   "cell_type": "code",
   "execution_count": 59,
   "outputs": [],
   "source": [
    "# Function to initialize ratings\n",
    "def initialize_ratings(df_results):\n",
    "    ratings = {}\n",
    "\n",
    "    # Iterate over teams in the results data\n",
    "    teams = set(df_results['home_team']).union(set(df_results['away_team']))\n",
    "    for team in teams:\n",
    "        # Initialize ratings for each team\n",
    "        ratings[team] = {\n",
    "            'brH': 0.0,\n",
    "            'brA': 0.0,\n",
    "            'prH': 0.0,\n",
    "            'prA': 0.0,\n",
    "            'continuous_underperformances': 0,\n",
    "            'continuous_overperformances': 0\n",
    "        }\n",
    "    print('Teams:', teams, end='\\n\\n')\n",
    "    return ratings"
   ],
   "metadata": {
    "collapsed": false,
    "ExecuteTime": {
     "end_time": "2023-07-13T12:53:12.579291Z",
     "start_time": "2023-07-13T12:53:12.557323Z"
    }
   }
  },
  {
   "cell_type": "code",
   "execution_count": 60,
   "outputs": [],
   "source": [
    "# Main function\n",
    "def main():\n",
    "    # Load the results data file for seasons 2006-07 to 2016-17\n",
    "    df_results = pd.read_csv('../data/results.csv')\n",
    "\n",
    "    # Load the fixtures data file for the season 2017-18\n",
    "    df_fixtures = pd.read_csv('../data/results201718.csv')\n",
    "\n",
    "    # Initialize ratings based on the results data\n",
    "    ratings = initialize_ratings(df_results)\n",
    "    print ('Ratings:', ratings, end='\\n\\n')\n"
   ],
   "metadata": {
    "collapsed": false,
    "ExecuteTime": {
     "end_time": "2023-07-13T12:53:12.582437Z",
     "start_time": "2023-07-13T12:53:12.570257Z"
    }
   }
  },
  {
   "cell_type": "code",
   "execution_count": 61,
   "outputs": [
    {
     "name": "stdout",
     "output_type": "stream",
     "text": [
      "Teams: {'Leicester City', 'Stoke City', 'Swansea City', 'Charlton Athletic', 'Sunderland', 'Hull City', 'Blackburn Rovers', 'Norwich City', 'Birmingham City', 'Fulham', 'Reading', 'Wolverhampton Wanderers', 'Cardiff City', 'Watford', 'Queens Park Rangers', 'Sheffield United', 'Everton', 'Manchester City', 'Middlesbrough', 'Burnley', 'Arsenal', 'Crystal Palace', 'Wigan Athletic', 'Newcastle United', 'Southampton', 'Chelsea', 'Tottenham Hotspur', 'AFC Bournemouth', 'Manchester United', 'Derby County', 'Aston Villa', 'Bolton Wanderers', 'Liverpool', 'Portsmouth', 'West Bromwich Albion', 'Blackpool', 'West Ham United'}\n",
      "\n",
      "Ratings: {'Leicester City': {'brH': 0.0, 'brA': 0.0, 'prH': 0.0, 'prA': 0.0, 'continuous_underperformances': 0, 'continuous_overperformances': 0}, 'Stoke City': {'brH': 0.0, 'brA': 0.0, 'prH': 0.0, 'prA': 0.0, 'continuous_underperformances': 0, 'continuous_overperformances': 0}, 'Swansea City': {'brH': 0.0, 'brA': 0.0, 'prH': 0.0, 'prA': 0.0, 'continuous_underperformances': 0, 'continuous_overperformances': 0}, 'Charlton Athletic': {'brH': 0.0, 'brA': 0.0, 'prH': 0.0, 'prA': 0.0, 'continuous_underperformances': 0, 'continuous_overperformances': 0}, 'Sunderland': {'brH': 0.0, 'brA': 0.0, 'prH': 0.0, 'prA': 0.0, 'continuous_underperformances': 0, 'continuous_overperformances': 0}, 'Hull City': {'brH': 0.0, 'brA': 0.0, 'prH': 0.0, 'prA': 0.0, 'continuous_underperformances': 0, 'continuous_overperformances': 0}, 'Blackburn Rovers': {'brH': 0.0, 'brA': 0.0, 'prH': 0.0, 'prA': 0.0, 'continuous_underperformances': 0, 'continuous_overperformances': 0}, 'Norwich City': {'brH': 0.0, 'brA': 0.0, 'prH': 0.0, 'prA': 0.0, 'continuous_underperformances': 0, 'continuous_overperformances': 0}, 'Birmingham City': {'brH': 0.0, 'brA': 0.0, 'prH': 0.0, 'prA': 0.0, 'continuous_underperformances': 0, 'continuous_overperformances': 0}, 'Fulham': {'brH': 0.0, 'brA': 0.0, 'prH': 0.0, 'prA': 0.0, 'continuous_underperformances': 0, 'continuous_overperformances': 0}, 'Reading': {'brH': 0.0, 'brA': 0.0, 'prH': 0.0, 'prA': 0.0, 'continuous_underperformances': 0, 'continuous_overperformances': 0}, 'Wolverhampton Wanderers': {'brH': 0.0, 'brA': 0.0, 'prH': 0.0, 'prA': 0.0, 'continuous_underperformances': 0, 'continuous_overperformances': 0}, 'Cardiff City': {'brH': 0.0, 'brA': 0.0, 'prH': 0.0, 'prA': 0.0, 'continuous_underperformances': 0, 'continuous_overperformances': 0}, 'Watford': {'brH': 0.0, 'brA': 0.0, 'prH': 0.0, 'prA': 0.0, 'continuous_underperformances': 0, 'continuous_overperformances': 0}, 'Queens Park Rangers': {'brH': 0.0, 'brA': 0.0, 'prH': 0.0, 'prA': 0.0, 'continuous_underperformances': 0, 'continuous_overperformances': 0}, 'Sheffield United': {'brH': 0.0, 'brA': 0.0, 'prH': 0.0, 'prA': 0.0, 'continuous_underperformances': 0, 'continuous_overperformances': 0}, 'Everton': {'brH': 0.0, 'brA': 0.0, 'prH': 0.0, 'prA': 0.0, 'continuous_underperformances': 0, 'continuous_overperformances': 0}, 'Manchester City': {'brH': 0.0, 'brA': 0.0, 'prH': 0.0, 'prA': 0.0, 'continuous_underperformances': 0, 'continuous_overperformances': 0}, 'Middlesbrough': {'brH': 0.0, 'brA': 0.0, 'prH': 0.0, 'prA': 0.0, 'continuous_underperformances': 0, 'continuous_overperformances': 0}, 'Burnley': {'brH': 0.0, 'brA': 0.0, 'prH': 0.0, 'prA': 0.0, 'continuous_underperformances': 0, 'continuous_overperformances': 0}, 'Arsenal': {'brH': 0.0, 'brA': 0.0, 'prH': 0.0, 'prA': 0.0, 'continuous_underperformances': 0, 'continuous_overperformances': 0}, 'Crystal Palace': {'brH': 0.0, 'brA': 0.0, 'prH': 0.0, 'prA': 0.0, 'continuous_underperformances': 0, 'continuous_overperformances': 0}, 'Wigan Athletic': {'brH': 0.0, 'brA': 0.0, 'prH': 0.0, 'prA': 0.0, 'continuous_underperformances': 0, 'continuous_overperformances': 0}, 'Newcastle United': {'brH': 0.0, 'brA': 0.0, 'prH': 0.0, 'prA': 0.0, 'continuous_underperformances': 0, 'continuous_overperformances': 0}, 'Southampton': {'brH': 0.0, 'brA': 0.0, 'prH': 0.0, 'prA': 0.0, 'continuous_underperformances': 0, 'continuous_overperformances': 0}, 'Chelsea': {'brH': 0.0, 'brA': 0.0, 'prH': 0.0, 'prA': 0.0, 'continuous_underperformances': 0, 'continuous_overperformances': 0}, 'Tottenham Hotspur': {'brH': 0.0, 'brA': 0.0, 'prH': 0.0, 'prA': 0.0, 'continuous_underperformances': 0, 'continuous_overperformances': 0}, 'AFC Bournemouth': {'brH': 0.0, 'brA': 0.0, 'prH': 0.0, 'prA': 0.0, 'continuous_underperformances': 0, 'continuous_overperformances': 0}, 'Manchester United': {'brH': 0.0, 'brA': 0.0, 'prH': 0.0, 'prA': 0.0, 'continuous_underperformances': 0, 'continuous_overperformances': 0}, 'Derby County': {'brH': 0.0, 'brA': 0.0, 'prH': 0.0, 'prA': 0.0, 'continuous_underperformances': 0, 'continuous_overperformances': 0}, 'Aston Villa': {'brH': 0.0, 'brA': 0.0, 'prH': 0.0, 'prA': 0.0, 'continuous_underperformances': 0, 'continuous_overperformances': 0}, 'Bolton Wanderers': {'brH': 0.0, 'brA': 0.0, 'prH': 0.0, 'prA': 0.0, 'continuous_underperformances': 0, 'continuous_overperformances': 0}, 'Liverpool': {'brH': 0.0, 'brA': 0.0, 'prH': 0.0, 'prA': 0.0, 'continuous_underperformances': 0, 'continuous_overperformances': 0}, 'Portsmouth': {'brH': 0.0, 'brA': 0.0, 'prH': 0.0, 'prA': 0.0, 'continuous_underperformances': 0, 'continuous_overperformances': 0}, 'West Bromwich Albion': {'brH': 0.0, 'brA': 0.0, 'prH': 0.0, 'prA': 0.0, 'continuous_underperformances': 0, 'continuous_overperformances': 0}, 'Blackpool': {'brH': 0.0, 'brA': 0.0, 'prH': 0.0, 'prA': 0.0, 'continuous_underperformances': 0, 'continuous_overperformances': 0}, 'West Ham United': {'brH': 0.0, 'brA': 0.0, 'prH': 0.0, 'prA': 0.0, 'continuous_underperformances': 0, 'continuous_overperformances': 0}}\n",
      "\n"
     ]
    }
   ],
   "source": [
    "if __name__ == '__main__':\n",
    "    main()"
   ],
   "metadata": {
    "collapsed": false,
    "ExecuteTime": {
     "end_time": "2023-07-13T12:53:12.641886Z",
     "start_time": "2023-07-13T12:53:12.581138Z"
    }
   }
  },
  {
   "cell_type": "code",
   "execution_count": 61,
   "outputs": [],
   "source": [],
   "metadata": {
    "collapsed": false,
    "ExecuteTime": {
     "end_time": "2023-07-13T12:53:12.642753Z",
     "start_time": "2023-07-13T12:53:12.605113Z"
    }
   }
  }
 ],
 "metadata": {
  "kernelspec": {
   "display_name": "Python 3",
   "language": "python",
   "name": "python3"
  },
  "language_info": {
   "codemirror_mode": {
    "name": "ipython",
    "version": 2
   },
   "file_extension": ".py",
   "mimetype": "text/x-python",
   "name": "python",
   "nbconvert_exporter": "python",
   "pygments_lexer": "ipython2",
   "version": "2.7.6"
  }
 },
 "nbformat": 4,
 "nbformat_minor": 0
}

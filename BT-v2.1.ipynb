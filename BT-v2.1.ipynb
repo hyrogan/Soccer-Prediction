{
 "cells": [
  {
   "cell_type": "code",
   "execution_count": 127,
   "metadata": {
    "collapsed": true,
    "ExecuteTime": {
     "end_time": "2023-07-17T09:18:40.536913Z",
     "start_time": "2023-07-17T09:18:40.527964Z"
    }
   },
   "outputs": [],
   "source": [
    "import numpy as np\n",
    "import pandas as pd"
   ]
  },
  {
   "cell_type": "code",
   "execution_count": 128,
   "outputs": [],
   "source": [
    "# Function to initialize ratings\n",
    "def initialize_ratings(df_results):\n",
    "    ratings = {}\n",
    "\n",
    "    # Iterate over teams in the results data\n",
    "    teams = set(df_results['home_team']).union(set(df_results['away_team']))\n",
    "    for team in teams:\n",
    "        # Initialize ratings for each team\n",
    "        ratings[team] = {\n",
    "            'brH': 0.0,\n",
    "            'brA': 0.0,\n",
    "            'continuous_overunderperformances': 0\n",
    "        }\n",
    "    print('Teams:', teams, end='\\n\\n')\n",
    "    return ratings"
   ],
   "metadata": {
    "collapsed": false,
    "ExecuteTime": {
     "end_time": "2023-07-17T09:18:40.558967Z",
     "start_time": "2023-07-17T09:18:40.538570Z"
    }
   }
  },
  {
   "cell_type": "code",
   "execution_count": 129,
   "outputs": [],
   "source": [
    "# Function to update ratings based on results data\n",
    "def update_ratings(df_results, ratings):\n",
    "    #lambda: Determines to what extent the new match results influence the team ratings (could be improved to include temporal difference between matches)\n",
    "    learning_rate_lambda = 0.054\n",
    "\n",
    "    #psi: diminish the impact each additional goal difference error has on team ratings\n",
    "    diminishing_function_psi = lambda error: 3 * np.log10(1 + error)\n",
    "\n",
    "    #gamma: determines to what extent performances at the home grounds influence away team ratings and vice versa\n",
    "    learning_rate_gamma = 0.79\n",
    "\n",
    "    #phi: Represents the number of continuous performances, above or below expectations, which do not trigger the form factor\n",
    "    form_threshold_phi = 1\n",
    "\n",
    "    #mu: represents the rating difference used to establish provisional ratings from background ratings\n",
    "    rating_impact_mu = 0.01\n",
    "\n",
    "    #delta: the level by which rating impact μ diminishes with each additional continuous over/under-performance\n",
    "    diminishing_factor_delta = 2.5\n",
    "\n",
    "    # Iterate over each match in the results data\n",
    "    for index, row in df_results.iterrows():\n",
    "        home_team = row['home_team']\n",
    "        away_team = row['away_team']\n",
    "\n",
    "        observed_goal_difference = row['home_goals'] - row['away_goals']\n",
    "\n",
    "        #Calculate expected goals for home team\n",
    "        expected_goal_x = 10 ** (abs(ratings[home_team]['brH']) / 3) - 1\n",
    "\n",
    "        #Calculate expected goals for away team\n",
    "        expected_goal_y = 10 ** (abs(ratings[away_team]['brA']) / 3) - 1\n",
    "\n",
    "        # Calculate expected goal difference based on ratings\n",
    "        expected_goal_difference = expected_goal_x - expected_goal_y\n",
    "\n",
    "        # Calculate the error between observed and expected goal difference\n",
    "        error = abs(observed_goal_difference - expected_goal_difference)\n",
    "\n",
    "        #diminish the impact of the goal difference error for both teams x and y respectively\n",
    "        if (expected_goal_difference < observed_goal_difference):\n",
    "            diminishing_function_psi_x = diminishing_function_psi(error)\n",
    "            diminishing_function_psi_y = -diminishing_function_psi(error)\n",
    "        else:\n",
    "            diminishing_function_psi_x = -diminishing_function_psi(error)\n",
    "            diminishing_function_psi_y = diminishing_function_psi(error)\n",
    "\n",
    "        # Update the home team ratings\n",
    "        previous_home_rating = ratings[home_team]['brH']\n",
    "        ratings[home_team]['brH'] = previous_home_rating + diminishing_function_psi_x * learning_rate_lambda\n",
    "        ratings[home_team]['brA'] += (ratings[home_team]['brH'] - previous_home_rating) * learning_rate_gamma\n",
    "\n",
    "        # Update the away team ratings\n",
    "        previous_away_rating = ratings[away_team]['brA']\n",
    "        ratings[away_team]['brA'] = previous_away_rating + diminishing_function_psi_y * learning_rate_lambda\n",
    "        ratings[away_team]['brH'] += (ratings[away_team]['brA'] - previous_away_rating) * learning_rate_gamma\n",
    "\n",
    "        # Update the continuous over/underperformances for the home team\n",
    "        if (observed_goal_difference > expected_goal_difference):\n",
    "            ratings[home_team]['continuous_overunderperformances'] = max(1, ratings[home_team]['continuous_overunderperformances'] + 1)\n",
    "            ratings[away_team]['continuous_overunderperformances'] = min(-1, ratings[away_team]['continuous_overunderperformances'] - 1)\n",
    "        elif (observed_goal_difference < expected_goal_difference):\n",
    "            ratings[home_team]['continuous_overunderperformances'] = min(-1, ratings[home_team]['continuous_overunderperformances'] - 1)\n",
    "            ratings[away_team]['continuous_overunderperformances'] = max(1, ratings[away_team]['continuous_overunderperformances'] + 1)\n",
    "\n",
    "        #What is supposed to happen in the rare case of observed goals = expected goals?\n",
    "\n",
    "        #printing to check\n",
    "        print(\"Home Team:\", home_team)\n",
    "        print(\"Away Team:\", away_team)\n",
    "        print(\"Observed Goal Difference:\", observed_goal_difference)\n",
    "        print(\"Expected Goal Difference:\", expected_goal_difference)\n",
    "        print(\"Error:\", error)\n",
    "        print(\"Background Rating x Home:\", ratings[home_team]['brH'])\n",
    "        print(\"Background Rating x Away:\", ratings[home_team]['brA'])\n",
    "        print(\"Background Rating y Home:\", ratings[away_team]['brH'])\n",
    "        print(\"Background Rating y Away:\", ratings[away_team]['brA'])\n",
    "        print(\"Continuous Over/Underperformances x:\", ratings[home_team]['continuous_overunderperformances'])\n",
    "        print(\"Continuous Over/Underperformances y:\", ratings[away_team]['continuous_overunderperformances'])\n",
    "\n",
    "\n",
    "    return ratings"
   ],
   "metadata": {
    "collapsed": false,
    "ExecuteTime": {
     "end_time": "2023-07-17T09:18:40.572267Z",
     "start_time": "2023-07-17T09:18:40.559504Z"
    }
   }
  },
  {
   "cell_type": "code",
   "execution_count": 130,
   "outputs": [],
   "source": [
    "# Main function\n",
    "def main():\n",
    "    # Load the results data file for seasons 2006-07 to 2016-17\n",
    "    df_results = pd.read_csv('../data/smallResults.csv')\n",
    "\n",
    "    # Load the fixtures data file for the season 2017-18\n",
    "    df_fixtures = pd.read_csv('../data/results201718.csv')\n",
    "\n",
    "    # Initialize ratings based on the results data\n",
    "    ratings = initialize_ratings(df_results)\n",
    "    #print ('Ratings:', ratings, end='\\n\\n')\n",
    "\n",
    "    ratings['Leicester City']['brH'] = 0.463014\n",
    "    ratings['Leicester City']['brA'] = 0.208624\n",
    "    ratings['Leicester City']['continuous_overunderperformances'] = 3\n",
    "\n",
    "    ratings['Stoke City']['brH'] = 0.537708\n",
    "    ratings['Stoke City']['brA'] = 0.037819\n",
    "    ratings['Stoke City']['continuous_overunderperformances'] = -1\n",
    "\n",
    "    # Update ratings based on the results data\n",
    "    ratings = update_ratings(df_results, ratings)\n"
   ],
   "metadata": {
    "collapsed": false,
    "ExecuteTime": {
     "end_time": "2023-07-17T09:18:40.585640Z",
     "start_time": "2023-07-17T09:18:40.571287Z"
    }
   }
  },
  {
   "cell_type": "code",
   "execution_count": 131,
   "outputs": [
    {
     "name": "stdout",
     "output_type": "stream",
     "text": [
      "Teams: {'Leicester City', 'Stoke City'}\n",
      "\n",
      "Home Team: Leicester City\n",
      "Away Team: Stoke City\n",
      "Observed Goal Difference: 2.0\n",
      "Expected Goal Difference: 0.3972649893544433\n",
      "Error: 1.6027350106455567\n",
      "Background Rating x Home: 0.5303136525513428\n",
      "Background Rating x Away: 0.2617907255155608\n",
      "Background Rating y Home: 0.4845412744844391\n",
      "Background Rating y Away: -0.029480652551342808\n",
      "Continuous Over/Underperformances x: 4\n",
      "Continuous Over/Underperformances y: -2\n"
     ]
    }
   ],
   "source": [
    "if __name__ == '__main__':\n",
    "    main()"
   ],
   "metadata": {
    "collapsed": false,
    "ExecuteTime": {
     "end_time": "2023-07-17T09:18:40.624903Z",
     "start_time": "2023-07-17T09:18:40.580188Z"
    }
   }
  }
 ],
 "metadata": {
  "kernelspec": {
   "display_name": "Python 3",
   "language": "python",
   "name": "python3"
  },
  "language_info": {
   "codemirror_mode": {
    "name": "ipython",
    "version": 2
   },
   "file_extension": ".py",
   "mimetype": "text/x-python",
   "name": "python",
   "nbconvert_exporter": "python",
   "pygments_lexer": "ipython2",
   "version": "2.7.6"
  }
 },
 "nbformat": 4,
 "nbformat_minor": 0
}

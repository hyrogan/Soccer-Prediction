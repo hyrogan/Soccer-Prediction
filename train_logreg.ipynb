{
 "cells": [
  {
   "cell_type": "code",
   "execution_count": 352,
   "metadata": {
    "collapsed": true,
    "ExecuteTime": {
     "end_time": "2023-07-20T16:08:38.413554Z",
     "start_time": "2023-07-20T16:08:38.408759Z"
    }
   },
   "outputs": [],
   "source": [
    "import numpy as np\n",
    "import pandas as pd\n",
    "import math\n",
    "from scipy.stats import norm\n",
    "from sklearn.linear_model import LogisticRegression, LogisticRegressionCV\n",
    "from sklearn.preprocessing import LabelEncoder\n",
    "import joblib\n",
    "from sklearn.model_selection import train_test_split\n",
    "import time\n",
    "import matplotlib.pyplot as plt\n",
    "from sklearn.neural_network import MLPClassifier"
   ]
  },
  {
   "cell_type": "code",
   "execution_count": 353,
   "outputs": [
    {
     "name": "stdout",
     "output_type": "stream",
     "text": [
      "Number of rows: 2179\n"
     ]
    }
   ],
   "source": [
    "\n",
    "\n",
    "df_train = pd.read_csv('../data/train.csv')\n",
    "\n",
    "print(f\"Number of rows: {df_train.shape[0]}\")\n",
    "\n",
    "def train_model(df_train):\n",
    "\n",
    "    # Create Logistic Regression model\n",
    "    #model = LogisticRegression(solver=\"saga\", penalty=\"l2\")  # 'ovr' stands for One-Vs-Rest\n",
    "    model = MLPClassifier(solver='lbfgs', alpha=1e-2, hidden_layer_sizes=(5, 2), random_state=11, max_iter=1000)\n",
    "\n",
    "    # Reshape rating_difference to 2D array for model fitting\n",
    "    #X = df_train[['prH_x', 'prA_x', \"prH_y\", \"prA_y\"]].values\n",
    "    X = df_train[\"rating_difference\"].values.reshape(-1, 1)\n",
    "    y = df_train['result']\n",
    "\n",
    "    # Split data into training and testing sets\n",
    "    X_train, X_test, y_train, y_test = train_test_split(X, y, test_size=0.00001, random_state=42)\n",
    "\n",
    "    # Fit the model with the training data\n",
    "    model.fit(X_train, y_train)\n",
    "\n",
    "    # Save the model and label encoder\n",
    "    joblib.dump(model, '../Models/model.pkl')\n",
    "\n",
    "    # Evaluate the model on the test set\n",
    "    score = model.score(X_test, y_test)\n",
    "    print(f'Model accuracy: {score*100:.2f}%')\n",
    "\n",
    "    return model"
   ],
   "metadata": {
    "collapsed": false,
    "ExecuteTime": {
     "end_time": "2023-07-20T16:08:38.431052Z",
     "start_time": "2023-07-20T16:08:38.416319Z"
    }
   }
  },
  {
   "cell_type": "code",
   "execution_count": 354,
   "outputs": [
    {
     "name": "stdout",
     "output_type": "stream",
     "text": [
      "Model accuracy: 0.00%\n"
     ]
    }
   ],
   "source": [
    "model = train_model(df_train)\n",
    "#model.C_"
   ],
   "metadata": {
    "collapsed": false,
    "ExecuteTime": {
     "end_time": "2023-07-20T16:08:38.612610Z",
     "start_time": "2023-07-20T16:08:38.431313Z"
    }
   }
  }
 ],
 "metadata": {
  "kernelspec": {
   "display_name": "Python 3",
   "language": "python",
   "name": "python3"
  },
  "language_info": {
   "codemirror_mode": {
    "name": "ipython",
    "version": 2
   },
   "file_extension": ".py",
   "mimetype": "text/x-python",
   "name": "python",
   "nbconvert_exporter": "python",
   "pygments_lexer": "ipython2",
   "version": "2.7.6"
  }
 },
 "nbformat": 4,
 "nbformat_minor": 0
}

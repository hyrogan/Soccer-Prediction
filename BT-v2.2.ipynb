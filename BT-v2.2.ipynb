{
 "cells": [
  {
   "cell_type": "code",
   "execution_count": 185,
   "metadata": {
    "collapsed": true,
    "ExecuteTime": {
     "end_time": "2023-07-17T14:16:09.164744Z",
     "start_time": "2023-07-17T14:16:09.154772Z"
    }
   },
   "outputs": [],
   "source": [
    "import numpy as np\n",
    "import pandas as pd\n",
    "from scipy.stats import norm"
   ]
  },
  {
   "cell_type": "code",
   "execution_count": 186,
   "outputs": [],
   "source": [
    "# Function to initialize ratings\n",
    "def initialize_ratings(df_results, df_fixtures):\n",
    "    ratings = {}\n",
    "\n",
    "    # Iterate over teams in the results data\n",
    "    teams = set(df_results['home_team']).union(set(df_results['away_team'])).union(set(df_fixtures['home_team'])).union(set(df_fixtures['away_team']))\n",
    "    for team in teams:\n",
    "        # Initialize ratings for each team\n",
    "        ratings[team] = {\n",
    "            'brH': 0.0,\n",
    "            'brA': 0.0,\n",
    "            'continuous_overunderperformances': 0\n",
    "        }\n",
    "    print('Teams:', teams, end='\\n\\n')\n",
    "    return ratings"
   ],
   "metadata": {
    "collapsed": false,
    "ExecuteTime": {
     "end_time": "2023-07-17T14:16:09.166093Z",
     "start_time": "2023-07-17T14:16:09.161696Z"
    }
   }
  },
  {
   "cell_type": "code",
   "execution_count": 187,
   "outputs": [],
   "source": [
    "# Function to update ratings based on results data\n",
    "def update_ratings(df_results, ratings):\n",
    "\n",
    "    #lambda: Determines to what extent the new match results influence the team ratings (could be improved to include temporal difference between matches)\n",
    "    learning_rate_lambda = 0.054\n",
    "\n",
    "    #psi: diminish the impact each additional goal difference error has on team ratings\n",
    "    diminishing_function_psi = lambda error: 3 * np.log10(1 + error)\n",
    "\n",
    "    #gamma: determines to what extent performances at the home grounds influence away team ratings and vice versa\n",
    "    learning_rate_gamma = 0.79\n",
    "\n",
    "    # Iterate over each match in the results data\n",
    "    for index, row in df_results.iterrows():\n",
    "        home_team = row['home_team']\n",
    "        away_team = row['away_team']\n",
    "\n",
    "        observed_goal_difference = row['home_goals'] - row['away_goals']\n",
    "\n",
    "        #Calculate expected goals for home team\n",
    "        expected_goal_x = 10 ** (abs(ratings[home_team]['brH']) / 3) - 1\n",
    "\n",
    "        #Calculate expected goals for away team\n",
    "        expected_goal_y = 10 ** (abs(ratings[away_team]['brA']) / 3) - 1\n",
    "\n",
    "        # Calculate expected goal difference based on ratings\n",
    "        expected_goal_difference = expected_goal_x - expected_goal_y\n",
    "\n",
    "        # Calculate the error between observed and expected goal difference\n",
    "        error = abs(observed_goal_difference - expected_goal_difference)\n",
    "\n",
    "        #diminish the impact of the goal difference error for both teams x and y respectively\n",
    "        if (expected_goal_difference < observed_goal_difference):\n",
    "            diminishing_function_psi_x = diminishing_function_psi(error)\n",
    "            diminishing_function_psi_y = -diminishing_function_psi(error)\n",
    "        else:\n",
    "            diminishing_function_psi_x = -diminishing_function_psi(error)\n",
    "            diminishing_function_psi_y = diminishing_function_psi(error)\n",
    "\n",
    "        # Update the home team ratings\n",
    "        previous_home_rating = ratings[home_team]['brH']\n",
    "        ratings[home_team]['brH'] = previous_home_rating + diminishing_function_psi_x * learning_rate_lambda\n",
    "        ratings[home_team]['brA'] += (ratings[home_team]['brH'] - previous_home_rating) * learning_rate_gamma\n",
    "\n",
    "        # Update the away team ratings\n",
    "        previous_away_rating = ratings[away_team]['brA']\n",
    "        ratings[away_team]['brA'] = previous_away_rating + diminishing_function_psi_y * learning_rate_lambda\n",
    "        ratings[away_team]['brH'] += (ratings[away_team]['brA'] - previous_away_rating) * learning_rate_gamma\n",
    "\n",
    "        # Update the continuous over/underperformances for the home team\n",
    "        if (observed_goal_difference > expected_goal_difference):\n",
    "            ratings[home_team]['continuous_overunderperformances'] = max(1, ratings[home_team]['continuous_overunderperformances'] + 1)\n",
    "            ratings[away_team]['continuous_overunderperformances'] = min(-1, ratings[away_team]['continuous_overunderperformances'] - 1)\n",
    "        elif (observed_goal_difference < expected_goal_difference):\n",
    "            ratings[home_team]['continuous_overunderperformances'] = min(-1, ratings[home_team]['continuous_overunderperformances'] - 1)\n",
    "            ratings[away_team]['continuous_overunderperformances'] = max(1, ratings[away_team]['continuous_overunderperformances'] + 1)\n",
    "\n",
    "        #What is supposed to happen in the rare case of observed goals = expected goals?\n",
    "\n",
    "        \"\"\"\"\n",
    "        #printing to check\n",
    "        print(\"Home Team:\", home_team)\n",
    "        print(\"Away Team:\", away_team)\n",
    "        print(\"Observed Goal Difference:\", observed_goal_difference)\n",
    "        print(\"Expected Goal Difference:\", expected_goal_difference)\n",
    "        print(\"Error:\", error)\n",
    "        print(\"Background Rating x Home:\", ratings[home_team]['brH'])\n",
    "        print(\"Background Rating x Away:\", ratings[home_team]['brA'])\n",
    "        print(\"Background Rating y Home:\", ratings[away_team]['brH'])\n",
    "        print(\"Background Rating y Away:\", ratings[away_team]['brA'])\n",
    "        print(\"Continuous Over/Underperformances x:\", ratings[home_team]['continuous_overunderperformances'])\n",
    "        print(\"Continuous Over/Underperformances y:\", ratings[away_team]['continuous_overunderperformances'])\n",
    "        \"\"\"\n",
    "\n",
    "\n",
    "    return ratings"
   ],
   "metadata": {
    "collapsed": false,
    "ExecuteTime": {
     "end_time": "2023-07-17T14:16:09.182537Z",
     "start_time": "2023-07-17T14:16:09.166548Z"
    }
   }
  },
  {
   "cell_type": "code",
   "execution_count": 188,
   "outputs": [],
   "source": [
    "# Function to calculate probabilities based on ratings\n",
    "def calculate_rating_difference(home_team, away_team, ratings):\n",
    "\n",
    "     #phi: Represents the number of continuous performances, above or below expectations, which do not trigger the form factor\n",
    "    form_threshold_phi = 1\n",
    "\n",
    "    #mu: represents the rating difference used to establish provisional ratings from background ratings\n",
    "    rating_impact_mu = 0.01\n",
    "\n",
    "    #delta: the level by which rating impact μ diminishes with each additional continuous over/under-performance\n",
    "    diminishing_factor_delta = 2.5\n",
    "\n",
    "    # Calculate performance factor for home team\n",
    "    a = ratings[home_team]['continuous_overunderperformances'] - form_threshold_phi\n",
    "    b = a ** diminishing_factor_delta\n",
    "    if (a == 0):\n",
    "        form_factor_home = 0\n",
    "    else:\n",
    "        form_factor_home = a / b\n",
    "\n",
    "    # Calculate home team rating\n",
    "    home_rating = ratings[home_team]['brH']\n",
    "    if (ratings[home_team]['continuous_overunderperformances'] > form_threshold_phi):\n",
    "        home_rating = ratings[home_team]['brH'] + rating_impact_mu * form_factor_home\n",
    "    if (ratings[home_team]['continuous_overunderperformances'] < -form_threshold_phi):\n",
    "        home_rating = ratings[home_team]['brH'] - rating_impact_mu * form_factor_home\n",
    "\n",
    "    # Calculate performance factor for away team\n",
    "    c = ratings[away_team]['continuous_overunderperformances'] - form_threshold_phi\n",
    "    d = c ** diminishing_factor_delta\n",
    "    if (c == 0):\n",
    "        form_factor_away = 0\n",
    "    else:\n",
    "        form_factor_away = c / d\n",
    "\n",
    "    # Calculate away team rating\n",
    "    away_rating = ratings[away_team]['brA']\n",
    "    if (ratings[away_team]['continuous_overunderperformances'] > form_threshold_phi):\n",
    "        away_rating = ratings[away_team]['brA'] + rating_impact_mu * form_factor_away\n",
    "    if (ratings[away_team]['continuous_overunderperformances'] < -form_threshold_phi):\n",
    "        away_rating = ratings[away_team]['brA'] - rating_impact_mu * form_factor_away\n",
    "\n",
    "    rating_difference = home_rating - away_rating\n",
    "\n",
    "    #print(\"Rating difference:\", rating_difference, end='\\n\\n')\n",
    "\n",
    "    return rating_difference"
   ],
   "metadata": {
    "collapsed": false,
    "ExecuteTime": {
     "end_time": "2023-07-17T14:16:09.194665Z",
     "start_time": "2023-07-17T14:16:09.179957Z"
    }
   }
  },
  {
   "cell_type": "code",
   "execution_count": 189,
   "outputs": [],
   "source": [
    "def calculate_probabilities(rating_difference):\n",
    "\n",
    "    mean_rating_difference = 0.4  # Adjust this value based on your data\n",
    "    standard_deviation = 2.0  # Adjust this value based on your data\n",
    "\n",
    "    home_win_probability = norm.cdf(rating_difference, loc=mean_rating_difference, scale=standard_deviation)\n",
    "\n",
    "    draw_probability = norm.cdf(0, loc=mean_rating_difference, scale=standard_deviation)\n",
    "\n",
    "    away_win_probability = 1 - home_win_probability - draw_probability\n",
    "\n",
    "\n",
    "    return home_win_probability, draw_probability, away_win_probability"
   ],
   "metadata": {
    "collapsed": false,
    "ExecuteTime": {
     "end_time": "2023-07-17T14:16:09.195375Z",
     "start_time": "2023-07-17T14:16:09.191093Z"
    }
   }
  },
  {
   "cell_type": "code",
   "execution_count": 190,
   "outputs": [],
   "source": [
    "def predict_outcomes(df_fixtures, ratings):\n",
    "    for index, row in df_fixtures.iterrows():\n",
    "        home_team = row['home_team']\n",
    "        away_team = row['away_team']\n",
    "        rating_difference = calculate_rating_difference(home_team, away_team, ratings)\n",
    "\n",
    "        home_win_prob, draw_prob, away_win_prob = calculate_probabilities(rating_difference)\n",
    "\n",
    "        \"\"\"\n",
    "        print(f\"{home_team} - {away_team}: Outcome Predictions\")\n",
    "        print(f\"Home Win: {home_win_prob}\")\n",
    "        print(f\"Draw: {draw_prob}\")\n",
    "        print(f\"Away Win: {away_win_prob}\", end='\\n\\n')\n",
    "        \"\"\"\n",
    "\n",
    "        # Compare with the actual result from the dataset and output correct or false\n",
    "        # ..."
   ],
   "metadata": {
    "collapsed": false,
    "ExecuteTime": {
     "end_time": "2023-07-17T14:16:09.209575Z",
     "start_time": "2023-07-17T14:16:09.200592Z"
    }
   }
  },
  {
   "cell_type": "code",
   "execution_count": 191,
   "outputs": [],
   "source": [
    "def calculate_mean_std(df_fixtures, ratings):\n",
    "    rating_differences = []\n",
    "\n",
    "    # Iterate over the fixtures and calculate rating differences\n",
    "    for index, row in df_fixtures.iterrows():\n",
    "        home_team = row['home_team']\n",
    "        away_team = row['away_team']\n",
    "        rating_difference = calculate_rating_difference(home_team, away_team, ratings)\n",
    "        rating_differences.append(rating_difference)\n",
    "\n",
    "    # Calculate the mean and standard deviation\n",
    "    mean = np.mean(rating_differences)\n",
    "    std = np.std(rating_differences)\n",
    "\n",
    "    return mean, std"
   ],
   "metadata": {
    "collapsed": false,
    "ExecuteTime": {
     "end_time": "2023-07-17T14:16:09.217548Z",
     "start_time": "2023-07-17T14:16:09.207001Z"
    }
   }
  },
  {
   "cell_type": "code",
   "execution_count": 192,
   "outputs": [],
   "source": [
    "def rps(probs, outcome):\n",
    "    cum_probs = np.cumsum(probs)\n",
    "    cum_outcomes = np.cumsum(outcome)\n",
    "\n",
    "    print(cum_outcomes)\n",
    "    print(cum_probs)\n",
    "    sum_rps = 0\n",
    "    for i in range(len(outcome)):\n",
    "        sum_rps+= (cum_probs[i] - cum_outcomes[i])**2\n",
    "\n",
    "    return sum_rps/(len(outcome)-1)"
   ],
   "metadata": {
    "collapsed": false,
    "ExecuteTime": {
     "end_time": "2023-07-17T14:16:09.218008Z",
     "start_time": "2023-07-17T14:16:09.213341Z"
    }
   }
  },
  {
   "cell_type": "code",
   "execution_count": 193,
   "outputs": [],
   "source": [
    "# Main function\n",
    "def main():\n",
    "    # Load the results data file for seasons 2006-07 to 2016-17\n",
    "    df_results = pd.read_csv('../data/results.csv')\n",
    "\n",
    "    # Load the fixtures data file for the season 2017-18\n",
    "    df_fixtures = pd.read_csv('../data/results201718.csv')\n",
    "\n",
    "    # Initialize ratings based on the results data\n",
    "    ratings = initialize_ratings(df_results, df_fixtures)\n",
    "    #print ('Ratings:', ratings, end='\\n\\n')\n",
    "\n",
    "    \"\"\"\n",
    "    ratings['Leicester City']['brH'] = 0.463014\n",
    "    ratings['Leicester City']['brA'] = 0.208624\n",
    "    ratings['Leicester City']['continuous_overunderperformances'] = 3\n",
    "\n",
    "    ratings['Stoke City']['brH'] = 0.537708\n",
    "    ratings['Stoke City']['brA'] = 0.037819\n",
    "    ratings['Stoke City']['continuous_overunderperformances'] = -1\n",
    "    \"\"\"\n",
    "\n",
    "    # Calculate the rating difference between the two teams\n",
    "    #predict_outcomes(df_fixtures, ratings)\n",
    "\n",
    "\n",
    "    # Update ratings based on the results data\n",
    "    ratings = update_ratings(df_results, ratings)\n",
    "\n",
    "    print ('Ratings:', ratings, end='\\n\\n')\n",
    "\n",
    "\n",
    "    # Calculate the mean and standard deviation of the rating differences\n",
    "    calculate_mean_std(df_results, ratings)\n",
    "\n",
    "    # Call Ranked Probability Score function\n",
    "    \"\"\"\n",
    "    probs = [0.486, 0.261, 0.253]\n",
    "    outcome = [1, 0, 0]\n",
    "    rps_score = rps(probs, outcome)\n",
    "    print(\"RPS Score:\", rps_score, end='\\n\\n')\n",
    "    \"\"\"\n"
   ],
   "metadata": {
    "collapsed": false,
    "ExecuteTime": {
     "end_time": "2023-07-17T14:16:09.227604Z",
     "start_time": "2023-07-17T14:16:09.222572Z"
    }
   }
  },
  {
   "cell_type": "code",
   "execution_count": 194,
   "outputs": [
    {
     "name": "stdout",
     "output_type": "stream",
     "text": [
      "Teams: {'Everton', 'Leicester City', 'Blackpool', 'Brighton and Hove Albion', 'Newcastle United', 'West Ham United', 'Chelsea', 'Liverpool', 'Watford', 'Hull City', 'Queens Park Rangers', 'Middlesbrough', 'Wolverhampton Wanderers', 'Southampton', 'Manchester City', 'Burnley', 'Portsmouth', 'Sheffield United', 'Manchester United', 'Bolton Wanderers', 'Charlton Athletic', 'Crystal Palace', 'Huddersfield Town', 'Birmingham City', 'Swansea City', 'Norwich City', 'Fulham', 'Reading', 'Derby County', 'West Bromwich Albion', 'Arsenal', 'Blackburn Rovers', 'Wigan Athletic', 'Stoke City', 'Cardiff City', 'Aston Villa', 'AFC Bournemouth', 'Tottenham Hotspur', 'Sunderland'}\n",
      "\n",
      "Ratings: {'Everton': {'brH': nan, 'brA': nan, 'continuous_overunderperformances': 2}, 'Leicester City': {'brH': nan, 'brA': nan, 'continuous_overunderperformances': 0}, 'Blackpool': {'brH': 42.597902354647005, 'brA': 42.040315065232214, 'continuous_overunderperformances': 1}, 'Brighton and Hove Albion': {'brH': 0.0, 'brA': 0.0, 'continuous_overunderperformances': 0}, 'Newcastle United': {'brH': nan, 'brA': nan, 'continuous_overunderperformances': 1}, 'West Ham United': {'brH': nan, 'brA': nan, 'continuous_overunderperformances': -131}, 'Chelsea': {'brH': nan, 'brA': nan, 'continuous_overunderperformances': -1}, 'Liverpool': {'brH': nan, 'brA': nan, 'continuous_overunderperformances': -5}, 'Watford': {'brH': nan, 'brA': nan, 'continuous_overunderperformances': -1}, 'Hull City': {'brH': nan, 'brA': nan, 'continuous_overunderperformances': 7}, 'Queens Park Rangers': {'brH': nan, 'brA': nan, 'continuous_overunderperformances': 1}, 'Middlesbrough': {'brH': nan, 'brA': nan, 'continuous_overunderperformances': 2}, 'Wolverhampton Wanderers': {'brH': nan, 'brA': nan, 'continuous_overunderperformances': -1}, 'Southampton': {'brH': nan, 'brA': nan, 'continuous_overunderperformances': 0}, 'Manchester City': {'brH': nan, 'brA': nan, 'continuous_overunderperformances': 1}, 'Burnley': {'brH': nan, 'brA': nan, 'continuous_overunderperformances': 4}, 'Portsmouth': {'brH': 8.54461908712493, 'brA': 8.426989973278555, 'continuous_overunderperformances': 2}, 'Sheffield United': {'brH': -0.6760205669908611, 'brA': -0.896559153470071, 'continuous_overunderperformances': -2}, 'Manchester United': {'brH': nan, 'brA': nan, 'continuous_overunderperformances': -4}, 'Bolton Wanderers': {'brH': nan, 'brA': nan, 'continuous_overunderperformances': 1}, 'Charlton Athletic': {'brH': -1.2832029679571784, 'brA': -1.4711979738854806, 'continuous_overunderperformances': -7}, 'Crystal Palace': {'brH': nan, 'brA': nan, 'continuous_overunderperformances': 0}, 'Huddersfield Town': {'brH': 0.0, 'brA': 0.0, 'continuous_overunderperformances': 0}, 'Birmingham City': {'brH': 35.19739733363005, 'brA': 40.27786559705094, 'continuous_overunderperformances': 1}, 'Swansea City': {'brH': nan, 'brA': nan, 'continuous_overunderperformances': 2}, 'Norwich City': {'brH': nan, 'brA': nan, 'continuous_overunderperformances': 2}, 'Fulham': {'brH': nan, 'brA': nan, 'continuous_overunderperformances': -1}, 'Reading': {'brH': nan, 'brA': nan, 'continuous_overunderperformances': 1}, 'Derby County': {'brH': -2.4242263975573777, 'brA': -2.461549727712727, 'continuous_overunderperformances': -3}, 'West Bromwich Albion': {'brH': nan, 'brA': nan, 'continuous_overunderperformances': -1}, 'Arsenal': {'brH': nan, 'brA': nan, 'continuous_overunderperformances': -1}, 'Blackburn Rovers': {'brH': nan, 'brA': nan, 'continuous_overunderperformances': 1}, 'Wigan Athletic': {'brH': nan, 'brA': nan, 'continuous_overunderperformances': -36}, 'Stoke City': {'brH': nan, 'brA': nan, 'continuous_overunderperformances': -3}, 'Cardiff City': {'brH': nan, 'brA': nan, 'continuous_overunderperformances': 0}, 'Aston Villa': {'brH': nan, 'brA': nan, 'continuous_overunderperformances': -4}, 'AFC Bournemouth': {'brH': nan, 'brA': nan, 'continuous_overunderperformances': 0}, 'Tottenham Hotspur': {'brH': nan, 'brA': nan, 'continuous_overunderperformances': 2}, 'Sunderland': {'brH': nan, 'brA': nan, 'continuous_overunderperformances': 2}}\n",
      "\n"
     ]
    },
    {
     "name": "stderr",
     "output_type": "stream",
     "text": [
      "/var/folders/js/lg3nlt2956z9yc23wzld8xm80000gn/T/ipykernel_31722/3382966330.py:24: RuntimeWarning: overflow encountered in scalar power\n",
      "  expected_goal_y = 10 ** (abs(ratings[away_team]['brA']) / 3) - 1\n",
      "/var/folders/js/lg3nlt2956z9yc23wzld8xm80000gn/T/ipykernel_31722/3382966330.py:42: RuntimeWarning: invalid value encountered in scalar add\n",
      "  ratings[home_team]['brH'] = previous_home_rating + diminishing_function_psi_x * learning_rate_lambda\n",
      "/var/folders/js/lg3nlt2956z9yc23wzld8xm80000gn/T/ipykernel_31722/3382966330.py:48: RuntimeWarning: invalid value encountered in scalar subtract\n",
      "  ratings[away_team]['brH'] += (ratings[away_team]['brA'] - previous_away_rating) * learning_rate_gamma\n",
      "/var/folders/js/lg3nlt2956z9yc23wzld8xm80000gn/T/ipykernel_31722/3382966330.py:47: RuntimeWarning: invalid value encountered in scalar add\n",
      "  ratings[away_team]['brA'] = previous_away_rating + diminishing_function_psi_y * learning_rate_lambda\n"
     ]
    }
   ],
   "source": [
    "if __name__ == '__main__':\n",
    "    main()"
   ],
   "metadata": {
    "collapsed": false,
    "ExecuteTime": {
     "end_time": "2023-07-17T14:16:09.492221Z",
     "start_time": "2023-07-17T14:16:09.233258Z"
    }
   }
  }
 ],
 "metadata": {
  "kernelspec": {
   "display_name": "Python 3",
   "language": "python",
   "name": "python3"
  },
  "language_info": {
   "codemirror_mode": {
    "name": "ipython",
    "version": 2
   },
   "file_extension": ".py",
   "mimetype": "text/x-python",
   "name": "python",
   "nbconvert_exporter": "python",
   "pygments_lexer": "ipython2",
   "version": "2.7.6"
  }
 },
 "nbformat": 4,
 "nbformat_minor": 0
}

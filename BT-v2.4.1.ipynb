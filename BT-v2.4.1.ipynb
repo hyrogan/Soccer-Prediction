{
 "cells": [
  {
   "cell_type": "code",
   "execution_count": 1,
   "metadata": {
    "collapsed": true,
    "ExecuteTime": {
     "end_time": "2023-08-09T13:07:01.742072Z",
     "start_time": "2023-08-09T13:07:01.133983Z"
    }
   },
   "outputs": [],
   "source": [
    "import numpy as np\n",
    "import pandas as pd\n",
    "import math\n",
    "from scipy.stats import norm\n",
    "from sklearn.linear_model import LogisticRegression\n",
    "from sklearn.preprocessing import LabelEncoder\n",
    "import joblib\n",
    "from sklearn.model_selection import train_test_split\n",
    "import time\n",
    "import matplotlib.pyplot as plt\n",
    "from sklearn.model_selection import ParameterGrid\n",
    "from sklearn.neural_network import MLPClassifier\n",
    "import tqdm\n",
    "from scipy.interpolate import griddata\n",
    "import heapq\n",
    "from mpl_toolkits.mplot3d import Axes3D"
   ]
  },
  {
   "cell_type": "code",
   "execution_count": 50,
   "outputs": [],
   "source": [
    "# Function to initialize ratings\n",
    "def initialize_ratings(df_results, df_fixtures):\n",
    "    ratings = {}\n",
    "    league_ratings = {}\n",
    "\n",
    "    # Get the list of competitions\n",
    "    competitions = set(df_results['Div']).union(set(df_fixtures['Div']))\n",
    "\n",
    "    # Iterate over teams in the results data\n",
    "    teams = set(df_results['HomeTeam']).union(set(df_results['AwayTeam'])).union(set(df_fixtures['HomeTeam'])).union(set(df_fixtures['AwayTeam']))\n",
    "\n",
    "    for team in teams:\n",
    "        ratings[team] = {}\n",
    "\n",
    "        # Initialize ratings for each team for each competition\n",
    "        for competition in competitions:\n",
    "            ratings[team][competition] = {\n",
    "                'brH': 0.0,\n",
    "                'brA': 0.0,\n",
    "                'continuous_overunderperformances': 0\n",
    "            }\n",
    "    \n",
    "    # Initialize ratings for each competition\n",
    "    league_ratings['REST'] = {\n",
    "        'brH': 0.0,\n",
    "        'brA': 0.0,\n",
    "        'continuous_overunderperformances': 0\n",
    "    }\n",
    "    \n",
    "    for competition in competitions:\n",
    "        league_ratings[competition] = {\n",
    "            'brH': 0.0,\n",
    "            'brA': 0.0,\n",
    "            'continuous_overunderperformances': 0\n",
    "        }\n",
    "\n",
    "    #print('Teams:', teams, end='\\n\\n')\n",
    "    return ratings, league_ratings\n"
   ],
   "metadata": {
    "collapsed": false,
    "ExecuteTime": {
     "end_time": "2023-08-10T09:20:40.144731Z",
     "start_time": "2023-08-10T09:20:40.111634Z"
    }
   }
  },
  {
   "cell_type": "code",
   "execution_count": 51,
   "outputs": [],
   "source": [
    "def initialize_rest_ratings(rest_teams):\n",
    "    rest_ratings = {}\n",
    "    for team in rest_teams:\n",
    "        rest_ratings[team] = {\n",
    "            'REST': {\n",
    "                'brH': 0.0,\n",
    "                'brA': 0.0,\n",
    "                'continuous_overunderperformances': 0\n",
    "            }\n",
    "        }\n",
    "    return rest_ratings"
   ],
   "metadata": {
    "collapsed": false,
    "ExecuteTime": {
     "end_time": "2023-08-10T09:20:40.320337Z",
     "start_time": "2023-08-10T09:20:40.281688Z"
    }
   }
  },
  {
   "cell_type": "code",
   "execution_count": 52,
   "outputs": [],
   "source": [
    "def create_team_to_league_mapping(df_results, df_fixtures, df_int):\n",
    "    team_to_league = {}\n",
    "    rest_teams = set() # To store teams that are assigned to the 'REST' league\n",
    "\n",
    "    def get_league_level(division):\n",
    "        # Special handling for 'EC' league\n",
    "        if division == 'EC':\n",
    "            return 5\n",
    "        # Extracting the integer part from the division\n",
    "        integer_part = ''.join(filter(str.isdigit, division))\n",
    "        return int(integer_part)\n",
    "\n",
    "\n",
    "    # Iterate through the results and fixtures dataframes and map teams to their leagues\n",
    "    for df in [df_results, df_fixtures]:\n",
    "        for index, row in df.iterrows():\n",
    "            for team in [row['HomeTeam'], row['AwayTeam']]:\n",
    "                current_div = row['Div']\n",
    "                current_level = get_league_level(current_div)\n",
    "\n",
    "                # If the team is not yet in the dictionary, or if the current league is higher, update the entry\n",
    "                if team not in team_to_league or current_level < get_league_level(team_to_league[team]):\n",
    "                    team_to_league[team] = current_div\n",
    "\n",
    "    # Now process df_int\n",
    "    for index, row in df_int.iterrows():\n",
    "        for team in [row['HomeTeam'], row['AwayTeam']]:\n",
    "            if team not in team_to_league:\n",
    "                # If the team is not found in the other dataframes, assign it to 'REST'\n",
    "                team_to_league[team] = 'REST'\n",
    "                rest_teams.add(team)\n",
    "\n",
    "    return team_to_league, rest_teams"
   ],
   "metadata": {
    "collapsed": false,
    "ExecuteTime": {
     "end_time": "2023-08-10T09:20:40.456774Z",
     "start_time": "2023-08-10T09:20:40.422284Z"
    }
   }
  },
  {
   "cell_type": "code",
   "execution_count": 53,
   "outputs": [],
   "source": [
    "def get_league_from_team(team, team_to_league):\n",
    "    return team_to_league.get(team, 'REST')"
   ],
   "metadata": {
    "collapsed": false,
    "ExecuteTime": {
     "end_time": "2023-08-10T09:20:40.572361Z",
     "start_time": "2023-08-10T09:20:40.528911Z"
    }
   }
  },
  {
   "cell_type": "code",
   "execution_count": 54,
   "outputs": [],
   "source": [
    "# Function to update ratings based on results data\n",
    "def update_ratings_multiple_games(df_results, ratings, rates):\n",
    "    ind_threshold = rates['ind_threshold']\n",
    "    games_with_rating = []\n",
    "    training_games = []\n",
    "\n",
    "    # Iterate over each match in the results data\n",
    "    for index, row in df_results.iterrows():\n",
    "\n",
    "        # Identify the competition in which the match took place\n",
    "        competition = row['Div']\n",
    "\n",
    "        if index > ind_threshold:\n",
    "            #add current game to training data\n",
    "            training_games.append({\n",
    "                \"brH_x\": ratings[row[\"HomeTeam\"]][competition][\"brH\"],\n",
    "                \"brA_x\": ratings[row[\"HomeTeam\"]][competition][\"brA\"],\n",
    "                \"prH_x\": calculate_provisional_ratings(ratings, row[\"HomeTeam\"], competition, rates)[0],\n",
    "                \"prA_x\": calculate_provisional_ratings(ratings, row[\"HomeTeam\"], competition, rates)[1],\n",
    "                \"brH_y\": ratings[row[\"AwayTeam\"]][competition][\"brH\"],\n",
    "                \"brA_y\": ratings[row[\"AwayTeam\"]][competition][\"brA\"],\n",
    "                \"prH_y\": calculate_provisional_ratings(ratings, row[\"AwayTeam\"], competition, rates)[0],\n",
    "                \"prA_y\": calculate_provisional_ratings(ratings, row[\"AwayTeam\"], competition, rates)[1],\n",
    "                \"rating_difference\": (calculate_provisional_ratings(ratings, row[\"HomeTeam\"], competition, rates)[0]) - (calculate_provisional_ratings(ratings, row[\"AwayTeam\"], competition, rates)[1]),\n",
    "                \"FTHG\": row[\"FTHG\"],\n",
    "                \"FTAG\": row[\"FTAG\"],\n",
    "                \"FTR\": row[\"FTR\"]\n",
    "            })\n",
    "\n",
    "\n",
    "        if np.isnan(ratings[row[\"HomeTeam\"]][competition][\"brH\"]):\n",
    "            print(\"error\")\n",
    "            break\n",
    "\n",
    "        ratings = update_ratings_single_game(row['HomeTeam'], row['AwayTeam'], row['FTHG'], row['FTAG'], ratings, rates, competition)\n",
    "\n",
    "        games_with_rating.append({\n",
    "            \"team\": row[\"HomeTeam\"],\n",
    "            \"home_rating\": ratings[row[\"HomeTeam\"]][competition][\"brH\"],\n",
    "            \"away_rating\": ratings[row[\"HomeTeam\"]][competition][\"brA\"],\n",
    "            \"continuous_overunderperformances\": ratings[row[\"HomeTeam\"]][competition][\"continuous_overunderperformances\"],\n",
    "        })\n",
    "\n",
    "        games_with_rating.append({\n",
    "            \"team\": row[\"AwayTeam\"],\n",
    "            \"home_rating\": ratings[row[\"AwayTeam\"]][competition][\"brH\"],\n",
    "            \"away_rating\": ratings[row[\"AwayTeam\"]][competition][\"brA\"],\n",
    "            \"continuous_overunderperformances\": ratings[row[\"AwayTeam\"]][competition][\"continuous_overunderperformances\"],\n",
    "        })\n",
    "\n",
    "    return ratings, games_with_rating, training_games"
   ],
   "metadata": {
    "collapsed": false,
    "ExecuteTime": {
     "end_time": "2023-08-10T09:20:40.719171Z",
     "start_time": "2023-08-10T09:20:40.705920Z"
    }
   }
  },
  {
   "cell_type": "code",
   "execution_count": 55,
   "outputs": [],
   "source": [
    "def update_league_ratings_multiple_games(df_int_results, league_ratings, team_to_league, rates):\n",
    "    # Iterate over each match in the international results data\n",
    "    for index, row in df_int_results.iterrows():\n",
    "        # Extract relevant information from the row\n",
    "        HomeLeague = get_league_from_team(row['HomeTeam'], team_to_league)\n",
    "        AwayLeague = get_league_from_team(row['AwayTeam'], team_to_league)\n",
    "        FTHG = row['FTHG']\n",
    "        FTAG = row['FTAG']\n",
    "\n",
    "        # Update the league ratings based on the match result\n",
    "        league_ratings = update_league_ratings_single_game(HomeLeague, AwayLeague, FTHG, FTAG, league_ratings, rates)\n",
    "\n",
    "    return league_ratings\n"
   ],
   "metadata": {
    "collapsed": false,
    "ExecuteTime": {
     "end_time": "2023-08-10T09:20:40.889383Z",
     "start_time": "2023-08-10T09:20:40.862526Z"
    }
   }
  },
  {
   "cell_type": "code",
   "execution_count": 56,
   "outputs": [],
   "source": [
    "# Function to update ratings based on results data\n",
    "def update_ratings_single_game(HomeTeam, AwayTeam, FTHG, FTAG, ratings, rates, competition):\n",
    "\n",
    "    #lambda: Determines to what extent the new match results influence the team ratings (could be improved to include temporal difference between matches)\n",
    "    #learning_rate_lambda = 0.054\n",
    "    learning_rate_lambda = rates['lambda']\n",
    "\n",
    "    #psi: diminish the impact each additional goal difference error has on team ratings\n",
    "    diminishing_function_psi = lambda error: 3 * np.log10(1 + error)\n",
    "\n",
    "    #gamma: determines to what extent performances at the home grounds influence away team ratings and vice versa\n",
    "    #learning_rate_gamma = 0.79\n",
    "    learning_rate_gamma = rates['gamma']\n",
    "\n",
    "    #print(HomeTeam, \"-\", AwayTeam, FTHG, \":\", FTAG)\n",
    "\n",
    "\n",
    "    observed_goal_difference = FTHG - FTAG\n",
    "    #print(\"Observed Goal Difference:\", observed_goal_difference)\n",
    "\n",
    "    #Calculate expected goals for home team\n",
    "    #expected_goal_x = round((10 ** (abs(ratings[HomeTeam]['brH']) / 3)) - 1,5)\n",
    "    expected_goal_x_temp = abs(ratings[HomeTeam][competition]['brH']) / 3\n",
    "    expected_goal_x = np.sign(ratings[HomeTeam][competition]['brH']) * (np.power(10, expected_goal_x_temp) - 1)\n",
    "    #print(\"Expected Goals x:\", expected_goal_x)\n",
    "\n",
    "    # Calculate expected goals for away team\n",
    "    #expected_goal_y = round((10 ** (abs(ratings[AwayTeam]['brA']) / 3)) - 1,5)\n",
    "    expected_goal_y_temp = abs(ratings[AwayTeam][competition]['brA']) / 3\n",
    "    expected_goal_y = np.sign(ratings[AwayTeam][competition]['brA']) * (np.power(10, expected_goal_y_temp) - 1)\n",
    "    #print(\"Expected Goals y:\", expected_goal_y)\n",
    "\n",
    "    # Calculate expected goal difference based on ratings\n",
    "    expected_goal_difference = expected_goal_x - expected_goal_y\n",
    "    #print(\"Expected Goal Difference:\", expected_goal_difference)\n",
    "\n",
    "    # Calculate the error between observed and expected goal difference\n",
    "    error = abs(observed_goal_difference - expected_goal_difference)\n",
    "    #print(\"error:\", error)\n",
    "\n",
    "    psi_temp = diminishing_function_psi(error)\n",
    "\n",
    "    # Diminish the impact of the goal difference error for both teams x and y respectively\n",
    "    if (expected_goal_difference < observed_goal_difference):\n",
    "        diminishing_function_psi_x = psi_temp\n",
    "        diminishing_function_psi_y = -psi_temp\n",
    "    else:\n",
    "        diminishing_function_psi_x = -psi_temp\n",
    "        diminishing_function_psi_y = psi_temp\n",
    "    #print(\"Diminishing Function psi x:\", diminishing_function_psi_x)\n",
    "    #print(\"Diminishing Function psi y:\", diminishing_function_psi_y)\n",
    "\n",
    "    # Update the home team x background ratings\n",
    "    previous_home_rating_x = ratings[HomeTeam][competition]['brH']\n",
    "    previous_away_rating_x = ratings[HomeTeam][competition]['brA']\n",
    "    #print(\"Old brH x:\", previous_home_rating_x)\n",
    "    #print(\"Old brA x:\", previous_away_rating_x)\n",
    "\n",
    "    ratings[HomeTeam][competition]['brH'] = previous_home_rating_x + diminishing_function_psi_x * learning_rate_lambda\n",
    "    ratings[HomeTeam][competition]['brA'] = previous_away_rating_x + (ratings[HomeTeam][competition]['brH'] - previous_home_rating_x) * learning_rate_gamma\n",
    "    #print(\"New brH x:\", ratings[HomeTeam]['brH'])\n",
    "    #print(\"New brA x:\", ratings[HomeTeam]['brA'])\n",
    "\n",
    "    # Update the away team y background ratings\n",
    "    previous_home_rating_y = ratings[AwayTeam][competition]['brH']\n",
    "    previous_away_rating_y = ratings[AwayTeam][competition]['brA']\n",
    "    #print(\"Old brH y:\", previous_home_rating_y)\n",
    "    #print(\"Old brA y:\", previous_away_rating_y)\n",
    "\n",
    "    ratings[AwayTeam][competition]['brA'] = previous_away_rating_y + diminishing_function_psi_y * learning_rate_lambda\n",
    "    ratings[AwayTeam][competition]['brH'] = previous_home_rating_y + (ratings[AwayTeam][competition]['brA'] - previous_away_rating_y) * learning_rate_gamma\n",
    "    #print(\"New brH y:\", ratings[AwayTeam]['brH'])\n",
    "    #print(\"New brA y:\", ratings[AwayTeam]['brA'])\n",
    "\n",
    "    #print(\"Old overunderperformance x:\", ratings[HomeTeam]['continuous_overunderperformances'])\n",
    "    #print(\"Old overunderperformance y:\", ratings[AwayTeam]['continuous_overunderperformances'])\n",
    "\n",
    "    # Update the continuous over/underperformances for the home team\n",
    "    if (observed_goal_difference > expected_goal_difference):\n",
    "        ratings[HomeTeam][competition]['continuous_overunderperformances'] = max(1, ratings[HomeTeam][competition]['continuous_overunderperformances'] + 1)\n",
    "        ratings[AwayTeam][competition]['continuous_overunderperformances'] = min(-1, ratings[AwayTeam][competition]['continuous_overunderperformances'] - 1)\n",
    "    elif (observed_goal_difference < expected_goal_difference):\n",
    "        ratings[HomeTeam][competition]['continuous_overunderperformances'] = min(-1, ratings[HomeTeam][competition]['continuous_overunderperformances'] - 1)\n",
    "        ratings[AwayTeam][competition]['continuous_overunderperformances'] = max(1, ratings[AwayTeam][competition]['continuous_overunderperformances'] + 1)\n",
    "    else:\n",
    "        ratings[HomeTeam][competition]['continuous_overunderperformances'] = 0\n",
    "        ratings[AwayTeam][competition]['continuous_overunderperformances'] = 0\n",
    "\n",
    "    #print(\"New overunderperformance x:\", ratings[HomeTeam]['continuous_overunderperformances'])\n",
    "    #print(\"New overunderperformance y:\", ratings[AwayTeam]['continuous_overunderperformances'], end='\\n\\n')\n",
    "\n",
    "    return ratings\n"
   ],
   "metadata": {
    "collapsed": false,
    "ExecuteTime": {
     "end_time": "2023-08-10T09:20:41.054322Z",
     "start_time": "2023-08-10T09:20:41.010049Z"
    }
   }
  },
  {
   "cell_type": "code",
   "execution_count": 57,
   "outputs": [],
   "source": [
    "# Function to update ratings based on results data\n",
    "def update_league_ratings_single_game(HomeLeague, AwayLeague, FTHG, FTAG, league_ratings, rates):\n",
    "\n",
    "    #lambda: Determines to what extent the new match results influence the team ratings (could be improved to include temporal difference between matches)\n",
    "    #learning_rate_lambda = 0.054\n",
    "    learning_rate_lambda = rates['lambda2']\n",
    "\n",
    "    #psi: diminish the impact each additional goal difference error has on team ratings\n",
    "    diminishing_function_psi = lambda error: 3 * np.log10(1 + error)\n",
    "\n",
    "    #gamma: determines to what extent performances at the home grounds influence away team ratings and vice versa\n",
    "    #learning_rate_gamma = 0.79\n",
    "    learning_rate_gamma = rates['gamma2']\n",
    "\n",
    "    #print(HomeTeam, \"-\", AwayTeam, FTHG, \":\", FTAG)\n",
    "\n",
    "\n",
    "    observed_goal_difference = FTHG - FTAG\n",
    "    #print(\"Observed Goal Difference:\", observed_goal_difference)\n",
    "\n",
    "    #Calculate expected goals for home team\n",
    "    #expected_goal_x = round((10 ** (abs(ratings[HomeTeam]['brH']) / 3)) - 1,5)\n",
    "    expected_goal_x_temp = abs(league_ratings[HomeLeague]['brH']) / 3\n",
    "    expected_goal_x = np.sign(league_ratings[HomeLeague]['brH']) * (np.power(10, expected_goal_x_temp) - 1)\n",
    "    #print(\"Expected Goals x:\", expected_goal_x)\n",
    "\n",
    "    # Calculate expected goals for away team\n",
    "    #expected_goal_y = round((10 ** (abs(ratings[AwayTeam]['brA']) / 3)) - 1,5)\n",
    "    expected_goal_y_temp = abs(league_ratings[AwayLeague]['brA']) / 3\n",
    "    expected_goal_y = np.sign(league_ratings[AwayLeague]['brA']) * (np.power(10, expected_goal_y_temp) - 1)\n",
    "    #print(\"Expected Goals y:\", expected_goal_y)\n",
    "\n",
    "    # Calculate expected goal difference based on ratings\n",
    "    expected_goal_difference = expected_goal_x - expected_goal_y\n",
    "    #print(\"Expected Goal Difference:\", expected_goal_difference)\n",
    "\n",
    "    # Calculate the error between observed and expected goal difference\n",
    "    error = abs(observed_goal_difference - expected_goal_difference)\n",
    "    #print(\"error:\", error)\n",
    "\n",
    "    psi_temp = diminishing_function_psi(error)\n",
    "\n",
    "    # Diminish the impact of the goal difference error for both teams x and y respectively\n",
    "    if (expected_goal_difference < observed_goal_difference):\n",
    "        diminishing_function_psi_x = psi_temp\n",
    "        diminishing_function_psi_y = -psi_temp\n",
    "    else:\n",
    "        diminishing_function_psi_x = -psi_temp\n",
    "        diminishing_function_psi_y = psi_temp\n",
    "    #print(\"Diminishing Function psi x:\", diminishing_function_psi_x)\n",
    "    #print(\"Diminishing Function psi y:\", diminishing_function_psi_y)\n",
    "\n",
    "    # Update the home team x background ratings\n",
    "    previous_home_rating_x = league_ratings[HomeLeague]['brH']\n",
    "    previous_away_rating_x = league_ratings[HomeLeague]['brA']\n",
    "    #print(\"Old brH x:\", previous_home_rating_x)\n",
    "    #print(\"Old brA x:\", previous_away_rating_x)\n",
    "\n",
    "    league_ratings[HomeLeague]['brH'] = previous_home_rating_x + diminishing_function_psi_x * learning_rate_lambda\n",
    "    league_ratings[HomeLeague]['brA'] = previous_away_rating_x + (league_ratings[HomeLeague]['brH'] - previous_home_rating_x) * learning_rate_gamma\n",
    "    #print(\"New brH x:\", ratings[HomeTeam]['brH'])\n",
    "    #print(\"New brA x:\", ratings[HomeTeam]['brA'])\n",
    "\n",
    "    # Update the away team y background ratings\n",
    "    previous_home_rating_y = league_ratings[AwayLeague]['brH']\n",
    "    previous_away_rating_y = league_ratings[AwayLeague]['brA']\n",
    "    #print(\"Old brH y:\", previous_home_rating_y)\n",
    "    #print(\"Old brA y:\", previous_away_rating_y)\n",
    "\n",
    "    league_ratings[AwayLeague]['brA'] = previous_away_rating_y + diminishing_function_psi_y * learning_rate_lambda\n",
    "    league_ratings[AwayLeague]['brH'] = previous_home_rating_y + (league_ratings[AwayLeague]['brA'] - previous_away_rating_y) * learning_rate_gamma\n",
    "    #print(\"New brH y:\", ratings[AwayTeam]['brH'])\n",
    "    #print(\"New brA y:\", ratings[AwayTeam]['brA'])\n",
    "\n",
    "    #print(\"Old overunderperformance x:\", ratings[HomeTeam]['continuous_overunderperformances'])\n",
    "    #print(\"Old overunderperformance y:\", ratings[AwayTeam]['continuous_overunderperformances'])\n",
    "\n",
    "    # Update the continuous over/underperformances for the home team\n",
    "    if (observed_goal_difference > expected_goal_difference):\n",
    "        league_ratings[HomeLeague]['continuous_overunderperformances'] = max(1, league_ratings[HomeLeague]['continuous_overunderperformances'] + 1)\n",
    "        league_ratings[AwayLeague]['continuous_overunderperformances'] = min(-1, league_ratings[AwayLeague]['continuous_overunderperformances'] - 1)\n",
    "    elif (observed_goal_difference < expected_goal_difference):\n",
    "        league_ratings[HomeLeague]['continuous_overunderperformances'] = min(-1, league_ratings[HomeLeague]['continuous_overunderperformances'] - 1)\n",
    "        league_ratings[AwayLeague]['continuous_overunderperformances'] = max(1, league_ratings[AwayLeague]['continuous_overunderperformances'] + 1)\n",
    "    else:\n",
    "        league_ratings[HomeLeague]['continuous_overunderperformances'] = 0\n",
    "        league_ratings[AwayLeague]['continuous_overunderperformances'] = 0\n",
    "\n",
    "    #print(\"New overunderperformance x:\", ratings[HomeTeam]['continuous_overunderperformances'])\n",
    "    #print(\"New overunderperformance y:\", ratings[AwayTeam]['continuous_overunderperformances'], end='\\n\\n')\n",
    "\n",
    "    return league_ratings\n"
   ],
   "metadata": {
    "collapsed": false,
    "ExecuteTime": {
     "end_time": "2023-08-10T09:20:41.276666Z",
     "start_time": "2023-08-10T09:20:41.229151Z"
    }
   }
  },
  {
   "cell_type": "code",
   "execution_count": 58,
   "outputs": [],
   "source": [
    "def calculate_provisional_ratings(ratings, team, competition, rates):\n",
    "\n",
    "    #phi: Represents the number of continuous performances, above or below expectations, which do not trigger the form factor\n",
    "    #form_threshold_phi = 1\n",
    "    form_threshold_phi = rates['phi']\n",
    "\n",
    "    #mu: represents the rating difference used to establish provisional ratings from background ratings\n",
    "    #rating_impact_mu = 0.01\n",
    "    rating_impact_mu = rates['mu']\n",
    "\n",
    "    #delta: the level by which rating impact μ diminishes with each additional continuous over/under-performance\n",
    "    #diminishing_factor_delta = 2.5\n",
    "    diminishing_factor_delta = rates['delta']\n",
    "\n",
    "    brH = ratings[team][competition]['brH']  # Background rating home\n",
    "    brA = ratings[team][competition]['brA']  # Background rating away\n",
    "    prH = brH\n",
    "    prA = brA\n",
    "\n",
    "    #return prH, prA\n",
    "\n",
    "    if abs(ratings[team][competition]['continuous_overunderperformances']) < (form_threshold_phi + 1):\n",
    "        return prH, prA\n",
    "\n",
    "    # Calculate performance factor for home team x\n",
    "    a = abs(ratings[team][competition]['continuous_overunderperformances']) - form_threshold_phi\n",
    "    b = a ** diminishing_factor_delta\n",
    "    form_factor_home = a / b\n",
    "\n",
    "    # Calculate provisional rating of the team\n",
    "    if (ratings[team][competition]['continuous_overunderperformances'] > form_threshold_phi):\n",
    "        prH = brH + rating_impact_mu * form_factor_home\n",
    "        prA = brA + rating_impact_mu * form_factor_home\n",
    "    if (ratings[team][competition]['continuous_overunderperformances'] < -form_threshold_phi):\n",
    "        prH = brH - rating_impact_mu * form_factor_home\n",
    "        prA = brA - rating_impact_mu * form_factor_home\n",
    "\n",
    "    return prH, prA"
   ],
   "metadata": {
    "collapsed": false,
    "ExecuteTime": {
     "end_time": "2023-08-10T09:20:41.423873Z",
     "start_time": "2023-08-10T09:20:41.394381Z"
    }
   }
  },
  {
   "cell_type": "code",
   "execution_count": 59,
   "outputs": [],
   "source": [
    "def calculate_probabilities(features, model):\n",
    "\n",
    "    new_game_rating_difference = np.array([features])\n",
    "    probabilities = model.predict_proba(new_game_rating_difference)\n",
    "    return probabilities[0]"
   ],
   "metadata": {
    "collapsed": false,
    "ExecuteTime": {
     "end_time": "2023-08-10T09:20:42.221952Z",
     "start_time": "2023-08-10T09:20:42.196212Z"
    }
   }
  },
  {
   "cell_type": "code",
   "execution_count": 60,
   "outputs": [],
   "source": [
    "# Function to calculate the rating difference between two teams\n",
    "def calculate_rating_difference(HomeTeam, AwayTeam, competition, ratings, league_ratings, team_to_league, rates):\n",
    "    rho = rates['rho']\n",
    "    sigma = rates['sigma']\n",
    "    \n",
    "    competition1 = competition\n",
    "    competition2 = competition\n",
    "    if competition == 'INT0':\n",
    "        competition1 = get_league_from_team(HomeTeam, team_to_league)\n",
    "        competition2 = get_league_from_team(AwayTeam, team_to_league)\n",
    "        \n",
    "    # Calculate home team rating\n",
    "    home_rating_x = ratings[HomeTeam][competition1]['brH']\n",
    "    if (abs(ratings[HomeTeam][competition1]['continuous_overunderperformances']) > 1):\n",
    "        provisional_ratings_x = calculate_provisional_ratings(ratings, HomeTeam, competition1, rates)\n",
    "        home_rating_x = provisional_ratings_x[0]\n",
    "\n",
    "    # Calculate away team rating\n",
    "    away_rating_y = ratings[AwayTeam][competition2]['brA']\n",
    "    if (abs(ratings[AwayTeam][competition2]['continuous_overunderperformances']) > 1):\n",
    "        provisional_ratings_y = calculate_provisional_ratings(ratings, AwayTeam, competition2, rates)\n",
    "        away_rating_y = provisional_ratings_y[1]\n",
    "    \n",
    "    if competition == 'INT0':\n",
    "        home_rating_x = rho * home_rating_x + sigma * league_ratings[competition1]['brH']\n",
    "        away_rating_y = rho * away_rating_y + sigma * league_ratings[competition2]['brA']\n",
    "\n",
    "    # Calculate rating difference\n",
    "    rating_difference = home_rating_x - away_rating_y\n",
    "\n",
    "    return rating_difference"
   ],
   "metadata": {
    "collapsed": false,
    "ExecuteTime": {
     "end_time": "2023-08-10T09:20:42.913174Z",
     "start_time": "2023-08-10T09:20:42.895602Z"
    }
   }
  },
  {
   "cell_type": "code",
   "execution_count": 61,
   "outputs": [],
   "source": [
    "def predict_outcomes(df_fixtures, ratings, rates, model):\n",
    "    \n",
    "    all_rps = []\n",
    "    league_ratings_fake = {}\n",
    "    team_to_league_fake = {}\n",
    "\n",
    "    for index, row in df_fixtures.iterrows():\n",
    "        HomeTeam = row['HomeTeam']\n",
    "        AwayTeam = row['AwayTeam']\n",
    "        competition = row['Div']\n",
    "\n",
    "        # Initialize league table for the competition if it doesn't exist\n",
    "        if competition not in league_tables:\n",
    "            league_tables[competition] = pd.DataFrame(columns=['team', 'games_played', 'points'])\n",
    "\n",
    "\n",
    "        rating_difference = calculate_rating_difference(HomeTeam, AwayTeam, competition, ratings, league_ratings_fake, team_to_league_fake, rates)\n",
    "\n",
    "        #features = [prH_x, prA_x, prH_y, prA_y]\n",
    "        features = [rating_difference]\n",
    "\n",
    "        away_win_prob, draw_prob, home_win_prob = calculate_probabilities(features, model)\n",
    "\n",
    "\n",
    "        \"\"\"\n",
    "        FTHG = int(row['FTHG'])\n",
    "        FTAG = int(row['FTAG'])\n",
    "\n",
    "\n",
    "\n",
    "        print(f\"{HomeTeam} - {AwayTeam} {FTHG}:{FTAG}\")\n",
    "        print(f\"Home Win Prob: {home_win_prob}\")\n",
    "        print(f\"Draw Prob: {draw_prob}\")\n",
    "        print(f\"Away Win Prob: {away_win_prob}\", end='\\n\\n')\n",
    "        \"\"\"\n",
    "\n",
    "\n",
    "        # Call Ranked Probability Score function\n",
    "        probs = [home_win_prob, draw_prob, away_win_prob]\n",
    "        if row[\"FTR\"] == \"H\":\n",
    "            outcome = [1, 0, 0]\n",
    "        elif row[\"FTR\"] == \"D\":\n",
    "            outcome = [0, 1, 0]\n",
    "        else:\n",
    "            outcome = [0, 0, 1]\n",
    "\n",
    "        rps_score = rps(probs, outcome)\n",
    "        #print(\"RPS Score:\", rps_score, end='\\n\\n')\n",
    "        all_rps.append(rps_score)\n",
    "\n",
    "        # Update league table\n",
    "        league_tables[competition] = update_league_table(league_tables[competition], HomeTeam, AwayTeam, home_win_prob, draw_prob, away_win_prob)\n",
    "\n",
    "        # Update ratings\n",
    "        ratings = update_ratings_single_game(HomeTeam, AwayTeam, row['FTHG'], row['FTAG'], ratings, rates, competition)\n",
    "\n",
    "    print(f\"Average RPS Score for {competition}:\", np.mean(all_rps), '\\n')\n",
    "\n",
    "    # Sort all league tables\n",
    "    for competition, table in league_tables.items():\n",
    "        assert isinstance(table, pd.DataFrame), f\"Unexpected object: {type(table)} for competition: {competition}\"\n",
    "        table = table.sort_values(['points', 'games_played'], ascending=False)\n",
    "        table = table.reset_index(drop=True)\n",
    "        league_tables[competition] = table\n",
    "\n",
    "    return all_rps, league_tables\n"
   ],
   "metadata": {
    "collapsed": false,
    "ExecuteTime": {
     "end_time": "2023-08-10T09:20:44.002668Z",
     "start_time": "2023-08-10T09:20:43.969167Z"
    }
   }
  },
  {
   "cell_type": "code",
   "execution_count": 62,
   "outputs": [],
   "source": [
    "def predict_outcomes_int(df_int_fixtures, ratings, league_ratings, team_to_league, rates, model):\n",
    "\n",
    "    int_rps = []\n",
    "    \n",
    "    for index, row in df_int_fixtures.iterrows():\n",
    "        HomeTeam = row['HomeTeam']\n",
    "        AwayTeam = row['AwayTeam']\n",
    "        #HomeLeague = get_league_from_team(HomeTeam, team_to_league)\n",
    "        #AwayLeague = get_league_from_team(AwayTeam, team_to_league)\n",
    "\n",
    "        competition = row['Div']\n",
    "\n",
    "        \n",
    "        rating_difference = calculate_rating_difference(HomeTeam, AwayTeam, competition, ratings, league_ratings, team_to_league, rates)\n",
    "\n",
    "        #features = [prH_x, prA_x, prH_y, prA_y]\n",
    "        features = [rating_difference]\n",
    "\n",
    "        away_win_prob, draw_prob, home_win_prob = calculate_probabilities(features, model)\n",
    "\n",
    "\n",
    "        \"\"\"\n",
    "        FTHG = int(row['FTHG'])\n",
    "        FTAG = int(row['FTAG'])\n",
    "\n",
    "\n",
    "\n",
    "        print(f\"{HomeTeam} - {AwayTeam} {FTHG}:{FTAG}\")\n",
    "        print(f\"Home Win Prob: {home_win_prob}\")\n",
    "        print(f\"Draw Prob: {draw_prob}\")\n",
    "        print(f\"Away Win Prob: {away_win_prob}\", end='\\n')\n",
    "        \"\"\"\n",
    "        \n",
    "\n",
    "        # Call Ranked Probability Score function\n",
    "        probs = [home_win_prob, draw_prob, away_win_prob]\n",
    "        if row[\"FTR\"] == \"H\":\n",
    "            outcome = [1, 0, 0]\n",
    "        elif row[\"FTR\"] == \"D\":\n",
    "            outcome = [0, 1, 0]\n",
    "        else:\n",
    "            outcome = [0, 0, 1]\n",
    "\n",
    "        rps_score = rps(probs, outcome)\n",
    "        #print(\"RPS Score:\", rps_score, end='\\n\\n')\n",
    "        int_rps.append(rps_score)\n",
    "\n",
    "        # Update league_ratings\n",
    "        #league_ratings = update_league_ratings_single_game(HomeLeague, AwayLeague, row['FTHG'], row['FTAG'], league_ratings, rates)\n",
    "        \n",
    "\n",
    "    print(f\"Average RPS Score for {competition}:\", np.mean(int_rps), '\\n')\n",
    "\n",
    "\n",
    "    return int_rps"
   ],
   "metadata": {
    "collapsed": false,
    "ExecuteTime": {
     "end_time": "2023-08-10T09:20:45.299462Z",
     "start_time": "2023-08-10T09:20:45.282004Z"
    }
   }
  },
  {
   "cell_type": "code",
   "execution_count": 63,
   "outputs": [],
   "source": [
    "def update_league_table(league_table, HomeTeam, AwayTeam, home_win_prob, draw_prob, away_win_prob):\n",
    "\n",
    "    # Calculate points based on probabilities\n",
    "    home_points = home_win_prob * 3 + draw_prob * 1\n",
    "    away_points = away_win_prob * 3 + draw_prob * 1\n",
    "\n",
    "    # Home team update\n",
    "    if HomeTeam in league_table['team'].values:\n",
    "        league_table.loc[league_table['team'] == HomeTeam, 'games_played'] += 1\n",
    "        league_table.loc[league_table['team'] == HomeTeam, 'points'] += home_points\n",
    "    else:\n",
    "        df_home = pd.DataFrame({'team': [HomeTeam], 'games_played': [1], 'points': [home_points]})\n",
    "        league_table = pd.concat([league_table, df_home], ignore_index=True)\n",
    "\n",
    "    # Away team update\n",
    "    if AwayTeam in league_table['team'].values:\n",
    "        league_table.loc[league_table['team'] == AwayTeam, 'games_played'] += 1\n",
    "        league_table.loc[league_table['team'] == AwayTeam, 'points'] += away_points\n",
    "    else:\n",
    "        df_away = pd.DataFrame({'team': [AwayTeam], 'games_played': [1], 'points': [away_points]})\n",
    "        league_table = pd.concat([league_table, df_away], ignore_index=True)\n",
    "\n",
    "    return league_table"
   ],
   "metadata": {
    "collapsed": false,
    "ExecuteTime": {
     "end_time": "2023-08-10T09:20:46.071989Z",
     "start_time": "2023-08-10T09:20:46.050465Z"
    }
   }
  },
  {
   "cell_type": "code",
   "execution_count": 64,
   "outputs": [],
   "source": [
    "def rps(probs, outcome):\n",
    "    cum_probs = np.cumsum(probs)\n",
    "    cum_outcomes = np.cumsum(outcome)\n",
    "\n",
    "    sum_rps = 0\n",
    "    for i in range(len(outcome)):\n",
    "        sum_rps+= (cum_probs[i] - cum_outcomes[i])**2\n",
    "\n",
    "    return sum_rps/(len(outcome)-1)"
   ],
   "metadata": {
    "collapsed": false,
    "ExecuteTime": {
     "end_time": "2023-08-10T09:20:48.525976Z",
     "start_time": "2023-08-10T09:20:48.495386Z"
    }
   }
  },
  {
   "cell_type": "code",
   "execution_count": 65,
   "outputs": [],
   "source": [
    "\n",
    "def train_model(df_train):\n",
    "\n",
    "    # Create Logistic Regression model\n",
    "    #model = LogisticRegression(solver=\"saga\", penalty=\"l2\")  # 'ovr' stands for One-Vs-Rest\n",
    "    model = MLPClassifier(solver='lbfgs', alpha=1e-3, hidden_layer_sizes=(5, 2), max_iter=1000, random_state=23)\n",
    "\n",
    "    # Reshape rating_difference to 2D array for model fitting\n",
    "    #X = df_train[['prH_x', 'prA_x', \"prH_y\", \"prA_y\"]].values\n",
    "    X = df_train[\"rating_difference\"].values.reshape(-1, 1)\n",
    "    y = df_train['FTR']\n",
    "\n",
    "    # Split data into training and testing sets\n",
    "    X_train, X_test, y_train, y_test = train_test_split(X, y, test_size=0.001, random_state=42)\n",
    "\n",
    "    # Fit the model with the training data\n",
    "    model.fit(X_train, y_train)\n",
    "\n",
    "    # Save the model and label encoder here\n",
    "    joblib.dump(model, '../Models/model.pkl')\n",
    "\n",
    "    # Evaluate the model on the test set\n",
    "    score = model.score(X_test, y_test)\n",
    "    #print(f'Model accuracy: {score*100:.2f}%')\n",
    "\n",
    "    return model\n"
   ],
   "metadata": {
    "collapsed": false,
    "ExecuteTime": {
     "end_time": "2023-08-10T09:20:49.090500Z",
     "start_time": "2023-08-10T09:20:49.067490Z"
    }
   }
  },
  {
   "cell_type": "code",
   "execution_count": 76,
   "outputs": [
    {
     "name": "stdout",
     "output_type": "stream",
     "text": [
      "League: REST, Rating: -0.3185893943435015\n",
      "League: SC0, Rating: -0.9198471744110921\n",
      "League: SP1, Rating: 0.8845539062836943\n",
      "League: F2, Rating: -1.1114758321139095\n",
      "League: T1, Rating: -0.7778688372683095\n",
      "League: E1, Rating: -0.0630617724482484\n",
      "League: E3, Rating: 0.0\n",
      "League: SC2, Rating: 0.0\n",
      "League: SP2, Rating: 0.3581981069156144\n",
      "League: B1, Rating: -0.43835462068277137\n",
      "League: P1, Rating: 0.1132632285461209\n",
      "League: F1, Rating: 0.32277384081491034\n",
      "League: N1, Rating: 0.6418080096983287\n",
      "League: E2, Rating: 0.0\n",
      "League: SC3, Rating: 0.0\n",
      "League: I1, Rating: 0.3267641591047022\n",
      "League: EC, Rating: -0.16788410825808509\n",
      "League: D2, Rating: 0.0\n",
      "League: E0, Rating: 1.3286568101201746\n",
      "League: G1, Rating: -0.8242735002926561\n",
      "League: D1, Rating: 0.6453371783350269\n",
      "League: SC1, Rating: 0.0\n",
      "League: I2, Rating: 0.0\n",
      "Average RPS Score for B1: 0.20499772162731292 \n",
      "\n",
      "Average RPS Score for SC0: 0.1867077442381349 \n",
      "Average RPS Score for N1: 0.18246084718664696 \n",
      "\n",
      "Average RPS Score for T1: 0.20443619968036755 \n",
      "Average RPS Score for D1: 0.2073420116285643 \n",
      "Average RPS Score for E0: 0.2039424421736776 \n",
      "Average RPS Score for F1: 0.20110296663295105 \n",
      "Average RPS Score for P1: 0.18702229638755796 \n",
      "Average RPS Score for SP1: 0.20728760602169866 \n",
      "Average RPS Score for I1: 0.19900545359633698 \n",
      "Average RPS Score for G1: 0.17962412598034008 \n",
      "\n",
      "Average RPS Score across all competitions: 0.1978454570972537\n",
      "Average RPS Score for INT0: 0.18848637634347312 \n"
     ]
    },
    {
     "data": {
      "text/plain": "''"
     },
     "execution_count": 76,
     "metadata": {},
     "output_type": "execute_result"
    }
   ],
   "source": [
    "# Main Function\n",
    "\n",
    "# Load the results data file for seasons 2010-2011 to 2021-2022\n",
    "df_results = pd.read_csv('../data/season_2010-2022_sorted_compressed.csv')\n",
    "\n",
    "# Load the fixtures data file for the season 2022-2023\n",
    "df_fixtures = pd.read_csv('../data/season_2022-2023_sorted_top.csv')\n",
    "\n",
    "# Load the international results data file\n",
    "df_int_results = pd.read_csv('../data/season_2016-2021_INT.csv')\n",
    "\n",
    "# Load the international fixtures data file\n",
    "df_int_fixtures = pd.read_csv('../data/season_2021-2022_INT.csv')\n",
    "\n",
    "# Define the learning rates\n",
    "rates = {\n",
    "    'lambda': 0.037,\n",
    "    'gamma': 0.99,\n",
    "    'delta': 12,\n",
    "    'phi': 2,\n",
    "    'mu': 0.08,\n",
    "    'rho': 0.475,\n",
    "    'sigma': 1.05,\n",
    "    'ind_threshold': 9000,\n",
    "    'lambda2': 0.1,\n",
    "    'gamma2': 1.0\n",
    "}\n",
    "\n",
    "# Map teams to leagues\n",
    "df_int = pd.concat([df_int_results, df_int_fixtures], ignore_index=True)\n",
    "team_to_league, rest_teams = create_team_to_league_mapping(df_results, df_fixtures, df_int)\n",
    "\n",
    "# Initialize ratings based on the results data\n",
    "ratings, league_ratings = initialize_ratings(df_results, df_fixtures)\n",
    "rest_ratings = initialize_rest_ratings(rest_teams)\n",
    "ratings.update(rest_ratings)\n",
    "\n",
    "# Update ratings based on the results data here\n",
    "ratings, games_with_ratings, training_games = update_ratings_multiple_games(df_results, ratings, rates)\n",
    "#model.C_\n",
    "\n",
    "# Train the model for predicting match outcomes\n",
    "df_train = pd.DataFrame(training_games)\n",
    "#df_train.to_csv(\"../data/train232.csv\", index=False)\n",
    "model = train_model(df_train)\n",
    "\n",
    "\n",
    "\n",
    "\"\"\"\n",
    "# Create a reverse mapping of leagues to teams\n",
    "league_to_teams = {}\n",
    "for team, league in team_to_league.items():\n",
    "    if league not in league_to_teams:\n",
    "        league_to_teams[league] = []\n",
    "    league_to_teams[league].append(team)\n",
    "\n",
    "# Print the teams sorted by league\n",
    "for league, teams in sorted(league_to_teams.items()):\n",
    "    print(f\"{league}:\")\n",
    "    print(\", \".join(teams))\n",
    "    print()\n",
    "\"\"\"\n",
    "\n",
    "# Update league ratings based on the results data here\n",
    "league_ratings = update_league_ratings_multiple_games(df_int_results, league_ratings, team_to_league, rates)\n",
    "for league, values in league_ratings.items():\n",
    "    print(f\"League: {league}, Rating: {values['brH']}\")\n",
    "\n",
    "# Initialize an empty league tables dictionary and rps list\n",
    "league_tables = {}\n",
    "all_rps = []\n",
    "\n",
    "# Predict the probabilities of home win, draw and away win for the fixtures data\n",
    "for competition in df_fixtures['Div'].unique():\n",
    "    competition_fixtures = df_fixtures[df_fixtures['Div'] == competition]\n",
    "    competition_rps, league_tables = predict_outcomes(competition_fixtures, ratings, rates, model)\n",
    "    all_rps.extend(competition_rps)  # extend the list with rps scores from the current competition\n",
    "\n",
    "# Now you can calculate the mean RPS across all competitions\n",
    "mean_rps = np.mean(all_rps)\n",
    "print(\"Average RPS Score across all competitions:\", mean_rps)\n",
    "\n",
    "\n",
    "int_rps = predict_outcomes_int(df_int_fixtures, ratings, league_ratings, team_to_league, rates, model)\n",
    "\n",
    "\n",
    ";"
   ],
   "metadata": {
    "collapsed": false,
    "ExecuteTime": {
     "end_time": "2023-08-10T09:46:31.148088Z",
     "start_time": "2023-08-10T09:46:02.595323Z"
    }
   }
  },
  {
   "cell_type": "code",
   "execution_count": 48,
   "outputs": [
    {
     "data": {
      "text/plain": "''"
     },
     "execution_count": 48,
     "metadata": {},
     "output_type": "execute_result"
    },
    {
     "data": {
      "text/plain": "<Figure size 1200x800 with 1 Axes>",
      "image/png": "[encoded data removed]"
     },
     "metadata": {},
     "output_type": "display_data"
    }
   ],
   "source": [
    "\n",
    "plt.figure(figsize=(12, 8))\n",
    "plt.annotate(\"Background Rating over time\", (0.5, 1.05), xycoords='axes fraction', ha='center', va='center', size=16)\n",
    "df_ratings = pd.DataFrame(games_with_ratings)\n",
    "teams = [\"Arsenal\", \"Man City\", \"Man United\", \"Chelsea\", \"Tottenham\", \"Liverpool\", \"Everton\", \"Leicester\", \"West Ham\", \"Southampton\"]\n",
    "#for team in df_ratings[\"team\"].unique()[:10]:\n",
    "for team in teams:\n",
    "    per_team = df_ratings.loc[df_ratings[\"team\"] == team]\n",
    "    plt.plot((per_team[\"home_rating\"] + per_team[\"away_rating\"]) / 2, label=team)\n",
    "plt.legend()\n",
    "plt.savefig(\"../images/ratings_over_time232.png\", dpi=300)\n",
    "\n",
    ";"
   ],
   "metadata": {
    "collapsed": false,
    "ExecuteTime": {
     "end_time": "2023-08-10T09:16:50.609768Z",
     "start_time": "2023-08-10T09:16:49.181619Z"
    }
   }
  },
  {
   "cell_type": "code",
   "execution_count": 497,
   "outputs": [
    {
     "name": "stdout",
     "output_type": "stream",
     "text": [
      "League table for B1:\n",
      "                   team games_played     points\n",
      "1           Club Brugge           34  65.737283\n",
      "2                  Genk           34  64.656836\n",
      "3          St. Gilloise           34  64.219930\n",
      "4               Antwerp           34  60.800512\n",
      "5                  Gent           34  60.799659\n",
      "6            Anderlecht           34  59.892608\n",
      "7            St Truiden           34  47.679783\n",
      "8             Charleroi           34  47.651280\n",
      "9              Standard           34  45.796133\n",
      "10        Cercle Brugge           34  45.231263\n",
      "11             Mechelen           34  44.261285\n",
      "12  Oud-Heverlee Leuven           34  42.490433\n",
      "13             Kortrijk           34  36.710749\n",
      "14             Westerlo           34  34.607680\n",
      "15             Oostende           34  32.343848\n",
      "16              Waregem           34  30.466394\n",
      "17                Eupen           34  30.076036\n",
      "18              Seraing           34  27.551227\n",
      "League table for SC0:\n",
      "             team games_played     points\n",
      "1          Celtic           38  85.238973\n",
      "2         Rangers           38  78.592095\n",
      "3          Hearts           38  54.877947\n",
      "4        Aberdeen           38  51.173681\n",
      "5       Hibernian           38  51.030781\n",
      "6      Livingston           38  50.589149\n",
      "7      Motherwell           38  46.375221\n",
      "8   Dundee United           38  43.626205\n",
      "9      Kilmarnock           38  41.757598\n",
      "10      St Mirren           38  41.469170\n",
      "11    Ross County           38  40.767387\n",
      "12   St Johnstone           38  40.724378\n",
      "League table for N1:\n",
      "                team games_played     points\n",
      "1               Ajax           34  72.905818\n",
      "2      PSV Eindhoven           34  69.711934\n",
      "3          Feyenoord           34  68.708683\n",
      "4         AZ Alkmaar           34  63.173609\n",
      "5             Twente           34  59.674145\n",
      "6            Utrecht           34  50.901110\n",
      "7   Sparta Rotterdam           34  50.023510\n",
      "8            Vitesse           34  45.614971\n",
      "9         Heerenveen           34  43.995747\n",
      "10          Waalwijk           34  41.791441\n",
      "11          Nijmegen           34  40.368728\n",
      "12          Volendam           34  37.115868\n",
      "13         Groningen           34  36.862921\n",
      "14   Go Ahead Eagles           34  35.243029\n",
      "15       For Sittard           34  35.000632\n",
      "16          FC Emmen           34  32.537186\n",
      "17           Cambuur           34  29.854273\n",
      "18         Excelsior           34  28.779799\n",
      "League table for T1:\n",
      "             team games_played     points\n",
      "1      Fenerbahce           36  69.577081\n",
      "2     Galatasaray           36  61.878542\n",
      "3        Besiktas           36  61.646769\n",
      "4      Buyuksehyr           36  59.394318\n",
      "5     Trabzonspor           36  58.527877\n",
      "6   Ad. Demirspor           36  54.911658\n",
      "7       Konyaspor           36  53.700107\n",
      "8      Karagumruk           36  50.988895\n",
      "9      Alanyaspor           36  49.854361\n",
      "10    Antalyaspor           36  48.797940\n",
      "11      Sivasspor           36  48.458405\n",
      "12      Kasimpasa           36  46.910505\n",
      "13    Kayserispor           36  43.142900\n",
      "14      Gaziantep           36  41.394724\n",
      "15    Giresunspor           36  39.825548\n",
      "16   Umraniyespor           36  38.181010\n",
      "17      Hatayspor           36  37.329147\n",
      "18   Istanbulspor           36  36.214501\n",
      "19     Ankaragucu           36  35.222212\n",
      "League table for D1:\n",
      "             team games_played     points\n",
      "1   Bayern Munich           34  70.622641\n",
      "2        Dortmund           34  63.013554\n",
      "3      RB Leipzig           34  62.362741\n",
      "4      Leverkusen           34  58.372164\n",
      "5    Union Berlin           34  54.800234\n",
      "6        Freiburg           34  53.141807\n",
      "7   Ein Frankfurt           34  50.709795\n",
      "8      M'gladbach           34  49.595274\n",
      "9       Wolfsburg           34  49.454446\n",
      "10          Mainz           34  45.520706\n",
      "11     Hoffenheim           34  43.522402\n",
      "12        FC Koln           34  43.381417\n",
      "13      Stuttgart           34  36.608710\n",
      "14  Werder Bremen           34  36.218363\n",
      "15       Augsburg           34  35.410271\n",
      "16         Bochum           34  32.696221\n",
      "17         Hertha           34  32.643380\n",
      "18     Schalke 04           34  22.254329\n",
      "League table for E0:\n",
      "              team games_played     points\n",
      "1         Man City           38  80.759944\n",
      "2        Liverpool           38  70.975758\n",
      "3          Arsenal           38  70.257489\n",
      "4        Tottenham           38  65.983543\n",
      "5          Chelsea           38  60.898943\n",
      "6       Man United           38  59.538113\n",
      "7        Newcastle           38  58.119248\n",
      "8         Brighton           38  55.794101\n",
      "9         West Ham           38  51.750212\n",
      "10       Leicester           38  51.531698\n",
      "11     Aston Villa           38  50.278222\n",
      "12       Brentford           38  49.993481\n",
      "13  Crystal Palace           38  48.569000\n",
      "14          Wolves           38  43.502921\n",
      "15         Everton           38  40.131307\n",
      "16          Fulham           38  39.629525\n",
      "17           Leeds           38  39.376649\n",
      "18   Nott'm Forest           38  37.113806\n",
      "19     Southampton           38  34.232526\n",
      "20     Bournemouth           38  34.134902\n",
      "League table for F1:\n",
      "           team games_played     points\n",
      "1      Paris SG           38  78.948993\n",
      "2     Marseille           38  69.862617\n",
      "3        Rennes           38  69.848746\n",
      "4        Monaco           38  69.454600\n",
      "5          Lens           38  64.842138\n",
      "6          Lyon           38  64.742119\n",
      "7         Lille           38  63.878626\n",
      "8          Nice           38  59.299346\n",
      "9    Strasbourg           38  53.187727\n",
      "10        Reims           38  52.704387\n",
      "11       Nantes           38  51.028059\n",
      "12  Montpellier           38  44.812225\n",
      "13        Brest           38  44.021469\n",
      "14      Lorient           38  43.082738\n",
      "15     Clermont           38  41.213001\n",
      "16      Auxerre           38  37.205293\n",
      "17       Troyes           38  37.141661\n",
      "18       Angers           38  35.002887\n",
      "19     Toulouse           38  34.792174\n",
      "20      Ajaccio           38  29.262134\n",
      "League table for P1:\n",
      "              team games_played     points\n",
      "1            Porto           34  71.810917\n",
      "2          Benfica           34  70.609259\n",
      "3        Sp Lisbon           34  68.942185\n",
      "4         Sp Braga           34  63.394395\n",
      "5        Guimaraes           34  49.890772\n",
      "6        Famalicao           34  44.350347\n",
      "7      Gil Vicente           34  43.710277\n",
      "8          Rio Ave           34  43.435556\n",
      "9         Casa Pia           34  42.252371\n",
      "10          Vizela           34  40.947257\n",
      "11        Boavista           34  40.408386\n",
      "12     Santa Clara           34  39.889078\n",
      "13          Chaves           34  38.452348\n",
      "14    Portimonense           34  38.440672\n",
      "15         Estoril           34  37.855941\n",
      "16          Arouca           34  37.092058\n",
      "17        Maritimo           34  35.040347\n",
      "18  Pacos Ferreira           34  33.637849\n",
      "League table for SP1:\n",
      "           team games_played     points\n",
      "1   Real Madrid           38  76.690500\n",
      "2     Barcelona           38  75.933371\n",
      "3    Ath Madrid           38  69.544061\n",
      "4    Villarreal           38  65.575934\n",
      "5         Betis           38  62.049981\n",
      "6      Sociedad           38  60.853568\n",
      "7    Ath Bilbao           38  58.500622\n",
      "8       Sevilla           38  58.181475\n",
      "9      Valencia           38  50.605498\n",
      "10        Celta           38  49.814599\n",
      "11       Getafe           38  47.210623\n",
      "12       Girona           38  46.284756\n",
      "13      Osasuna           38  45.955838\n",
      "14    Vallecano           38  45.176156\n",
      "15        Cadiz           38  41.928302\n",
      "16      Espanol           38  41.543770\n",
      "17     Mallorca           38  40.065966\n",
      "18   Valladolid           38  37.169795\n",
      "19      Almeria           38  35.630194\n",
      "20        Elche           38  33.636155\n",
      "League table for I1:\n",
      "           team games_played     points\n",
      "1        Napoli           38  75.588472\n",
      "2         Inter           38  70.810236\n",
      "3         Milan           38  68.434341\n",
      "4         Lazio           38  66.408200\n",
      "5      Juventus           38  66.308236\n",
      "6      Atalanta           38  62.659642\n",
      "7          Roma           38  61.865706\n",
      "8    Fiorentina           38  55.147135\n",
      "9       Udinese           38  53.987548\n",
      "10       Torino           38  52.168189\n",
      "11     Sassuolo           38  50.790624\n",
      "12      Bologna           38  47.978686\n",
      "13       Verona           38  46.153773\n",
      "14        Monza           38  42.976506\n",
      "15       Empoli           38  40.376198\n",
      "16  Salernitana           38  36.981684\n",
      "17    Sampdoria           38  36.865619\n",
      "18       Spezia           38  36.008920\n",
      "19    Cremonese           38  35.919008\n",
      "20        Lecce           38  35.067223\n",
      "League table for G1:\n",
      "                team games_played     points\n",
      "1         Olympiakos           36  66.370629\n",
      "2                AEK           36  64.797431\n",
      "3      Panathinaikos           36  63.815520\n",
      "4               PAOK           36  60.741726\n",
      "5               Aris           36  58.064451\n",
      "6   Asteras Tripolis           33  44.552457\n",
      "7          Atromitos           33  42.195938\n",
      "8          OFI Crete           33  41.229342\n",
      "9          Volos NFC           36  40.765362\n",
      "10          Giannina           33  39.451689\n",
      "11           Ionikos           33  38.878436\n",
      "12       Panetolikos           33  37.230158\n",
      "13             Lamia           33  30.647554\n",
      "14       Levadeiakos           33  29.636829\n"
     ]
    },
    {
     "data": {
      "text/plain": "''"
     },
     "execution_count": 497,
     "metadata": {},
     "output_type": "execute_result"
    }
   ],
   "source": [
    "# Print league tables\n",
    "for competition, league_table in league_tables.items():\n",
    "    print(f\"League table for {competition}:\")\n",
    "    league_table_df = league_table.copy()  # creating a copy to avoid modifying the original data\n",
    "    league_table_df.index = league_table_df.index + 1\n",
    "    print(league_table_df)\n",
    "    league_table_df.index = league_table_df.index - 1\n",
    "\n",
    ";"
   ],
   "metadata": {
    "collapsed": false,
    "ExecuteTime": {
     "end_time": "2023-08-09T10:56:15.351840Z",
     "start_time": "2023-08-09T10:56:15.328109Z"
    }
   }
  },
  {
   "cell_type": "code",
   "execution_count": 498,
   "outputs": [
    {
     "data": {
      "text/plain": "''"
     },
     "execution_count": 498,
     "metadata": {},
     "output_type": "execute_result"
    },
    {
     "data": {
      "text/plain": "<Figure size 640x480 with 1 Axes>",
      "image/png": "[encoded data removed]"
     },
     "metadata": {},
     "output_type": "display_data"
    }
   ],
   "source": [
    "# Plot RPS distribution\n",
    "plt.annotate(\"RPS Distribution\", (0.5, 0.9), xycoords='axes fraction', ha='center', va='center', size=16)\n",
    "plt.hist(all_rps, bins=25)\n",
    "plt.savefig(\"../images/rps_distribution232.png\", dpi=300)\n",
    "\n",
    "\n",
    "\n",
    "\"\"\"\n",
    "for team, team_ratings in ratings.items():\n",
    "    print(f\"Team: {team}\")\n",
    "    print(f\"Background Rating Home: {team_ratings['brH']}\")\n",
    "    print(f\"Background Rating Away: {team_ratings['brA']}\")\n",
    "    print(f\"Continuous Over/Underperformances: {team_ratings['continuous_overunderperformances']}\")\n",
    "    print()\n",
    "\"\"\"\n",
    ";"
   ],
   "metadata": {
    "collapsed": false,
    "ExecuteTime": {
     "end_time": "2023-08-09T10:56:25.705589Z",
     "start_time": "2023-08-09T10:56:25.313639Z"
    }
   }
  },
  {
   "cell_type": "code",
   "execution_count": 475,
   "outputs": [
    {
     "name": "stderr",
     "output_type": "stream",
     "text": [
      "  2%|▏         | 1/66 [00:22<23:57, 22.11s/it]"
     ]
    },
    {
     "name": "stdout",
     "output_type": "stream",
     "text": [
      "Average RPS Score for T1: 0.1984169919037859 \n"
     ]
    },
    {
     "name": "stderr",
     "output_type": "stream",
     "text": [
      "  3%|▎         | 2/66 [00:43<23:21, 21.90s/it]"
     ]
    },
    {
     "name": "stdout",
     "output_type": "stream",
     "text": [
      "Average RPS Score for T1: 0.19838818096227914 \n"
     ]
    },
    {
     "name": "stderr",
     "output_type": "stream",
     "text": [
      "  5%|▍         | 3/66 [01:06<23:30, 22.39s/it]"
     ]
    },
    {
     "name": "stdout",
     "output_type": "stream",
     "text": [
      "Average RPS Score for T1: 0.19837070790636885 \n"
     ]
    },
    {
     "name": "stderr",
     "output_type": "stream",
     "text": [
      "  6%|▌         | 4/66 [01:28<22:41, 21.96s/it]"
     ]
    },
    {
     "name": "stdout",
     "output_type": "stream",
     "text": [
      "Average RPS Score for T1: 0.19837115767053282 \n"
     ]
    },
    {
     "name": "stderr",
     "output_type": "stream",
     "text": [
      "  8%|▊         | 5/66 [01:51<22:56, 22.56s/it]"
     ]
    },
    {
     "name": "stdout",
     "output_type": "stream",
     "text": [
      "Average RPS Score for T1: 0.19834245501250913 \n"
     ]
    },
    {
     "name": "stderr",
     "output_type": "stream",
     "text": [
      "  9%|▉         | 6/66 [02:15<22:47, 22.79s/it]"
     ]
    },
    {
     "name": "stdout",
     "output_type": "stream",
     "text": [
      "Average RPS Score for T1: 0.1983406316056952 \n"
     ]
    },
    {
     "name": "stderr",
     "output_type": "stream",
     "text": [
      " 11%|█         | 7/66 [02:34<21:28, 21.83s/it]"
     ]
    },
    {
     "name": "stdout",
     "output_type": "stream",
     "text": [
      "Average RPS Score for T1: 0.1983424178579155 \n"
     ]
    },
    {
     "name": "stderr",
     "output_type": "stream",
     "text": [
      " 12%|█▏        | 8/66 [02:54<20:29, 21.19s/it]"
     ]
    },
    {
     "name": "stdout",
     "output_type": "stream",
     "text": [
      "Average RPS Score for T1: 0.19838265980749484 \n"
     ]
    },
    {
     "name": "stderr",
     "output_type": "stream",
     "text": [
      " 14%|█▎        | 9/66 [03:14<19:38, 20.67s/it]"
     ]
    },
    {
     "name": "stdout",
     "output_type": "stream",
     "text": [
      "Average RPS Score for T1: 0.19840667873103443 \n"
     ]
    },
    {
     "name": "stderr",
     "output_type": "stream",
     "text": [
      " 15%|█▌        | 10/66 [03:33<18:59, 20.35s/it]"
     ]
    },
    {
     "name": "stdout",
     "output_type": "stream",
     "text": [
      "Average RPS Score for T1: 0.19841042584496532 \n"
     ]
    },
    {
     "name": "stderr",
     "output_type": "stream",
     "text": [
      " 17%|█▋        | 11/66 [03:54<18:36, 20.29s/it]"
     ]
    },
    {
     "name": "stdout",
     "output_type": "stream",
     "text": [
      "Average RPS Score for T1: 0.19842791324613665 \n"
     ]
    },
    {
     "name": "stderr",
     "output_type": "stream",
     "text": [
      " 18%|█▊        | 12/66 [04:13<18:07, 20.14s/it]"
     ]
    },
    {
     "name": "stdout",
     "output_type": "stream",
     "text": [
      "Average RPS Score for T1: 0.19839346359089474 \n"
     ]
    },
    {
     "name": "stderr",
     "output_type": "stream",
     "text": [
      " 20%|█▉        | 13/66 [04:33<17:37, 19.96s/it]"
     ]
    },
    {
     "name": "stdout",
     "output_type": "stream",
     "text": [
      "Average RPS Score for T1: 0.19835902415188203 \n"
     ]
    },
    {
     "name": "stderr",
     "output_type": "stream",
     "text": [
      " 21%|██        | 14/66 [04:52<17:12, 19.85s/it]"
     ]
    },
    {
     "name": "stdout",
     "output_type": "stream",
     "text": [
      "Average RPS Score for T1: 0.1983320049790349 \n"
     ]
    },
    {
     "name": "stderr",
     "output_type": "stream",
     "text": [
      " 23%|██▎       | 15/66 [05:13<16:56, 19.92s/it]"
     ]
    },
    {
     "name": "stdout",
     "output_type": "stream",
     "text": [
      "Average RPS Score for T1: 0.19834579357504478 \n"
     ]
    },
    {
     "name": "stderr",
     "output_type": "stream",
     "text": [
      " 24%|██▍       | 16/66 [05:35<17:21, 20.82s/it]"
     ]
    },
    {
     "name": "stdout",
     "output_type": "stream",
     "text": [
      "Average RPS Score for T1: 0.19833780039324012 \n"
     ]
    },
    {
     "name": "stderr",
     "output_type": "stream",
     "text": [
      " 26%|██▌       | 17/66 [05:55<16:41, 20.45s/it]"
     ]
    },
    {
     "name": "stdout",
     "output_type": "stream",
     "text": [
      "Average RPS Score for T1: 0.19833020349259406 \n"
     ]
    },
    {
     "name": "stderr",
     "output_type": "stream",
     "text": [
      " 27%|██▋       | 18/66 [06:15<16:15, 20.32s/it]"
     ]
    },
    {
     "name": "stdout",
     "output_type": "stream",
     "text": [
      "Average RPS Score for T1: 0.1983443360363202 \n"
     ]
    },
    {
     "name": "stderr",
     "output_type": "stream",
     "text": [
      " 29%|██▉       | 19/66 [06:35<15:45, 20.11s/it]"
     ]
    },
    {
     "name": "stdout",
     "output_type": "stream",
     "text": [
      "Average RPS Score for T1: 0.19833641583353032 \n"
     ]
    },
    {
     "name": "stderr",
     "output_type": "stream",
     "text": [
      " 30%|███       | 20/66 [06:55<15:23, 20.08s/it]"
     ]
    },
    {
     "name": "stdout",
     "output_type": "stream",
     "text": [
      "Average RPS Score for T1: 0.19835133087889567 \n"
     ]
    },
    {
     "name": "stderr",
     "output_type": "stream",
     "text": [
      " 32%|███▏      | 21/66 [07:14<14:57, 19.94s/it]"
     ]
    },
    {
     "name": "stdout",
     "output_type": "stream",
     "text": [
      "Average RPS Score for T1: 0.19835640924789752 \n"
     ]
    },
    {
     "name": "stderr",
     "output_type": "stream",
     "text": [
      " 33%|███▎      | 22/66 [07:34<14:31, 19.80s/it]"
     ]
    },
    {
     "name": "stdout",
     "output_type": "stream",
     "text": [
      "Average RPS Score for T1: 0.19837101696645412 \n"
     ]
    },
    {
     "name": "stderr",
     "output_type": "stream",
     "text": [
      " 35%|███▍      | 23/66 [07:53<14:08, 19.74s/it]"
     ]
    },
    {
     "name": "stdout",
     "output_type": "stream",
     "text": [
      "Average RPS Score for T1: 0.19836807058890205 \n"
     ]
    },
    {
     "name": "stderr",
     "output_type": "stream",
     "text": [
      " 36%|███▋      | 24/66 [08:13<13:48, 19.72s/it]"
     ]
    },
    {
     "name": "stdout",
     "output_type": "stream",
     "text": [
      "Average RPS Score for T1: 0.19832794272449153 \n"
     ]
    },
    {
     "name": "stderr",
     "output_type": "stream",
     "text": [
      " 38%|███▊      | 25/66 [08:33<13:28, 19.72s/it]"
     ]
    },
    {
     "name": "stdout",
     "output_type": "stream",
     "text": [
      "Average RPS Score for T1: 0.19831770043652808 \n"
     ]
    },
    {
     "name": "stderr",
     "output_type": "stream",
     "text": [
      " 39%|███▉      | 26/66 [08:53<13:10, 19.77s/it]"
     ]
    },
    {
     "name": "stdout",
     "output_type": "stream",
     "text": [
      "Average RPS Score for T1: 0.19832044608934069 \n"
     ]
    },
    {
     "name": "stderr",
     "output_type": "stream",
     "text": [
      " 41%|████      | 27/66 [09:13<12:56, 19.91s/it]"
     ]
    },
    {
     "name": "stdout",
     "output_type": "stream",
     "text": [
      "Average RPS Score for T1: 0.19830608123934762 \n"
     ]
    },
    {
     "name": "stderr",
     "output_type": "stream",
     "text": [
      " 42%|████▏     | 28/66 [09:33<12:40, 20.01s/it]"
     ]
    },
    {
     "name": "stdout",
     "output_type": "stream",
     "text": [
      "Average RPS Score for T1: 0.19827903645832085 \n"
     ]
    },
    {
     "name": "stderr",
     "output_type": "stream",
     "text": [
      " 44%|████▍     | 29/66 [09:53<12:15, 19.87s/it]"
     ]
    },
    {
     "name": "stdout",
     "output_type": "stream",
     "text": [
      "Average RPS Score for T1: 0.19829050644482135 \n"
     ]
    },
    {
     "name": "stderr",
     "output_type": "stream",
     "text": [
      " 45%|████▌     | 30/66 [10:12<11:52, 19.79s/it]"
     ]
    },
    {
     "name": "stdout",
     "output_type": "stream",
     "text": [
      "Average RPS Score for T1: 0.19828467324998264 \n"
     ]
    },
    {
     "name": "stderr",
     "output_type": "stream",
     "text": [
      " 47%|████▋     | 31/66 [10:32<11:31, 19.75s/it]"
     ]
    },
    {
     "name": "stdout",
     "output_type": "stream",
     "text": [
      "Average RPS Score for T1: 0.19830180294053074 \n"
     ]
    },
    {
     "name": "stderr",
     "output_type": "stream",
     "text": [
      " 48%|████▊     | 32/66 [10:52<11:11, 19.75s/it]"
     ]
    },
    {
     "name": "stdout",
     "output_type": "stream",
     "text": [
      "Average RPS Score for T1: 0.19830911256749578 \n"
     ]
    },
    {
     "name": "stderr",
     "output_type": "stream",
     "text": [
      " 50%|█████     | 33/66 [11:11<10:48, 19.66s/it]"
     ]
    },
    {
     "name": "stdout",
     "output_type": "stream",
     "text": [
      "Average RPS Score for T1: 0.19828817540769378 \n"
     ]
    },
    {
     "name": "stderr",
     "output_type": "stream",
     "text": [
      " 52%|█████▏    | 34/66 [11:31<10:27, 19.62s/it]"
     ]
    },
    {
     "name": "stdout",
     "output_type": "stream",
     "text": [
      "Average RPS Score for T1: 0.198388183735053 \n"
     ]
    },
    {
     "name": "stderr",
     "output_type": "stream",
     "text": [
      " 53%|█████▎    | 35/66 [11:50<10:08, 19.62s/it]"
     ]
    },
    {
     "name": "stdout",
     "output_type": "stream",
     "text": [
      "Average RPS Score for T1: 0.19831871293563846 \n"
     ]
    },
    {
     "name": "stderr",
     "output_type": "stream",
     "text": [
      " 55%|█████▍    | 36/66 [12:10<09:51, 19.72s/it]"
     ]
    },
    {
     "name": "stdout",
     "output_type": "stream",
     "text": [
      "Average RPS Score for T1: 0.19829065948461716 \n"
     ]
    },
    {
     "name": "stderr",
     "output_type": "stream",
     "text": [
      " 56%|█████▌    | 37/66 [12:31<09:37, 19.92s/it]"
     ]
    },
    {
     "name": "stdout",
     "output_type": "stream",
     "text": [
      "Average RPS Score for T1: 0.19825272032130248 \n"
     ]
    },
    {
     "name": "stderr",
     "output_type": "stream",
     "text": [
      " 58%|█████▊    | 38/66 [12:51<09:18, 19.93s/it]"
     ]
    },
    {
     "name": "stdout",
     "output_type": "stream",
     "text": [
      "Average RPS Score for T1: 0.19823497703925383 \n"
     ]
    },
    {
     "name": "stderr",
     "output_type": "stream",
     "text": [
      " 59%|█████▉    | 39/66 [13:10<08:56, 19.86s/it]"
     ]
    },
    {
     "name": "stdout",
     "output_type": "stream",
     "text": [
      "Average RPS Score for T1: 0.19824194311522592 \n"
     ]
    },
    {
     "name": "stderr",
     "output_type": "stream",
     "text": [
      " 61%|██████    | 40/66 [13:30<08:34, 19.78s/it]"
     ]
    },
    {
     "name": "stdout",
     "output_type": "stream",
     "text": [
      "Average RPS Score for T1: 0.1982304123143803 \n"
     ]
    },
    {
     "name": "stderr",
     "output_type": "stream",
     "text": [
      " 62%|██████▏   | 41/66 [13:49<08:13, 19.73s/it]"
     ]
    },
    {
     "name": "stdout",
     "output_type": "stream",
     "text": [
      "Average RPS Score for T1: 0.19822316564599765 \n"
     ]
    },
    {
     "name": "stderr",
     "output_type": "stream",
     "text": [
      " 64%|██████▎   | 42/66 [14:09<07:51, 19.66s/it]"
     ]
    },
    {
     "name": "stdout",
     "output_type": "stream",
     "text": [
      "Average RPS Score for T1: 0.19822407993513458 \n"
     ]
    },
    {
     "name": "stderr",
     "output_type": "stream",
     "text": [
      " 65%|██████▌   | 43/66 [14:29<07:32, 19.66s/it]"
     ]
    },
    {
     "name": "stdout",
     "output_type": "stream",
     "text": [
      "Average RPS Score for T1: 0.198220023816016 \n"
     ]
    },
    {
     "name": "stderr",
     "output_type": "stream",
     "text": [
      " 67%|██████▋   | 44/66 [14:49<07:15, 19.81s/it]"
     ]
    },
    {
     "name": "stdout",
     "output_type": "stream",
     "text": [
      "Average RPS Score for T1: 0.19826454394937829 \n"
     ]
    },
    {
     "name": "stderr",
     "output_type": "stream",
     "text": [
      " 68%|██████▊   | 45/66 [15:08<06:54, 19.72s/it]"
     ]
    },
    {
     "name": "stdout",
     "output_type": "stream",
     "text": [
      "Average RPS Score for T1: 0.19833841203613575 \n"
     ]
    },
    {
     "name": "stderr",
     "output_type": "stream",
     "text": [
      " 70%|██████▉   | 46/66 [15:28<06:33, 19.68s/it]"
     ]
    },
    {
     "name": "stdout",
     "output_type": "stream",
     "text": [
      "Average RPS Score for T1: 0.19830817481316082 \n"
     ]
    },
    {
     "name": "stderr",
     "output_type": "stream",
     "text": [
      " 71%|███████   | 47/66 [15:48<06:13, 19.66s/it]"
     ]
    },
    {
     "name": "stdout",
     "output_type": "stream",
     "text": [
      "Average RPS Score for T1: 0.19826128130767515 \n"
     ]
    },
    {
     "name": "stderr",
     "output_type": "stream",
     "text": [
      " 73%|███████▎  | 48/66 [16:07<05:51, 19.54s/it]"
     ]
    },
    {
     "name": "stdout",
     "output_type": "stream",
     "text": [
      "Average RPS Score for T1: 0.19824874692700634 \n"
     ]
    },
    {
     "name": "stderr",
     "output_type": "stream",
     "text": [
      " 74%|███████▍  | 49/66 [16:28<05:40, 20.05s/it]"
     ]
    },
    {
     "name": "stdout",
     "output_type": "stream",
     "text": [
      "Average RPS Score for T1: 0.19824270963074778 \n"
     ]
    },
    {
     "name": "stderr",
     "output_type": "stream",
     "text": [
      " 76%|███████▌  | 50/66 [16:48<05:21, 20.07s/it]"
     ]
    },
    {
     "name": "stdout",
     "output_type": "stream",
     "text": [
      "Average RPS Score for T1: 0.19820146469492597 \n"
     ]
    },
    {
     "name": "stderr",
     "output_type": "stream",
     "text": [
      " 77%|███████▋  | 51/66 [17:09<05:03, 20.25s/it]"
     ]
    },
    {
     "name": "stdout",
     "output_type": "stream",
     "text": [
      "Average RPS Score for T1: 0.1981960470500689 \n"
     ]
    },
    {
     "name": "stderr",
     "output_type": "stream",
     "text": [
      " 79%|███████▉  | 52/66 [17:30<04:45, 20.43s/it]"
     ]
    },
    {
     "name": "stdout",
     "output_type": "stream",
     "text": [
      "Average RPS Score for T1: 0.1981836643677303 \n"
     ]
    },
    {
     "name": "stderr",
     "output_type": "stream",
     "text": [
      " 80%|████████  | 53/66 [17:50<04:27, 20.55s/it]"
     ]
    },
    {
     "name": "stdout",
     "output_type": "stream",
     "text": [
      "Average RPS Score for T1: 0.19820228725242797 \n"
     ]
    },
    {
     "name": "stderr",
     "output_type": "stream",
     "text": [
      " 82%|████████▏ | 54/66 [18:11<04:07, 20.62s/it]"
     ]
    },
    {
     "name": "stdout",
     "output_type": "stream",
     "text": [
      "Average RPS Score for T1: 0.19819831298563367 \n"
     ]
    },
    {
     "name": "stderr",
     "output_type": "stream",
     "text": [
      " 83%|████████▎ | 55/66 [18:32<03:48, 20.77s/it]"
     ]
    },
    {
     "name": "stdout",
     "output_type": "stream",
     "text": [
      "Average RPS Score for T1: 0.1982223662439778 \n"
     ]
    },
    {
     "name": "stderr",
     "output_type": "stream",
     "text": [
      " 85%|████████▍ | 56/66 [18:53<03:27, 20.76s/it]"
     ]
    },
    {
     "name": "stdout",
     "output_type": "stream",
     "text": [
      "Average RPS Score for T1: 0.19829477269676415 \n"
     ]
    },
    {
     "name": "stderr",
     "output_type": "stream",
     "text": [
      " 86%|████████▋ | 57/66 [19:13<03:05, 20.56s/it]"
     ]
    },
    {
     "name": "stdout",
     "output_type": "stream",
     "text": [
      "Average RPS Score for T1: 0.19827347940019152 \n"
     ]
    },
    {
     "name": "stderr",
     "output_type": "stream",
     "text": [
      " 88%|████████▊ | 58/66 [19:33<02:41, 20.22s/it]"
     ]
    },
    {
     "name": "stdout",
     "output_type": "stream",
     "text": [
      "Average RPS Score for T1: 0.19824541045758282 \n"
     ]
    },
    {
     "name": "stderr",
     "output_type": "stream",
     "text": [
      " 89%|████████▉ | 59/66 [19:52<02:19, 19.98s/it]"
     ]
    },
    {
     "name": "stdout",
     "output_type": "stream",
     "text": [
      "Average RPS Score for T1: 0.19824188817369112 \n"
     ]
    },
    {
     "name": "stderr",
     "output_type": "stream",
     "text": [
      " 91%|█████████ | 60/66 [20:12<01:59, 19.85s/it]"
     ]
    },
    {
     "name": "stdout",
     "output_type": "stream",
     "text": [
      "Average RPS Score for T1: 0.1982057114916869 \n"
     ]
    },
    {
     "name": "stderr",
     "output_type": "stream",
     "text": [
      " 92%|█████████▏| 61/66 [20:31<01:38, 19.80s/it]"
     ]
    },
    {
     "name": "stdout",
     "output_type": "stream",
     "text": [
      "Average RPS Score for T1: 0.19822942057315568 \n"
     ]
    },
    {
     "name": "stderr",
     "output_type": "stream",
     "text": [
      " 94%|█████████▍| 62/66 [20:51<01:19, 19.77s/it]"
     ]
    },
    {
     "name": "stdout",
     "output_type": "stream",
     "text": [
      "Average RPS Score for T1: 0.19823099181475873 \n"
     ]
    },
    {
     "name": "stderr",
     "output_type": "stream",
     "text": [
      " 95%|█████████▌| 63/66 [21:10<00:59, 19.69s/it]"
     ]
    },
    {
     "name": "stdout",
     "output_type": "stream",
     "text": [
      "Average RPS Score for T1: 0.19823581421395597 \n"
     ]
    },
    {
     "name": "stderr",
     "output_type": "stream",
     "text": [
      " 97%|█████████▋| 64/66 [21:30<00:39, 19.65s/it]"
     ]
    },
    {
     "name": "stdout",
     "output_type": "stream",
     "text": [
      "Average RPS Score for T1: 0.19823948126239768 \n"
     ]
    },
    {
     "name": "stderr",
     "output_type": "stream",
     "text": [
      " 98%|█████████▊| 65/66 [21:50<00:19, 19.59s/it]"
     ]
    },
    {
     "name": "stdout",
     "output_type": "stream",
     "text": [
      "Average RPS Score for T1: 0.1982345477835095 \n"
     ]
    },
    {
     "name": "stderr",
     "output_type": "stream",
     "text": [
      "100%|██████████| 66/66 [22:09<00:00, 20.14s/it]"
     ]
    },
    {
     "name": "stdout",
     "output_type": "stream",
     "text": [
      "Average RPS Score for T1: 0.19822702781389023 \n",
      "\n",
      "Top 5 combinations:\n",
      "Lambda: 0.037, Gamma: 0.99, Score: 0.1981836643677303\n",
      "Lambda: 0.036000000000000004, Gamma: 0.99, Score: 0.1981960470500689\n",
      "Lambda: 0.039, Gamma: 0.99, Score: 0.19819831298563367\n",
      "Lambda: 0.035, Gamma: 0.99, Score: 0.19820146469492597\n",
      "Lambda: 0.038, Gamma: 0.99, Score: 0.19820228725242797\n"
     ]
    },
    {
     "name": "stderr",
     "output_type": "stream",
     "text": [
      "\n"
     ]
    }
   ],
   "source": [
    "# Gridsearch on lambda and gamma\n",
    "\n",
    "# Initialize the rates\n",
    "rates = {\n",
    "    'lambda': 0.037,\n",
    "    'gamma': 0.99,\n",
    "    'delta': 12,\n",
    "    'phi': 2,\n",
    "    'mu': 0.09,\n",
    "    'rho': 0.325,\n",
    "    'sigma': 1.05,\n",
    "    'ind_threshold': 13500\n",
    "}\n",
    "\n",
    "# Define a parameter grid with the ranges for your parameters\n",
    "param_grid = {\n",
    "    'lambda': np.linspace(0.03, 0.04, int((0.04 - 0.03) / 0.001) + 1),\n",
    "    'gamma': np.linspace(0.95, 1.0, int((1.0 - 0.95) / 0.01) + 1)\n",
    "\n",
    "}\n",
    "\n",
    "# Create a ParameterGrid object from the dictionary\n",
    "grid = ParameterGrid(param_grid)\n",
    "\n",
    "# Initialize the best_score variable\n",
    "best_score = float('inf')  # assuming lower scores are better\n",
    "\n",
    "# Create an empty list to store the results\n",
    "gs_results = []\n",
    "\n",
    "# Loop over the parameter combinations\n",
    "for params in tqdm.tqdm(grid):\n",
    "    # Update the rates dictionary\n",
    "    rates.update(params)\n",
    "    \n",
    "    ratings, league_ratings = initialize_ratings(df_results, df_fixtures)\n",
    "    \n",
    "    # Re-train model with the new parameters\n",
    "    ratings, games_with_ratings, training_games = update_ratings_multiple_games(df_results, ratings, rates)\n",
    "\n",
    "    df_train = pd.DataFrame(training_games)\n",
    "    df_train.to_csv(\"../data/train232.csv\", index=False)\n",
    "    model = train_model(df_train)\n",
    "\n",
    "    all_rps, league_tables = predict_outcomes(df_fixtures, ratings, rates, model)\n",
    "    score = np.mean(all_rps)\n",
    "\n",
    "    # Store the current results\n",
    "    gs_results.append({\n",
    "        'lambda': rates['lambda'],\n",
    "        'gamma': rates['gamma'],\n",
    "        'score': score,\n",
    "    })\n",
    "\n",
    "# Sort the results based on the score and get the top 5\n",
    "top_5_combinations = sorted(gs_results, key=lambda x: x['score'])[:5]\n",
    "\n",
    "print(\"Top 5 combinations:\")\n",
    "for combo in top_5_combinations:\n",
    "    print(f\"Lambda: {combo['lambda']}, Gamma: {combo['gamma']}, Score: {combo['score']}\")\n",
    "\n",
    "# Convert the gs_results to a DataFrame and plot them\n",
    "df_gs_results = pd.DataFrame(gs_results)\n",
    "\n",
    "# Define grid of x, y values\n",
    "lambda_range = np.linspace(df_gs_results['lambda'].min(), df_gs_results['lambda'].max(), num=50)\n",
    "gamma_range = np.linspace(df_gs_results['gamma'].min(), df_gs_results['gamma'].max(), num=50)\n",
    "lambda_grid, gamma_grid = np.meshgrid(lambda_range, gamma_range)\n",
    "\n",
    "# Interpolate z values for this grid\n",
    "rps_grid = griddata((df_gs_results['lambda'], df_gs_results['gamma']), df_gs_results['score'], (lambda_grid, gamma_grid), method='cubic')\n"
   ],
   "metadata": {
    "collapsed": false,
    "ExecuteTime": {
     "end_time": "2023-08-09T10:43:33.315288Z",
     "start_time": "2023-08-09T10:21:23.798178Z"
    }
   }
  },
  {
   "cell_type": "code",
   "execution_count": null,
   "outputs": [],
   "source": [
    "# Create 3D surface plot\n",
    "fig = plt.figure(figsize=(10, 7))\n",
    "ax = fig.add_subplot(111, projection='3d')\n",
    "surf = ax.plot_surface(lambda_grid, gamma_grid, rps_grid, cmap='RdYlGn_r', edgecolor='none')\n",
    "ax.set_xlabel('Lambda')\n",
    "ax.set_ylabel('Gamma')\n",
    "ax.set_zlabel('RPS Score', fontsize=10, labelpad=5)\n",
    "ax.invert_zaxis()  # To make lower scores appear higher\n",
    "#fig.colorbar(surf)\n",
    "plt.savefig(\"../images/3d_plot_gs232.png\", dpi=300)\n",
    "plt.show()\n",
    "\n",
    "# Create 2D plot with colormap\n",
    "plt.figure(figsize=(10, 10))  # Adjust figsize to your preference to make the plot square\n",
    "plt.title('Grid Search Scores')\n",
    "\n",
    "cmap_reversed = plt.cm.get_cmap('RdYlGn_r')  # Reversed Red-Yellow-Green colormap\n",
    "\n",
    "# Here we store the image object returned by imshow\n",
    "im = plt.imshow(rps_grid, interpolation='nearest', cmap=cmap_reversed,\n",
    "           extent=(param_grid['learning_rate_lambda'].min(), param_grid['learning_rate_lambda'].max(), param_grid['learning_rate_gamma'].min(), param_grid['learning_rate_gamma'].max()), origin='lower')\n",
    "\n",
    "# We use the stored image object for the colorbar\n",
    "plt.colorbar(im, cmap=cmap_reversed)\n",
    "\n",
    "plt.axis('square')  # This will enforce a square aspect ratio\n",
    "\n",
    "plt.xticks(fontsize=8)\n",
    "plt.yticks(fontsize=8)\n",
    "plt.xlabel(\"Lambda\")\n",
    "plt.ylabel(\"Gamma\")\n",
    "plt.savefig(\"../images/2d_plot_heat_gs232.png\", dpi=300)\n",
    "plt.show()\n",
    "\n",
    "# Convert grid search results into a pivot table for plotting\n",
    "pivot_table = df_gs_results.pivot('learning_rate_lambda', 'learning_rate_gamma', 'score')\n",
    "\n",
    "# Create contour plot\n",
    "plt.figure(figsize=(10,7))\n",
    "contour_plot = plt.contourf(pivot_table.columns, pivot_table.index, pivot_table.values, cmap='RdYlGn_r', levels=100)\n",
    "plt.title('Grid Search RPS Scores')\n",
    "plt.xlabel('Lambda')\n",
    "plt.ylabel('Gamma')\n",
    "\n",
    "# Add a colorbar\n",
    "cbar = plt.colorbar(contour_plot)\n",
    "cbar.ax.set_ylabel('RPS Score')\n",
    "\n",
    "plt.savefig(\"../images/2d_plot_contour_gs232.png\", dpi=300)\n",
    "plt.show()\n",
    ";"
   ],
   "metadata": {
    "collapsed": false
   }
  },
  {
   "cell_type": "code",
   "execution_count": 71,
   "outputs": [
    {
     "name": "stdout",
     "output_type": "stream",
     "text": [
      "Average RPS Score for INT0: 0.19814678227575613 \n",
      "\n",
      "Average RPS Score for INT0: 0.19802694341715082 \n",
      "\n",
      "Average RPS Score for INT0: 0.1978964405641933 \n",
      "Average RPS Score for INT0: 0.197760018222494 \n",
      "\n",
      "Average RPS Score for INT0: 0.19762878964042016 \n",
      "\n",
      "Average RPS Score for INT0: 0.1974981527935424 \n",
      "\n",
      "Average RPS Score for INT0: 0.1973708421323299 \n",
      "Average RPS Score for INT0: 0.19724070627099802 \n",
      "\n",
      "Average RPS Score for INT0: 0.19711427007100568 \n",
      "\n",
      "Average RPS Score for INT0: 0.19698486476403376 \n",
      "Average RPS Score for INT0: 0.19686160883381779 \n",
      "\n",
      "Average RPS Score for INT0: 0.1967452217667369 \n",
      "\n",
      "Average RPS Score for INT0: 0.19663413185020778 \n",
      "\n",
      "Average RPS Score for INT0: 0.19652159202748912 \n",
      "Average RPS Score for INT0: 0.19641720669013085 \n",
      "\n",
      "Average RPS Score for INT0: 0.1963211028875414 \n",
      "\n",
      "Average RPS Score for INT0: 0.19649957225585243 \n",
      "Average RPS Score for INT0: 0.1963369287567426 \n",
      "\n",
      "Average RPS Score for INT0: 0.1961796743885504 \n",
      "\n",
      "Average RPS Score for INT0: 0.19602505186066724 \n",
      "Average RPS Score for INT0: 0.19586996578656382 \n",
      "\n",
      "Average RPS Score for INT0: 0.1957202135035969 \n",
      "\n",
      "Average RPS Score for INT0: 0.19558044720301446 \n",
      "\n",
      "Average RPS Score for INT0: 0.19544001785639886 \n",
      "Average RPS Score for INT0: 0.19529451986596075 \n",
      "\n",
      "Average RPS Score for INT0: 0.19514538003113496 \n",
      "\n",
      "Average RPS Score for INT0: 0.1949957323253207 \n",
      "Average RPS Score for INT0: 0.19484719060291902 \n",
      "\n",
      "Average RPS Score for INT0: 0.19470406312526745 \n",
      "\n",
      "Average RPS Score for INT0: 0.19457045699002742 \n",
      "Average RPS Score for INT0: 0.19442730728224247 \n",
      "\n",
      "Average RPS Score for INT0: 0.19429067309700862 \n",
      "\n",
      "Average RPS Score for INT0: 0.1950174571431156 \n",
      "\n",
      "Average RPS Score for INT0: 0.19486965315257426 \n",
      "Average RPS Score for INT0: 0.19472083756185257 \n",
      "\n",
      "Average RPS Score for INT0: 0.19457128674370994 \n",
      "Average RPS Score for INT0: 0.19442661816812512 \n",
      "\n",
      "Average RPS Score for INT0: 0.19427710148598523 \n",
      "\n",
      "Average RPS Score for INT0: 0.19413405253059762 \n",
      "Average RPS Score for INT0: 0.19398650482973384 \n",
      "\n",
      "Average RPS Score for INT0: 0.19383630922059553 \n",
      "\n",
      "Average RPS Score for INT0: 0.19368407991037034 \n",
      "Average RPS Score for INT0: 0.19350574110999247 \n",
      "\n",
      "Average RPS Score for INT0: 0.19329571707150853 \n",
      "\n",
      "Average RPS Score for INT0: 0.19310901600812624 \n",
      "Average RPS Score for INT0: 0.19295049116776797 \n",
      "\n",
      "Average RPS Score for INT0: 0.19276973105013315 \n",
      "\n",
      "Average RPS Score for INT0: 0.1925935758731573 \n",
      "Average RPS Score for INT0: 0.1937426808883726 \n",
      "\n",
      "Average RPS Score for INT0: 0.1936053064712549 \n",
      "\n",
      "Average RPS Score for INT0: 0.19345598773151776 \n",
      "Average RPS Score for INT0: 0.19330157315564916 \n",
      "\n",
      "Average RPS Score for INT0: 0.19314356089415585 \n",
      "\n",
      "Average RPS Score for INT0: 0.1929838228917382 \n",
      "Average RPS Score for INT0: 0.19281813066470035 \n",
      "\n",
      "Average RPS Score for INT0: 0.19263215561895694 \n",
      "\n",
      "Average RPS Score for INT0: 0.19242716837466986 \n",
      "Average RPS Score for INT0: 0.1922257041742383 \n",
      "\n",
      "Average RPS Score for INT0: 0.19201733790535855 \n",
      "\n",
      "Average RPS Score for INT0: 0.19178484632529022 \n",
      "Average RPS Score for INT0: 0.19157568002559486 \n",
      "\n",
      "Average RPS Score for INT0: 0.19141220485973232 \n",
      "\n",
      "Average RPS Score for INT0: 0.19125490790314156 \n",
      "Average RPS Score for INT0: 0.19108127796727267 \n",
      "\n",
      "Average RPS Score for INT0: 0.19278061724581266 \n",
      "\n",
      "Average RPS Score for INT0: 0.19263351246129629 \n",
      "Average RPS Score for INT0: 0.19247816669309517 \n",
      "\n",
      "Average RPS Score for INT0: 0.19229644711492508 \n",
      "\n",
      "Average RPS Score for INT0: 0.19209274464368684 \n",
      "\n",
      "Average RPS Score for INT0: 0.19188387978411942 \n",
      "Average RPS Score for INT0: 0.19168639964639106 \n",
      "\n",
      "Average RPS Score for INT0: 0.19147912960259084 \n",
      "\n",
      "Average RPS Score for INT0: 0.1912566090945513 \n",
      "Average RPS Score for INT0: 0.1910380757457253 \n",
      "\n",
      "Average RPS Score for INT0: 0.19083398669723664 \n",
      "\n",
      "Average RPS Score for INT0: 0.1906269627626995 \n",
      "\n",
      "Average RPS Score for INT0: 0.19042301989057858 \n",
      "Average RPS Score for INT0: 0.19025731615492408 \n",
      "\n",
      "Average RPS Score for INT0: 0.1901098943472796 \n",
      "\n",
      "Average RPS Score for INT0: 0.18998764513721794 \n",
      "Average RPS Score for INT0: 0.19206154919929394 \n",
      "\n",
      "Average RPS Score for INT0: 0.1919005063291829 \n",
      "\n",
      "Average RPS Score for INT0: 0.19173167289605586 \n",
      "Average RPS Score for INT0: 0.19154607256642722 \n",
      "\n",
      "Average RPS Score for INT0: 0.1913461770585489 \n",
      "\n",
      "Average RPS Score for INT0: 0.19114488016059902 \n",
      "Average RPS Score for INT0: 0.1909458344932785 \n",
      "\n",
      "Average RPS Score for INT0: 0.19074981137160732 \n",
      "\n",
      "Average RPS Score for INT0: 0.19054790783625516 \n",
      "Average RPS Score for INT0: 0.19033086950325948 \n",
      "\n",
      "Average RPS Score for INT0: 0.19011366854489353 \n",
      "\n",
      "Average RPS Score for INT0: 0.1899006640628251 \n",
      "\n",
      "Average RPS Score for INT0: 0.18971202645093949 \n",
      "Average RPS Score for INT0: 0.18959477936029884 \n",
      "\n",
      "Average RPS Score for INT0: 0.1894842476822556 \n",
      "\n",
      "Average RPS Score for INT0: 0.18935339247213565 \n",
      "Average RPS Score for INT0: 0.1916616499395641 \n",
      "\n",
      "Average RPS Score for INT0: 0.19150027950824214 \n",
      "\n",
      "Average RPS Score for INT0: 0.19133813307343567 \n",
      "\n",
      "Average RPS Score for INT0: 0.19116890342452122 \n",
      "Average RPS Score for INT0: 0.19098123701599154 \n",
      "\n",
      "Average RPS Score for INT0: 0.19078932386595515 \n",
      "\n",
      "Average RPS Score for INT0: 0.19058339708612454 \n",
      "Average RPS Score for INT0: 0.1903777888515733 \n",
      "\n",
      "Average RPS Score for INT0: 0.19019881075623918 \n",
      "\n",
      "Average RPS Score for INT0: 0.19000432768426284 \n",
      "\n",
      "Average RPS Score for INT0: 0.1898325430712762 \n",
      "Average RPS Score for INT0: 0.18966928853790435 \n",
      "\n",
      "Average RPS Score for INT0: 0.18951372337909525 \n",
      "\n",
      "Average RPS Score for INT0: 0.1893506775962307 \n",
      "Average RPS Score for INT0: 0.18914716338318224 \n",
      "\n",
      "Average RPS Score for INT0: 0.18889852495409493 \n",
      "\n",
      "Average RPS Score for INT0: 0.19161441434587304 \n",
      "\n",
      "Average RPS Score for INT0: 0.19147006916772769 \n",
      "Average RPS Score for INT0: 0.19130933239393802 \n",
      "\n",
      "Average RPS Score for INT0: 0.1911482522376682 \n",
      "\n",
      "Average RPS Score for INT0: 0.19098723560977515 \n",
      "Average RPS Score for INT0: 0.1908110544906681 \n",
      "\n",
      "Average RPS Score for INT0: 0.19062415962157458 \n",
      "\n",
      "Average RPS Score for INT0: 0.19043414820031102 \n",
      "Average RPS Score for INT0: 0.19024646963937575 \n",
      "\n",
      "Average RPS Score for INT0: 0.19006932080159272 \n",
      "\n",
      "Average RPS Score for INT0: 0.1898956775801651 \n",
      "\n",
      "Average RPS Score for INT0: 0.18968524693864808 \n",
      "Average RPS Score for INT0: 0.18947296043490536 \n",
      "\n",
      "Average RPS Score for INT0: 0.1892408892037174 \n",
      "\n",
      "Average RPS Score for INT0: 0.18899963559549543 \n",
      "Average RPS Score for INT0: 0.188713507131259 \n",
      "\n",
      "Average RPS Score for INT0: 0.19178848653165692 \n",
      "\n",
      "Average RPS Score for INT0: 0.19168847784041934 \n",
      "\n",
      "Average RPS Score for INT0: 0.19158259499080188 \n",
      "Average RPS Score for INT0: 0.19146363059553553 \n",
      "\n",
      "Average RPS Score for INT0: 0.19132758676340098 \n",
      "\n",
      "Average RPS Score for INT0: 0.19117434501488673 \n",
      "Average RPS Score for INT0: 0.1910065779916531 \n",
      "\n",
      "Average RPS Score for INT0: 0.19081958642196517 \n",
      "\n",
      "Average RPS Score for INT0: 0.19062037850108834 \n",
      "Average RPS Score for INT0: 0.1903841863075229 \n",
      "\n",
      "Average RPS Score for INT0: 0.1901425960673899 \n",
      "\n",
      "Average RPS Score for INT0: 0.18988175690540768 \n",
      "\n",
      "Average RPS Score for INT0: 0.1896454618920175 \n",
      "Average RPS Score for INT0: 0.18939368361424597 \n",
      "\n",
      "Average RPS Score for INT0: 0.18907176718758603 \n",
      "\n",
      "Average RPS Score for INT0: 0.1887303890690263 \n",
      "Average RPS Score for INT0: 0.19215019237654368 \n",
      "\n",
      "Average RPS Score for INT0: 0.19209379943807778 \n",
      "\n",
      "Average RPS Score for INT0: 0.19202754357395835 \n",
      "Average RPS Score for INT0: 0.1919395292979852 \n",
      "\n",
      "Average RPS Score for INT0: 0.19182238815023298 \n",
      "\n",
      "Average RPS Score for INT0: 0.19168739732735757 \n",
      "\n",
      "Average RPS Score for INT0: 0.19151697530814804 \n",
      "Average RPS Score for INT0: 0.19134102134539488 \n",
      "\n",
      "Average RPS Score for INT0: 0.19113341490745586 \n",
      "\n",
      "Average RPS Score for INT0: 0.19087891536752136 \n",
      "Average RPS Score for INT0: 0.1906104720176781 \n",
      "\n",
      "Average RPS Score for INT0: 0.19034089267428642 \n",
      "\n",
      "Average RPS Score for INT0: 0.19005242279790974 \n",
      "Average RPS Score for INT0: 0.18975503731900095 \n",
      "\n",
      "Average RPS Score for INT0: 0.1894282131215607 \n",
      "\n",
      "Average RPS Score for INT0: 0.1890266010799518 \n",
      "\n",
      "Average RPS Score for INT0: 0.19264617318829733 \n",
      "Average RPS Score for INT0: 0.19260248236036842 \n",
      "\n",
      "Average RPS Score for INT0: 0.19254796097127375 \n",
      "\n",
      "Average RPS Score for INT0: 0.19248057575610625 \n",
      "Average RPS Score for INT0: 0.1923981173190831 \n",
      "\n",
      "Average RPS Score for INT0: 0.1922915915461513 \n",
      "\n",
      "Average RPS Score for INT0: 0.19215038461479853 \n",
      "Average RPS Score for INT0: 0.19195664916457764 \n",
      "\n",
      "Average RPS Score for INT0: 0.1917399381793464 \n",
      "\n",
      "Average RPS Score for INT0: 0.19152389676490664 \n",
      "\n",
      "Average RPS Score for INT0: 0.1912816588155932 \n",
      "Average RPS Score for INT0: 0.19099784590186844 \n",
      "\n",
      "Average RPS Score for INT0: 0.19067183526500758 \n",
      "\n",
      "Average RPS Score for INT0: 0.1903268826443281 \n",
      "Average RPS Score for INT0: 0.18997183521513936 \n",
      "\n",
      "Average RPS Score for INT0: 0.18958415597797637 \n",
      "\n",
      "Average RPS Score for INT0: 0.19326953524775134 \n",
      "Average RPS Score for INT0: 0.19325644615435356 \n",
      "\n",
      "Average RPS Score for INT0: 0.19323313027518832 \n",
      "\n",
      "Average RPS Score for INT0: 0.19318859372103725 \n",
      "Average RPS Score for INT0: 0.19311489070663085 \n",
      "\n",
      "Average RPS Score for INT0: 0.19302165216450204 \n",
      "\n",
      "Average RPS Score for INT0: 0.1929060598698886 \n",
      "Average RPS Score for INT0: 0.1927615660915182 \n",
      "\n",
      "Average RPS Score for INT0: 0.1925759795059854 \n",
      "\n",
      "Average RPS Score for INT0: 0.1923406235367647 \n",
      "Average RPS Score for INT0: 0.19207606922206633 \n",
      "\n",
      "Average RPS Score for INT0: 0.191778688005997 \n",
      "\n",
      "Average RPS Score for INT0: 0.19145317187174113 \n",
      "Average RPS Score for INT0: 0.19106460857968147 \n",
      "\n",
      "Average RPS Score for INT0: 0.19066353890822343 \n",
      "\n",
      "Average RPS Score for INT0: 0.1903088795535387 \n",
      "Average RPS Score for INT0: 0.1939752454587038 \n",
      "\n",
      "Average RPS Score for INT0: 0.19397264047700125 \n",
      "\n",
      "Average RPS Score for INT0: 0.19395940817219864 \n",
      "\n",
      "Average RPS Score for INT0: 0.1939457421660143 \n",
      "Average RPS Score for INT0: 0.19391698325043272 \n",
      "\n",
      "Average RPS Score for INT0: 0.1938622286657456 \n",
      "\n",
      "Average RPS Score for INT0: 0.1937708063603354 \n",
      "Average RPS Score for INT0: 0.1936447973452183 \n",
      "\n",
      "Average RPS Score for INT0: 0.19348159458840655 \n",
      "\n",
      "Average RPS Score for INT0: 0.19326390370379987 \n",
      "\n",
      "Average RPS Score for INT0: 0.19298702884218813 \n",
      "Average RPS Score for INT0: 0.19266157621979071 \n",
      "\n",
      "Average RPS Score for INT0: 0.19232067528425717 \n",
      "\n",
      "Average RPS Score for INT0: 0.19193732347820705 \n",
      "Average RPS Score for INT0: 0.19151216830633142 \n",
      "\n",
      "Average RPS Score for INT0: 0.19112045225392701 \n",
      "\n",
      "Rank 1, Parameters (lambda2, gamma2): (0.1, 1.0), RPS Score: 0.188713507131259\n",
      "Rank 2, Parameters (lambda2, gamma2): (0.11, 1.0), RPS Score: 0.1887303890690263\n",
      "Rank 3, Parameters (lambda2, gamma2): (0.09, 1.0), RPS Score: 0.18889852495409493\n",
      "Rank 4, Parameters (lambda2, gamma2): (0.1, 0.9933333333333333), RPS Score: 0.18899963559549543\n",
      "Rank 5, Parameters (lambda2, gamma2): (0.12, 1.0), RPS Score: 0.1890266010799518\n"
     ]
    }
   ],
   "source": [
    "# ... [Your existing code up to defining rates]\n",
    "\n",
    "# Potential values for lambda2 and gamma2\n",
    "potential_lambda2_values = np.linspace(0.03, 0.15, num=13)  \n",
    "potential_gamma2_values = np.linspace(0.9, 1.0, num=16)  \n",
    "\n",
    "# Lists to hold the parameter 'lambda2', 'gamma2' and the corresponding RPS values\n",
    "parameter_values = []\n",
    "rps_values = []\n",
    "\n",
    "# Iterate over potential lambda2 and gamma2 values\n",
    "for lambda2 in potential_lambda2_values:\n",
    "    for gamma2 in potential_gamma2_values:\n",
    "        _, league_ratings = initialize_ratings(df_results, df_fixtures)\n",
    "        \n",
    "        # Update rates dictionary with the current lambda2 and gamma2 values\n",
    "        rates['lambda2'] = lambda2\n",
    "        rates['gamma2'] = gamma2\n",
    "\n",
    "        # ... [Your existing code to update ratings and calculate RPS]\n",
    "        league_ratings = update_league_ratings_multiple_games(df_int_results, league_ratings, team_to_league, rates)\n",
    "        int_rps = predict_outcomes_int(df_int_fixtures, ratings, league_ratings, team_to_league, rates, model)\n",
    "        # Calculate the mean RPS score for this combination\n",
    "        mean_rps = np.mean(int_rps)\n",
    "        \n",
    "        # Store the lambda2, gamma2, and corresponding RPS value\n",
    "        parameter_values.append((lambda2, gamma2))\n",
    "        rps_values.append(mean_rps)\n",
    "\n",
    "# Identify top 5 parameter combinations\n",
    "top_indices = np.argsort(rps_values)[:5]  # gets the indices of the 5 lowest RPS scores\n",
    "top_parameters = [parameter_values[i] for i in top_indices]\n",
    "top_rps_values = [rps_values[i] for i in top_indices]\n",
    "\n",
    "# Print top 5 parameter combinations\n",
    "for i in range(5):\n",
    "    print(f\"Rank {i+1}, Parameters (lambda2, gamma2): {top_parameters[i]}, RPS Score: {top_rps_values[i]}\")\n"
   ],
   "metadata": {
    "collapsed": false,
    "ExecuteTime": {
     "start_time": "2023-08-10T09:41:00.866124Z"
    }
   }
  },
  {
   "cell_type": "code",
   "execution_count": 494,
   "outputs": [
    {
     "name": "stderr",
     "output_type": "stream",
     "text": [
      "  9%|▉         | 1/11 [00:21<03:39, 21.97s/it]"
     ]
    },
    {
     "name": "stdout",
     "output_type": "stream",
     "text": [
      "Average RPS Score for T1: 0.1981841626287383 \n"
     ]
    },
    {
     "name": "stderr",
     "output_type": "stream",
     "text": [
      " 18%|█▊        | 2/11 [00:42<03:11, 21.25s/it]"
     ]
    },
    {
     "name": "stdout",
     "output_type": "stream",
     "text": [
      "Average RPS Score for T1: 0.19818390317386203 \n"
     ]
    },
    {
     "name": "stderr",
     "output_type": "stream",
     "text": [
      " 27%|██▋       | 3/11 [01:03<02:46, 20.85s/it]"
     ]
    },
    {
     "name": "stdout",
     "output_type": "stream",
     "text": [
      "Average RPS Score for T1: 0.19818371233253435 \n"
     ]
    },
    {
     "name": "stderr",
     "output_type": "stream",
     "text": [
      " 36%|███▋      | 4/11 [01:23<02:25, 20.74s/it]"
     ]
    },
    {
     "name": "stdout",
     "output_type": "stream",
     "text": [
      "Average RPS Score for T1: 0.1981837709008362 \n"
     ]
    },
    {
     "name": "stderr",
     "output_type": "stream",
     "text": [
      " 45%|████▌     | 5/11 [01:44<02:03, 20.64s/it]"
     ]
    },
    {
     "name": "stdout",
     "output_type": "stream",
     "text": [
      "Average RPS Score for T1: 0.19818333956188144 \n"
     ]
    },
    {
     "name": "stderr",
     "output_type": "stream",
     "text": [
      " 55%|█████▍    | 6/11 [02:04<01:42, 20.56s/it]"
     ]
    },
    {
     "name": "stdout",
     "output_type": "stream",
     "text": [
      "Average RPS Score for T1: 0.1981857538304726 \n"
     ]
    },
    {
     "name": "stderr",
     "output_type": "stream",
     "text": [
      " 64%|██████▎   | 7/11 [02:24<01:21, 20.48s/it]"
     ]
    },
    {
     "name": "stdout",
     "output_type": "stream",
     "text": [
      "Average RPS Score for T1: 0.19818361085260003 \n"
     ]
    },
    {
     "name": "stderr",
     "output_type": "stream",
     "text": [
      " 73%|███████▎  | 8/11 [02:45<01:01, 20.53s/it]"
     ]
    },
    {
     "name": "stdout",
     "output_type": "stream",
     "text": [
      "Average RPS Score for T1: 0.19818361949506988 \n"
     ]
    },
    {
     "name": "stderr",
     "output_type": "stream",
     "text": [
      " 82%|████████▏ | 9/11 [03:06<00:41, 20.63s/it]"
     ]
    },
    {
     "name": "stdout",
     "output_type": "stream",
     "text": [
      "Average RPS Score for T1: 0.1981837069832289 \n"
     ]
    },
    {
     "name": "stderr",
     "output_type": "stream",
     "text": [
      " 91%|█████████ | 10/11 [03:25<00:20, 20.22s/it]"
     ]
    },
    {
     "name": "stdout",
     "output_type": "stream",
     "text": [
      "Average RPS Score for T1: 0.19818356509767066 \n"
     ]
    },
    {
     "name": "stderr",
     "output_type": "stream",
     "text": [
      "100%|██████████| 11/11 [03:45<00:00, 20.46s/it]"
     ]
    },
    {
     "name": "stdout",
     "output_type": "stream",
     "text": [
      "Average RPS Score for T1: 0.19818352978621281 \n",
      "\n",
      "    int_threshold     score\n",
      "4            9000  0.198183\n",
      "10          15000  0.198184\n",
      "9           14000  0.198184\n",
      "6           11000  0.198184\n",
      "7           12000  0.198184\n",
      "Best int_threshold: 9000\n",
      "Best score: 0.19818333956188144\n"
     ]
    },
    {
     "name": "stderr",
     "output_type": "stream",
     "text": [
      "\n"
     ]
    }
   ],
   "source": [
    "def optimize_int_threshold(df_results, df_fixtures, rates):\n",
    "    # Define range for int_threshold\n",
    "    thresholds = np.arange(5000, 16000, 1000)  \n",
    "\n",
    "    # Initialize the best_score variable\n",
    "    best_score = float('inf')  \n",
    "\n",
    "    # Create an empty list to store the results\n",
    "    optimization_results = []\n",
    "\n",
    "    for threshold in tqdm.tqdm(thresholds):\n",
    "        # Update rates with the current threshold\n",
    "        rates['int_threshold'] = threshold\n",
    "\n",
    "        ratings, league_ratings = initialize_ratings(df_results, df_fixtures)\n",
    "        \n",
    "        # Train and evaluate your model with the current threshold\n",
    "        ratings, games_with_ratings, training_games = update_ratings_multiple_games(df_results, ratings, rates)\n",
    "        \n",
    "        df_train = pd.DataFrame(training_games)\n",
    "        df_train.to_csv(\"../data/train232.csv\", index=False)\n",
    "        model = train_model(df_train)\n",
    "\n",
    "        all_rps, league_tables = predict_outcomes(df_fixtures, ratings, rates, model)\n",
    "        score = np.mean(all_rps)\n",
    "\n",
    "        # If the current score is better than the best_score, update best_score\n",
    "        if score < best_score:\n",
    "            best_score = score\n",
    "            best_threshold = threshold\n",
    "\n",
    "        # Store the current score and threshold\n",
    "        optimization_results.append({\n",
    "            'int_threshold': threshold,\n",
    "            'score': score,\n",
    "        })\n",
    "\n",
    "    # Convert the results to a DataFrame and sort by score\n",
    "    df_optimization_results = pd.DataFrame(optimization_results).sort_values(by='score', ascending=True)\n",
    "\n",
    "    # Display the top 5 combinations of the threshold and their score\n",
    "    print(df_optimization_results.head())\n",
    "\n",
    "    return best_threshold, best_score\n",
    "\n",
    "# Call the function and get the best threshold and its score\n",
    "best_threshold, best_score = optimize_int_threshold(df_results, df_fixtures, rates)\n",
    "print(f\"Best int_threshold: {best_threshold}\")\n",
    "print(f\"Best score: {best_score}\")\n"
   ],
   "metadata": {
    "collapsed": false,
    "ExecuteTime": {
     "start_time": "2023-08-09T10:50:40.665386Z"
    }
   }
  },
  {
   "cell_type": "code",
   "execution_count": 499,
   "outputs": [
    {
     "name": "stderr",
     "output_type": "stream",
     "text": [
      "  4%|▎         | 1/27 [00:21<09:13, 21.28s/it]"
     ]
    },
    {
     "name": "stdout",
     "output_type": "stream",
     "text": [
      "Average RPS Score for T1: 0.19836513406115064 \n"
     ]
    },
    {
     "name": "stderr",
     "output_type": "stream",
     "text": [
      "  7%|▋         | 2/27 [00:40<08:29, 20.36s/it]"
     ]
    },
    {
     "name": "stdout",
     "output_type": "stream",
     "text": [
      "Average RPS Score for T1: 0.19812908827587092 \n"
     ]
    },
    {
     "name": "stderr",
     "output_type": "stream",
     "text": [
      " 11%|█         | 3/27 [01:00<08:02, 20.12s/it]"
     ]
    },
    {
     "name": "stdout",
     "output_type": "stream",
     "text": [
      "Average RPS Score for T1: 0.1983103076356017 \n"
     ]
    },
    {
     "name": "stderr",
     "output_type": "stream",
     "text": [
      " 15%|█▍        | 4/27 [01:20<07:41, 20.06s/it]"
     ]
    },
    {
     "name": "stdout",
     "output_type": "stream",
     "text": [
      "Average RPS Score for T1: 0.198415441566215 \n"
     ]
    },
    {
     "name": "stderr",
     "output_type": "stream",
     "text": [
      " 19%|█▊        | 5/27 [01:40<07:21, 20.08s/it]"
     ]
    },
    {
     "name": "stdout",
     "output_type": "stream",
     "text": [
      "Average RPS Score for T1: 0.19813349655527 \n"
     ]
    },
    {
     "name": "stderr",
     "output_type": "stream",
     "text": [
      " 22%|██▏       | 6/27 [02:00<06:59, 19.97s/it]"
     ]
    },
    {
     "name": "stdout",
     "output_type": "stream",
     "text": [
      "Average RPS Score for T1: 0.19833081070242348 \n"
     ]
    },
    {
     "name": "stderr",
     "output_type": "stream",
     "text": [
      " 26%|██▌       | 7/27 [02:19<06:32, 19.64s/it]"
     ]
    },
    {
     "name": "stdout",
     "output_type": "stream",
     "text": [
      "Average RPS Score for T1: 0.19847049068391565 \n"
     ]
    },
    {
     "name": "stderr",
     "output_type": "stream",
     "text": [
      " 30%|██▉       | 8/27 [02:38<06:06, 19.27s/it]"
     ]
    },
    {
     "name": "stdout",
     "output_type": "stream",
     "text": [
      "Average RPS Score for T1: 0.19814324706828154 \n"
     ]
    },
    {
     "name": "stderr",
     "output_type": "stream",
     "text": [
      " 33%|███▎      | 9/27 [02:56<05:44, 19.14s/it]"
     ]
    },
    {
     "name": "stdout",
     "output_type": "stream",
     "text": [
      "Average RPS Score for T1: 0.1983530128831669 \n"
     ]
    },
    {
     "name": "stderr",
     "output_type": "stream",
     "text": [
      " 37%|███▋      | 10/27 [03:16<05:25, 19.15s/it]"
     ]
    },
    {
     "name": "stdout",
     "output_type": "stream",
     "text": [
      "Average RPS Score for T1: 0.198365338524534 \n"
     ]
    },
    {
     "name": "stderr",
     "output_type": "stream",
     "text": [
      " 41%|████      | 11/27 [03:38<05:23, 20.21s/it]"
     ]
    },
    {
     "name": "stdout",
     "output_type": "stream",
     "text": [
      "Average RPS Score for T1: 0.19812869116464127 \n"
     ]
    },
    {
     "name": "stderr",
     "output_type": "stream",
     "text": [
      " 44%|████▍     | 12/27 [03:57<04:58, 19.88s/it]"
     ]
    },
    {
     "name": "stdout",
     "output_type": "stream",
     "text": [
      "Average RPS Score for T1: 0.1983107441127918 \n"
     ]
    },
    {
     "name": "stderr",
     "output_type": "stream",
     "text": [
      " 48%|████▊     | 13/27 [04:16<04:34, 19.61s/it]"
     ]
    },
    {
     "name": "stdout",
     "output_type": "stream",
     "text": [
      "Average RPS Score for T1: 0.19841487582668266 \n"
     ]
    },
    {
     "name": "stderr",
     "output_type": "stream",
     "text": [
      " 52%|█████▏    | 14/27 [04:35<04:12, 19.44s/it]"
     ]
    },
    {
     "name": "stdout",
     "output_type": "stream",
     "text": [
      "Average RPS Score for T1: 0.19813377443590072 \n"
     ]
    },
    {
     "name": "stderr",
     "output_type": "stream",
     "text": [
      " 56%|█████▌    | 15/27 [04:54<03:51, 19.28s/it]"
     ]
    },
    {
     "name": "stdout",
     "output_type": "stream",
     "text": [
      "Average RPS Score for T1: 0.19833094827508685 \n"
     ]
    },
    {
     "name": "stderr",
     "output_type": "stream",
     "text": [
      " 59%|█████▉    | 16/27 [05:13<03:30, 19.17s/it]"
     ]
    },
    {
     "name": "stdout",
     "output_type": "stream",
     "text": [
      "Average RPS Score for T1: 0.19847041023551604 \n"
     ]
    },
    {
     "name": "stderr",
     "output_type": "stream",
     "text": [
      " 63%|██████▎   | 17/27 [05:32<03:09, 18.98s/it]"
     ]
    },
    {
     "name": "stdout",
     "output_type": "stream",
     "text": [
      "Average RPS Score for T1: 0.19814414703678687 \n"
     ]
    },
    {
     "name": "stderr",
     "output_type": "stream",
     "text": [
      " 67%|██████▋   | 18/27 [05:50<02:49, 18.87s/it]"
     ]
    },
    {
     "name": "stdout",
     "output_type": "stream",
     "text": [
      "Average RPS Score for T1: 0.19835272897437667 \n"
     ]
    },
    {
     "name": "stderr",
     "output_type": "stream",
     "text": [
      " 70%|███████   | 19/27 [06:09<02:31, 18.88s/it]"
     ]
    },
    {
     "name": "stdout",
     "output_type": "stream",
     "text": [
      "Average RPS Score for T1: 0.19836539814606707 \n"
     ]
    },
    {
     "name": "stderr",
     "output_type": "stream",
     "text": [
      " 74%|███████▍  | 20/27 [06:28<02:11, 18.85s/it]"
     ]
    },
    {
     "name": "stdout",
     "output_type": "stream",
     "text": [
      "Average RPS Score for T1: 0.19812933664781304 \n"
     ]
    },
    {
     "name": "stderr",
     "output_type": "stream",
     "text": [
      " 78%|███████▊  | 21/27 [06:47<01:52, 18.77s/it]"
     ]
    },
    {
     "name": "stdout",
     "output_type": "stream",
     "text": [
      "Average RPS Score for T1: 0.1983102577255383 \n"
     ]
    },
    {
     "name": "stderr",
     "output_type": "stream",
     "text": [
      " 81%|████████▏ | 22/27 [07:06<01:34, 18.83s/it]"
     ]
    },
    {
     "name": "stdout",
     "output_type": "stream",
     "text": [
      "Average RPS Score for T1: 0.19841466019628656 \n"
     ]
    },
    {
     "name": "stderr",
     "output_type": "stream",
     "text": [
      " 85%|████████▌ | 23/27 [07:24<01:15, 18.79s/it]"
     ]
    },
    {
     "name": "stdout",
     "output_type": "stream",
     "text": [
      "Average RPS Score for T1: 0.19813399739485751 \n"
     ]
    },
    {
     "name": "stderr",
     "output_type": "stream",
     "text": [
      " 89%|████████▉ | 24/27 [07:43<00:56, 18.75s/it]"
     ]
    },
    {
     "name": "stdout",
     "output_type": "stream",
     "text": [
      "Average RPS Score for T1: 0.19833125668517465 \n"
     ]
    },
    {
     "name": "stderr",
     "output_type": "stream",
     "text": [
      " 93%|█████████▎| 25/27 [08:02<00:37, 18.79s/it]"
     ]
    },
    {
     "name": "stdout",
     "output_type": "stream",
     "text": [
      "Average RPS Score for T1: 0.19847029405707484 \n"
     ]
    },
    {
     "name": "stderr",
     "output_type": "stream",
     "text": [
      " 96%|█████████▋| 26/27 [08:21<00:18, 18.83s/it]"
     ]
    },
    {
     "name": "stdout",
     "output_type": "stream",
     "text": [
      "Average RPS Score for T1: 0.19814176774630085 \n"
     ]
    },
    {
     "name": "stderr",
     "output_type": "stream",
     "text": [
      "100%|██████████| 27/27 [08:39<00:00, 19.26s/it]"
     ]
    },
    {
     "name": "stdout",
     "output_type": "stream",
     "text": [
      "Average RPS Score for T1: 0.19835290342346232 \n",
      "\n",
      "Best score: 0.19812869116464127\n",
      "Best params: {'delta': 12.0, 'mu': 0.08, 'phi': 2.0}\n",
      "Top 5 parameter combinations:\n",
      "      mu  phi  delta     score\n",
      "10  0.08  2.0   12.0  0.198129\n",
      "1   0.08  2.0   11.0  0.198129\n",
      "19  0.08  2.0   13.0  0.198129\n",
      "4   0.09  2.0   11.0  0.198133\n",
      "13  0.09  2.0   12.0  0.198134\n"
     ]
    },
    {
     "name": "stderr",
     "output_type": "stream",
     "text": [
      "\n"
     ]
    }
   ],
   "source": [
    "\n",
    "# 1. Define the parameter grid\n",
    "param_grid = {\n",
    "    'mu': np.linspace(0.08, 0.1, 3),  # This gives 31 steps, starting from 0 to 0.03 inclusive\n",
    "    'phi': np.linspace(1, 3, 3),  # This gives 41 steps, starting from 0 to 4 inclusive\n",
    "    'delta': np.linspace(11, 13, 3)  # This gives 21 steps, starting from 1 to 3 inclusive\n",
    "}\n",
    "\n",
    "# Initialize the best_score variable and best_params dictionary\n",
    "best_score = float('inf')\n",
    "best_params = {}\n",
    "\n",
    "# Create an empty list to store the results\n",
    "gs_results = []\n",
    "\n",
    "# 2. Iterate over the parameter combinations\n",
    "for params in tqdm.tqdm(ParameterGrid(param_grid)):\n",
    "    # Extract rates from params and merge with the existing rates dictionary\n",
    "    current_rates = rates.copy()\n",
    "    current_rates.update(params)\n",
    "    \n",
    "    \n",
    "    # Train and predict with current_rates (and current_model if necessary)\n",
    "    ratings, league_ratings = initialize_ratings(df_results, df_fixtures)\n",
    "\n",
    "    # 3. Re-train model with the new parameters\n",
    "    ratings, games_with_ratings, training_games = update_ratings_multiple_games(df_results, ratings, current_rates)\n",
    "\n",
    "    df_train = pd.DataFrame(training_games)\n",
    "    #df_train.to_csv(\"../data/train232.csv\", index=False)\n",
    "    current_model = train_model(df_train)\n",
    "    # If your training method updates the model based on rates, you should train it here\n",
    "    \n",
    "    all_rps, league_tables = predict_outcomes(df_fixtures, ratings, current_rates, current_model)\n",
    "    score = np.mean(all_rps)\n",
    "\n",
    "    # 4. If the current score is better than the best_score, update best_score and best_params\n",
    "    if score < best_score:\n",
    "        best_score = score\n",
    "        best_params = params\n",
    "\n",
    "    # Store the current score and parameters\n",
    "    gs_results.append({\n",
    "        'mu': params['mu'],\n",
    "        'phi': params['phi'],\n",
    "        'delta': params['delta'],\n",
    "        'score': score,\n",
    "    })\n",
    "\n",
    "# 5. Identify the best parameters based on the score\n",
    "print(f'Best score: {best_score}')\n",
    "print(f'Best params: {best_params}')\n",
    "\n",
    "# Convert the gs_results to a DataFrame\n",
    "df_gs_results = pd.DataFrame(gs_results)\n",
    "\n",
    "# Sort the results by score and get the top 5\n",
    "top_5_results = df_gs_results.sort_values(by='score', ascending=True).head(5)\n",
    "\n",
    "print(\"Top 5 parameter combinations:\")\n",
    "print(top_5_results)\n"
   ],
   "metadata": {
    "collapsed": false,
    "ExecuteTime": {
     "end_time": "2023-08-09T11:06:02.430558Z",
     "start_time": "2023-08-09T10:57:22.497995Z"
    }
   }
  },
  {
   "cell_type": "code",
   "execution_count": 75,
   "outputs": [
    {
     "name": "stdout",
     "output_type": "stream",
     "text": [
      "Average RPS Score for INT0: 0.19758850796624486 \n",
      "\n",
      "Average RPS Score for INT0: 0.1969016596199734 \n",
      "\n",
      "Average RPS Score for INT0: 0.19626017179161254 \n",
      "\n",
      "Average RPS Score for INT0: 0.19566248532131983 \n",
      "\n",
      "Average RPS Score for INT0: 0.195111599044371 \n",
      "\n",
      "Average RPS Score for INT0: 0.19462727713140845 \n",
      "\n",
      "Average RPS Score for INT0: 0.1941835931610211 \n",
      "\n",
      "Average RPS Score for INT0: 0.19380449337529895 \n",
      "\n",
      "Average RPS Score for INT0: 0.19347572972798424 \n",
      "\n",
      "Average RPS Score for INT0: 0.19319770306262976 \n",
      "\n",
      "Average RPS Score for INT0: 0.19295941422150514 \n",
      "\n",
      "Average RPS Score for INT0: 0.19271450578580332 \n",
      "\n",
      "Average RPS Score for INT0: 0.1925012298528547 \n",
      "\n",
      "Average RPS Score for INT0: 0.1922959295572814 \n",
      "\n",
      "Average RPS Score for INT0: 0.1921401691217396 \n",
      "\n",
      "Average RPS Score for INT0: 0.1920275889640429 \n",
      "\n",
      "Average RPS Score for INT0: 0.19195257395608073 \n",
      "Average RPS Score for INT0: 0.19191569153230587 \n",
      "\n",
      "Average RPS Score for INT0: 0.19191467560886744 \n",
      "\n",
      "Average RPS Score for INT0: 0.19194345861567547 \n",
      "\n",
      "Average RPS Score for INT0: 0.19201031960145593 \n",
      "\n",
      "Average RPS Score for INT0: 0.1971053131037012 \n",
      "\n",
      "Average RPS Score for INT0: 0.19641644657706425 \n",
      "\n",
      "Average RPS Score for INT0: 0.19576953898423383 \n",
      "\n",
      "Average RPS Score for INT0: 0.19518834247107428 \n",
      "\n",
      "Average RPS Score for INT0: 0.19465848180816986 \n",
      "\n",
      "Average RPS Score for INT0: 0.19418564228289656 \n",
      "\n",
      "Average RPS Score for INT0: 0.1937644849224979 \n",
      "\n",
      "Average RPS Score for INT0: 0.19339033352741392 \n",
      "Average RPS Score for INT0: 0.1930710428384332 \n",
      "\n",
      "Average RPS Score for INT0: 0.19277457345626414 \n",
      "\n",
      "Average RPS Score for INT0: 0.19248918623710856 \n",
      "\n",
      "Average RPS Score for INT0: 0.19225078998592732 \n",
      "\n",
      "Average RPS Score for INT0: 0.19206005001796134 \n",
      "\n",
      "Average RPS Score for INT0: 0.1918848916947075 \n",
      "\n",
      "Average RPS Score for INT0: 0.1917400507568723 \n",
      "\n",
      "Average RPS Score for INT0: 0.1916388895654077 \n",
      "\n",
      "Average RPS Score for INT0: 0.19157716325856666 \n",
      "\n",
      "Average RPS Score for INT0: 0.19155512725641544 \n",
      "\n",
      "Average RPS Score for INT0: 0.1915720838351033 \n",
      "Average RPS Score for INT0: 0.1916120713478412 \n",
      "\n",
      "Average RPS Score for INT0: 0.1916600188237745 \n",
      "\n",
      "Average RPS Score for INT0: 0.1966171735626631 \n",
      "\n",
      "Average RPS Score for INT0: 0.1959561973602139 \n",
      "\n",
      "Average RPS Score for INT0: 0.19533345853527467 \n",
      "\n",
      "Average RPS Score for INT0: 0.1947713519900915 \n",
      "\n",
      "Average RPS Score for INT0: 0.19425415050390238 \n",
      "\n",
      "Average RPS Score for INT0: 0.19377377363894777 \n",
      "\n",
      "Average RPS Score for INT0: 0.1933654207284446 \n",
      "\n",
      "Average RPS Score for INT0: 0.19298411645236654 \n",
      "\n",
      "Average RPS Score for INT0: 0.1926270825477535 \n",
      "Average RPS Score for INT0: 0.19231194773103094 \n",
      "\n",
      "Average RPS Score for INT0: 0.19204357215734558 \n",
      "\n",
      "Average RPS Score for INT0: 0.19182393462714595 \n",
      "\n",
      "Average RPS Score for INT0: 0.19164809380290612 \n",
      "\n",
      "Average RPS Score for INT0: 0.19148859728832046 \n",
      "\n",
      "Average RPS Score for INT0: 0.19136727537810105 \n",
      "\n",
      "Average RPS Score for INT0: 0.19127852535817175 \n",
      "\n",
      "Average RPS Score for INT0: 0.1912258182531401 \n",
      "\n",
      "Average RPS Score for INT0: 0.19121082274829382 \n",
      "\n",
      "Average RPS Score for INT0: 0.19123195207799545 \n",
      "\n",
      "Average RPS Score for INT0: 0.19128222413708115 \n",
      "\n",
      "Average RPS Score for INT0: 0.19133606574032536 \n",
      "Average RPS Score for INT0: 0.1961732475881516 \n",
      "\n",
      "Average RPS Score for INT0: 0.19551475767750412 \n",
      "\n",
      "Average RPS Score for INT0: 0.19490498187505179 \n",
      "\n",
      "Average RPS Score for INT0: 0.19434160086107563 \n",
      "\n",
      "Average RPS Score for INT0: 0.19384834931826017 \n",
      "\n",
      "Average RPS Score for INT0: 0.19339281540834022 \n",
      "\n",
      "Average RPS Score for INT0: 0.1929800712500861 \n",
      "\n",
      "Average RPS Score for INT0: 0.19256413106355974 \n",
      "\n",
      "Average RPS Score for INT0: 0.19218712098964913 \n",
      "\n",
      "Average RPS Score for INT0: 0.1918802549945637 \n",
      "\n",
      "Average RPS Score for INT0: 0.1916267679476457 \n",
      "\n",
      "Average RPS Score for INT0: 0.1914279801956602 \n",
      "\n",
      "Average RPS Score for INT0: 0.1912642460297377 \n",
      "\n",
      "Average RPS Score for INT0: 0.1911165937177708 \n",
      "\n",
      "Average RPS Score for INT0: 0.19099904398576872 \n",
      "\n",
      "Average RPS Score for INT0: 0.1909208512537809 \n",
      "\n",
      "Average RPS Score for INT0: 0.19087505631238033 \n",
      "\n",
      "Average RPS Score for INT0: 0.19087371934836417 \n",
      "Average RPS Score for INT0: 0.19090717002087276 \n",
      "\n",
      "Average RPS Score for INT0: 0.19096343086902726 \n",
      "\n",
      "Average RPS Score for INT0: 0.19103216433070092 \n",
      "\n",
      "Average RPS Score for INT0: 0.19573184973608285 \n",
      "\n",
      "Average RPS Score for INT0: 0.19507262286766447 \n",
      "\n",
      "Average RPS Score for INT0: 0.19447817741363702 \n",
      "\n",
      "Average RPS Score for INT0: 0.19395596865067485 \n",
      "\n",
      "Average RPS Score for INT0: 0.19346884649707052 \n",
      "\n",
      "Average RPS Score for INT0: 0.1930001454694588 \n",
      "Average RPS Score for INT0: 0.19256742029451682 \n",
      "\n",
      "Average RPS Score for INT0: 0.19216690816216542 \n",
      "\n",
      "Average RPS Score for INT0: 0.19180213469630963 \n",
      "\n",
      "Average RPS Score for INT0: 0.19148530092019175 \n",
      "\n",
      "Average RPS Score for INT0: 0.19123858861412538 \n",
      "\n",
      "Average RPS Score for INT0: 0.19104262250188156 \n",
      "\n",
      "Average RPS Score for INT0: 0.1908842592184179 \n",
      "\n",
      "Average RPS Score for INT0: 0.19074836499060893 \n",
      "\n",
      "Average RPS Score for INT0: 0.1906430080826731 \n",
      "\n",
      "Average RPS Score for INT0: 0.1905766430756911 \n",
      "\n",
      "Average RPS Score for INT0: 0.19054377498464783 \n",
      "\n",
      "Average RPS Score for INT0: 0.19055269244118248 \n",
      "Average RPS Score for INT0: 0.1905851806378992 \n",
      "\n",
      "Average RPS Score for INT0: 0.19064292946872238 \n",
      "\n",
      "Average RPS Score for INT0: 0.1907191824039146 \n",
      "\n",
      "Average RPS Score for INT0: 0.19533391717367107 \n",
      "\n",
      "Average RPS Score for INT0: 0.1946773562897931 \n",
      "\n",
      "Average RPS Score for INT0: 0.19407855348304548 \n",
      "\n",
      "Average RPS Score for INT0: 0.19356152390212908 \n",
      "\n",
      "Average RPS Score for INT0: 0.19307323197591442 \n",
      "\n",
      "Average RPS Score for INT0: 0.19260404157479918 \n",
      "\n",
      "Average RPS Score for INT0: 0.1921721055800984 \n",
      "\n",
      "Average RPS Score for INT0: 0.19178280901423805 \n",
      "\n",
      "Average RPS Score for INT0: 0.1914320390864512 \n",
      "\n",
      "Average RPS Score for INT0: 0.19112232877444396 \n",
      "\n",
      "Average RPS Score for INT0: 0.19087136147533681 \n",
      "\n",
      "Average RPS Score for INT0: 0.19067226809847856 \n",
      "\n",
      "Average RPS Score for INT0: 0.19052712525071178 \n",
      "\n",
      "Average RPS Score for INT0: 0.19040645177781065 \n",
      "\n",
      "Average RPS Score for INT0: 0.19030706344499324 \n",
      "Average RPS Score for INT0: 0.19024424551659672 \n",
      "\n",
      "Average RPS Score for INT0: 0.19020830069883182 \n",
      "\n",
      "Average RPS Score for INT0: 0.1902203413722839 \n",
      "\n",
      "Average RPS Score for INT0: 0.19026716802086752 \n",
      "\n",
      "Average RPS Score for INT0: 0.19034731384239387 \n",
      "\n",
      "Average RPS Score for INT0: 0.19044356859117617 \n",
      "\n",
      "Average RPS Score for INT0: 0.19493772255357136 \n",
      "Average RPS Score for INT0: 0.19429884919347873 \n",
      "\n",
      "Average RPS Score for INT0: 0.19370184635888604 \n",
      "\n",
      "Average RPS Score for INT0: 0.19315177881642376 \n",
      "\n",
      "Average RPS Score for INT0: 0.19266435646021057 \n",
      "\n",
      "Average RPS Score for INT0: 0.19221157147374315 \n",
      "\n",
      "Average RPS Score for INT0: 0.1917850389263578 \n",
      "\n",
      "Average RPS Score for INT0: 0.19140762061011854 \n",
      "\n",
      "Average RPS Score for INT0: 0.19107892634630055 \n",
      "\n",
      "Average RPS Score for INT0: 0.1907923010685587 \n",
      "\n",
      "Average RPS Score for INT0: 0.19054839801954052 \n",
      "\n",
      "Average RPS Score for INT0: 0.19033537257933017 \n",
      "Average RPS Score for INT0: 0.1901799470082408 \n",
      "\n",
      "Average RPS Score for INT0: 0.1900670657052767 \n",
      "\n",
      "Average RPS Score for INT0: 0.1899766792757772 \n",
      "\n",
      "Average RPS Score for INT0: 0.18991740187717038 \n",
      "\n",
      "Average RPS Score for INT0: 0.1898977655834326 \n",
      "\n",
      "Average RPS Score for INT0: 0.1899311447428767 \n",
      "\n",
      "Average RPS Score for INT0: 0.18999912981299133 \n",
      "\n",
      "Average RPS Score for INT0: 0.1900911289544326 \n",
      "\n",
      "Average RPS Score for INT0: 0.19020828012510865 \n",
      "\n",
      "Average RPS Score for INT0: 0.19453682605142536 \n",
      "\n",
      "Average RPS Score for INT0: 0.19388444783440092 \n",
      "\n",
      "Average RPS Score for INT0: 0.19328898812941928 \n",
      "Average RPS Score for INT0: 0.19275564642241835 \n",
      "\n",
      "Average RPS Score for INT0: 0.19227348909053305 \n",
      "\n",
      "Average RPS Score for INT0: 0.19182597514961539 \n",
      "\n",
      "Average RPS Score for INT0: 0.19142622917087207 \n",
      "\n",
      "Average RPS Score for INT0: 0.19105500257696353 \n",
      "\n",
      "Average RPS Score for INT0: 0.19073953658258785 \n",
      "\n",
      "Average RPS Score for INT0: 0.19047268085392643 \n",
      "\n",
      "Average RPS Score for INT0: 0.1902304208571625 \n",
      "\n",
      "Average RPS Score for INT0: 0.19003032218049012 \n",
      "\n",
      "Average RPS Score for INT0: 0.1898741974320207 \n",
      "\n",
      "Average RPS Score for INT0: 0.1897579522719591 \n",
      "\n",
      "Average RPS Score for INT0: 0.1896828737860334 \n",
      "\n",
      "Average RPS Score for INT0: 0.18964444158987567 \n",
      "\n",
      "Average RPS Score for INT0: 0.18963473506492243 \n",
      "\n",
      "Average RPS Score for INT0: 0.18968080570846985 \n",
      "\n",
      "Average RPS Score for INT0: 0.18976117095096767 \n",
      "\n",
      "Average RPS Score for INT0: 0.18986168201903553 \n",
      "\n",
      "Average RPS Score for INT0: 0.18998427175014157 \n",
      "\n",
      "Average RPS Score for INT0: 0.19411196929497576 \n",
      "Average RPS Score for INT0: 0.1934648537384273 \n",
      "\n",
      "Average RPS Score for INT0: 0.19288433028206797 \n",
      "\n",
      "Average RPS Score for INT0: 0.19237217263127235 \n",
      "\n",
      "Average RPS Score for INT0: 0.19190997383237896 \n",
      "\n",
      "Average RPS Score for INT0: 0.19146063964647747 \n",
      "\n",
      "Average RPS Score for INT0: 0.19106382628615376 \n",
      "\n",
      "Average RPS Score for INT0: 0.19071673949373238 \n",
      "\n",
      "Average RPS Score for INT0: 0.19041825410256807 \n",
      "\n",
      "Average RPS Score for INT0: 0.19017455242263298 \n",
      "\n",
      "Average RPS Score for INT0: 0.18995445795322033 \n",
      "Average RPS Score for INT0: 0.18977270641141805 \n",
      "\n",
      "Average RPS Score for INT0: 0.18962701424253928 \n",
      "\n",
      "Average RPS Score for INT0: 0.18951271384654692 \n",
      "\n",
      "Average RPS Score for INT0: 0.18942901151236244 \n",
      "\n",
      "Average RPS Score for INT0: 0.18939891969822503 \n",
      "\n",
      "Average RPS Score for INT0: 0.1893993885115008 \n",
      "\n",
      "Average RPS Score for INT0: 0.1894564173317539 \n",
      "\n",
      "Average RPS Score for INT0: 0.18954867130048525 \n",
      "\n",
      "Average RPS Score for INT0: 0.18965897983362157 \n",
      "\n",
      "Average RPS Score for INT0: 0.18978895757330258 \n",
      "\n",
      "Average RPS Score for INT0: 0.1936863971228629 \n",
      "\n",
      "Average RPS Score for INT0: 0.1930644299508211 \n",
      "\n",
      "Average RPS Score for INT0: 0.1924929102111697 \n",
      "\n",
      "Average RPS Score for INT0: 0.1919803235409478 \n",
      "Average RPS Score for INT0: 0.19153285704459588 \n",
      "\n",
      "Average RPS Score for INT0: 0.19112180470001064 \n",
      "\n",
      "Average RPS Score for INT0: 0.19074992850988354 \n",
      "\n",
      "Average RPS Score for INT0: 0.19042632703520893 \n",
      "\n",
      "Average RPS Score for INT0: 0.1901514508677747 \n",
      "\n",
      "Average RPS Score for INT0: 0.18992089632537856 \n",
      "\n",
      "Average RPS Score for INT0: 0.1897152534835557 \n",
      "\n",
      "Average RPS Score for INT0: 0.18954016240917884 \n",
      "\n",
      "Average RPS Score for INT0: 0.18940677393745567 \n",
      "\n",
      "Average RPS Score for INT0: 0.18930450600528453 \n",
      "Average RPS Score for INT0: 0.18922343668882058 \n",
      "\n",
      "Average RPS Score for INT0: 0.1891870008046698 \n",
      "\n",
      "Average RPS Score for INT0: 0.18918988575670517 \n",
      "\n",
      "Average RPS Score for INT0: 0.18925774081176774 \n",
      "\n",
      "Average RPS Score for INT0: 0.18936102642495786 \n",
      "\n",
      "Average RPS Score for INT0: 0.18948062547796193 \n",
      "\n",
      "Average RPS Score for INT0: 0.18962021140425186 \n",
      "\n",
      "Average RPS Score for INT0: 0.19322938856367292 \n",
      "\n",
      "Average RPS Score for INT0: 0.19263236645953094 \n",
      "\n",
      "Average RPS Score for INT0: 0.192092350376203 \n",
      "\n",
      "Average RPS Score for INT0: 0.19159954631302906 \n",
      "\n",
      "Average RPS Score for INT0: 0.1911668892085387 \n",
      "\n",
      "Average RPS Score for INT0: 0.19078435345706338 \n",
      "\n",
      "Average RPS Score for INT0: 0.19045730344961262 \n",
      "Average RPS Score for INT0: 0.19016443699738472 \n",
      "\n",
      "Average RPS Score for INT0: 0.1898933601859249 \n",
      "\n",
      "Average RPS Score for INT0: 0.18966066254341707 \n",
      "\n",
      "Average RPS Score for INT0: 0.18947472253637743 \n",
      "\n",
      "Average RPS Score for INT0: 0.18931687196182628 \n",
      "\n",
      "Average RPS Score for INT0: 0.1891971517937232 \n",
      "\n",
      "Average RPS Score for INT0: 0.18910867029852738 \n",
      "Average RPS Score for INT0: 0.18904144009413457 \n",
      "\n",
      "Average RPS Score for INT0: 0.1890068451919384 \n",
      "\n",
      "Average RPS Score for INT0: 0.18900811430306702 \n",
      "\n",
      "Average RPS Score for INT0: 0.18907676123883257 \n",
      "\n",
      "Average RPS Score for INT0: 0.18919013799499704 \n",
      "\n",
      "Average RPS Score for INT0: 0.1893216014477169 \n",
      "\n",
      "Average RPS Score for INT0: 0.18947205369784642 \n",
      "\n",
      "Average RPS Score for INT0: 0.19286476946637635 \n",
      "\n",
      "Average RPS Score for INT0: 0.1922574223597021 \n",
      "\n",
      "Average RPS Score for INT0: 0.19174536381362772 \n",
      "Average RPS Score for INT0: 0.1912729142378642 \n",
      "\n",
      "Average RPS Score for INT0: 0.1908435174204822 \n",
      "\n",
      "Average RPS Score for INT0: 0.19047739369111297 \n",
      "\n",
      "Average RPS Score for INT0: 0.19017421450850308 \n",
      "\n",
      "Average RPS Score for INT0: 0.1899020384044304 \n",
      "\n",
      "Average RPS Score for INT0: 0.18964894212134795 \n",
      "\n",
      "Average RPS Score for INT0: 0.18941845773520677 \n",
      "\n",
      "Average RPS Score for INT0: 0.18924091922974826 \n",
      "\n",
      "Average RPS Score for INT0: 0.18910257437859618 \n",
      "\n",
      "Average RPS Score for INT0: 0.18899180427602366 \n",
      "Average RPS Score for INT0: 0.18891422625447266 \n",
      "\n",
      "Average RPS Score for INT0: 0.18885785571780497 \n",
      "\n",
      "Average RPS Score for INT0: 0.1888301001445713 \n",
      "\n",
      "Average RPS Score for INT0: 0.18883056290440348 \n",
      "\n",
      "Average RPS Score for INT0: 0.18889787416206588 \n",
      "\n",
      "Average RPS Score for INT0: 0.18900486518969975 \n",
      "\n",
      "Average RPS Score for INT0: 0.18914225498808518 \n",
      "\n",
      "Average RPS Score for INT0: 0.18929367931068394 \n",
      "\n",
      "Average RPS Score for INT0: 0.19256016065453146 \n",
      "\n",
      "Average RPS Score for INT0: 0.19195267357328258 \n",
      "Average RPS Score for INT0: 0.19142737540796426 \n",
      "\n",
      "Average RPS Score for INT0: 0.19097315988364078 \n",
      "\n",
      "Average RPS Score for INT0: 0.19057087306726622 \n",
      "\n",
      "Average RPS Score for INT0: 0.19021499514960838 \n",
      "\n",
      "Average RPS Score for INT0: 0.1899196791136193 \n",
      "\n",
      "Average RPS Score for INT0: 0.1896644191487774 \n",
      "\n",
      "Average RPS Score for INT0: 0.1894308486245021 \n",
      "\n",
      "Average RPS Score for INT0: 0.18923083758308742 \n",
      "Average RPS Score for INT0: 0.18906239738993583 \n",
      "\n",
      "Average RPS Score for INT0: 0.18893427255538853 \n",
      "\n",
      "Average RPS Score for INT0: 0.18883666831970475 \n",
      "\n",
      "Average RPS Score for INT0: 0.188769459304731 \n",
      "\n",
      "Average RPS Score for INT0: 0.18872542182050572 \n",
      "\n",
      "Average RPS Score for INT0: 0.18870606000432477 \n",
      "\n",
      "Average RPS Score for INT0: 0.18871583491944396 \n",
      "\n",
      "Average RPS Score for INT0: 0.18878235895752052 \n",
      "\n",
      "Average RPS Score for INT0: 0.1888899390668593 \n",
      "\n",
      "Average RPS Score for INT0: 0.1890192408842531 \n",
      "\n",
      "Average RPS Score for INT0: 0.18917433584598048 \n",
      "\n",
      "Average RPS Score for INT0: 0.19228680485593008 \n",
      "\n",
      "Average RPS Score for INT0: 0.19169178989672878 \n",
      "Average RPS Score for INT0: 0.1911582909681129 \n",
      "\n",
      "Average RPS Score for INT0: 0.19069541534231765 \n",
      "\n",
      "Average RPS Score for INT0: 0.19030646096875575 \n",
      "\n",
      "Average RPS Score for INT0: 0.189975011918115 \n",
      "\n",
      "Average RPS Score for INT0: 0.18969269513679182 \n",
      "\n",
      "Average RPS Score for INT0: 0.18945114136592553 \n",
      "\n",
      "Average RPS Score for INT0: 0.18923158532281184 \n",
      "\n",
      "Average RPS Score for INT0: 0.1890452689591594 \n",
      "\n",
      "Average RPS Score for INT0: 0.18890362820688675 \n",
      "\n",
      "Average RPS Score for INT0: 0.18879620763586538 \n",
      "\n",
      "Average RPS Score for INT0: 0.18871350713125903 \n",
      "\n",
      "Average RPS Score for INT0: 0.18864898792791657 \n",
      "\n",
      "Average RPS Score for INT0: 0.18861653664291927 \n",
      "Average RPS Score for INT0: 0.18860565758129583 \n",
      "\n",
      "Average RPS Score for INT0: 0.18862773029429938 \n",
      "\n",
      "Average RPS Score for INT0: 0.18870706228566428 \n",
      "\n",
      "Average RPS Score for INT0: 0.18881397845459824 \n",
      "\n",
      "Average RPS Score for INT0: 0.18894612670302996 \n",
      "\n",
      "Average RPS Score for INT0: 0.1890954734746498 \n",
      "\n",
      "Average RPS Score for INT0: 0.1920738010854338 \n",
      "\n",
      "Average RPS Score for INT0: 0.19148176926070082 \n",
      "\n",
      "Average RPS Score for INT0: 0.19095381087637653 \n",
      "Average RPS Score for INT0: 0.1904814612342295 \n",
      "\n",
      "Average RPS Score for INT0: 0.19008998737908547 \n",
      "\n",
      "Average RPS Score for INT0: 0.18978081776123315 \n",
      "\n",
      "Average RPS Score for INT0: 0.18951506522603104 \n",
      "\n",
      "Average RPS Score for INT0: 0.1892840476314914 \n",
      "\n",
      "Average RPS Score for INT0: 0.18907931294647726 \n",
      "\n",
      "Average RPS Score for INT0: 0.1889031840982389 \n",
      "\n",
      "Average RPS Score for INT0: 0.18876865663126316 \n",
      "\n",
      "Average RPS Score for INT0: 0.1886838725146639 \n",
      "Average RPS Score for INT0: 0.18863057572530767 \n",
      "\n",
      "Average RPS Score for INT0: 0.18858522704205719 \n",
      "\n",
      "Average RPS Score for INT0: 0.18855465654613157 \n",
      "\n",
      "Average RPS Score for INT0: 0.18855588150962233 \n",
      "\n",
      "Average RPS Score for INT0: 0.18858916076743287 \n",
      "\n",
      "Average RPS Score for INT0: 0.18867305082508382 \n",
      "\n",
      "Average RPS Score for INT0: 0.18878156919897765 \n",
      "\n",
      "Average RPS Score for INT0: 0.18890621245454467 \n",
      "\n",
      "Average RPS Score for INT0: 0.1890527894071342 \n",
      "\n",
      "Average RPS Score for INT0: 0.19188919385961428 \n",
      "Average RPS Score for INT0: 0.19130115292240882 \n",
      "\n",
      "Average RPS Score for INT0: 0.1907854694931758 \n",
      "\n",
      "Average RPS Score for INT0: 0.19031670960967323 \n",
      "\n",
      "Average RPS Score for INT0: 0.18993358487560383 \n",
      "\n",
      "Average RPS Score for INT0: 0.18961989206194968 \n",
      "\n",
      "Average RPS Score for INT0: 0.1893651321502829 \n",
      "\n",
      "Average RPS Score for INT0: 0.1891571591218863 \n",
      "\n",
      "Average RPS Score for INT0: 0.1889673899055215 \n",
      "Average RPS Score for INT0: 0.18880547369822034 \n",
      "\n",
      "Average RPS Score for INT0: 0.1886863059823368 \n",
      "\n",
      "Average RPS Score for INT0: 0.18860988802430714 \n",
      "\n",
      "Average RPS Score for INT0: 0.18858194600514627 \n",
      "\n",
      "Average RPS Score for INT0: 0.188578491888304 \n",
      "\n",
      "Average RPS Score for INT0: 0.18856251773772825 \n",
      "\n",
      "Average RPS Score for INT0: 0.18855386999204804 \n",
      "\n",
      "Average RPS Score for INT0: 0.18859514861486454 \n",
      "\n",
      "Average RPS Score for INT0: 0.18868237866051238 \n",
      "\n",
      "Average RPS Score for INT0: 0.1887939913857039 \n",
      "\n",
      "Average RPS Score for INT0: 0.18892401403698642 \n",
      "\n",
      "Average RPS Score for INT0: 0.1890636373699744 \n",
      "\n",
      "Average RPS Score for INT0: 0.19171598110756735 \n",
      "\n",
      "Average RPS Score for INT0: 0.19114638543099255 \n",
      "Average RPS Score for INT0: 0.19063710535396575 \n",
      "\n",
      "Average RPS Score for INT0: 0.1901945692763011 \n",
      "\n",
      "Average RPS Score for INT0: 0.18981129228463597 \n",
      "\n",
      "Average RPS Score for INT0: 0.18950519362403528 \n",
      "\n",
      "Average RPS Score for INT0: 0.18923976879660398 \n",
      "\n",
      "Average RPS Score for INT0: 0.18904695615580563 \n",
      "\n",
      "Average RPS Score for INT0: 0.18889403446152378 \n",
      "\n",
      "Average RPS Score for INT0: 0.18874773120197316 \n",
      "\n",
      "Average RPS Score for INT0: 0.18863837121924643 \n",
      "\n",
      "Average RPS Score for INT0: 0.18856803835451996 \n",
      "\n",
      "Average RPS Score for INT0: 0.188545624258248 \n",
      "Average RPS Score for INT0: 0.18855913397558524 \n",
      "\n",
      "Average RPS Score for INT0: 0.18858512560488444 \n",
      "\n",
      "Average RPS Score for INT0: 0.1885941972841166 \n",
      "\n",
      "Average RPS Score for INT0: 0.18862162588797823 \n",
      "\n",
      "Average RPS Score for INT0: 0.1887098708340358 \n",
      "\n",
      "Average RPS Score for INT0: 0.18882483120231025 \n",
      "\n",
      "Average RPS Score for INT0: 0.1889597265516831 \n",
      "\n",
      "Average RPS Score for INT0: 0.18910277441003648 \n",
      "\n",
      "Average RPS Score for INT0: 0.19154288050257975 \n",
      "\n",
      "Average RPS Score for INT0: 0.19098536852671025 \n",
      "\n",
      "Average RPS Score for INT0: 0.19050155146861195 \n",
      "Average RPS Score for INT0: 0.19008030712270124 \n",
      "\n",
      "Average RPS Score for INT0: 0.18970382554351042 \n",
      "\n",
      "Average RPS Score for INT0: 0.18941445368137458 \n",
      "\n",
      "Average RPS Score for INT0: 0.189149696706888 \n",
      "\n",
      "Average RPS Score for INT0: 0.1889404384281769 \n",
      "\n",
      "Average RPS Score for INT0: 0.18880862195622714 \n",
      "\n",
      "Average RPS Score for INT0: 0.18869261536114654 \n",
      "\n",
      "Average RPS Score for INT0: 0.18859355038557998 \n",
      "\n",
      "Average RPS Score for INT0: 0.18853305990061373 \n",
      "\n",
      "Average RPS Score for INT0: 0.18851347051227194 \n",
      "\n",
      "Average RPS Score for INT0: 0.18853649922727483 \n",
      "Average RPS Score for INT0: 0.1885803878665971 \n",
      "\n",
      "Average RPS Score for INT0: 0.18861628254720886 \n",
      "\n",
      "Average RPS Score for INT0: 0.1886708182915499 \n",
      "\n",
      "Average RPS Score for INT0: 0.18874961421614087 \n",
      "\n",
      "Average RPS Score for INT0: 0.18886273681944213 \n",
      "\n",
      "Average RPS Score for INT0: 0.1890001842371966 \n",
      "\n",
      "Average RPS Score for INT0: 0.1891518803554041 \n",
      "\n",
      "Average RPS Score for INT0: 0.19140220400237595 \n",
      "\n",
      "Average RPS Score for INT0: 0.1908626576237606 \n",
      "\n",
      "Average RPS Score for INT0: 0.19040294979482364 \n",
      "\n",
      "Average RPS Score for INT0: 0.1899904513942362 \n",
      "Average RPS Score for INT0: 0.18963070501328538 \n",
      "\n",
      "Average RPS Score for INT0: 0.1893372016994754 \n",
      "\n",
      "Average RPS Score for INT0: 0.18907853078447265 \n",
      "\n",
      "Average RPS Score for INT0: 0.18887201824027092 \n",
      "\n",
      "Average RPS Score for INT0: 0.18872558591665287 \n",
      "\n",
      "Average RPS Score for INT0: 0.18862989353113307 \n",
      "\n",
      "Average RPS Score for INT0: 0.1885553858505758 \n",
      "\n",
      "Average RPS Score for INT0: 0.18850309423495343 \n",
      "\n",
      "Average RPS Score for INT0: 0.18848734050327215 \n",
      "\n",
      "Average RPS Score for INT0: 0.1885156682540336 \n",
      "Average RPS Score for INT0: 0.1885637677137601 \n",
      "\n",
      "Average RPS Score for INT0: 0.1886126241212082 \n",
      "\n",
      "Average RPS Score for INT0: 0.18868621841797084 \n",
      "\n",
      "Average RPS Score for INT0: 0.18879653293735751 \n",
      "\n",
      "Average RPS Score for INT0: 0.18890583862197566 \n",
      "\n",
      "Average RPS Score for INT0: 0.18903267125675927 \n",
      "\n",
      "Average RPS Score for INT0: 0.18919180272328187 \n",
      "\n",
      "Average RPS Score for INT0: 0.19128445562044316 \n",
      "\n",
      "Average RPS Score for INT0: 0.19078035533193616 \n",
      "\n",
      "Average RPS Score for INT0: 0.19032929419142378 \n",
      "Average RPS Score for INT0: 0.18992441286201647 \n",
      "\n",
      "Average RPS Score for INT0: 0.18958279360496352 \n",
      "\n",
      "Average RPS Score for INT0: 0.18928815241063907 \n",
      "\n",
      "Average RPS Score for INT0: 0.18903394090309725 \n",
      "\n",
      "Average RPS Score for INT0: 0.18883265970299065 \n",
      "\n",
      "Average RPS Score for INT0: 0.1886886711957732 \n",
      "\n",
      "Average RPS Score for INT0: 0.1885808558189588 \n",
      "\n",
      "Average RPS Score for INT0: 0.18852519431179368 \n",
      "\n",
      "Average RPS Score for INT0: 0.18849491876341468 \n",
      "\n",
      "Average RPS Score for INT0: 0.18848637634347312 \n",
      "\n",
      "Average RPS Score for INT0: 0.1885114548996584 \n",
      "Average RPS Score for INT0: 0.18856302500667618 \n",
      "\n",
      "Average RPS Score for INT0: 0.18862547868128574 \n",
      "\n",
      "Average RPS Score for INT0: 0.1887040091345176 \n",
      "\n",
      "Average RPS Score for INT0: 0.18882963422056534 \n",
      "\n",
      "Average RPS Score for INT0: 0.18897273760096217 \n",
      "\n",
      "Average RPS Score for INT0: 0.18910173912486278 \n",
      "\n",
      "Average RPS Score for INT0: 0.18923776663424288 \n",
      "\n",
      "Average RPS Score for INT0: 0.19119947724682654 \n",
      "\n",
      "Average RPS Score for INT0: 0.19072625534228668 \n",
      "\n",
      "Average RPS Score for INT0: 0.19027519152930583 \n",
      "\n",
      "Average RPS Score for INT0: 0.1898899054059851 \n",
      "\n",
      "Average RPS Score for INT0: 0.18955855163197774 \n",
      "Average RPS Score for INT0: 0.18927128197227225 \n",
      "\n",
      "Average RPS Score for INT0: 0.18901343223724412 \n",
      "\n",
      "Average RPS Score for INT0: 0.18881831353952724 \n",
      "\n",
      "Average RPS Score for INT0: 0.18868195966120735 \n",
      "\n",
      "Average RPS Score for INT0: 0.18857512223310277 \n",
      "\n",
      "Average RPS Score for INT0: 0.18850823944364267 \n",
      "\n",
      "Average RPS Score for INT0: 0.1884932579674856 \n",
      "\n",
      "Average RPS Score for INT0: 0.18850295499260014 \n",
      "\n",
      "Average RPS Score for INT0: 0.18852699450050764 \n",
      "\n",
      "Average RPS Score for INT0: 0.18858022458885443 \n",
      "\n",
      "Average RPS Score for INT0: 0.1886474819791331 \n",
      "Average RPS Score for INT0: 0.18874035112663642 \n",
      "\n",
      "Average RPS Score for INT0: 0.18886557844273588 \n",
      "\n",
      "Average RPS Score for INT0: 0.1890177958632144 \n",
      "\n",
      "Average RPS Score for INT0: 0.1891834409372756 \n",
      "\n",
      "Average RPS Score for INT0: 0.18930534952267813 \n",
      "\n",
      "Average RPS Score for INT0: 0.191132327209189 \n",
      "\n",
      "Average RPS Score for INT0: 0.19068834801797283 \n",
      "\n",
      "Average RPS Score for INT0: 0.19025389166213533 \n",
      "\n",
      "Average RPS Score for INT0: 0.18988165753644962 \n",
      "\n",
      "Average RPS Score for INT0: 0.18954685380792594 \n",
      "\n",
      "Average RPS Score for INT0: 0.18927549341023284 \n",
      "\n",
      "Average RPS Score for INT0: 0.18902526420039376 \n",
      "\n",
      "Average RPS Score for INT0: 0.18882843765976287 \n",
      "\n",
      "Average RPS Score for INT0: 0.18869622090983854 \n",
      "\n",
      "Average RPS Score for INT0: 0.1885985678671374 \n",
      "Average RPS Score for INT0: 0.18853203861455772 \n",
      "\n",
      "Average RPS Score for INT0: 0.18850275278149378 \n",
      "\n",
      "Average RPS Score for INT0: 0.1885212287267353 \n",
      "\n",
      "Average RPS Score for INT0: 0.18856639401033354 \n",
      "\n",
      "Average RPS Score for INT0: 0.18861190098271355 \n",
      "\n",
      "Average RPS Score for INT0: 0.18868606870268007 \n",
      "\n",
      "Average RPS Score for INT0: 0.18879276437264583 \n",
      "\n",
      "Average RPS Score for INT0: 0.18891980597736846 \n",
      "\n",
      "Average RPS Score for INT0: 0.1890744133756842 \n",
      "\n",
      "Average RPS Score for INT0: 0.18923515555040163 \n",
      "\n",
      "Average RPS Score for INT0: 0.189376479026646 \n",
      "Average RPS Score for INT0: 0.191104759596253 \n",
      "\n",
      "Average RPS Score for INT0: 0.1906879819369276 \n",
      "\n",
      "Average RPS Score for INT0: 0.19027353508057718 \n",
      "\n",
      "Average RPS Score for INT0: 0.18990294027099033 \n",
      "\n",
      "Average RPS Score for INT0: 0.18957519005020246 \n",
      "\n",
      "Average RPS Score for INT0: 0.18931545287476373 \n",
      "\n",
      "Average RPS Score for INT0: 0.18907670454385817 \n",
      "\n",
      "Average RPS Score for INT0: 0.18887281403629097 \n",
      "Average RPS Score for INT0: 0.18874439364305096 \n",
      "\n",
      "Average RPS Score for INT0: 0.1886570944283433 \n",
      "\n",
      "Average RPS Score for INT0: 0.18858702485547796 \n",
      "\n",
      "Average RPS Score for INT0: 0.1885564157218273 \n",
      "\n",
      "Average RPS Score for INT0: 0.1885607222905298 \n",
      "\n",
      "Average RPS Score for INT0: 0.18861312875529473 \n",
      "\n",
      "Average RPS Score for INT0: 0.18867102814832154 \n",
      "\n",
      "Average RPS Score for INT0: 0.1887496933702916 \n",
      "\n",
      "Average RPS Score for INT0: 0.18885771536144022 \n",
      "\n",
      "Average RPS Score for INT0: 0.18899681970478616 \n",
      "\n",
      "Average RPS Score for INT0: 0.1891539075549258 \n",
      "\n",
      "Average RPS Score for INT0: 0.1892896328542099 \n",
      "\n",
      "Average RPS Score for INT0: 0.1894400195151971 \n",
      "Average RPS Score for INT0: 0.19110823994569204 \n",
      "\n",
      "Average RPS Score for INT0: 0.19070737920225295 \n",
      "\n",
      "Average RPS Score for INT0: 0.1903184908574749 \n",
      "\n",
      "Average RPS Score for INT0: 0.18995710062788032 \n",
      "\n",
      "Average RPS Score for INT0: 0.1896381527650418 \n",
      "\n",
      "Average RPS Score for INT0: 0.18938340874253068 \n",
      "\n",
      "Average RPS Score for INT0: 0.18915885404435834 \n",
      "\n",
      "Average RPS Score for INT0: 0.1889619920900936 \n",
      "\n",
      "Average RPS Score for INT0: 0.18882549417765768 \n",
      "\n",
      "Average RPS Score for INT0: 0.18874635882802382 \n",
      "Average RPS Score for INT0: 0.18867416112503624 \n",
      "\n",
      "Average RPS Score for INT0: 0.1886466433464544 \n",
      "\n",
      "Average RPS Score for INT0: 0.18864988765618684 \n",
      "\n",
      "Average RPS Score for INT0: 0.1886841270494364 \n",
      "\n",
      "Average RPS Score for INT0: 0.1887530384514945 \n",
      "\n",
      "Average RPS Score for INT0: 0.18884268399392048 \n",
      "\n",
      "Average RPS Score for INT0: 0.1889545923182663 \n",
      "\n",
      "Average RPS Score for INT0: 0.18910640172570228 \n",
      "\n",
      "Average RPS Score for INT0: 0.18925413555474382 \n",
      "\n",
      "Average RPS Score for INT0: 0.18937793875425188 \n",
      "\n",
      "Average RPS Score for INT0: 0.1895322384612208 \n",
      "\n",
      "Average RPS Score for INT0: 0.19114250769636418 \n",
      "\n",
      "Average RPS Score for INT0: 0.19074881626955265 \n",
      "\n",
      "Average RPS Score for INT0: 0.19038687065294796 \n",
      "Average RPS Score for INT0: 0.1900247931723209 \n",
      "\n",
      "Average RPS Score for INT0: 0.18971964462691365 \n",
      "\n",
      "Average RPS Score for INT0: 0.18947262582411198 \n",
      "\n",
      "Average RPS Score for INT0: 0.1892620560657655 \n",
      "\n",
      "Average RPS Score for INT0: 0.1890720213771159 \n",
      "\n",
      "Average RPS Score for INT0: 0.1889301937171039 \n",
      "\n",
      "Average RPS Score for INT0: 0.18884872696216917 \n",
      "\n",
      "Average RPS Score for INT0: 0.18878496635148184 \n",
      "\n",
      "Average RPS Score for INT0: 0.18875499935144707 \n",
      "\n",
      "Average RPS Score for INT0: 0.18875793437734079 \n",
      "\n",
      "Average RPS Score for INT0: 0.1887936251989013 \n",
      "\n",
      "Average RPS Score for INT0: 0.18884515918136371 \n",
      "\n",
      "Average RPS Score for INT0: 0.18893563407005073 \n",
      "Average RPS Score for INT0: 0.18906786230281128 \n",
      "\n",
      "Average RPS Score for INT0: 0.18922300831079364 \n",
      "\n",
      "Average RPS Score for INT0: 0.18935589427459276 \n",
      "\n",
      "Average RPS Score for INT0: 0.18948317137660706 \n",
      "\n",
      "Average RPS Score for INT0: 0.1896395055133421 \n",
      "\n",
      "Rank 1, Parameters (rho, sigma): (0.475, 1.05), RPS Score: 0.18848637634347312\n",
      "Rank 2, Parameters (rho, sigma): (0.44999999999999996, 1.05), RPS Score: 0.18848734050327215\n",
      "Rank 3, Parameters (rho, sigma): (0.49999999999999994, 1.025), RPS Score: 0.1884932579674856\n",
      "Rank 4, Parameters (rho, sigma): (0.475, 1.025), RPS Score: 0.18849491876341468\n",
      "Rank 5, Parameters (rho, sigma): (0.5249999999999999, 1.025), RPS Score: 0.18850275278149378\n"
     ]
    }
   ],
   "source": [
    "# Lists to hold the parameter 'rho', 'sigma' and the corresponding RPS values\n",
    "parameter_values = []\n",
    "rps_values = []\n",
    "\n",
    "# Grid of potential values for rho and sigma\n",
    "potential_rho_values = np.linspace(0, 0.6, num=25)\n",
    "potential_sigma_values = np.linspace(0.75, 1.25, num=21)\n",
    "\n",
    "# Iterate over potential rho and sigma values\n",
    "for rho in potential_rho_values:\n",
    "    for sigma in potential_sigma_values:\n",
    "        rates['rho'] = rho\n",
    "        rates['sigma'] = sigma\n",
    "        \n",
    "        # Obtain the RPS for the current value of rho and sigma\n",
    "        int_rps = predict_outcomes_int(df_int_fixtures, ratings, league_ratings, team_to_league, rates, model)\n",
    "\n",
    "        # Compute the average RPS\n",
    "        avg_rps = np.mean(int_rps)\n",
    "\n",
    "        # Add current result to the lists\n",
    "        parameter_values.append((rho, sigma))\n",
    "        rps_values.append(avg_rps)\n",
    "\n",
    "# Identify top 5 parameter combinations\n",
    "top_indices = np.argsort(rps_values)[:5]  # gets the indices of the 5 lowest RPS scores\n",
    "top_parameters = [parameter_values[i] for i in top_indices]\n",
    "top_rps_values = [rps_values[i] for i in top_indices]\n",
    "\n",
    "# Print top 5 parameter combinations\n",
    "for i in range(5):\n",
    "    print(f\"Rank {i+1}, Parameters (rho, sigma): {top_parameters[i]}, RPS Score: {top_rps_values[i]}\")\n"
   ],
   "metadata": {
    "collapsed": false,
    "ExecuteTime": {
     "end_time": "2023-08-10T09:45:18.726574Z",
     "start_time": "2023-08-10T09:44:58.808099Z"
    }
   }
  },
  {
   "cell_type": "code",
   "execution_count": null,
   "outputs": [],
   "source": [
    "# Generate meshgrid for 3D plot\n",
    "a_grid, b_grid = np.meshgrid(potential_a_values, potential_b_values)\n",
    "\n",
    "# Reshape rps_values into grid\n",
    "rps_grid = np.array(rps_values).reshape(a_grid.shape)\n",
    "\n",
    "# Create 3D surface plot\n",
    "fig = plt.figure(figsize=(10, 7))\n",
    "ax = fig.add_subplot(111, projection='3d')\n",
    "surf = ax.plot_surface(a_grid, b_grid, rps_grid, cmap='RdYlGn_r', edgecolor='none')\n",
    "ax.set_xlabel('a')\n",
    "ax.set_ylabel('b')\n",
    "ax.set_zlabel('RPS Score', fontsize=10, labelpad=5)\n",
    "ax.invert_zaxis()  # To make lower scores appear higher\n",
    "plt.savefig(\"../images/3d_plot_ab_rps.png\", dpi=300)\n",
    "plt.show()\n"
   ],
   "metadata": {
    "collapsed": false
   }
  },
  {
   "cell_type": "code",
   "execution_count": null,
   "outputs": [],
   "source": [
    "import seaborn as sns\n",
    "\n",
    "# Convert numpy arrays to lists\n",
    "a_values = [round(a, 2) for a in potential_a_values]\n",
    "b_values = [round(b, 2) for b in potential_b_values]\n",
    "\n",
    "# Reshape RPS values to the shape of the grid\n",
    "rps_grid = np.array(rps_values).reshape(len(a_values), len(b_values))\n",
    "\n",
    "# Create a dataframe from the grid\n",
    "df_rps = pd.DataFrame(rps_grid, index=a_values, columns=b_values)\n",
    "\n",
    "# Create the heatmap\n",
    "plt.figure(figsize=(10, 8))\n",
    "ax = sns.heatmap(df_rps, cmap='RdYlGn_r', annot=False, fmt=\".3f\")\n",
    "plt.title('Heatmap of RPS scores for different values of \"a\" and \"b\"')\n",
    "plt.xlabel('b')\n",
    "plt.ylabel('a')\n",
    "\n",
    "# Invert y-axis\n",
    "ax.invert_yaxis()\n",
    "\n",
    "plt.savefig(\"../images/heatmap_ab_rps.png\", dpi=300)\n",
    "plt.show()\n",
    "\n"
   ],
   "metadata": {
    "collapsed": false
   }
  },
  {
   "cell_type": "code",
   "execution_count": null,
   "outputs": [],
   "source": [
    "import seaborn as sns\n",
    "from matplotlib.patches import Rectangle\n",
    "\n",
    "\n",
    "# Convert numpy arrays to lists\n",
    "a_values = [round(a, 2) for a in potential_a_values]\n",
    "b_values = [round(b, 2) for b in potential_b_values]\n",
    "\n",
    "# Reshape RPS values to the shape of the grid\n",
    "rps_grid = np.array(rps_values).reshape(len(a_values), len(b_values))\n",
    "\n",
    "# Create a dataframe from the grid\n",
    "df_rps = pd.DataFrame(rps_grid, index=a_values, columns=b_values)\n",
    "\n",
    "plt.figure(figsize=(10, 8))\n",
    "ax = sns.heatmap(df_rps, cmap='RdYlGn_r', annot=False, fmt=\".3f\")\n",
    "plt.title('Heatmap of RPS scores for different values of \"a\" and \"b\"')\n",
    "plt.xlabel('b')\n",
    "plt.ylabel('a')\n",
    "\n",
    "# Manually highlight the best area\n",
    "highlight_a = 0.25\n",
    "highlight_b = 1.05\n",
    "\n",
    "# Add a red rectangle around the cell to highlight it\n",
    "for _, spine in ax.spines.items():\n",
    "    spine.set_visible(True)\n",
    "ax.add_patch(Rectangle((b_values.index(highlight_b), a_values.index(highlight_a)), 1, 1, fill=False, edgecolor='red', lw=3))\n",
    "\n",
    "ax.invert_yaxis()\n",
    "plt.savefig(\"../images/heatmap_ab_rps1.png\", dpi=300)\n",
    "plt.show()\n"
   ],
   "metadata": {
    "collapsed": false
   }
  },
  {
   "cell_type": "code",
   "execution_count": null,
   "outputs": [],
   "source": [
    "from matplotlib.patches import Rectangle\n",
    "\n",
    "\n",
    "# Manually highlight the best area\n",
    "highlight_a = 0.25\n",
    "highlight_b = 1.05\n",
    "\n",
    "# Find indices of the desired range in a_values and b_values\n",
    "start_a_index = a_values.index(0)\n",
    "end_a_index = a_values.index(0.5) + 1  # plus 1 to include 0.5\n",
    "start_b_index = b_values.index(0.75)\n",
    "end_b_index = b_values.index(1.25) + 1  # plus 1 to include 1.25\n",
    "\n",
    "# Select subsets\n",
    "a_values_subset = a_values[start_a_index:end_a_index]\n",
    "b_values_subset = b_values[start_b_index:end_b_index]\n",
    "rps_grid_subset = rps_grid[start_a_index:end_a_index, start_b_index:end_b_index]\n",
    "\n",
    "# Create a heatmap\n",
    "fig, ax = plt.subplots(figsize=(10, 7))\n",
    "cax = ax.matshow(rps_grid_subset, origin='lower', cmap='RdYlGn_r')\n",
    "fig.colorbar(cax)\n",
    "# Move x-axis labels to bottom\n",
    "ax.xaxis.tick_bottom()\n",
    "ax.set_xticks(range(len(b_values_subset)))\n",
    "ax.set_yticks(range(len(a_values_subset)))\n",
    "ax.set_xticklabels(np.round(b_values_subset, 2))\n",
    "ax.set_yticklabels(np.round(a_values_subset, 2))\n",
    "\n",
    "plt.title('Heatmap of RPS scores for different values of \"a\" and \"b\"')\n",
    "plt.xlabel('b')\n",
    "plt.ylabel('a')\n",
    "\n",
    "plt.savefig(\"../images/heatmap_ab_rps2.png\", dpi=300)\n",
    "plt.show()\n"
   ],
   "metadata": {
    "collapsed": false
   }
  }
 ],
 "metadata": {
  "kernelspec": {
   "display_name": "Python 3",
   "language": "python",
   "name": "python3"
  },
  "language_info": {
   "codemirror_mode": {
    "name": "ipython",
    "version": 2
   },
   "file_extension": ".py",
   "mimetype": "text/x-python",
   "name": "python",
   "nbconvert_exporter": "python",
   "pygments_lexer": "ipython2",
   "version": "2.7.6"
  }
 },
 "nbformat": 4,
 "nbformat_minor": 0
}

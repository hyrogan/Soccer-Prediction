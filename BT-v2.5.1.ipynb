{
 "cells": [
  {
   "cell_type": "code",
   "execution_count": 329,
   "metadata": {
    "collapsed": true,
    "ExecuteTime": {
     "end_time": "2023-08-29T20:31:50.832365Z",
     "start_time": "2023-08-29T20:31:50.798878Z"
    }
   },
   "outputs": [],
   "source": [
    "import numpy as np\n",
    "import pandas as pd\n",
    "import math\n",
    "from scipy.stats import norm\n",
    "from sklearn.linear_model import LogisticRegression\n",
    "from sklearn.preprocessing import LabelEncoder\n",
    "import joblib\n",
    "from sklearn.model_selection import train_test_split\n",
    "import time\n",
    "import matplotlib.pyplot as plt\n",
    "from sklearn.model_selection import ParameterGrid\n",
    "from sklearn.neural_network import MLPClassifier\n",
    "import tqdm\n",
    "from scipy.interpolate import griddata\n",
    "import heapq\n",
    "from mpl_toolkits.mplot3d import Axes3D"
   ]
  },
  {
   "cell_type": "code",
   "execution_count": 433,
   "outputs": [],
   "source": [
    "# Function to initialize ratings\n",
    "def initialize_ratings(df_results, df_fixtures, df_int_results, df_int_fixtures):\n",
    "    ratings = {}\n",
    "    league_ratings = {}\n",
    "\n",
    "    # Get the list of competitions\n",
    "    competitions = set(df_results['Div']).union(set(df_fixtures['Div'])).union(set(df_int_results['HomeDiv'])).union(set(df_int_fixtures['HomeDiv'])).union(set(df_int_results['AwayDiv'])).union(set(df_int_fixtures['AwayDiv']))\n",
    "\n",
    "    # Iterate over teams in the results data\n",
    "    teams = set(df_results['HomeTeam']).union(set(df_results['AwayTeam'])).union(set(df_fixtures['HomeTeam'])).union(set(df_fixtures['AwayTeam'])).union(set(df_int_results['HomeTeam'])).union(set(df_int_fixtures['HomeTeam'])).union(set(df_int_results['AwayTeam'])).union(set(df_int_fixtures['AwayTeam']))\n",
    "\n",
    "    for team in teams:\n",
    "        ratings[team] = {}\n",
    "\n",
    "        # Initialize ratings for each team for each competition\n",
    "        for competition in competitions:\n",
    "            ratings[team][competition] = {\n",
    "                'brH': 0.0,\n",
    "                'brA': 0.0,\n",
    "                'continuous_overunderperformances': 0\n",
    "            }\n",
    "            \n",
    "    \"\"\"\n",
    "    # Initialize ratings for each competition\n",
    "    league_ratings['REST'] = {\n",
    "        'brH': 0.0,\n",
    "        'brA': 0.0,\n",
    "        'continuous_overunderperformances': 0\n",
    "    }\n",
    "    \"\"\"\n",
    "    \n",
    "    for competition in competitions:\n",
    "        if '1' in competition:  # Check if it's a top tier league\n",
    "            league_ratings[competition] = {\n",
    "                'INT1': {\n",
    "                    'brH': 0.0,\n",
    "                    'brA': 0.0,\n",
    "                    'continuous_overunderperformances': 0,\n",
    "                },\n",
    "                'DCUP': {\n",
    "                    'brH': 0.5,\n",
    "                    'brA': 0.5 * 0.96,\n",
    "                    'continuous_overunderperformances': 0,\n",
    "                }\n",
    "            }\n",
    "        else:  # Assume it's a second tier league otherwise\n",
    "            league_ratings[competition] = {\n",
    "                'INT1': {\n",
    "                    'brH': 0.0,\n",
    "                    'brA': 0.0,\n",
    "                    'continuous_overunderperformances': 0,\n",
    "                },\n",
    "                'DCUP': {\n",
    "                    'brH': -0.5,\n",
    "                    'brA': -0.5 * 0.96,\n",
    "                    'continuous_overunderperformances': 0,\n",
    "                }\n",
    "            }\n",
    "            \n",
    "    #print('Teams:', teams, end='\\n\\n')\n",
    "    return ratings, league_ratings\n"
   ],
   "metadata": {
    "collapsed": false,
    "ExecuteTime": {
     "end_time": "2023-08-29T21:52:33.077959Z",
     "start_time": "2023-08-29T21:52:32.965064Z"
    }
   }
  },
  {
   "cell_type": "code",
   "execution_count": 434,
   "outputs": [],
   "source": [
    "def initialize_rest_ratings(rest_teams):\n",
    "    rest_ratings = {}\n",
    "    for team in rest_teams:\n",
    "        rest_ratings[team] = {\n",
    "            'REST': {\n",
    "                'brH': 0.0,\n",
    "                'brA': 0.0,\n",
    "                'continuous_overunderperformances': 0\n",
    "            }\n",
    "        }\n",
    "    return rest_ratings"
   ],
   "metadata": {
    "collapsed": false,
    "ExecuteTime": {
     "end_time": "2023-08-29T21:52:33.705689Z",
     "start_time": "2023-08-29T21:52:33.653457Z"
    }
   }
  },
  {
   "cell_type": "code",
   "execution_count": 435,
   "outputs": [],
   "source": [
    "def create_team_to_league_mapping(df_results, df_fixtures, df_int):\n",
    "    team_to_league = {}\n",
    "    rest_teams = set() # To store teams that are assigned to the 'REST' league\n",
    "\n",
    "    def get_league_level(division):\n",
    "        # Extracting the integer part from the division\n",
    "        integer_part = ''.join(filter(str.isdigit, division))\n",
    "        return int(integer_part)\n",
    "\n",
    "\n",
    "    # Iterate through the results and fixtures dataframes and map teams to their leagues\n",
    "    for df in [df_results, df_fixtures]:\n",
    "        for index, row in df.iterrows():\n",
    "            for team in [row['HomeTeam'], row['AwayTeam']]:\n",
    "                current_div = row['Div']\n",
    "                current_level = get_league_level(current_div)\n",
    "\n",
    "                # If the team is not yet in the dictionary, or if the current league is higher, update the entry\n",
    "                if team not in team_to_league or current_level < get_league_level(team_to_league[team]):\n",
    "                    team_to_league[team] = current_div\n",
    "\n",
    "    # Now process df_int\n",
    "    for index, row in df_int.iterrows():\n",
    "        for team in [row['HomeTeam'], row['AwayTeam']]:\n",
    "            if team not in team_to_league:\n",
    "                # If the team is not found in the other dataframes, assign it to 'REST'\n",
    "                team_to_league[team] = 'REST'\n",
    "                rest_teams.add(team)\n",
    "\n",
    "    return team_to_league, rest_teams"
   ],
   "metadata": {
    "collapsed": false,
    "ExecuteTime": {
     "end_time": "2023-08-29T21:52:33.949809Z",
     "start_time": "2023-08-29T21:52:33.815103Z"
    }
   }
  },
  {
   "cell_type": "code",
   "execution_count": 436,
   "outputs": [],
   "source": [
    "def get_league_from_team(team, team_to_league):\n",
    "    return team_to_league.get(team, 'REST')"
   ],
   "metadata": {
    "collapsed": false,
    "ExecuteTime": {
     "end_time": "2023-08-29T21:52:34.020896Z",
     "start_time": "2023-08-29T21:52:33.893262Z"
    }
   }
  },
  {
   "cell_type": "code",
   "execution_count": 437,
   "outputs": [],
   "source": [
    "# Function to update ratings based on results data\n",
    "def update_ratings_multiple_games(df_results, ratings, league_ratings, rates):\n",
    "    ind_threshold = rates['ind_threshold']\n",
    "    games_with_rating = []\n",
    "    training_games = []\n",
    "\n",
    "    # Iterate over each match in the results data\n",
    "    for index, row in df_results.iterrows():\n",
    "\n",
    "        # Identify the competition in which the match took place\n",
    "        competition = row['Div']\n",
    "\n",
    "        if index > ind_threshold:\n",
    "            #add current game to training data\n",
    "            training_games.append({\n",
    "                #\"brH_x\": ratings[row[\"HomeTeam\"]][competition][\"brH\"],\n",
    "                #\"brA_x\": ratings[row[\"HomeTeam\"]][competition][\"brA\"],\n",
    "                #\"prH_x\": calculate_provisional_ratings(ratings, row[\"HomeTeam\"], competition, rates)[0],\n",
    "                #\"prA_x\": calculate_provisional_ratings(ratings, row[\"HomeTeam\"], competition, rates)[1],\n",
    "                #\"brH_y\": ratings[row[\"AwayTeam\"]][competition][\"brH\"],\n",
    "                #\"brA_y\": ratings[row[\"AwayTeam\"]][competition][\"brA\"],\n",
    "                #\"prH_y\": calculate_provisional_ratings(ratings, row[\"AwayTeam\"], competition, rates)[0],\n",
    "                #\"prA_y\": calculate_provisional_ratings(ratings, row[\"AwayTeam\"], competition, rates)[1],\n",
    "                #\"rating_difference\": (calculate_provisional_ratings(ratings, row[\"HomeTeam\"], competition, rates)[0]) - (calculate_provisional_ratings(ratings, row[\"AwayTeam\"], competition, rates)[1]),\n",
    "                \"rating_difference\": ratings[row[\"HomeTeam\"]][competition][\"brH\"] - ratings[row[\"AwayTeam\"]][competition][\"brA\"],\n",
    "                #\"FTHG\": row[\"FTHG\"],\n",
    "                #\"FTAG\": row[\"FTAG\"],\n",
    "                \"FTR\": row[\"FTR\"]\n",
    "            })\n",
    "\n",
    "        \"\"\"\n",
    "        if np.isnan(ratings[row[\"HomeTeam\"]][competition][\"brH\"]):\n",
    "            print(\"error\")\n",
    "            break\n",
    "        \"\"\"\n",
    "        \n",
    "        ratings = update_ratings_single_game(row['HomeTeam'], row['AwayTeam'], row['FTHG'], row['FTAG'], ratings, league_ratings, rates, competition)\n",
    "        \n",
    "        \"\"\"\n",
    "        games_with_rating.append({\n",
    "            \"team\": row[\"HomeTeam\"],\n",
    "            \"home_rating\": ratings[row[\"HomeTeam\"]][competition][\"brH\"],\n",
    "            \"away_rating\": ratings[row[\"HomeTeam\"]][competition][\"brA\"],\n",
    "            \"continuous_overunderperformances\": ratings[row[\"HomeTeam\"]][competition][\"continuous_overunderperformances\"],\n",
    "        })\n",
    "\n",
    "        games_with_rating.append({\n",
    "            \"team\": row[\"AwayTeam\"],\n",
    "            \"home_rating\": ratings[row[\"AwayTeam\"]][competition][\"brH\"],\n",
    "            \"away_rating\": ratings[row[\"AwayTeam\"]][competition][\"brA\"],\n",
    "            \"continuous_overunderperformances\": ratings[row[\"AwayTeam\"]][competition][\"continuous_overunderperformances\"],\n",
    "        })\n",
    "        \"\"\"\n",
    "\n",
    "    return ratings, games_with_rating, training_games"
   ],
   "metadata": {
    "collapsed": false,
    "ExecuteTime": {
     "end_time": "2023-08-29T21:52:34.306494Z",
     "start_time": "2023-08-29T21:52:34.121443Z"
    }
   }
  },
  {
   "cell_type": "code",
   "execution_count": 438,
   "outputs": [],
   "source": [
    "def update_league_ratings_multiple_games(df_int_results, league_ratings, rates):\n",
    "    # Iterate over each match in the international results data\n",
    "    for index, row in df_int_results.iterrows():\n",
    "        # Extract relevant information from the row\n",
    "        HomeLeague = row['HomeDiv']\n",
    "        AwayLeague = row['AwayDiv']\n",
    "        Div = row['Div']\n",
    "        FTHG = row['FTHG']\n",
    "        FTAG = row['FTAG']\n",
    "\n",
    "        # Update the league ratings based on the match result\n",
    "        league_ratings = update_league_ratings_single_game(HomeLeague, AwayLeague, Div, FTHG, FTAG, league_ratings, rates)\n",
    "\n",
    "    return league_ratings\n"
   ],
   "metadata": {
    "collapsed": false,
    "ExecuteTime": {
     "end_time": "2023-08-29T21:52:34.353204Z",
     "start_time": "2023-08-29T21:52:34.296248Z"
    }
   }
  },
  {
   "cell_type": "code",
   "execution_count": 468,
   "outputs": [],
   "source": [
    "# Function to update ratings based on results data\n",
    "def update_ratings_single_game(HomeTeam, AwayTeam, FTHG, FTAG, ratings, league_ratings, rates, competition):\n",
    "\n",
    "    #lambda: Determines to what extent the new match results influence the team ratings (could be improved to include temporal difference between matches)\n",
    "    #learning_rate_lambda = 0.054\n",
    "    learning_rate_lambda = rates['lambda']\n",
    "\n",
    "    #psi: diminish the impact each additional goal difference error has on team ratings\n",
    "    diminishing_function_psi = lambda error: 3 * np.log10(1 + error)\n",
    "\n",
    "    #gamma: determines to what extent performances at the home grounds influence away team ratings and vice versa\n",
    "    #learning_rate_gamma = 0.79\n",
    "    learning_rate_gamma = rates['gamma']\n",
    "    \n",
    "\n",
    "    #print(HomeTeam, \"-\", AwayTeam, FTHG, \":\", FTAG)\n",
    "\n",
    "    observed_goal_difference = FTHG - FTAG\n",
    "    #print(\"Observed Goal Difference:\", observed_goal_difference)\n",
    "    \n",
    "    competitions = set(ratings[HomeTeam].keys()).union(set(ratings[AwayTeam].keys()))\n",
    "    \n",
    "    tau = rates['tau']\n",
    "    \n",
    "    \n",
    "    for team in [HomeTeam, AwayTeam]:\n",
    "        if ratings[team][competition]['brH'] == 0 and ratings[team][competition]['brA'] == 0 and league_ratings[competition]['DCUP']['brH'] != 0:\n",
    "            for otherCompetition in competitions:\n",
    "                if ratings[team][otherCompetition]['brH'] != 0 or ratings[team][otherCompetition]['brA'] != 0:\n",
    "                    if '2' in otherCompetition and '1' in competition:  # promotion\n",
    "                        promoted_teams_ratings[team] = ((ratings[team][otherCompetition]['brH'] + ratings[team][otherCompetition]['brA']) / 2)            \n",
    "                    elif '1' in otherCompetition and '2' in competition:  # relegation\n",
    "                        relegated_teams_ratings[team] = ((ratings[team][otherCompetition]['brH'] + ratings[team][otherCompetition]['brA']) / 2)\n",
    "                    else:\n",
    "                        print(\"error at init\")\n",
    "                    #print(league_ratings[otherCompetition]['DCUP']['brH'] - league_ratings[competition]['DCUP']['brH'])\n",
    "                    ratings[team][competition]['brH'] = ratings[team][otherCompetition]['brH'] + tau *(league_ratings[otherCompetition]['DCUP']['brH'] - league_ratings[competition]['DCUP']['brH'])\n",
    "                    ratings[team][competition]['brA'] = ratings[team][otherCompetition]['brA'] + tau *(league_ratings[otherCompetition]['DCUP']['brA'] - league_ratings[competition]['DCUP']['brA'])\n",
    "                    break\n",
    "             \n",
    "    #Calculate expected goals for home team\n",
    "    #expected_goal_x = round((10 ** (abs(ratings[HomeTeam]['brH']) / 3)) - 1,5)\n",
    "    expected_goal_x_temp = abs(ratings[HomeTeam][competition]['brH']) / 3\n",
    "    expected_goal_x = np.sign(ratings[HomeTeam][competition]['brH']) * (np.power(10, expected_goal_x_temp) - 1)\n",
    "    #print(\"Expected Goals x:\", expected_goal_x)\n",
    "\n",
    "    # Calculate expected goals for away team\n",
    "    #expected_goal_y = round((10 ** (abs(ratings[AwayTeam]['brA']) / 3)) - 1,5)\n",
    "    expected_goal_y_temp = abs(ratings[AwayTeam][competition]['brA']) / 3\n",
    "    expected_goal_y = np.sign(ratings[AwayTeam][competition]['brA']) * (np.power(10, expected_goal_y_temp) - 1)\n",
    "    #print(\"Expected Goals y:\", expected_goal_y)\n",
    "\n",
    "    # Calculate expected goal difference based on ratings\n",
    "    expected_goal_difference = expected_goal_x - expected_goal_y\n",
    "    #print(\"Expected Goal Difference:\", expected_goal_difference)\n",
    "\n",
    "    # Calculate the error between observed and expected goal difference\n",
    "    error = abs(observed_goal_difference - expected_goal_difference)\n",
    "    #print(\"error:\", error)\n",
    "\n",
    "    psi_temp = diminishing_function_psi(error)\n",
    "\n",
    "    # Diminish the impact of the goal difference error for both teams x and y respectively\n",
    "    if (expected_goal_difference < observed_goal_difference):\n",
    "        diminishing_function_psi_x = psi_temp\n",
    "        diminishing_function_psi_y = -psi_temp\n",
    "    else:\n",
    "        diminishing_function_psi_x = -psi_temp\n",
    "        diminishing_function_psi_y = psi_temp\n",
    "    #print(\"Diminishing Function psi x:\", diminishing_function_psi_x)\n",
    "    #print(\"Diminishing Function psi y:\", diminishing_function_psi_y)\n",
    "\n",
    "    # Update the home team x background ratings\n",
    "    previous_home_rating_x = ratings[HomeTeam][competition]['brH']\n",
    "    previous_away_rating_x = ratings[HomeTeam][competition]['brA']\n",
    "    #print(\"Old brH x:\", previous_home_rating_x)\n",
    "    #print(\"Old brA x:\", previous_away_rating_x)\n",
    "    \n",
    "        \n",
    "\n",
    "    ratings[HomeTeam][competition]['brH'] = previous_home_rating_x + diminishing_function_psi_x * learning_rate_lambda\n",
    "    ratings[HomeTeam][competition]['brA'] = previous_away_rating_x + (ratings[HomeTeam][competition]['brH'] - previous_home_rating_x) * learning_rate_gamma\n",
    "    #print(\"New brH x:\", ratings[HomeTeam]['brH'])\n",
    "    #print(\"New brA x:\", ratings[HomeTeam]['brA'])\n",
    "\n",
    "    # Update the away team y background ratings\n",
    "    previous_home_rating_y = ratings[AwayTeam][competition]['brH']\n",
    "    previous_away_rating_y = ratings[AwayTeam][competition]['brA']\n",
    "    #print(\"Old brH y:\", previous_home_rating_y)\n",
    "    #print(\"Old brA y:\", previous_away_rating_y)\n",
    "\n",
    "    ratings[AwayTeam][competition]['brA'] = previous_away_rating_y + diminishing_function_psi_y * learning_rate_lambda\n",
    "    ratings[AwayTeam][competition]['brH'] = previous_home_rating_y + (ratings[AwayTeam][competition]['brA'] - previous_away_rating_y) * learning_rate_gamma\n",
    "    #print(\"New brH y:\", ratings[AwayTeam]['brH'])\n",
    "    #print(\"New brA y:\", ratings[AwayTeam]['brA'])\n",
    "    \"\"\"\n",
    "    if HomeTeam == 'Liverpool' and AwayTeam == 'Man United' and FTHG == 7:\n",
    "        print('Observed Goal Difference:', observed_goal_difference)\n",
    "        print('Expected Goals x:', expected_goal_x)\n",
    "        print('Expected Goals y:', expected_goal_y)\n",
    "        print('Expected Goal Difference:', expected_goal_difference)\n",
    "        print('Error:', error)\n",
    "        print('Psi:', psi_temp)\n",
    "        print('Diminishing Function psi x:', diminishing_function_psi_x)\n",
    "        print('Diminishing Function psi y:', diminishing_function_psi_y)\n",
    "        print('Old brH x:', previous_home_rating_x)\n",
    "        print('Old brA x:', previous_away_rating_x)\n",
    "        print('Old brH y:', previous_home_rating_y)\n",
    "        print('Old brA y:', previous_away_rating_y)\n",
    "        print('New brH x:', ratings[HomeTeam][competition]['brH'])\n",
    "        print('New brA x:', ratings[HomeTeam][competition]['brA'])\n",
    "        print('New brH y:', ratings[AwayTeam][competition]['brH'])\n",
    "        print('New brA y:', ratings[AwayTeam][competition]['brA'])\n",
    "    \"\"\"\n",
    "    #print(\"Old overunderperformance x:\", ratings[HomeTeam]['continuous_overunderperformances'])\n",
    "    #print(\"Old overunderperformance y:\", ratings[AwayTeam]['continuous_overunderperformances'])\n",
    "\n",
    "    # Update the continuous over/underperformances for the home team\n",
    "    if (observed_goal_difference > expected_goal_difference):\n",
    "        ratings[HomeTeam][competition]['continuous_overunderperformances'] = max(1, ratings[HomeTeam][competition]['continuous_overunderperformances'] + 1)\n",
    "        ratings[AwayTeam][competition]['continuous_overunderperformances'] = min(-1, ratings[AwayTeam][competition]['continuous_overunderperformances'] - 1)\n",
    "    elif (observed_goal_difference < expected_goal_difference):\n",
    "        ratings[HomeTeam][competition]['continuous_overunderperformances'] = min(-1, ratings[HomeTeam][competition]['continuous_overunderperformances'] - 1)\n",
    "        ratings[AwayTeam][competition]['continuous_overunderperformances'] = max(1, ratings[AwayTeam][competition]['continuous_overunderperformances'] + 1)\n",
    "    else:\n",
    "        ratings[HomeTeam][competition]['continuous_overunderperformances'] = 0\n",
    "        ratings[AwayTeam][competition]['continuous_overunderperformances'] = 0\n",
    "\n",
    "    #print(\"New overunderperformance x:\", ratings[HomeTeam]['continuous_overunderperformances'])\n",
    "    #print(\"New overunderperformance y:\", ratings[AwayTeam]['continuous_overunderperformances'], end='\\n\\n')\n",
    "\n",
    "    return ratings\n"
   ],
   "metadata": {
    "collapsed": false,
    "ExecuteTime": {
     "end_time": "2023-08-29T22:10:29.262766Z",
     "start_time": "2023-08-29T22:10:29.183972Z"
    }
   }
  },
  {
   "cell_type": "code",
   "execution_count": 469,
   "outputs": [],
   "source": [
    "# Function to update ratings based on results data\n",
    "def update_league_ratings_single_game(HomeLeague, AwayLeague, Div, FTHG, FTAG, league_ratings, rates):\n",
    "\n",
    "    #lambda: Determines to what extent the new match results influence the team ratings (could be improved to include temporal difference between matches)\n",
    "    #learning_rate_lambda = 0.054\n",
    "    learning_rate_lambda = rates['lambda2']\n",
    "\n",
    "    #psi: diminish the impact each additional goal difference error has on team ratings\n",
    "    diminishing_function_psi = lambda error: 3 * np.log10(1 + error)\n",
    "\n",
    "    #gamma: determines to what extent performances at the home grounds influence away team ratings and vice versa\n",
    "    #learning_rate_gamma = 0.79\n",
    "    learning_rate_gamma = rates['gamma2']\n",
    "\n",
    "    #print(HomeTeam, \"-\", AwayTeam, FTHG, \":\", FTAG)\n",
    "\n",
    "\n",
    "    observed_goal_difference = FTHG - FTAG\n",
    "    #print(\"Observed Goal Difference:\", observed_goal_difference)\n",
    "\n",
    "    #Calculate expected goals for home team\n",
    "    #expected_goal_x = round((10 ** (abs(ratings[HomeTeam]['brH']) / 3)) - 1,5)\n",
    "    expected_goal_x_temp = abs(league_ratings[HomeLeague][Div]['brH']) / 3\n",
    "    expected_goal_x = np.sign(league_ratings[HomeLeague][Div]['brH']) * (np.power(10, expected_goal_x_temp) - 1)\n",
    "    #print(\"Expected Goals x:\", expected_goal_x)\n",
    "\n",
    "    # Calculate expected goals for away team\n",
    "    #expected_goal_y = round((10 ** (abs(ratings[AwayTeam]['brA']) / 3)) - 1,5)\n",
    "    expected_goal_y_temp = abs(league_ratings[AwayLeague][Div]['brA']) / 3\n",
    "    expected_goal_y = np.sign(league_ratings[AwayLeague][Div]['brA']) * (np.power(10, expected_goal_y_temp) - 1)\n",
    "    #print(\"Expected Goals y:\", expected_goal_y)\n",
    "\n",
    "    # Calculate expected goal difference based on ratings\n",
    "    expected_goal_difference = expected_goal_x - expected_goal_y\n",
    "    #print(\"Expected Goal Difference:\", expected_goal_difference)\n",
    "\n",
    "    # Calculate the error between observed and expected goal difference\n",
    "    error = abs(observed_goal_difference - expected_goal_difference)\n",
    "    #print(\"error:\", error)\n",
    "\n",
    "    psi_temp = diminishing_function_psi(error)\n",
    "\n",
    "    # Diminish the impact of the goal difference error for both teams x and y respectively\n",
    "    if (expected_goal_difference < observed_goal_difference):\n",
    "        diminishing_function_psi_x = psi_temp\n",
    "        diminishing_function_psi_y = -psi_temp\n",
    "    else:\n",
    "        diminishing_function_psi_x = -psi_temp\n",
    "        diminishing_function_psi_y = psi_temp\n",
    "    #print(\"Diminishing Function psi x:\", diminishing_function_psi_x)\n",
    "    #print(\"Diminishing Function psi y:\", diminishing_function_psi_y)\n",
    "\n",
    "    # Update the home team x background ratings\n",
    "    previous_home_rating_x = league_ratings[HomeLeague][Div]['brH']\n",
    "    previous_away_rating_x = league_ratings[HomeLeague][Div]['brA']\n",
    "    #print(\"Old brH x:\", previous_home_rating_x)\n",
    "    #print(\"Old brA x:\", previous_away_rating_x)\n",
    "\n",
    "    league_ratings[HomeLeague][Div]['brH'] = previous_home_rating_x + diminishing_function_psi_x * learning_rate_lambda\n",
    "    league_ratings[HomeLeague][Div]['brA'] = previous_away_rating_x + (league_ratings[HomeLeague][Div]['brH'] - previous_home_rating_x) * learning_rate_gamma\n",
    "    #print(\"New brH x:\", ratings[HomeTeam]['brH'])\n",
    "    #print(\"New brA x:\", ratings[HomeTeam]['brA'])\n",
    "\n",
    "    # Update the away team y background ratings\n",
    "    previous_home_rating_y = league_ratings[AwayLeague][Div]['brH']\n",
    "    previous_away_rating_y = league_ratings[AwayLeague][Div]['brA']\n",
    "    #print(\"Old brH y:\", previous_home_rating_y)\n",
    "    #print(\"Old brA y:\", previous_away_rating_y)\n",
    "\n",
    "    league_ratings[AwayLeague][Div]['brA'] = previous_away_rating_y + diminishing_function_psi_y * learning_rate_lambda\n",
    "    league_ratings[AwayLeague][Div]['brH'] = previous_home_rating_y + (league_ratings[AwayLeague][Div]['brA'] - previous_away_rating_y) * learning_rate_gamma\n",
    "    #print(\"New brH y:\", ratings[AwayTeam]['brH'])\n",
    "    #print(\"New brA y:\", ratings[AwayTeam]['brA'])\n",
    "\n",
    "    #print(\"Old overunderperformance x:\", ratings[HomeTeam]['continuous_overunderperformances'])\n",
    "    #print(\"Old overunderperformance y:\", ratings[AwayTeam]['continuous_overunderperformances'])\n",
    "\n",
    "    # Update the continuous over/underperformances for the home team\n",
    "    if (observed_goal_difference > expected_goal_difference):\n",
    "        league_ratings[HomeLeague][Div]['continuous_overunderperformances'] = max(1, league_ratings[HomeLeague][Div]['continuous_overunderperformances'] + 1)\n",
    "        league_ratings[AwayLeague][Div]['continuous_overunderperformances'] = min(-1, league_ratings[AwayLeague][Div]['continuous_overunderperformances'] - 1)\n",
    "    elif (observed_goal_difference < expected_goal_difference):\n",
    "        league_ratings[HomeLeague][Div]['continuous_overunderperformances'] = min(-1, league_ratings[HomeLeague][Div]['continuous_overunderperformances'] - 1)\n",
    "        league_ratings[AwayLeague][Div]['continuous_overunderperformances'] = max(1, league_ratings[AwayLeague][Div]['continuous_overunderperformances'] + 1)\n",
    "    else:\n",
    "        league_ratings[HomeLeague][Div]['continuous_overunderperformances'] = 0\n",
    "        league_ratings[AwayLeague][Div]['continuous_overunderperformances'] = 0\n",
    "\n",
    "    #print(\"New overunderperformance x:\", ratings[HomeTeam]['continuous_overunderperformances'])\n",
    "    #print(\"New overunderperformance y:\", ratings[AwayTeam]['continuous_overunderperformances'], end='\\n\\n')\n",
    "\n",
    "    return league_ratings\n"
   ],
   "metadata": {
    "collapsed": false,
    "ExecuteTime": {
     "end_time": "2023-08-29T22:10:29.593975Z",
     "start_time": "2023-08-29T22:10:29.392250Z"
    }
   }
  },
  {
   "cell_type": "code",
   "execution_count": 470,
   "outputs": [],
   "source": [
    "def calculate_provisional_ratings(ratings, team, competition, rates):\n",
    "\n",
    "    #phi: Represents the number of continuous performances, above or below expectations, which do not trigger the form factor\n",
    "    #form_threshold_phi = 1\n",
    "    form_threshold_phi = rates['phi']\n",
    "\n",
    "    #mu: represents the rating difference used to establish provisional ratings from background ratings\n",
    "    #rating_impact_mu = 0.01\n",
    "    rating_impact_mu = rates['mu']\n",
    "\n",
    "    #delta: the level by which rating impact μ diminishes with each additional continuous over/under-performance\n",
    "    #diminishing_factor_delta = 2.5\n",
    "    diminishing_factor_delta = rates['delta']\n",
    "\n",
    "    brH = ratings[team][competition]['brH']  # Background rating home\n",
    "    brA = ratings[team][competition]['brA']  # Background rating away\n",
    "\n",
    "    return brH, brA\n",
    "    \n",
    "    \n",
    "    phi_current = abs(ratings[team][competition]['continuous_overunderperformances'])\n",
    "    \n",
    "    if abs(phi_current) < (form_threshold_phi + 1):\n",
    "        return brH, brA\n",
    "    \n",
    "    \"\"\"\n",
    "    prH = brH\n",
    "    prA = brA\n",
    "    \n",
    "    phi_diff = int(abs(phi_current) - form_threshold_phi)\n",
    "    #print(\"phi_diff:\", phi_diff)\n",
    "    for i in range(phi_diff):\n",
    "        # Calculate performance factor for home team x\n",
    "        a = phi_diff - i\n",
    "        b = a ** diminishing_factor_delta\n",
    "        form_factor_home = a / b\n",
    "        \n",
    "        prH += np.sign(phi_current) * rating_impact_mu * form_factor_home\n",
    "        prA += np.sign(phi_current) * rating_impact_mu * form_factor_home\n",
    "    \"\"\"\n",
    "    \n",
    "    # Calculate performance factor for home team x\n",
    "    a = abs(phi_current) - form_threshold_phi\n",
    "    b = a ** diminishing_factor_delta\n",
    "    form_factor_home = a / b\n",
    "\n",
    "    # Calculate provisional rating of the team\n",
    "    if (phi_current > form_threshold_phi):\n",
    "        prH = brH + rating_impact_mu * form_factor_home\n",
    "        prA = brA + rating_impact_mu * form_factor_home\n",
    "    elif (phi_current < -form_threshold_phi):\n",
    "        prH = brH - rating_impact_mu * form_factor_home\n",
    "        prA = brA - rating_impact_mu * form_factor_home\n",
    "    else:\n",
    "        prH = brH\n",
    "        prA = brA\n",
    "    \n",
    "        \n",
    "    return prH, prA"
   ],
   "metadata": {
    "collapsed": false,
    "ExecuteTime": {
     "end_time": "2023-08-29T22:10:29.761589Z",
     "start_time": "2023-08-29T22:10:29.583358Z"
    }
   }
  },
  {
   "cell_type": "code",
   "execution_count": 471,
   "outputs": [],
   "source": [
    "def calculate_probabilities(features, model):\n",
    "\n",
    "    new_game_rating_difference = np.array([features])\n",
    "    probabilities = model.predict_proba(new_game_rating_difference)\n",
    "    return probabilities[0]"
   ],
   "metadata": {
    "collapsed": false,
    "ExecuteTime": {
     "end_time": "2023-08-29T22:10:30.150357Z",
     "start_time": "2023-08-29T22:10:29.747720Z"
    }
   }
  },
  {
   "cell_type": "code",
   "execution_count": 472,
   "outputs": [],
   "source": [
    "# Function to calculate the rating difference between two teams\n",
    "def calculate_rating_difference(HomeTeam, AwayTeam, competition, ratings, league_ratings, HomeLeague, Awayleague, rates):\n",
    "    rho = rates['rho']\n",
    "    sigma = rates['sigma']\n",
    "    \n",
    "    competition1 = competition\n",
    "    competition2 = competition\n",
    "    if competition == 'INT1':\n",
    "        competition1 = HomeLeague\n",
    "        competition2 = Awayleague\n",
    "        \n",
    "    # Calculate provisional ratings if necessary\n",
    "    home_rating_x = ratings[HomeTeam][competition1]['brH']\n",
    "    away_rating_y = ratings[AwayTeam][competition2]['brA']\n",
    "    if (abs(ratings[HomeTeam][competition1]['continuous_overunderperformances']) > 1):\n",
    "        provisional_ratings_x = calculate_provisional_ratings(ratings, HomeTeam, competition1, rates)\n",
    "        home_rating_x = provisional_ratings_x[0]\n",
    "    if (abs(ratings[AwayTeam][competition2]['continuous_overunderperformances']) > 1):\n",
    "        provisional_ratings_y = calculate_provisional_ratings(ratings, AwayTeam, competition2, rates)\n",
    "        away_rating_y = provisional_ratings_y[1]\n",
    "    \n",
    "    if competition == 'INT1':\n",
    "        \"\"\"\n",
    "        if HomeTeam == 'Man City' and AwayTeam == 'Inter':\n",
    "            print('Prior home rating x:', home_rating_x)\n",
    "            print('Prior away rating y:', away_rating_y)\n",
    "            print('Home league rating x:', league_ratings[competition1]['INT1']['brH'])\n",
    "            print('Away league rating y:', league_ratings[competition2]['INT1']['brA'])\n",
    "        \"\"\"\n",
    "        home_rating_x = rho * home_rating_x + sigma * league_ratings[competition1]['INT1']['brH']\n",
    "        away_rating_y = rho * away_rating_y + sigma * league_ratings[competition2]['INT1']['brA']\n",
    "\n",
    "    # Calculate rating difference\n",
    "    rating_difference = home_rating_x - away_rating_y\n",
    "    \"\"\"\n",
    "    if HomeTeam == 'Man City' and AwayTeam == 'Inter':\n",
    "            print('Int home rating x:', home_rating_x)\n",
    "            print('Int away rating y:', away_rating_y)\n",
    "            print('Rating difference:', rating_difference, end='\\n\\n')\n",
    "    \"\"\"\n",
    "    return rating_difference"
   ],
   "metadata": {
    "collapsed": false,
    "ExecuteTime": {
     "end_time": "2023-08-29T22:10:30.207318Z",
     "start_time": "2023-08-29T22:10:29.939424Z"
    }
   }
  },
  {
   "cell_type": "code",
   "execution_count": 473,
   "outputs": [],
   "source": [
    "def predict_outcomes(df_fixtures, ratings, league_ratings, rates, model):\n",
    "    \n",
    "    all_rps = []\n",
    "    league_ratings_fake = {}\n",
    "    HomeLeague = 'fake'\n",
    "    Awayleague = 'fake'\n",
    "\n",
    "    for index, row in df_fixtures.iterrows():\n",
    "        HomeTeam = row['HomeTeam']\n",
    "        AwayTeam = row['AwayTeam']\n",
    "        competition = row['Div']\n",
    "        \n",
    "        \"\"\"\n",
    "        if index == 4039:\n",
    "            print('Home Team: ', HomeTeam)\n",
    "            print('Away Team: ', AwayTeam)\n",
    "            print('Prior home rating x: ', ratings[HomeTeam][competition]['brH'])\n",
    "            print('Prior away rating x: ', ratings[HomeTeam][competition]['brA'])\n",
    "            #print('Prior continous over- / underperformance x: ', ratings[HomeTeam][HomeLeague]['continuous_overunderperformances'])\n",
    "            print('Prior home rating y: ', ratings[AwayTeam][competition]['brH'])\n",
    "            print('Prior away rating y: ', ratings[AwayTeam][competition]['brA'])\n",
    "            #print('Prior continous over- / underperformance y: ', ratings[AwayTeam][AwayLeague]['continuous_overunderperformances'])\n",
    "        \"\"\"\n",
    "        \"\"\"\n",
    "        # Initialize league table for the competition if it doesn't exist\n",
    "        if competition not in league_tables:\n",
    "            league_tables[competition] = pd.DataFrame(columns=['team', 'games_played', 'points'])\n",
    "        \"\"\"\n",
    "        \n",
    "        rating_difference = calculate_rating_difference(HomeTeam, AwayTeam, competition, ratings, league_ratings_fake, HomeLeague, Awayleague, rates)\n",
    "        \n",
    "\n",
    "        #features = [prH_x, prA_x, prH_y, prA_y]\n",
    "        features = [rating_difference]\n",
    "\n",
    "        away_win_prob, draw_prob, home_win_prob = calculate_probabilities(features, model)\n",
    "        \n",
    "\n",
    "\n",
    "        \"\"\"\n",
    "        FTHG = int(row['FTHG'])\n",
    "        FTAG = int(row['FTAG'])\n",
    "\n",
    "\n",
    "\n",
    "        print(f\"{HomeTeam} - {AwayTeam} {FTHG}:{FTAG}\")\n",
    "        print(f\"Home Win Prob: {home_win_prob}\")\n",
    "        print(f\"Draw Prob: {draw_prob}\")\n",
    "        print(f\"Away Win Prob: {away_win_prob}\", end='\\n\\n')\n",
    "        \"\"\"\n",
    "\n",
    "\n",
    "        # Call Ranked Probability Score function\n",
    "        probs = [home_win_prob, draw_prob, away_win_prob]\n",
    "        if row[\"FTR\"] == \"H\":\n",
    "            outcome = [1, 0, 0]\n",
    "        elif row[\"FTR\"] == \"D\":\n",
    "            outcome = [0, 1, 0]\n",
    "        else:\n",
    "            outcome = [0, 0, 1]\n",
    "\n",
    "        rps_score = rps(probs, outcome)\n",
    "        #print(\"RPS Score:\", rps_score, end='\\n\\n')\n",
    "        all_rps.append(rps_score)\n",
    "        \n",
    "\n",
    "        # Update league table\n",
    "       #league_tables[competition] = update_league_table(league_tables[competition], HomeTeam, AwayTeam, home_win_prob, draw_prob, away_win_prob)\n",
    "        \n",
    "        # Update ratings\n",
    "        ratings = update_ratings_single_game(HomeTeam, AwayTeam, row['FTHG'], row['FTAG'], ratings, league_ratings, rates, competition)\n",
    "        \"\"\"\n",
    "        if index == 4039:\n",
    "            \n",
    "            print('Rating Difference: ', rating_difference)\n",
    "            print('Home Win Prob: ', home_win_prob)\n",
    "            print('Draw Prob: ', draw_prob)\n",
    "            print('Away Win Prob: ', away_win_prob)\n",
    "            print('RPS Score: ', rps_score)\n",
    "        \"\"\"\n",
    "    #print(f\"Average RPS Score for {competition}:\", np.mean(all_rps), '\\n')\n",
    "    \n",
    "    \"\"\"\n",
    "    # Sort all league tables\n",
    "    for competition, table in league_tables.items():\n",
    "        assert isinstance(table, pd.DataFrame), f\"Unexpected object: {type(table)} for competition: {competition}\"\n",
    "        table = table.sort_values(['points', 'games_played'], ascending=False)\n",
    "        table = table.reset_index(drop=True)\n",
    "        league_tables[competition] = table\n",
    "    \"\"\"\n",
    "    \n",
    "    return all_rps, league_tables\n"
   ],
   "metadata": {
    "collapsed": false,
    "ExecuteTime": {
     "end_time": "2023-08-29T22:10:30.276654Z",
     "start_time": "2023-08-29T22:10:30.117838Z"
    }
   }
  },
  {
   "cell_type": "code",
   "execution_count": 474,
   "outputs": [],
   "source": [
    "def predict_outcomes_int(df_int_fixtures, ratings, league_ratings, rates, model):\n",
    "\n",
    "    int_rps = []\n",
    "    \n",
    "    for index, row in df_int_fixtures.iterrows():\n",
    "        HomeTeam = row['HomeTeam']\n",
    "        AwayTeam = row['AwayTeam']\n",
    "        HomeLeague = row['HomeDiv']\n",
    "        AwayLeague = row['AwayDiv']\n",
    "\n",
    "        competition = row['Div']\n",
    "        \"\"\"\n",
    "        if index == 124:\n",
    "            print('Home Team: ', HomeTeam)\n",
    "            print('Away Team: ', AwayTeam)\n",
    "            print('Home League: ', HomeLeague)\n",
    "            print('Away League: ', AwayLeague)\n",
    "            print('Prior home rating x: ', ratings[HomeTeam][HomeLeague]['brH'])\n",
    "            print('Prior away rating x: ', ratings[HomeTeam][HomeLeague]['brA'])\n",
    "            #print('Prior continous over- / underperformance x: ', ratings[HomeTeam][HomeLeague]['continuous_overunderperformances'])\n",
    "            print('Prior home rating y: ', ratings[AwayTeam][AwayLeague]['brH'])\n",
    "            print('Prior away rating y: ', ratings[AwayTeam][AwayLeague]['brA'])\n",
    "            #print('Prior continous over- / underperformance y: ', ratings[AwayTeam][AwayLeague]['continuous_overunderperformances'])\n",
    "            print('Prior home league rating x: ', league_ratings[HomeLeague]['INT1']['brH'])\n",
    "            print('Prior away league rating x: ', league_ratings[HomeLeague]['INT1']['brA'])\n",
    "            #print('Prior continous over- / underperformance league of x: ', league_ratings[HomeLeague]['INT1']['continuous_overunderperformances'])\n",
    "            print('Prior home league rating y: ', league_ratings[AwayLeague]['INT1']['brH'])\n",
    "            print('Prior away league rating y: ', league_ratings[AwayLeague]['INT1']['brA'])\n",
    "            #print('Prior continous over- / underperformance league of y: ', league_ratings[AwayLeague]['INT1']['continuous_overunderperformances'])\n",
    "        \"\"\"\n",
    "        \n",
    "        rating_difference = calculate_rating_difference(HomeTeam, AwayTeam, competition, ratings, league_ratings, HomeLeague, AwayLeague, rates)\n",
    "        \n",
    "            \n",
    "            \n",
    "\n",
    "        #features = [prH_x, prA_x, prH_y, prA_y]\n",
    "        features = [rating_difference]\n",
    "\n",
    "        away_win_prob, draw_prob, home_win_prob = calculate_probabilities(features, model)\n",
    "\n",
    "\n",
    "        \"\"\"\n",
    "        FTHG = int(row['FTHG'])\n",
    "        FTAG = int(row['FTAG'])\n",
    "\n",
    "\n",
    "\n",
    "        print(f\"{HomeTeam} - {AwayTeam} {FTHG}:{FTAG}\")\n",
    "        print(f\"Home Win Prob: {home_win_prob}\")\n",
    "        print(f\"Draw Prob: {draw_prob}\")\n",
    "        print(f\"Away Win Prob: {away_win_prob}\", end='\\n')\n",
    "        \"\"\"\n",
    "        \n",
    "\n",
    "        # Call Ranked Probability Score function\n",
    "        probs = [home_win_prob, draw_prob, away_win_prob]\n",
    "        if row[\"FTR\"] == \"H\":\n",
    "            outcome = [1, 0, 0]\n",
    "        elif row[\"FTR\"] == \"D\":\n",
    "            outcome = [0, 1, 0]\n",
    "        else:\n",
    "            outcome = [0, 0, 1]\n",
    "\n",
    "        rps_score = rps(probs, outcome)\n",
    "        #print(\"RPS Score:\", rps_score, end='\\n\\n')\n",
    "        int_rps.append(rps_score)\n",
    "        \n",
    "        \"\"\"\n",
    "        if index == 124:\n",
    "            \n",
    "            print('Rating Difference: ', rating_difference)\n",
    "            print('Home Win Prob: ', home_win_prob)\n",
    "            print('Draw Prob: ', draw_prob)\n",
    "            print('Away Win Prob: ', away_win_prob)\n",
    "            print('RPS Score: ', rps_score)\n",
    "        \n",
    "        \"\"\"\n",
    "\n",
    "        # Update league_ratings\n",
    "        league_ratings = update_league_ratings_single_game(HomeLeague, AwayLeague, competition, row['FTHG'], row['FTAG'], league_ratings, rates)\n",
    "\n",
    "    print(f\"RPS for {competition}:\", np.mean(int_rps), '\\n')\n",
    "\n",
    "\n",
    "    return int_rps"
   ],
   "metadata": {
    "collapsed": false,
    "ExecuteTime": {
     "end_time": "2023-08-29T22:10:32.078435Z",
     "start_time": "2023-08-29T22:10:32.032709Z"
    }
   }
  },
  {
   "cell_type": "code",
   "execution_count": 475,
   "outputs": [],
   "source": [
    "def update_league_table(league_table, HomeTeam, AwayTeam, home_win_prob, draw_prob, away_win_prob):\n",
    "\n",
    "    # Calculate points based on probabilities\n",
    "    home_points = home_win_prob * 3 + draw_prob * 1\n",
    "    away_points = away_win_prob * 3 + draw_prob * 1\n",
    "\n",
    "    # Home team update\n",
    "    if HomeTeam in league_table['team'].values:\n",
    "        league_table.loc[league_table['team'] == HomeTeam, 'games_played'] += 1\n",
    "        league_table.loc[league_table['team'] == HomeTeam, 'points'] += home_points\n",
    "    else:\n",
    "        df_home = pd.DataFrame({'team': [HomeTeam], 'games_played': [1], 'points': [home_points]})\n",
    "        league_table = pd.concat([league_table, df_home], ignore_index=True)\n",
    "\n",
    "    # Away team update\n",
    "    if AwayTeam in league_table['team'].values:\n",
    "        league_table.loc[league_table['team'] == AwayTeam, 'games_played'] += 1\n",
    "        league_table.loc[league_table['team'] == AwayTeam, 'points'] += away_points\n",
    "    else:\n",
    "        df_away = pd.DataFrame({'team': [AwayTeam], 'games_played': [1], 'points': [away_points]})\n",
    "        league_table = pd.concat([league_table, df_away], ignore_index=True)\n",
    "\n",
    "    return league_table"
   ],
   "metadata": {
    "collapsed": false,
    "ExecuteTime": {
     "end_time": "2023-08-29T22:10:33.643168Z",
     "start_time": "2023-08-29T22:10:33.601640Z"
    }
   }
  },
  {
   "cell_type": "code",
   "execution_count": 476,
   "outputs": [],
   "source": [
    "def rps(probs, outcome):\n",
    "    cum_probs = np.cumsum(probs)\n",
    "    cum_outcomes = np.cumsum(outcome)\n",
    "\n",
    "    sum_rps = 0\n",
    "    for i in range(len(outcome)):\n",
    "        sum_rps+= (cum_probs[i] - cum_outcomes[i])**2\n",
    "\n",
    "    return sum_rps/(len(outcome)-1)"
   ],
   "metadata": {
    "collapsed": false,
    "ExecuteTime": {
     "end_time": "2023-08-29T22:10:34.708804Z",
     "start_time": "2023-08-29T22:10:34.652752Z"
    }
   }
  },
  {
   "cell_type": "code",
   "execution_count": 477,
   "outputs": [
    {
     "data": {
      "text/plain": "''"
     },
     "execution_count": 477,
     "metadata": {},
     "output_type": "execute_result"
    }
   ],
   "source": [
    "\n",
    "from sklearn.ensemble import GradientBoostingClassifier\n",
    "\n",
    "\n",
    "def train_model(df_train):\n",
    "\n",
    "    # Create Logistic Regression model\n",
    "    #model = GradientBoostingClassifier(n_estimators=100)\n",
    "    model = LogisticRegression(solver=\"saga\", penalty=\"l2\")  \n",
    "    #model = MLPClassifier(solver='lbfgs', alpha=1e-3, hidden_layer_sizes=(5, 2), max_iter=1000, random_state=23)\n",
    "\n",
    "    # Reshape rating_difference to 2D array for model fitting\n",
    "    #X = df_train[['prH_x', 'prA_x', \"prH_y\", \"prA_y\"]].values\n",
    "    X = df_train[\"rating_difference\"].values.reshape(-1, 1)\n",
    "    y = df_train['FTR']\n",
    "\n",
    "    # Split data into training and testing sets\n",
    "    X_train, X_test, y_train, y_test = train_test_split(X, y, test_size=0.0001)\n",
    "\n",
    "    # Fit the model with the training data\n",
    "    model.fit(X_train, y_train)\n",
    "\n",
    "    # Save the model and label encoder here\n",
    "    joblib.dump(model, '../Models/model.pkl')\n",
    "\n",
    "    # Evaluate the model on the test set\n",
    "    #score = model.score(X_test, y_test)\n",
    "    #print(f'Model accuracy: {score*100:.2f}%')\n",
    "\n",
    "    return model\n",
    "\n",
    ";"
   ],
   "metadata": {
    "collapsed": false,
    "ExecuteTime": {
     "end_time": "2023-08-29T22:10:37.235901Z",
     "start_time": "2023-08-29T22:10:37.180567Z"
    }
   }
  },
  {
   "cell_type": "code",
   "execution_count": 479,
   "outputs": [
    {
     "name": "stdout",
     "output_type": "stream",
     "text": [
      "Average RPS Score across all competitions: 0.2055723312304625\n",
      "RPS for INT1: 0.18939335428290593 \n",
      "\n",
      "Final average RPS Score: 0.20523174986999695\n"
     ]
    },
    {
     "data": {
      "text/plain": "''"
     },
     "execution_count": 479,
     "metadata": {},
     "output_type": "execute_result"
    }
   ],
   "source": [
    "# Main Function\n",
    "\n",
    "# Load the results data file for seasons 2010-2011 to 2021-2022\n",
    "df_results = pd.read_csv('../data/new_season_2016-2022_sorted_compressed_top2.csv')\n",
    "\n",
    "# Load the fixtures data file for the season 2022-2023\n",
    "df_fixtures = pd.read_csv('../data/new_season_2022-2023_sorted_top2.csv')\n",
    "\n",
    "# Load the international results data file\n",
    "df_int_results = pd.read_csv('../data/new_season_2016-2022_INT.csv')\n",
    "\n",
    "# Load the international fixtures data file\n",
    "df_int_fixtures = pd.read_csv('../data/new_season_2022-2023_INT.csv')\n",
    "\n",
    "# Load the domestic cup results data file\n",
    "df_dcup_results = pd.read_csv('../data/cleaned_new_season_2016-2022_DCUP.csv')\n",
    "\n",
    "# Define the learning rates\n",
    "rates = {\n",
    "    'lambda': 0.043,\n",
    "    'gamma': 0.98,\n",
    "    'delta': 2.5,\n",
    "    'phi': 1,\n",
    "    'mu': 0.0,\n",
    "    'rho': 0.86,\n",
    "    'sigma': 0.7,\n",
    "    'tau': 1.3,\n",
    "    'ind_threshold': 6000,\n",
    "    'lambda2': 0.13,\n",
    "    'gamma2': 0.96,\n",
    "}\n",
    "\n",
    "# Map teams to leagues\n",
    "df_int = pd.concat([df_int_results, df_int_fixtures], ignore_index=True)\n",
    "#team_to_league, rest_teams = create_team_to_league_mapping(df_results, df_fixtures, df_int)\n",
    "\n",
    "# Initialize ratings based on the results data\n",
    "ratings, league_ratings = initialize_ratings(df_results, df_fixtures, df_int_results, df_int_fixtures)\n",
    "\n",
    "\n",
    "\n",
    "promoted_teams_ratings = {}\n",
    "relegated_teams_ratings = {}\n",
    "\n",
    "# Update ratings based on the results data here\n",
    "ratings, games_with_ratings, training_games = update_ratings_multiple_games(df_results, ratings, league_ratings, rates)\n",
    "#model.C_\n",
    "\n",
    "# Train the model for predicting match outcomes\n",
    "df_train = pd.DataFrame(training_games)\n",
    "df_train.to_csv(\"../data/train232.csv\", index=False)\n",
    "model = train_model(df_train)\n",
    "\n",
    "\n",
    "\n",
    "\"\"\"\n",
    "# Create a reverse mapping of leagues to teams\n",
    "league_to_teams = {}\n",
    "for team, league in team_to_league.items():\n",
    "    if league not in league_to_teams:\n",
    "        league_to_teams[league] = []\n",
    "    league_to_teams[league].append(team)\n",
    "\n",
    "# Print the teams sorted by league\n",
    "for league, teams in sorted(league_to_teams.items()):\n",
    "    print(f\"{league}:\")\n",
    "    print(\", \".join(teams))\n",
    "    print()\n",
    "\"\"\"\n",
    "\n",
    "# Update league ratings based on the results data here\n",
    "league_ratings = update_league_ratings_multiple_games(df_int_results, league_ratings, rates)\n",
    "league_ratings = update_league_ratings_multiple_games(df_dcup_results, league_ratings, rates)\n",
    "\n",
    "for league, values in league_ratings.items():\n",
    "    if values['INT1']['brH'] == 0:\n",
    "        continue\n",
    "    # International rating\n",
    "    #print(f\"League: {league} (International), Rating: {(values['INT1']['brH'] + values['INT1']['brA']) / 2}\")\n",
    "    \n",
    "for league, values in league_ratings.items():\n",
    "    if values['DCUP']['brH'] == 0:\n",
    "        continue\n",
    "    # National rating\n",
    "    #print(f\"League: {league} (National), Rating: {(values['DCUP']['brH'] + values['DCUP']['brA']) / 2}\")\n",
    "\n",
    "\n",
    "# Initialize an empty league tables dictionary and rps list\n",
    "league_tables = {}\n",
    "all_rps = []\n",
    "\n",
    "# Predict the probabilities of home win, draw and away win for the fixtures data\n",
    "for competition in df_fixtures['Div'].unique():\n",
    "    competition_fixtures = df_fixtures[df_fixtures['Div'] == competition]\n",
    "    competition_rps, league_tables = predict_outcomes(competition_fixtures, ratings, league_ratings, rates, model)\n",
    "    all_rps.extend(competition_rps)  # extend the list with rps scores from the current competition\n",
    "\n",
    "# Now you can calculate the mean RPS across all competitions\n",
    "mean_rps = np.mean(all_rps)\n",
    "print(\"Average RPS Score across all competitions:\", mean_rps)\n",
    "\n",
    "\"\"\"\n",
    "print(\"Promoted teams and their average ratings:\")\n",
    "for team, rating in promoted_teams_ratings.items():\n",
    "    print(f\"{team}: {rating}\")\n",
    "\n",
    "print(\"\\nRelegated teams and their average ratings:\")\n",
    "for team, rating in relegated_teams_ratings.items():\n",
    "    print(f\"{team}: {rating}\")\n",
    "\n",
    "print('Average Rating of promoted teams:', np.mean(list(promoted_teams_ratings.values())))\n",
    "print('Average Rating of relegated teams:', np.mean(list(relegated_teams_ratings.values())))\n",
    "\"\"\"\n",
    "\n",
    "int_rps = predict_outcomes_int(df_int_fixtures, ratings, league_ratings, rates, model)\n",
    "\n",
    "\"\"\"\n",
    "# print the ratings of each league in DCUP\n",
    "for league, values in league_ratings.items():\n",
    "    if values['DCUP']['brH'] == 0:\n",
    "        continue\n",
    "    print(f\"League: {league} (National), Rating: {(values['DCUP']['brH'] + values['DCUP']['brA']) / 2}\")\n",
    "\"\"\"\n",
    "\n",
    "#combine int_rps and all_rps to one list\n",
    "combine_rps = all_rps + int_rps\n",
    "\n",
    "mean_combine_rps = np.mean(combine_rps)\n",
    "print('Final average RPS Score:', mean_combine_rps)\n",
    ";"
   ],
   "metadata": {
    "collapsed": false,
    "ExecuteTime": {
     "end_time": "2023-08-29T22:11:44.819287Z",
     "start_time": "2023-08-29T22:11:36.595597Z"
    }
   }
  },
  {
   "cell_type": "code",
   "execution_count": 466,
   "outputs": [
    {
     "name": "stderr",
     "output_type": "stream",
     "text": [
      "  4%|▍         | 1/25 [00:08<03:17,  8.23s/it]"
     ]
    },
    {
     "name": "stdout",
     "output_type": "stream",
     "text": [
      "Tau Promotion: 1.2, Tau Relegation: 1.2, Score: 0.2055144758231203\n"
     ]
    },
    {
     "name": "stderr",
     "output_type": "stream",
     "text": [
      "  8%|▊         | 2/25 [00:12<02:14,  5.83s/it]"
     ]
    },
    {
     "name": "stdout",
     "output_type": "stream",
     "text": [
      "Tau Promotion: 1.2, Tau Relegation: 1.3, Score: 0.20551376634241833\n"
     ]
    },
    {
     "name": "stderr",
     "output_type": "stream",
     "text": [
      " 12%|█▏        | 3/25 [00:16<01:51,  5.05s/it]"
     ]
    },
    {
     "name": "stdout",
     "output_type": "stream",
     "text": [
      "Tau Promotion: 1.2, Tau Relegation: 1.4, Score: 0.20552256174235092\n"
     ]
    },
    {
     "name": "stderr",
     "output_type": "stream",
     "text": [
      " 16%|█▌        | 4/25 [00:20<01:38,  4.68s/it]"
     ]
    },
    {
     "name": "stdout",
     "output_type": "stream",
     "text": [
      "Tau Promotion: 1.2, Tau Relegation: 1.5, Score: 0.2055421852142057\n"
     ]
    },
    {
     "name": "stderr",
     "output_type": "stream",
     "text": [
      " 20%|██        | 5/25 [00:24<01:29,  4.48s/it]"
     ]
    },
    {
     "name": "stdout",
     "output_type": "stream",
     "text": [
      "Tau Promotion: 1.2, Tau Relegation: 1.6, Score: 0.20557068797698808\n"
     ]
    },
    {
     "name": "stderr",
     "output_type": "stream",
     "text": [
      " 24%|██▍       | 6/25 [00:28<01:23,  4.40s/it]"
     ]
    },
    {
     "name": "stdout",
     "output_type": "stream",
     "text": [
      "Tau Promotion: 1.3, Tau Relegation: 1.2, Score: 0.20551580024450403\n"
     ]
    },
    {
     "name": "stderr",
     "output_type": "stream",
     "text": [
      " 28%|██▊       | 7/25 [00:33<01:19,  4.42s/it]"
     ]
    },
    {
     "name": "stdout",
     "output_type": "stream",
     "text": [
      "Tau Promotion: 1.3, Tau Relegation: 1.3, Score: 0.2055098301069225\n"
     ]
    },
    {
     "name": "stderr",
     "output_type": "stream",
     "text": [
      " 32%|███▏      | 8/25 [00:37<01:13,  4.32s/it]"
     ]
    },
    {
     "name": "stdout",
     "output_type": "stream",
     "text": [
      "Tau Promotion: 1.3, Tau Relegation: 1.4, Score: 0.2055149758334397\n"
     ]
    },
    {
     "name": "stderr",
     "output_type": "stream",
     "text": [
      " 36%|███▌      | 9/25 [00:41<01:08,  4.27s/it]"
     ]
    },
    {
     "name": "stdout",
     "output_type": "stream",
     "text": [
      "Tau Promotion: 1.3, Tau Relegation: 1.5, Score: 0.205530666829669\n"
     ]
    },
    {
     "name": "stderr",
     "output_type": "stream",
     "text": [
      " 40%|████      | 10/25 [00:45<01:03,  4.20s/it]"
     ]
    },
    {
     "name": "stdout",
     "output_type": "stream",
     "text": [
      "Tau Promotion: 1.3, Tau Relegation: 1.6, Score: 0.20555488800062718\n"
     ]
    },
    {
     "name": "stderr",
     "output_type": "stream",
     "text": [
      " 44%|████▍     | 11/25 [00:49<00:58,  4.15s/it]"
     ]
    },
    {
     "name": "stdout",
     "output_type": "stream",
     "text": [
      "Tau Promotion: 1.4, Tau Relegation: 1.2, Score: 0.20552215139298638\n"
     ]
    },
    {
     "name": "stderr",
     "output_type": "stream",
     "text": [
      " 48%|████▊     | 12/25 [00:53<00:53,  4.13s/it]"
     ]
    },
    {
     "name": "stdout",
     "output_type": "stream",
     "text": [
      "Tau Promotion: 1.4, Tau Relegation: 1.3, Score: 0.2055117375942838\n"
     ]
    },
    {
     "name": "stderr",
     "output_type": "stream",
     "text": [
      " 52%|█████▏    | 13/25 [00:58<00:49,  4.15s/it]"
     ]
    },
    {
     "name": "stdout",
     "output_type": "stream",
     "text": [
      "Tau Promotion: 1.4, Tau Relegation: 1.4, Score: 0.20551243347072104\n"
     ]
    },
    {
     "name": "stderr",
     "output_type": "stream",
     "text": [
      " 56%|█████▌    | 14/25 [01:02<00:46,  4.25s/it]"
     ]
    },
    {
     "name": "stdout",
     "output_type": "stream",
     "text": [
      "Tau Promotion: 1.4, Tau Relegation: 1.5, Score: 0.20552453192797665\n"
     ]
    },
    {
     "name": "stderr",
     "output_type": "stream",
     "text": [
      " 60%|██████    | 15/25 [01:06<00:41,  4.20s/it]"
     ]
    },
    {
     "name": "stdout",
     "output_type": "stream",
     "text": [
      "Tau Promotion: 1.4, Tau Relegation: 1.6, Score: 0.20554524598624854\n"
     ]
    },
    {
     "name": "stderr",
     "output_type": "stream",
     "text": [
      " 64%|██████▍   | 16/25 [01:10<00:37,  4.18s/it]"
     ]
    },
    {
     "name": "stdout",
     "output_type": "stream",
     "text": [
      "Tau Promotion: 1.5, Tau Relegation: 1.2, Score: 0.20553239807771337\n"
     ]
    },
    {
     "name": "stderr",
     "output_type": "stream",
     "text": [
      " 68%|██████▊   | 17/25 [01:14<00:33,  4.14s/it]"
     ]
    },
    {
     "name": "stdout",
     "output_type": "stream",
     "text": [
      "Tau Promotion: 1.5, Tau Relegation: 1.3, Score: 0.20551789872616114\n"
     ]
    },
    {
     "name": "stderr",
     "output_type": "stream",
     "text": [
      " 72%|███████▏  | 18/25 [01:18<00:28,  4.12s/it]"
     ]
    },
    {
     "name": "stdout",
     "output_type": "stream",
     "text": [
      "Tau Promotion: 1.5, Tau Relegation: 1.4, Score: 0.20551455397782906\n"
     ]
    },
    {
     "name": "stderr",
     "output_type": "stream",
     "text": [
      " 76%|███████▌  | 19/25 [01:22<00:24,  4.10s/it]"
     ]
    },
    {
     "name": "stdout",
     "output_type": "stream",
     "text": [
      "Tau Promotion: 1.5, Tau Relegation: 1.5, Score: 0.20552202932707242\n"
     ]
    },
    {
     "name": "stderr",
     "output_type": "stream",
     "text": [
      " 80%|████████  | 20/25 [01:27<00:20,  4.11s/it]"
     ]
    },
    {
     "name": "stdout",
     "output_type": "stream",
     "text": [
      "Tau Promotion: 1.5, Tau Relegation: 1.6, Score: 0.20553987773005708\n"
     ]
    },
    {
     "name": "stderr",
     "output_type": "stream",
     "text": [
      " 84%|████████▍ | 21/25 [01:31<00:16,  4.19s/it]"
     ]
    },
    {
     "name": "stdout",
     "output_type": "stream",
     "text": [
      "Tau Promotion: 1.6, Tau Relegation: 1.2, Score: 0.2055474545129792\n"
     ]
    },
    {
     "name": "stderr",
     "output_type": "stream",
     "text": [
      " 88%|████████▊ | 22/25 [01:35<00:12,  4.19s/it]"
     ]
    },
    {
     "name": "stdout",
     "output_type": "stream",
     "text": [
      "Tau Promotion: 1.6, Tau Relegation: 1.3, Score: 0.2055283624594303\n"
     ]
    },
    {
     "name": "stderr",
     "output_type": "stream",
     "text": [
      " 92%|█████████▏| 23/25 [01:39<00:08,  4.17s/it]"
     ]
    },
    {
     "name": "stdout",
     "output_type": "stream",
     "text": [
      "Tau Promotion: 1.6, Tau Relegation: 1.4, Score: 0.20552095051180733\n"
     ]
    },
    {
     "name": "stderr",
     "output_type": "stream",
     "text": [
      " 96%|█████████▌| 24/25 [01:43<00:04,  4.15s/it]"
     ]
    },
    {
     "name": "stdout",
     "output_type": "stream",
     "text": [
      "Tau Promotion: 1.6, Tau Relegation: 1.5, Score: 0.2055250454264121\n"
     ]
    },
    {
     "name": "stderr",
     "output_type": "stream",
     "text": [
      "100%|██████████| 25/25 [01:47<00:00,  4.32s/it]"
     ]
    },
    {
     "name": "stdout",
     "output_type": "stream",
     "text": [
      "Tau Promotion: 1.6, Tau Relegation: 1.6, Score: 0.20553929172474344\n"
     ]
    },
    {
     "name": "stderr",
     "output_type": "stream",
     "text": [
      "\n"
     ]
    }
   ],
   "source": [
    "# Gridsearch on taus\n",
    "\n",
    "# Define the learning rates\n",
    "rates = {\n",
    "    'lambda': 0.043,\n",
    "    'gamma': 0.98,\n",
    "    'delta': 2.5,\n",
    "    'phi': 1,\n",
    "    'mu': 0.0,\n",
    "    'rho': 0.86,\n",
    "    'sigma': 0.7,\n",
    "    'tau': 1.3,\n",
    "    'lambda2': 0.13,\n",
    "    'gamma2': 0.96,\n",
    "}\n",
    "\n",
    "\n",
    "# Define a parameter grid with the ranges for your parameters\n",
    "param_grid = {\n",
    "    'tau_promotion': np.linspace(1.2, 1.6, 5),\n",
    "    'tau_relegation': np.linspace(1.2, 1.6, 5)\n",
    "}\n",
    "\n",
    "# Create a ParameterGrid object from the dictionary\n",
    "grid = ParameterGrid(param_grid)\n",
    "\n",
    "# Initialize the best_score variable\n",
    "best_score = float('inf')  # assuming lower scores are better\n",
    "\n",
    "# Create an empty list to store the results\n",
    "gs_results_tau = []\n",
    "\n",
    "# Loop over the parameter combinations\n",
    "for params in tqdm.tqdm(grid):\n",
    "    # Update the rates dictionary\n",
    "    rates.update(params)\n",
    "    \n",
    "    ratings, league_ratings = initialize_ratings(df_results, df_fixtures,df_int_results, df_int_fixtures)\n",
    "    \n",
    "    # Re-train model with the new parameters\n",
    "    ratings, _, training_games = update_ratings_multiple_games(df_results, ratings, league_ratings, rates)\n",
    "\n",
    "    df_train = pd.DataFrame(training_games)\n",
    "    #df_train.to_csv(\"../data/train232.csv\", index=False)\n",
    "    model = train_model(df_train)\n",
    "    \n",
    "    all_rps = []\n",
    "    \n",
    "    for competition in df_fixtures['Div'].unique():\n",
    "        competition_fixtures = df_fixtures[df_fixtures['Div'] == competition]\n",
    "        competition_rps, league_tables = predict_outcomes(competition_fixtures, ratings, league_ratings, rates, model)\n",
    "        all_rps.extend(competition_rps)  # extend the list with rps scores from the current competition\n",
    "\n",
    "    # Now you can calculate the mean RPS across all competitions\n",
    "    mean_rps = np.mean(all_rps)\n",
    "\n",
    "    score = mean_rps\n",
    "    \n",
    "\n",
    "    # Store the current results\n",
    "    gs_results_tau.append({\n",
    "        'tau_promotion': rates['tau_promotion'],\n",
    "        'tau_relegation': rates['tau_relegation'],\n",
    "        'score': score,\n",
    "    })\n",
    "    \n",
    "    print(f\"Tau Promotion: {rates['tau_promotion']}, Tau Relegation: {rates['tau_relegation']}, Score: {score}\")"
   ],
   "metadata": {
    "collapsed": false,
    "ExecuteTime": {
     "end_time": "2023-08-29T22:08:16.518696Z",
     "start_time": "2023-08-29T22:06:28.559060Z"
    }
   }
  },
  {
   "cell_type": "code",
   "execution_count": 467,
   "outputs": [
    {
     "name": "stdout",
     "output_type": "stream",
     "text": [
      "Top 5 combinations:\n",
      "Tau Promotion: 1.3, Tau Relegation: 1.3, Score: 0.2055098301069225\n",
      "Tau Promotion: 1.4, Tau Relegation: 1.3, Score: 0.2055117375942838\n",
      "Tau Promotion: 1.4, Tau Relegation: 1.4, Score: 0.20551243347072104\n",
      "Tau Promotion: 1.2, Tau Relegation: 1.3, Score: 0.20551376634241833\n",
      "Tau Promotion: 1.2, Tau Relegation: 1.2, Score: 0.2055144758231203\n",
      "Tau Promotion: 1.5, Tau Relegation: 1.4, Score: 0.20551455397782906\n",
      "Tau Promotion: 1.3, Tau Relegation: 1.4, Score: 0.2055149758334397\n",
      "Tau Promotion: 1.3, Tau Relegation: 1.2, Score: 0.20551580024450403\n",
      "Tau Promotion: 1.5, Tau Relegation: 1.3, Score: 0.20551789872616114\n",
      "Tau Promotion: 1.6, Tau Relegation: 1.4, Score: 0.20552095051180733\n",
      "Tau Promotion: 1.5, Tau Relegation: 1.5, Score: 0.20552202932707242\n",
      "Tau Promotion: 1.4, Tau Relegation: 1.2, Score: 0.20552215139298638\n",
      "Tau Promotion: 1.2, Tau Relegation: 1.4, Score: 0.20552256174235092\n",
      "Tau Promotion: 1.4, Tau Relegation: 1.5, Score: 0.20552453192797665\n",
      "Tau Promotion: 1.6, Tau Relegation: 1.5, Score: 0.2055250454264121\n",
      "Tau Promotion: 1.6, Tau Relegation: 1.3, Score: 0.2055283624594303\n",
      "Tau Promotion: 1.3, Tau Relegation: 1.5, Score: 0.205530666829669\n",
      "Tau Promotion: 1.5, Tau Relegation: 1.2, Score: 0.20553239807771337\n",
      "Tau Promotion: 1.6, Tau Relegation: 1.6, Score: 0.20553929172474344\n",
      "Tau Promotion: 1.5, Tau Relegation: 1.6, Score: 0.20553987773005708\n",
      "Tau Promotion: 1.2, Tau Relegation: 1.5, Score: 0.2055421852142057\n",
      "Tau Promotion: 1.4, Tau Relegation: 1.6, Score: 0.20554524598624854\n",
      "Tau Promotion: 1.6, Tau Relegation: 1.2, Score: 0.2055474545129792\n",
      "Tau Promotion: 1.3, Tau Relegation: 1.6, Score: 0.20555488800062718\n",
      "Tau Promotion: 1.2, Tau Relegation: 1.6, Score: 0.20557068797698808\n"
     ]
    }
   ],
   "source": [
    "# Sort the results based on the score and get the top 5\n",
    "top_combinations = sorted(gs_results_tau, key=lambda x: x['score'])[:30]\n",
    "\n",
    "print(\"Top 5 combinations:\")\n",
    "for combo in top_combinations:\n",
    "    print(f\"Tau Promotion: {combo['tau_promotion']}, Tau Relegation: {combo['tau_relegation']}, Score: {combo['score']}\")\n",
    "\n",
    "# Convert the gs_results to a DataFrame and plot them\n",
    "\n",
    "df_gs_results_tau = pd.DataFrame(gs_results_tau)\n",
    "#to csv\n",
    "df_gs_results_tau.to_csv(\"../data/gs_results_tau.csv\", index=False)"
   ],
   "metadata": {
    "collapsed": false,
    "ExecuteTime": {
     "end_time": "2023-08-29T22:08:18.913010Z",
     "start_time": "2023-08-29T22:08:18.879427Z"
    }
   }
  },
  {
   "cell_type": "code",
   "execution_count": null,
   "outputs": [],
   "source": [
    "competitions = set(df_results['Div']).union(set(df_fixtures['Div'])).union(set(df_int['HomeDiv'])).union(set(df_int['AwayDiv']))\n",
    "for competition in competitions:\n",
    "    print(competition,':', ratings['Basel'][competition])"
   ],
   "metadata": {
    "collapsed": false
   }
  },
  {
   "cell_type": "code",
   "execution_count": null,
   "outputs": [],
   "source": [
    "                 \n",
    "plt.figure(figsize=(12, 8))\n",
    "plt.annotate(\"Background Rating over time\", (0.5, 1.05), xycoords='axes fraction', ha='center', va='center', size=16)\n",
    "df_ratings = pd.DataFrame(games_with_ratings)\n",
    "teams = [\"Arsenal\", \"Man City\", \"Man United\", \"Chelsea\", \"Tottenham\", \"Liverpool\", \"Everton\", \"Leicester\", \"West Ham\", \"Southampton\"]\n",
    "#teams = ['Arsenal', 'Man City', 'Barcelona', 'Real Madrid', 'Bayern Munich', 'Dortmund', 'Paris SG', 'Napoli', 'Juventus']\n",
    "#teams = league_to_teams['E0']\n",
    "#for team in df_ratings[\"team\"].unique()[:10]:\n",
    "for team in teams:\n",
    "    per_team = df_ratings.loc[df_ratings[\"team\"] == team]\n",
    "    plt.plot((per_team[\"home_rating\"] + per_team[\"away_rating\"]) / 2, label=team)\n",
    "plt.legend()\n",
    "plt.savefig(\"../images/ratings_over_time232.png\", dpi=300)\n",
    "\n",
    ";"
   ],
   "metadata": {
    "collapsed": false
   }
  },
  {
   "cell_type": "code",
   "execution_count": null,
   "outputs": [],
   "source": [
    "# Print league tables\n",
    "for competition, league_table in league_tables.items():\n",
    "    print(f\"League table for {competition}:\")\n",
    "    league_table_df = league_table.copy()  # creating a copy to avoid modifying the original data\n",
    "    league_table_df.index = league_table_df.index + 1\n",
    "    print(league_table_df)\n",
    "    league_table_df.index = league_table_df.index - 1\n",
    "\n",
    ";"
   ],
   "metadata": {
    "collapsed": false
   }
  },
  {
   "cell_type": "code",
   "execution_count": null,
   "outputs": [],
   "source": [
    "# Plot RPS distribution\n",
    "plt.annotate(\"RPS Distribution\", (0.5, 0.9), xycoords='axes fraction', ha='center', va='center', size=16)\n",
    "plt.hist(all_rps, bins=25)\n",
    "plt.savefig(\"../images/rps_distribution232.png\", dpi=300)\n",
    "\n",
    "\n",
    "\n",
    "\"\"\"\n",
    "for team, team_ratings in ratings.items():\n",
    "    print(f\"Team: {team}\")\n",
    "    print(f\"Background Rating Home: {team_ratings['brH']}\")\n",
    "    print(f\"Background Rating Away: {team_ratings['brA']}\")\n",
    "    print(f\"Continuous Over/Underperformances: {team_ratings['continuous_overunderperformances']}\")\n",
    "    print()\n",
    "\"\"\"\n",
    ";"
   ],
   "metadata": {
    "collapsed": false
   }
  },
  {
   "cell_type": "code",
   "execution_count": null,
   "outputs": [],
   "source": [
    "# Gridsearch on lambda and gamma\n",
    "\n",
    "# Define the learning rates\n",
    "rates = {\n",
    "    'lambda': 0.043,\n",
    "    'gamma': 0.98,\n",
    "    'delta': 2.5,\n",
    "    'phi': 1,\n",
    "    'mu': 0.0,\n",
    "    'rho': 0.9,\n",
    "    'sigma': 0.7,\n",
    "    'tau': 0.001,\n",
    "    'ind_threshold': 6000,\n",
    "    'lambda2': 0.14,\n",
    "    'gamma2': 0.96,\n",
    "    'x': 1.3,\n",
    "    'y' : 1.0,\n",
    "    'a' : -1.625,\n",
    "    'b' : 0.75\n",
    "}\n",
    "\n",
    "\n",
    "# Define a parameter grid with the ranges for your parameters\n",
    "param_grid = {\n",
    "    'lambda': np.linspace(0.04, 0.05, 11),\n",
    "    'gamma': np.linspace(0.95, 1.0, 6)\n",
    "\n",
    "}\n",
    "\n",
    "# Create a ParameterGrid object from the dictionary\n",
    "grid = ParameterGrid(param_grid)\n",
    "\n",
    "# Initialize the best_score variable\n",
    "best_score = float('inf')  # assuming lower scores are better\n",
    "\n",
    "# Create an empty list to store the results\n",
    "gs_results = []\n",
    "\n",
    "# Loop over the parameter combinations\n",
    "for params in tqdm.tqdm(grid):\n",
    "    # Update the rates dictionary\n",
    "    rates.update(params)\n",
    "    \n",
    "    ratings, league_ratings = initialize_ratings(df_results, df_fixtures,df_int_results, df_int_fixtures)\n",
    "    \n",
    "    # Re-train model with the new parameters\n",
    "    ratings, _, training_games = update_ratings_multiple_games(df_results, ratings, league_ratings, rates)\n",
    "\n",
    "    df_train = pd.DataFrame(training_games)\n",
    "    #df_train.to_csv(\"../data/train232.csv\", index=False)\n",
    "    model = train_model(df_train)\n",
    "    \n",
    "    all_rps = []\n",
    "    \n",
    "    for competition in df_fixtures['Div'].unique():\n",
    "        competition_fixtures = df_fixtures[df_fixtures['Div'] == competition]\n",
    "        competition_rps, league_tables = predict_outcomes(competition_fixtures, ratings, league_ratings, rates, model)\n",
    "        all_rps.extend(competition_rps)  # extend the list with rps scores from the current competition\n",
    "\n",
    "    # Now you can calculate the mean RPS across all competitions\n",
    "    mean_rps = np.mean(all_rps)\n",
    "\n",
    "    score = mean_rps\n",
    "    \n",
    "\n",
    "    # Store the current results\n",
    "    gs_results.append({\n",
    "        'lambda': rates['lambda'],\n",
    "        'gamma': rates['gamma'],\n",
    "        'score': score,\n",
    "    })\n",
    "    \n",
    "    print(f\"Lambda: {rates['lambda']}, Gamma: {rates['gamma']}, Score: {score}\")\n",
    "\n"
   ],
   "metadata": {
    "collapsed": false
   }
  },
  {
   "cell_type": "code",
   "execution_count": null,
   "outputs": [],
   "source": [
    "# Sort the results based on the score and get the top 5\n",
    "top_5_combinations = sorted(gs_results, key=lambda x: x['score'])[:10]\n",
    "\n",
    "print(\"Top 5 combinations:\")\n",
    "for combo in top_5_combinations:\n",
    "    print(f\"Lambda: {combo['lambda']}, Gamma: {combo['gamma']}, Score: {combo['score']}\")\n",
    "\n",
    "# Convert the gs_results to a DataFrame and plot them\n",
    "\n",
    "df_gs_results = pd.DataFrame(gs_results)\n",
    "#to csv\n",
    "df_gs_results.to_csv(\"../data/gs_resultslamgam_precise.csv\", index=False)\n",
    "\n"
   ],
   "metadata": {
    "collapsed": false
   }
  },
  {
   "cell_type": "code",
   "execution_count": 65,
   "outputs": [
    {
     "data": {
      "text/plain": "<Figure size 1000x700 with 1 Axes>",
      "image/png": "[encoded data removed]"
     },
     "metadata": {},
     "output_type": "display_data"
    },
    {
     "data": {
      "text/plain": "''"
     },
     "execution_count": 65,
     "metadata": {},
     "output_type": "execute_result"
    }
   ],
   "source": [
    "df_gs_results = pd.read_csv(\"../data/gs_resultslamgam_full_range.csv\")\n",
    "\n",
    "# Define grid of x, y values\n",
    "lambda_range = np.linspace(0.01, 0.1, num=1000)\n",
    "gamma_range = np.linspace(0.1, 1.0, num=1000)\n",
    "lambda_grid, gamma_grid = np.meshgrid(lambda_range, gamma_range)\n",
    "\n",
    "# Interpolate z values for this grid\n",
    "rps_grid = griddata((df_gs_results['lambda'], df_gs_results['gamma']), df_gs_results['score'], (lambda_grid, gamma_grid), method='cubic')\n",
    "\n",
    "# Create 3D surface plot\n",
    "fig = plt.figure(figsize=(10, 7))\n",
    "ax = fig.add_subplot(111, projection='3d')\n",
    "surf = ax.plot_surface(lambda_grid, gamma_grid, rps_grid, cmap='RdYlGn_r', edgecolor='none')\n",
    "ax.set_xlabel(r'$\\lambda_{\\mathcal{T}}$')\n",
    "ax.set_ylabel(r'$\\gamma_{\\mathcal{T}}$')\n",
    "ax.set_zlabel('RPS Score', fontsize=10, labelpad=5)\n",
    "ax.invert_zaxis()  # To make lower scores appear higher\n",
    "#fig.colorbar(surf)\n",
    "plt.savefig(\"../images/3d_plot_new_lg.png\", dpi=300)\n",
    "plt.show()\n",
    "\n",
    ";"
   ],
   "metadata": {
    "collapsed": false,
    "ExecuteTime": {
     "end_time": "2023-08-29T10:48:05.797948Z",
     "start_time": "2023-08-29T10:48:01.627362Z"
    }
   }
  },
  {
   "cell_type": "code",
   "execution_count": 49,
   "outputs": [
    {
     "name": "stderr",
     "output_type": "stream",
     "text": [
      "  0%|          | 2/441 [00:00<00:38, 11.43it/s]"
     ]
    },
    {
     "name": "stdout",
     "output_type": "stream",
     "text": [
      "RPS for INT1: 0.2105034717849795 \n",
      "\n",
      "Lambda2: 0.0, Gamma2: 0.0, Score: 0.2105034717849795\n",
      "RPS for INT1: 0.20029343749638256 \n",
      "\n",
      "Lambda2: 0.01, Gamma2: 0.0, Score: 0.20029343749638256\n",
      "RPS for INT1: 0.19726288732049968 \n",
      "\n",
      "Lambda2: 0.02, Gamma2: 0.0, Score: 0.19726288732049968\n"
     ]
    },
    {
     "name": "stderr",
     "output_type": "stream",
     "text": [
      "  1%|▏         | 6/441 [00:00<00:38, 11.16it/s]"
     ]
    },
    {
     "name": "stdout",
     "output_type": "stream",
     "text": [
      "RPS for INT1: 0.19608399210845434 \n",
      "\n",
      "Lambda2: 0.03, Gamma2: 0.0, Score: 0.19608399210845434\n",
      "RPS for INT1: 0.19549400298537095 \n",
      "\n",
      "Lambda2: 0.04, Gamma2: 0.0, Score: 0.19549400298537095\n",
      "RPS for INT1: 0.19519125234080334 \n",
      "\n",
      "Lambda2: 0.05, Gamma2: 0.0, Score: 0.19519125234080334\n"
     ]
    },
    {
     "name": "stderr",
     "output_type": "stream",
     "text": [
      "  2%|▏         | 8/441 [00:00<00:38, 11.14it/s]"
     ]
    },
    {
     "name": "stdout",
     "output_type": "stream",
     "text": [
      "RPS for INT1: 0.19507867618007135 \n",
      "\n",
      "Lambda2: 0.06, Gamma2: 0.0, Score: 0.19507867618007135\n",
      "RPS for INT1: 0.19508552097202128 \n",
      "\n",
      "Lambda2: 0.07, Gamma2: 0.0, Score: 0.19508552097202128\n",
      "RPS for INT1: 0.19515770812316266 \n",
      "\n",
      "Lambda2: 0.08, Gamma2: 0.0, Score: 0.19515770812316266\n",
      "RPS for INT1: 0.1952525087726391 \n",
      "\n",
      "Lambda2: 0.09, Gamma2: 0.0, Score: 0.1952525087726391\n"
     ]
    },
    {
     "name": "stderr",
     "output_type": "stream",
     "text": [
      "  3%|▎         | 12/441 [00:01<00:38, 11.13it/s]"
     ]
    },
    {
     "name": "stdout",
     "output_type": "stream",
     "text": [
      "RPS for INT1: 0.19534963802346847 \n",
      "\n",
      "Lambda2: 0.1, Gamma2: 0.0, Score: 0.19534963802346847\n",
      "RPS for INT1: 0.1954441217099716 \n",
      "\n",
      "Lambda2: 0.11, Gamma2: 0.0, Score: 0.1954441217099716\n",
      "RPS for INT1: 0.19553767373762526 \n",
      "\n",
      "Lambda2: 0.12, Gamma2: 0.0, Score: 0.19553767373762526\n"
     ]
    },
    {
     "name": "stderr",
     "output_type": "stream",
     "text": [
      "  4%|▎         | 16/441 [00:01<00:37, 11.21it/s]"
     ]
    },
    {
     "name": "stdout",
     "output_type": "stream",
     "text": [
      "RPS for INT1: 0.19563484226106126 \n",
      "\n",
      "Lambda2: 0.13, Gamma2: 0.0, Score: 0.19563484226106126\n",
      "RPS for INT1: 0.19574029906324758 \n",
      "\n",
      "Lambda2: 0.14, Gamma2: 0.0, Score: 0.19574029906324758\n",
      "RPS for INT1: 0.19586277124961912 \n",
      "\n",
      "Lambda2: 0.15, Gamma2: 0.0, Score: 0.19586277124961912\n"
     ]
    },
    {
     "name": "stderr",
     "output_type": "stream",
     "text": [
      "  4%|▍         | 18/441 [00:01<00:38, 11.13it/s]"
     ]
    },
    {
     "name": "stdout",
     "output_type": "stream",
     "text": [
      "RPS for INT1: 0.19599631255388367 \n",
      "\n",
      "Lambda2: 0.16, Gamma2: 0.0, Score: 0.19599631255388367\n",
      "RPS for INT1: 0.19613843883073212 \n",
      "\n",
      "Lambda2: 0.17, Gamma2: 0.0, Score: 0.19613843883073212\n",
      "RPS for INT1: 0.19629917802112773 \n",
      "\n",
      "Lambda2: 0.18, Gamma2: 0.0, Score: 0.19629917802112773\n",
      "RPS for INT1: 0.19648949387798983 \n",
      "\n",
      "Lambda2: 0.19, Gamma2: 0.0, Score: 0.19648949387798983\n"
     ]
    },
    {
     "name": "stderr",
     "output_type": "stream",
     "text": [
      "  5%|▍         | 22/441 [00:01<00:37, 11.14it/s]"
     ]
    },
    {
     "name": "stdout",
     "output_type": "stream",
     "text": [
      "RPS for INT1: 0.19671628112151354 \n",
      "\n",
      "Lambda2: 0.2, Gamma2: 0.0, Score: 0.19671628112151354\n",
      "RPS for INT1: 0.2105034717849795 \n",
      "\n",
      "Lambda2: 0.0, Gamma2: 0.05, Score: 0.2105034717849795\n",
      "RPS for INT1: 0.19995457853127835 \n",
      "\n",
      "Lambda2: 0.01, Gamma2: 0.05, Score: 0.19995457853127835\n"
     ]
    },
    {
     "name": "stderr",
     "output_type": "stream",
     "text": [
      "  6%|▌         | 26/441 [00:02<00:37, 11.13it/s]"
     ]
    },
    {
     "name": "stdout",
     "output_type": "stream",
     "text": [
      "RPS for INT1: 0.196885331251735 \n",
      "\n",
      "Lambda2: 0.02, Gamma2: 0.05, Score: 0.196885331251735\n",
      "RPS for INT1: 0.1957266926698985 \n",
      "\n",
      "Lambda2: 0.03, Gamma2: 0.05, Score: 0.1957266926698985\n",
      "RPS for INT1: 0.19517411929859363 \n",
      "\n",
      "Lambda2: 0.04, Gamma2: 0.05, Score: 0.19517411929859363\n"
     ]
    },
    {
     "name": "stderr",
     "output_type": "stream",
     "text": [
      "  6%|▋         | 28/441 [00:02<00:37, 11.08it/s]"
     ]
    },
    {
     "name": "stdout",
     "output_type": "stream",
     "text": [
      "RPS for INT1: 0.19490809595785888 \n",
      "\n",
      "Lambda2: 0.05, Gamma2: 0.05, Score: 0.19490809595785888\n",
      "RPS for INT1: 0.19482260564526416 \n",
      "\n",
      "Lambda2: 0.06, Gamma2: 0.05, Score: 0.19482260564526416\n",
      "RPS for INT1: 0.19484376036214748 \n",
      "\n",
      "Lambda2: 0.07, Gamma2: 0.05, Score: 0.19484376036214748\n",
      "RPS for INT1: 0.19492123291426752 \n",
      "\n",
      "Lambda2: 0.08, Gamma2: 0.05, Score: 0.19492123291426752\n"
     ]
    },
    {
     "name": "stderr",
     "output_type": "stream",
     "text": [
      "  7%|▋         | 32/441 [00:02<00:37, 10.87it/s]"
     ]
    },
    {
     "name": "stdout",
     "output_type": "stream",
     "text": [
      "RPS for INT1: 0.19501490786361203 \n",
      "\n",
      "Lambda2: 0.09, Gamma2: 0.05, Score: 0.19501490786361203\n",
      "RPS for INT1: 0.19510452469793146 \n",
      "\n",
      "Lambda2: 0.1, Gamma2: 0.05, Score: 0.19510452469793146\n",
      "RPS for INT1: 0.19518859877378625 \n",
      "\n",
      "Lambda2: 0.11, Gamma2: 0.05, Score: 0.19518859877378625\n"
     ]
    },
    {
     "name": "stderr",
     "output_type": "stream",
     "text": [
      "  8%|▊         | 36/441 [00:03<00:37, 10.90it/s]"
     ]
    },
    {
     "name": "stdout",
     "output_type": "stream",
     "text": [
      "RPS for INT1: 0.19526708565629014 \n",
      "\n",
      "Lambda2: 0.12, Gamma2: 0.05, Score: 0.19526708565629014\n",
      "RPS for INT1: 0.19534768781870365 \n",
      "\n",
      "Lambda2: 0.13, Gamma2: 0.05, Score: 0.19534768781870365\n",
      "RPS for INT1: 0.1954325286229456 \n",
      "\n",
      "Lambda2: 0.14, Gamma2: 0.05, Score: 0.1954325286229456\n"
     ]
    },
    {
     "name": "stderr",
     "output_type": "stream",
     "text": [
      "  9%|▊         | 38/441 [00:03<00:37, 10.88it/s]"
     ]
    },
    {
     "name": "stdout",
     "output_type": "stream",
     "text": [
      "RPS for INT1: 0.19553251834377405 \n",
      "\n",
      "Lambda2: 0.15, Gamma2: 0.05, Score: 0.19553251834377405\n",
      "RPS for INT1: 0.19564114029900845 \n",
      "\n",
      "Lambda2: 0.16, Gamma2: 0.05, Score: 0.19564114029900845\n",
      "RPS for INT1: 0.19576303278750434 \n",
      "\n",
      "Lambda2: 0.17, Gamma2: 0.05, Score: 0.19576303278750434\n"
     ]
    },
    {
     "name": "stderr",
     "output_type": "stream",
     "text": [
      " 10%|▉         | 42/441 [00:03<00:36, 10.94it/s]"
     ]
    },
    {
     "name": "stdout",
     "output_type": "stream",
     "text": [
      "RPS for INT1: 0.195906714224284 \n",
      "\n",
      "Lambda2: 0.18, Gamma2: 0.05, Score: 0.195906714224284\n",
      "RPS for INT1: 0.1960815794618354 \n",
      "\n",
      "Lambda2: 0.19, Gamma2: 0.05, Score: 0.1960815794618354\n",
      "RPS for INT1: 0.19629644860734874 \n",
      "\n",
      "Lambda2: 0.2, Gamma2: 0.05, Score: 0.19629644860734874\n"
     ]
    },
    {
     "name": "stderr",
     "output_type": "stream",
     "text": [
      " 10%|▉         | 44/441 [00:03<00:36, 10.90it/s]"
     ]
    },
    {
     "name": "stdout",
     "output_type": "stream",
     "text": [
      "RPS for INT1: 0.2105034717849795 \n",
      "\n",
      "Lambda2: 0.0, Gamma2: 0.1, Score: 0.2105034717849795\n",
      "RPS for INT1: 0.19963011167013756 \n",
      "\n",
      "Lambda2: 0.01, Gamma2: 0.1, Score: 0.19963011167013756\n",
      "RPS for INT1: 0.19652481611066475 \n",
      "\n",
      "Lambda2: 0.02, Gamma2: 0.1, Score: 0.19652481611066475\n",
      "RPS for INT1: 0.19538590809994502 \n",
      "\n",
      "Lambda2: 0.03, Gamma2: 0.1, Score: 0.19538590809994502\n"
     ]
    },
    {
     "name": "stderr",
     "output_type": "stream",
     "text": [
      " 11%|█         | 48/441 [00:04<00:36, 10.91it/s]"
     ]
    },
    {
     "name": "stdout",
     "output_type": "stream",
     "text": [
      "RPS for INT1: 0.19487051467473898 \n",
      "\n",
      "Lambda2: 0.04, Gamma2: 0.1, Score: 0.19487051467473898\n",
      "RPS for INT1: 0.19463973318018135 \n",
      "\n",
      "Lambda2: 0.05, Gamma2: 0.1, Score: 0.19463973318018135\n",
      "RPS for INT1: 0.19457772242752308 \n",
      "\n",
      "Lambda2: 0.06, Gamma2: 0.1, Score: 0.19457772242752308\n"
     ]
    },
    {
     "name": "stderr",
     "output_type": "stream",
     "text": [
      " 12%|█▏        | 52/441 [00:04<00:35, 10.85it/s]"
     ]
    },
    {
     "name": "stdout",
     "output_type": "stream",
     "text": [
      "RPS for INT1: 0.19461073707396048 \n",
      "\n",
      "Lambda2: 0.07, Gamma2: 0.1, Score: 0.19461073707396048\n",
      "RPS for INT1: 0.19469104789326744 \n",
      "\n",
      "Lambda2: 0.08, Gamma2: 0.1, Score: 0.19469104789326744\n",
      "RPS for INT1: 0.19478168281490962 \n",
      "\n",
      "Lambda2: 0.09, Gamma2: 0.1, Score: 0.19478168281490962\n"
     ]
    },
    {
     "name": "stderr",
     "output_type": "stream",
     "text": [
      " 12%|█▏        | 54/441 [00:04<00:36, 10.73it/s]"
     ]
    },
    {
     "name": "stdout",
     "output_type": "stream",
     "text": [
      "RPS for INT1: 0.19486236563359588 \n",
      "\n",
      "Lambda2: 0.1, Gamma2: 0.1, Score: 0.19486236563359588\n",
      "RPS for INT1: 0.1949349570597838 \n",
      "\n",
      "Lambda2: 0.11, Gamma2: 0.1, Score: 0.1949349570597838\n",
      "RPS for INT1: 0.1949984989540913 \n",
      "\n",
      "Lambda2: 0.12, Gamma2: 0.1, Score: 0.1949984989540913\n"
     ]
    },
    {
     "name": "stderr",
     "output_type": "stream",
     "text": [
      " 13%|█▎        | 56/441 [00:05<00:36, 10.68it/s]"
     ]
    },
    {
     "name": "stdout",
     "output_type": "stream",
     "text": [
      "RPS for INT1: 0.1950595866384311 \n",
      "\n",
      "Lambda2: 0.13, Gamma2: 0.1, Score: 0.1950595866384311\n",
      "RPS for INT1: 0.1951231533762182 \n",
      "\n",
      "Lambda2: 0.14, Gamma2: 0.1, Score: 0.1951231533762182\n",
      "RPS for INT1: 0.19520003515207524 \n",
      "\n",
      "Lambda2: 0.15, Gamma2: 0.1, Score: 0.19520003515207524\n"
     ]
    },
    {
     "name": "stderr",
     "output_type": "stream",
     "text": [
      " 14%|█▎        | 60/441 [00:05<00:38,  9.95it/s]"
     ]
    },
    {
     "name": "stdout",
     "output_type": "stream",
     "text": [
      "RPS for INT1: 0.19528804080387327 \n",
      "\n",
      "Lambda2: 0.16, Gamma2: 0.1, Score: 0.19528804080387327\n",
      "RPS for INT1: 0.1953920494568215 \n",
      "\n",
      "Lambda2: 0.17, Gamma2: 0.1, Score: 0.1953920494568215\n",
      "RPS for INT1: 0.19551965600319343 \n",
      "\n",
      "Lambda2: 0.18, Gamma2: 0.1, Score: 0.19551965600319343\n"
     ]
    },
    {
     "name": "stderr",
     "output_type": "stream",
     "text": [
      " 14%|█▍        | 63/441 [00:05<00:42,  8.86it/s]"
     ]
    },
    {
     "name": "stdout",
     "output_type": "stream",
     "text": [
      "RPS for INT1: 0.19567862088042845 \n",
      "\n",
      "Lambda2: 0.19, Gamma2: 0.1, Score: 0.19567862088042845\n",
      "RPS for INT1: 0.19588403004830207 \n",
      "\n",
      "Lambda2: 0.2, Gamma2: 0.1, Score: 0.19588403004830207\n",
      "RPS for INT1: 0.2105034717849795 \n",
      "\n",
      "Lambda2: 0.0, Gamma2: 0.15000000000000002, Score: 0.2105034717849795\n"
     ]
    },
    {
     "name": "stderr",
     "output_type": "stream",
     "text": [
      " 15%|█▍        | 66/441 [00:06<00:42,  8.86it/s]"
     ]
    },
    {
     "name": "stdout",
     "output_type": "stream",
     "text": [
      "RPS for INT1: 0.199319789261419 \n",
      "\n",
      "Lambda2: 0.01, Gamma2: 0.15000000000000002, Score: 0.199319789261419\n",
      "RPS for INT1: 0.1961800800231529 \n",
      "\n",
      "Lambda2: 0.02, Gamma2: 0.15000000000000002, Score: 0.1961800800231529\n",
      "RPS for INT1: 0.19505964579543358 \n",
      "\n",
      "Lambda2: 0.03, Gamma2: 0.15000000000000002, Score: 0.19505964579543358\n"
     ]
    },
    {
     "name": "stderr",
     "output_type": "stream",
     "text": [
      " 16%|█▌        | 69/441 [00:06<00:40,  9.23it/s]"
     ]
    },
    {
     "name": "stdout",
     "output_type": "stream",
     "text": [
      "RPS for INT1: 0.19458040253740486 \n",
      "\n",
      "Lambda2: 0.04, Gamma2: 0.15000000000000002, Score: 0.19458040253740486\n",
      "RPS for INT1: 0.19438288785622976 \n",
      "\n",
      "Lambda2: 0.05, Gamma2: 0.15000000000000002, Score: 0.19438288785622976\n",
      "RPS for INT1: 0.19434110409476044 \n",
      "\n",
      "Lambda2: 0.06, Gamma2: 0.15000000000000002, Score: 0.19434110409476044\n"
     ]
    },
    {
     "name": "stderr",
     "output_type": "stream",
     "text": [
      " 16%|█▋        | 72/441 [00:06<00:40,  9.21it/s]"
     ]
    },
    {
     "name": "stdout",
     "output_type": "stream",
     "text": [
      "RPS for INT1: 0.19438379322435775 \n",
      "\n",
      "Lambda2: 0.07, Gamma2: 0.15000000000000002, Score: 0.19438379322435775\n",
      "RPS for INT1: 0.19446556482465266 \n",
      "\n",
      "Lambda2: 0.08, Gamma2: 0.15000000000000002, Score: 0.19446556482465266\n",
      "RPS for INT1: 0.1945500045427685 \n",
      "\n",
      "Lambda2: 0.09, Gamma2: 0.15000000000000002, Score: 0.1945500045427685\n"
     ]
    },
    {
     "name": "stderr",
     "output_type": "stream",
     "text": [
      " 17%|█▋        | 75/441 [00:07<00:38,  9.45it/s]"
     ]
    },
    {
     "name": "stdout",
     "output_type": "stream",
     "text": [
      "RPS for INT1: 0.19462081215332466 \n",
      "\n",
      "Lambda2: 0.1, Gamma2: 0.15000000000000002, Score: 0.19462081215332466\n",
      "RPS for INT1: 0.19468095857134085 \n",
      "\n",
      "Lambda2: 0.11, Gamma2: 0.15000000000000002, Score: 0.19468095857134085\n",
      "RPS for INT1: 0.19472724424578494 \n",
      "\n",
      "Lambda2: 0.12, Gamma2: 0.15000000000000002, Score: 0.19472724424578494\n"
     ]
    },
    {
     "name": "stderr",
     "output_type": "stream",
     "text": [
      " 18%|█▊        | 79/441 [00:07<00:36,  9.79it/s]"
     ]
    },
    {
     "name": "stdout",
     "output_type": "stream",
     "text": [
      "RPS for INT1: 0.19476750642910975 \n",
      "\n",
      "Lambda2: 0.13, Gamma2: 0.15000000000000002, Score: 0.19476750642910975\n",
      "RPS for INT1: 0.19480948264796702 \n",
      "\n",
      "Lambda2: 0.14, Gamma2: 0.15000000000000002, Score: 0.19480948264796702\n",
      "RPS for INT1: 0.1948660974344594 \n",
      "\n",
      "Lambda2: 0.15, Gamma2: 0.15000000000000002, Score: 0.1948660974344594\n"
     ]
    },
    {
     "name": "stderr",
     "output_type": "stream",
     "text": [
      " 19%|█▊        | 82/441 [00:07<00:35, 10.02it/s]"
     ]
    },
    {
     "name": "stdout",
     "output_type": "stream",
     "text": [
      "RPS for INT1: 0.1949354166929722 \n",
      "\n",
      "Lambda2: 0.16, Gamma2: 0.15000000000000002, Score: 0.1949354166929722\n",
      "RPS for INT1: 0.19502252659421807 \n",
      "\n",
      "Lambda2: 0.17, Gamma2: 0.15000000000000002, Score: 0.19502252659421807\n",
      "RPS for INT1: 0.19513357387476662 \n",
      "\n",
      "Lambda2: 0.18, Gamma2: 0.15000000000000002, Score: 0.19513357387476662\n"
     ]
    },
    {
     "name": "stderr",
     "output_type": "stream",
     "text": [
      " 19%|█▉        | 84/441 [00:08<00:35, 10.17it/s]"
     ]
    },
    {
     "name": "stdout",
     "output_type": "stream",
     "text": [
      "RPS for INT1: 0.19527684817861812 \n",
      "\n",
      "Lambda2: 0.19, Gamma2: 0.15000000000000002, Score: 0.19527684817861812\n",
      "RPS for INT1: 0.19547108273019292 \n",
      "\n",
      "Lambda2: 0.2, Gamma2: 0.15000000000000002, Score: 0.19547108273019292\n",
      "RPS for INT1: 0.2105034717849795 \n",
      "\n",
      "Lambda2: 0.0, Gamma2: 0.2, Score: 0.2105034717849795\n",
      "RPS for INT1: 0.19902344563563373 \n",
      "\n",
      "Lambda2: 0.01, Gamma2: 0.2, Score: 0.19902344563563373\n"
     ]
    },
    {
     "name": "stderr",
     "output_type": "stream",
     "text": [
      " 20%|█▉        | 88/441 [00:08<00:33, 10.39it/s]"
     ]
    },
    {
     "name": "stdout",
     "output_type": "stream",
     "text": [
      "RPS for INT1: 0.19585007365357637 \n",
      "\n",
      "Lambda2: 0.02, Gamma2: 0.2, Score: 0.19585007365357637\n",
      "RPS for INT1: 0.1947460942770741 \n",
      "\n",
      "Lambda2: 0.03, Gamma2: 0.2, Score: 0.1947460942770741\n",
      "RPS for INT1: 0.19430113600462437 \n",
      "\n",
      "Lambda2: 0.04, Gamma2: 0.2, Score: 0.19430113600462437\n"
     ]
    },
    {
     "name": "stderr",
     "output_type": "stream",
     "text": [
      " 21%|██        | 92/441 [00:08<00:33, 10.50it/s]"
     ]
    },
    {
     "name": "stdout",
     "output_type": "stream",
     "text": [
      "RPS for INT1: 0.19413460183313905 \n",
      "\n",
      "Lambda2: 0.05, Gamma2: 0.2, Score: 0.19413460183313905\n",
      "RPS for INT1: 0.19411061748193417 \n",
      "\n",
      "Lambda2: 0.06, Gamma2: 0.2, Score: 0.19411061748193417\n",
      "RPS for INT1: 0.1941618323089443 \n",
      "\n",
      "Lambda2: 0.07, Gamma2: 0.2, Score: 0.1941618323089443\n"
     ]
    },
    {
     "name": "stderr",
     "output_type": "stream",
     "text": [
      " 21%|██▏       | 94/441 [00:09<00:33, 10.45it/s]"
     ]
    },
    {
     "name": "stdout",
     "output_type": "stream",
     "text": [
      "RPS for INT1: 0.19424309052026603 \n",
      "\n",
      "Lambda2: 0.08, Gamma2: 0.2, Score: 0.19424309052026603\n",
      "RPS for INT1: 0.19431848934457674 \n",
      "\n",
      "Lambda2: 0.09, Gamma2: 0.2, Score: 0.19431848934457674\n",
      "RPS for INT1: 0.194377249588491 \n",
      "\n",
      "Lambda2: 0.1, Gamma2: 0.2, Score: 0.194377249588491\n",
      "RPS for INT1: 0.19442191401032904 \n",
      "\n",
      "Lambda2: 0.11, Gamma2: 0.2, Score: 0.19442191401032904\n"
     ]
    },
    {
     "name": "stderr",
     "output_type": "stream",
     "text": [
      " 22%|██▏       | 98/441 [00:09<00:32, 10.58it/s]"
     ]
    },
    {
     "name": "stdout",
     "output_type": "stream",
     "text": [
      "RPS for INT1: 0.1944496692646946 \n",
      "\n",
      "Lambda2: 0.12, Gamma2: 0.2, Score: 0.1944496692646946\n",
      "RPS for INT1: 0.19446838929399482 \n",
      "\n",
      "Lambda2: 0.13, Gamma2: 0.2, Score: 0.19446838929399482\n",
      "RPS for INT1: 0.19448985433199137 \n",
      "\n",
      "Lambda2: 0.14, Gamma2: 0.2, Score: 0.19448985433199137\n"
     ]
    },
    {
     "name": "stderr",
     "output_type": "stream",
     "text": [
      " 23%|██▎       | 102/441 [00:09<00:36,  9.38it/s]"
     ]
    },
    {
     "name": "stdout",
     "output_type": "stream",
     "text": [
      "RPS for INT1: 0.1945275950629024 \n",
      "\n",
      "Lambda2: 0.15, Gamma2: 0.2, Score: 0.1945275950629024\n",
      "RPS for INT1: 0.19457852970088954 \n",
      "\n",
      "Lambda2: 0.16, Gamma2: 0.2, Score: 0.19457852970088954\n",
      "RPS for INT1: 0.19464842958871545 \n",
      "\n",
      "Lambda2: 0.17, Gamma2: 0.2, Score: 0.19464842958871545\n"
     ]
    },
    {
     "name": "stderr",
     "output_type": "stream",
     "text": [
      " 24%|██▎       | 104/441 [00:10<00:34,  9.84it/s]"
     ]
    },
    {
     "name": "stdout",
     "output_type": "stream",
     "text": [
      "RPS for INT1: 0.194742073413026 \n",
      "\n",
      "Lambda2: 0.18, Gamma2: 0.2, Score: 0.194742073413026\n",
      "RPS for INT1: 0.19487188553505583 \n",
      "\n",
      "Lambda2: 0.19, Gamma2: 0.2, Score: 0.19487188553505583\n",
      "RPS for INT1: 0.19505119038299493 \n",
      "\n",
      "Lambda2: 0.2, Gamma2: 0.2, Score: 0.19505119038299493\n",
      "RPS for INT1: 0.2105034717849795 \n",
      "\n",
      "Lambda2: 0.0, Gamma2: 0.25, Score: 0.2105034717849795\n"
     ]
    },
    {
     "name": "stderr",
     "output_type": "stream",
     "text": [
      " 24%|██▍       | 108/441 [00:10<00:31, 10.43it/s]"
     ]
    },
    {
     "name": "stdout",
     "output_type": "stream",
     "text": [
      "RPS for INT1: 0.198741021605741 \n",
      "\n",
      "Lambda2: 0.01, Gamma2: 0.25, Score: 0.198741021605741\n",
      "RPS for INT1: 0.1955339922808277 \n",
      "\n",
      "Lambda2: 0.02, Gamma2: 0.25, Score: 0.1955339922808277\n",
      "RPS for INT1: 0.19444368087831293 \n",
      "\n",
      "Lambda2: 0.03, Gamma2: 0.25, Score: 0.19444368087831293\n"
     ]
    },
    {
     "name": "stderr",
     "output_type": "stream",
     "text": [
      " 25%|██▌       | 112/441 [00:10<00:30, 10.79it/s]"
     ]
    },
    {
     "name": "stdout",
     "output_type": "stream",
     "text": [
      "RPS for INT1: 0.19403054748062443 \n",
      "\n",
      "Lambda2: 0.04, Gamma2: 0.25, Score: 0.19403054748062443\n",
      "RPS for INT1: 0.19389247265252957 \n",
      "\n",
      "Lambda2: 0.05, Gamma2: 0.25, Score: 0.19389247265252957\n",
      "RPS for INT1: 0.1938846602772577 \n",
      "\n",
      "Lambda2: 0.06, Gamma2: 0.25, Score: 0.1938846602772577\n"
     ]
    },
    {
     "name": "stderr",
     "output_type": "stream",
     "text": [
      " 26%|██▌       | 114/441 [00:10<00:30, 10.89it/s]"
     ]
    },
    {
     "name": "stdout",
     "output_type": "stream",
     "text": [
      "RPS for INT1: 0.19394332595068836 \n",
      "\n",
      "Lambda2: 0.07, Gamma2: 0.25, Score: 0.19394332595068836\n",
      "RPS for INT1: 0.19402227845738346 \n",
      "\n",
      "Lambda2: 0.08, Gamma2: 0.25, Score: 0.19402227845738346\n",
      "RPS for INT1: 0.19408718222997187 \n",
      "\n",
      "Lambda2: 0.09, Gamma2: 0.25, Score: 0.19408718222997187\n",
      "RPS for INT1: 0.19412993563537514 \n",
      "\n",
      "Lambda2: 0.1, Gamma2: 0.25, Score: 0.19412993563537514\n"
     ]
    },
    {
     "name": "stderr",
     "output_type": "stream",
     "text": [
      " 27%|██▋       | 118/441 [00:11<00:29, 11.00it/s]"
     ]
    },
    {
     "name": "stdout",
     "output_type": "stream",
     "text": [
      "RPS for INT1: 0.19415617041786337 \n",
      "\n",
      "Lambda2: 0.11, Gamma2: 0.25, Score: 0.19415617041786337\n",
      "RPS for INT1: 0.1941646235339132 \n",
      "\n",
      "Lambda2: 0.12, Gamma2: 0.25, Score: 0.1941646235339132\n",
      "RPS for INT1: 0.19416185321992424 \n",
      "\n",
      "Lambda2: 0.13, Gamma2: 0.25, Score: 0.19416185321992424\n"
     ]
    },
    {
     "name": "stderr",
     "output_type": "stream",
     "text": [
      " 28%|██▊       | 122/441 [00:11<00:28, 11.18it/s]"
     ]
    },
    {
     "name": "stdout",
     "output_type": "stream",
     "text": [
      "RPS for INT1: 0.19416467050772698 \n",
      "\n",
      "Lambda2: 0.14, Gamma2: 0.25, Score: 0.19416467050772698\n",
      "RPS for INT1: 0.19418382638680112 \n",
      "\n",
      "Lambda2: 0.15, Gamma2: 0.25, Score: 0.19418382638680112\n",
      "RPS for INT1: 0.1942162583881641 \n",
      "\n",
      "Lambda2: 0.16, Gamma2: 0.25, Score: 0.1942162583881641\n",
      "RPS for INT1: 0.19426806249778253 \n",
      "\n",
      "Lambda2: 0.17, Gamma2: 0.25, Score: 0.19426806249778253\n"
     ]
    },
    {
     "name": "stderr",
     "output_type": "stream",
     "text": [
      " 29%|██▊       | 126/441 [00:12<00:28, 11.13it/s]"
     ]
    },
    {
     "name": "stdout",
     "output_type": "stream",
     "text": [
      "RPS for INT1: 0.19434424383716697 \n",
      "\n",
      "Lambda2: 0.18, Gamma2: 0.25, Score: 0.19434424383716697\n",
      "RPS for INT1: 0.1944624546320897 \n",
      "\n",
      "Lambda2: 0.19, Gamma2: 0.25, Score: 0.1944624546320897\n",
      "RPS for INT1: 0.1946318451757812 \n",
      "\n",
      "Lambda2: 0.2, Gamma2: 0.25, Score: 0.1946318451757812\n",
      "RPS for INT1: 0.2105034717849795 \n",
      "\n",
      "Lambda2: 0.0, Gamma2: 0.30000000000000004, Score: 0.2105034717849795\n"
     ]
    },
    {
     "name": "stderr",
     "output_type": "stream",
     "text": [
      " 29%|██▉       | 130/441 [00:12<00:28, 11.11it/s]"
     ]
    },
    {
     "name": "stdout",
     "output_type": "stream",
     "text": [
      "RPS for INT1: 0.1984725492178838 \n",
      "\n",
      "Lambda2: 0.01, Gamma2: 0.30000000000000004, Score: 0.1984725492178838\n",
      "RPS for INT1: 0.1952312375352234 \n",
      "\n",
      "Lambda2: 0.02, Gamma2: 0.30000000000000004, Score: 0.1952312375352234\n",
      "RPS for INT1: 0.19415101122012038 \n",
      "\n",
      "Lambda2: 0.03, Gamma2: 0.30000000000000004, Score: 0.19415101122012038\n"
     ]
    },
    {
     "name": "stderr",
     "output_type": "stream",
     "text": [
      " 30%|██▉       | 132/441 [00:12<00:27, 11.10it/s]"
     ]
    },
    {
     "name": "stdout",
     "output_type": "stream",
     "text": [
      "RPS for INT1: 0.1937665903299859 \n",
      "\n",
      "Lambda2: 0.04, Gamma2: 0.30000000000000004, Score: 0.1937665903299859\n",
      "RPS for INT1: 0.19365435669242392 \n",
      "\n",
      "Lambda2: 0.05, Gamma2: 0.30000000000000004, Score: 0.19365435669242392\n",
      "RPS for INT1: 0.19366196959920381 \n",
      "\n",
      "Lambda2: 0.06, Gamma2: 0.30000000000000004, Score: 0.19366196959920381\n",
      "RPS for INT1: 0.19372688456020276 \n",
      "\n",
      "Lambda2: 0.07, Gamma2: 0.30000000000000004, Score: 0.19372688456020276\n"
     ]
    },
    {
     "name": "stderr",
     "output_type": "stream",
     "text": [
      " 31%|███       | 136/441 [00:12<00:27, 10.99it/s]"
     ]
    },
    {
     "name": "stdout",
     "output_type": "stream",
     "text": [
      "RPS for INT1: 0.19380197506237734 \n",
      "\n",
      "Lambda2: 0.08, Gamma2: 0.30000000000000004, Score: 0.19380197506237734\n",
      "RPS for INT1: 0.1938553665076812 \n",
      "\n",
      "Lambda2: 0.09, Gamma2: 0.30000000000000004, Score: 0.1938553665076812\n",
      "RPS for INT1: 0.1938786500647527 \n",
      "\n",
      "Lambda2: 0.1, Gamma2: 0.30000000000000004, Score: 0.1938786500647527\n"
     ]
    },
    {
     "name": "stderr",
     "output_type": "stream",
     "text": [
      " 32%|███▏      | 140/441 [00:13<00:27, 11.02it/s]"
     ]
    },
    {
     "name": "stdout",
     "output_type": "stream",
     "text": [
      "RPS for INT1: 0.1938834966971087 \n",
      "\n",
      "Lambda2: 0.11, Gamma2: 0.30000000000000004, Score: 0.1938834966971087\n",
      "RPS for INT1: 0.19387169104616414 \n",
      "\n",
      "Lambda2: 0.12, Gamma2: 0.30000000000000004, Score: 0.19387169104616414\n",
      "RPS for INT1: 0.19384974081669412 \n",
      "\n",
      "Lambda2: 0.13, Gamma2: 0.30000000000000004, Score: 0.19384974081669412\n"
     ]
    },
    {
     "name": "stderr",
     "output_type": "stream",
     "text": [
      " 32%|███▏      | 142/441 [00:13<00:27, 11.03it/s]"
     ]
    },
    {
     "name": "stdout",
     "output_type": "stream",
     "text": [
      "RPS for INT1: 0.19383379855693872 \n",
      "\n",
      "Lambda2: 0.14, Gamma2: 0.30000000000000004, Score: 0.19383379855693872\n",
      "RPS for INT1: 0.1938342446682932 \n",
      "\n",
      "Lambda2: 0.15, Gamma2: 0.30000000000000004, Score: 0.1938342446682932\n",
      "RPS for INT1: 0.19384795583990957 \n",
      "\n",
      "Lambda2: 0.16, Gamma2: 0.30000000000000004, Score: 0.19384795583990957\n",
      "RPS for INT1: 0.19388036062420283 \n",
      "\n",
      "Lambda2: 0.17, Gamma2: 0.30000000000000004, Score: 0.19388036062420283\n"
     ]
    },
    {
     "name": "stderr",
     "output_type": "stream",
     "text": [
      " 33%|███▎      | 146/441 [00:13<00:27, 10.91it/s]"
     ]
    },
    {
     "name": "stdout",
     "output_type": "stream",
     "text": [
      "RPS for INT1: 0.19394386985961162 \n",
      "\n",
      "Lambda2: 0.18, Gamma2: 0.30000000000000004, Score: 0.19394386985961162\n",
      "RPS for INT1: 0.1940603380978284 \n",
      "\n",
      "Lambda2: 0.19, Gamma2: 0.30000000000000004, Score: 0.1940603380978284\n",
      "RPS for INT1: 0.1942261290996899 \n",
      "\n",
      "Lambda2: 0.2, Gamma2: 0.30000000000000004, Score: 0.1942261290996899\n"
     ]
    },
    {
     "name": "stderr",
     "output_type": "stream",
     "text": [
      " 34%|███▍      | 150/441 [00:14<00:26, 10.88it/s]"
     ]
    },
    {
     "name": "stdout",
     "output_type": "stream",
     "text": [
      "RPS for INT1: 0.2105034717849795 \n",
      "\n",
      "Lambda2: 0.0, Gamma2: 0.35000000000000003, Score: 0.2105034717849795\n",
      "RPS for INT1: 0.19821817374485146 \n",
      "\n",
      "Lambda2: 0.01, Gamma2: 0.35000000000000003, Score: 0.19821817374485146\n",
      "RPS for INT1: 0.1949414645199091 \n",
      "\n",
      "Lambda2: 0.02, Gamma2: 0.35000000000000003, Score: 0.1949414645199091\n"
     ]
    },
    {
     "name": "stderr",
     "output_type": "stream",
     "text": [
      " 34%|███▍      | 152/441 [00:14<00:26, 10.87it/s]"
     ]
    },
    {
     "name": "stdout",
     "output_type": "stream",
     "text": [
      "RPS for INT1: 0.193866875565915 \n",
      "\n",
      "Lambda2: 0.03, Gamma2: 0.35000000000000003, Score: 0.193866875565915\n",
      "RPS for INT1: 0.1935071907619848 \n",
      "\n",
      "Lambda2: 0.04, Gamma2: 0.35000000000000003, Score: 0.1935071907619848\n",
      "RPS for INT1: 0.1934181106285192 \n",
      "\n",
      "Lambda2: 0.05, Gamma2: 0.35000000000000003, Score: 0.1934181106285192\n",
      "RPS for INT1: 0.19344105932242983 \n",
      "\n",
      "Lambda2: 0.06, Gamma2: 0.35000000000000003, Score: 0.19344105932242983\n"
     ]
    },
    {
     "name": "stderr",
     "output_type": "stream",
     "text": [
      " 35%|███▌      | 156/441 [00:14<00:26, 10.79it/s]"
     ]
    },
    {
     "name": "stdout",
     "output_type": "stream",
     "text": [
      "RPS for INT1: 0.1935111593345308 \n",
      "\n",
      "Lambda2: 0.07, Gamma2: 0.35000000000000003, Score: 0.1935111593345308\n",
      "RPS for INT1: 0.19358128192759272 \n",
      "\n",
      "Lambda2: 0.08, Gamma2: 0.35000000000000003, Score: 0.19358128192759272\n",
      "RPS for INT1: 0.19362110943512925 \n",
      "\n",
      "Lambda2: 0.09, Gamma2: 0.35000000000000003, Score: 0.19362110943512925\n"
     ]
    },
    {
     "name": "stderr",
     "output_type": "stream",
     "text": [
      " 36%|███▋      | 160/441 [00:15<00:26, 10.67it/s]"
     ]
    },
    {
     "name": "stdout",
     "output_type": "stream",
     "text": [
      "RPS for INT1: 0.19362368843801328 \n",
      "\n",
      "Lambda2: 0.1, Gamma2: 0.35000000000000003, Score: 0.19362368843801328\n",
      "RPS for INT1: 0.1936054774324761 \n",
      "\n",
      "Lambda2: 0.11, Gamma2: 0.35000000000000003, Score: 0.1936054774324761\n",
      "RPS for INT1: 0.1935706884043198 \n",
      "\n",
      "Lambda2: 0.12, Gamma2: 0.35000000000000003, Score: 0.1935706884043198\n"
     ]
    },
    {
     "name": "stderr",
     "output_type": "stream",
     "text": [
      " 37%|███▋      | 162/441 [00:15<00:26, 10.63it/s]"
     ]
    },
    {
     "name": "stdout",
     "output_type": "stream",
     "text": [
      "RPS for INT1: 0.19353192025450963 \n",
      "\n",
      "Lambda2: 0.13, Gamma2: 0.35000000000000003, Score: 0.19353192025450963\n",
      "RPS for INT1: 0.1934976930408268 \n",
      "\n",
      "Lambda2: 0.14, Gamma2: 0.35000000000000003, Score: 0.1934976930408268\n",
      "RPS for INT1: 0.19347858214494607 \n",
      "\n",
      "Lambda2: 0.15, Gamma2: 0.35000000000000003, Score: 0.19347858214494607\n",
      "RPS for INT1: 0.1934738694322212 \n",
      "\n",
      "Lambda2: 0.16, Gamma2: 0.35000000000000003, Score: 0.1934738694322212\n"
     ]
    },
    {
     "name": "stderr",
     "output_type": "stream",
     "text": [
      " 38%|███▊      | 166/441 [00:15<00:25, 10.72it/s]"
     ]
    },
    {
     "name": "stdout",
     "output_type": "stream",
     "text": [
      "RPS for INT1: 0.19349390791269575 \n",
      "\n",
      "Lambda2: 0.17, Gamma2: 0.35000000000000003, Score: 0.19349390791269575\n",
      "RPS for INT1: 0.19355738843558998 \n",
      "\n",
      "Lambda2: 0.18, Gamma2: 0.35000000000000003, Score: 0.19355738843558998\n",
      "RPS for INT1: 0.1936733231745003 \n",
      "\n",
      "Lambda2: 0.19, Gamma2: 0.35000000000000003, Score: 0.1936733231745003\n"
     ]
    },
    {
     "name": "stderr",
     "output_type": "stream",
     "text": [
      " 39%|███▊      | 170/441 [00:16<00:25, 10.60it/s]"
     ]
    },
    {
     "name": "stdout",
     "output_type": "stream",
     "text": [
      "RPS for INT1: 0.19383652597945344 \n",
      "\n",
      "Lambda2: 0.2, Gamma2: 0.35000000000000003, Score: 0.19383652597945344\n",
      "RPS for INT1: 0.2105034717849795 \n",
      "\n",
      "Lambda2: 0.0, Gamma2: 0.4, Score: 0.2105034717849795\n",
      "RPS for INT1: 0.19797816538534885 \n",
      "\n",
      "Lambda2: 0.01, Gamma2: 0.4, Score: 0.19797816538534885\n"
     ]
    },
    {
     "name": "stderr",
     "output_type": "stream",
     "text": [
      " 39%|███▉      | 172/441 [00:16<00:25, 10.58it/s]"
     ]
    },
    {
     "name": "stdout",
     "output_type": "stream",
     "text": [
      "RPS for INT1: 0.19466462983776353 \n",
      "\n",
      "Lambda2: 0.02, Gamma2: 0.4, Score: 0.19466462983776353\n",
      "RPS for INT1: 0.1935904131995657 \n",
      "\n",
      "Lambda2: 0.03, Gamma2: 0.4, Score: 0.1935904131995657\n",
      "RPS for INT1: 0.1932505610715143 \n",
      "\n",
      "Lambda2: 0.04, Gamma2: 0.4, Score: 0.1932505610715143\n"
     ]
    },
    {
     "name": "stderr",
     "output_type": "stream",
     "text": [
      " 40%|███▉      | 176/441 [00:16<00:25, 10.55it/s]"
     ]
    },
    {
     "name": "stdout",
     "output_type": "stream",
     "text": [
      "RPS for INT1: 0.19318163850131131 \n",
      "\n",
      "Lambda2: 0.05, Gamma2: 0.4, Score: 0.19318163850131131\n",
      "RPS for INT1: 0.1932199779268996 \n",
      "\n",
      "Lambda2: 0.06, Gamma2: 0.4, Score: 0.1932199779268996\n",
      "RPS for INT1: 0.193294689418569 \n",
      "\n",
      "Lambda2: 0.07, Gamma2: 0.4, Score: 0.193294689418569\n"
     ]
    },
    {
     "name": "stderr",
     "output_type": "stream",
     "text": [
      " 40%|████      | 178/441 [00:16<00:25, 10.49it/s]"
     ]
    },
    {
     "name": "stdout",
     "output_type": "stream",
     "text": [
      "RPS for INT1: 0.1933591170694141 \n",
      "\n",
      "Lambda2: 0.08, Gamma2: 0.4, Score: 0.1933591170694141\n",
      "RPS for INT1: 0.19338338510123074 \n",
      "\n",
      "Lambda2: 0.09, Gamma2: 0.4, Score: 0.19338338510123074\n",
      "RPS for INT1: 0.1933650953848169 \n",
      "\n",
      "Lambda2: 0.1, Gamma2: 0.4, Score: 0.1933650953848169\n"
     ]
    },
    {
     "name": "stderr",
     "output_type": "stream",
     "text": [
      " 41%|████▏     | 182/441 [00:17<00:24, 10.62it/s]"
     ]
    },
    {
     "name": "stdout",
     "output_type": "stream",
     "text": [
      "RPS for INT1: 0.1933235203786063 \n",
      "\n",
      "Lambda2: 0.11, Gamma2: 0.4, Score: 0.1933235203786063\n",
      "RPS for INT1: 0.19326533668985393 \n",
      "\n",
      "Lambda2: 0.12, Gamma2: 0.4, Score: 0.19326533668985393\n",
      "RPS for INT1: 0.1932079436734758 \n",
      "\n",
      "Lambda2: 0.13, Gamma2: 0.4, Score: 0.1932079436734758\n"
     ]
    },
    {
     "name": "stderr",
     "output_type": "stream",
     "text": [
      " 42%|████▏     | 184/441 [00:17<00:24, 10.64it/s]"
     ]
    },
    {
     "name": "stdout",
     "output_type": "stream",
     "text": [
      "RPS for INT1: 0.19315670175438054 \n",
      "\n",
      "Lambda2: 0.14, Gamma2: 0.4, Score: 0.19315670175438054\n",
      "RPS for INT1: 0.19311915245628059 \n",
      "\n",
      "Lambda2: 0.15, Gamma2: 0.4, Score: 0.19311915245628059\n",
      "RPS for INT1: 0.19310566531751042 \n",
      "\n",
      "Lambda2: 0.16, Gamma2: 0.4, Score: 0.19310566531751042\n",
      "RPS for INT1: 0.19312306840105728 \n",
      "\n",
      "Lambda2: 0.17, Gamma2: 0.4, Score: 0.19312306840105728\n"
     ]
    },
    {
     "name": "stderr",
     "output_type": "stream",
     "text": [
      " 43%|████▎     | 188/441 [00:17<00:24, 10.49it/s]"
     ]
    },
    {
     "name": "stdout",
     "output_type": "stream",
     "text": [
      "RPS for INT1: 0.19318776261135673 \n",
      "\n",
      "Lambda2: 0.18, Gamma2: 0.4, Score: 0.19318776261135673\n",
      "RPS for INT1: 0.19330413834306825 \n",
      "\n",
      "Lambda2: 0.19, Gamma2: 0.4, Score: 0.19330413834306825\n",
      "RPS for INT1: 0.19346629304457974 \n",
      "\n",
      "Lambda2: 0.2, Gamma2: 0.4, Score: 0.19346629304457974\n"
     ]
    },
    {
     "name": "stderr",
     "output_type": "stream",
     "text": [
      " 44%|████▎     | 192/441 [00:18<00:23, 10.48it/s]"
     ]
    },
    {
     "name": "stdout",
     "output_type": "stream",
     "text": [
      "RPS for INT1: 0.2105034717849795 \n",
      "\n",
      "Lambda2: 0.0, Gamma2: 0.45, Score: 0.2105034717849795\n",
      "RPS for INT1: 0.19775294079308903 \n",
      "\n",
      "Lambda2: 0.01, Gamma2: 0.45, Score: 0.19775294079308903\n",
      "RPS for INT1: 0.19440105357017304 \n",
      "\n",
      "Lambda2: 0.02, Gamma2: 0.45, Score: 0.19440105357017304\n"
     ]
    },
    {
     "name": "stderr",
     "output_type": "stream",
     "text": [
      " 44%|████▍     | 194/441 [00:18<00:23, 10.46it/s]"
     ]
    },
    {
     "name": "stdout",
     "output_type": "stream",
     "text": [
      "RPS for INT1: 0.19332121632288746 \n",
      "\n",
      "Lambda2: 0.03, Gamma2: 0.45, Score: 0.19332121632288746\n",
      "RPS for INT1: 0.19299536190726801 \n",
      "\n",
      "Lambda2: 0.04, Gamma2: 0.45, Score: 0.19299536190726801\n",
      "RPS for INT1: 0.19294326265310063 \n",
      "\n",
      "Lambda2: 0.05, Gamma2: 0.45, Score: 0.19294326265310063\n"
     ]
    },
    {
     "name": "stderr",
     "output_type": "stream",
     "text": [
      " 45%|████▍     | 198/441 [00:18<00:23, 10.55it/s]"
     ]
    },
    {
     "name": "stdout",
     "output_type": "stream",
     "text": [
      "RPS for INT1: 0.19299665256928708 \n",
      "\n",
      "Lambda2: 0.06, Gamma2: 0.45, Score: 0.19299665256928708\n",
      "RPS for INT1: 0.19307589196802602 \n",
      "\n",
      "Lambda2: 0.07, Gamma2: 0.45, Score: 0.19307589196802602\n",
      "RPS for INT1: 0.19313447777005202 \n",
      "\n",
      "Lambda2: 0.08, Gamma2: 0.45, Score: 0.19313447777005202\n"
     ]
    },
    {
     "name": "stderr",
     "output_type": "stream",
     "text": [
      " 45%|████▌     | 200/441 [00:18<00:22, 10.51it/s]"
     ]
    },
    {
     "name": "stdout",
     "output_type": "stream",
     "text": [
      "RPS for INT1: 0.19314224245849096 \n",
      "\n",
      "Lambda2: 0.09, Gamma2: 0.45, Score: 0.19314224245849096\n",
      "RPS for INT1: 0.19310362979298806 \n",
      "\n",
      "Lambda2: 0.1, Gamma2: 0.45, Score: 0.19310362979298806\n",
      "RPS for INT1: 0.19303895909080926 \n",
      "\n",
      "Lambda2: 0.11, Gamma2: 0.45, Score: 0.19303895909080926\n",
      "RPS for INT1: 0.19295865141279914 \n",
      "\n",
      "Lambda2: 0.12, Gamma2: 0.45, Score: 0.19295865141279914\n"
     ]
    },
    {
     "name": "stderr",
     "output_type": "stream",
     "text": [
      " 46%|████▋     | 204/441 [00:19<00:22, 10.62it/s]"
     ]
    },
    {
     "name": "stdout",
     "output_type": "stream",
     "text": [
      "RPS for INT1: 0.1928809310272211 \n",
      "\n",
      "Lambda2: 0.13, Gamma2: 0.45, Score: 0.1928809310272211\n",
      "RPS for INT1: 0.19281357435047264 \n",
      "\n",
      "Lambda2: 0.14, Gamma2: 0.45, Score: 0.19281357435047264\n",
      "RPS for INT1: 0.19276902835664406 \n",
      "\n",
      "Lambda2: 0.15, Gamma2: 0.45, Score: 0.19276902835664406\n"
     ]
    },
    {
     "name": "stderr",
     "output_type": "stream",
     "text": [
      " 47%|████▋     | 208/441 [00:19<00:22, 10.58it/s]"
     ]
    },
    {
     "name": "stdout",
     "output_type": "stream",
     "text": [
      "RPS for INT1: 0.19275079292909633 \n",
      "\n",
      "Lambda2: 0.16, Gamma2: 0.45, Score: 0.19275079292909633\n",
      "RPS for INT1: 0.19276853618435183 \n",
      "\n",
      "Lambda2: 0.17, Gamma2: 0.45, Score: 0.19276853618435183\n",
      "RPS for INT1: 0.19283488297284437 \n",
      "\n",
      "Lambda2: 0.18, Gamma2: 0.45, Score: 0.19283488297284437\n"
     ]
    },
    {
     "name": "stderr",
     "output_type": "stream",
     "text": [
      " 48%|████▊     | 210/441 [00:19<00:21, 10.55it/s]"
     ]
    },
    {
     "name": "stdout",
     "output_type": "stream",
     "text": [
      "RPS for INT1: 0.1929519261090229 \n",
      "\n",
      "Lambda2: 0.19, Gamma2: 0.45, Score: 0.1929519261090229\n",
      "RPS for INT1: 0.19311368256620537 \n",
      "\n",
      "Lambda2: 0.2, Gamma2: 0.45, Score: 0.19311368256620537\n",
      "RPS for INT1: 0.2105034717849795 \n",
      "\n",
      "Lambda2: 0.0, Gamma2: 0.5, Score: 0.2105034717849795\n"
     ]
    },
    {
     "name": "stderr",
     "output_type": "stream",
     "text": [
      " 49%|████▊     | 214/441 [00:20<00:21, 10.65it/s]"
     ]
    },
    {
     "name": "stdout",
     "output_type": "stream",
     "text": [
      "RPS for INT1: 0.19754310533231992 \n",
      "\n",
      "Lambda2: 0.01, Gamma2: 0.5, Score: 0.19754310533231992\n",
      "RPS for INT1: 0.19415151362724165 \n",
      "\n",
      "Lambda2: 0.02, Gamma2: 0.5, Score: 0.19415151362724165\n",
      "RPS for INT1: 0.19305933139353953 \n",
      "\n",
      "Lambda2: 0.03, Gamma2: 0.5, Score: 0.19305933139353953\n"
     ]
    },
    {
     "name": "stderr",
     "output_type": "stream",
     "text": [
      " 49%|████▉     | 216/441 [00:20<00:21, 10.68it/s]"
     ]
    },
    {
     "name": "stdout",
     "output_type": "stream",
     "text": [
      "RPS for INT1: 0.1927404095498591 \n",
      "\n",
      "Lambda2: 0.04, Gamma2: 0.5, Score: 0.1927404095498591\n",
      "RPS for INT1: 0.1927015021753002 \n",
      "\n",
      "Lambda2: 0.05, Gamma2: 0.5, Score: 0.1927015021753002\n",
      "RPS for INT1: 0.19276884832761915 \n",
      "\n",
      "Lambda2: 0.06, Gamma2: 0.5, Score: 0.19276884832761915\n"
     ]
    },
    {
     "name": "stderr",
     "output_type": "stream",
     "text": [
      " 50%|████▉     | 220/441 [00:20<00:20, 10.66it/s]"
     ]
    },
    {
     "name": "stdout",
     "output_type": "stream",
     "text": [
      "RPS for INT1: 0.1928529173483572 \n",
      "\n",
      "Lambda2: 0.07, Gamma2: 0.5, Score: 0.1928529173483572\n",
      "RPS for INT1: 0.19290550852797933 \n",
      "\n",
      "Lambda2: 0.08, Gamma2: 0.5, Score: 0.19290550852797933\n",
      "RPS for INT1: 0.19289848987874333 \n",
      "\n",
      "Lambda2: 0.09, Gamma2: 0.5, Score: 0.19289848987874333\n"
     ]
    },
    {
     "name": "stderr",
     "output_type": "stream",
     "text": [
      " 50%|█████     | 222/441 [00:21<00:20, 10.77it/s]"
     ]
    },
    {
     "name": "stdout",
     "output_type": "stream",
     "text": [
      "RPS for INT1: 0.1928407607250529 \n",
      "\n",
      "Lambda2: 0.1, Gamma2: 0.5, Score: 0.1928407607250529\n",
      "RPS for INT1: 0.1927538710693821 \n",
      "\n",
      "Lambda2: 0.11, Gamma2: 0.5, Score: 0.1927538710693821\n",
      "RPS for INT1: 0.19265230973705103 \n",
      "\n",
      "Lambda2: 0.12, Gamma2: 0.5, Score: 0.19265230973705103\n",
      "RPS for INT1: 0.19255703409276226 \n",
      "\n",
      "Lambda2: 0.13, Gamma2: 0.5, Score: 0.19255703409276226\n"
     ]
    },
    {
     "name": "stderr",
     "output_type": "stream",
     "text": [
      " 51%|█████     | 226/441 [00:21<00:19, 10.83it/s]"
     ]
    },
    {
     "name": "stdout",
     "output_type": "stream",
     "text": [
      "RPS for INT1: 0.19248229989570423 \n",
      "\n",
      "Lambda2: 0.14, Gamma2: 0.5, Score: 0.19248229989570423\n",
      "RPS for INT1: 0.19243286946456806 \n",
      "\n",
      "Lambda2: 0.15, Gamma2: 0.5, Score: 0.19243286946456806\n",
      "RPS for INT1: 0.19241201973433786 \n",
      "\n",
      "Lambda2: 0.16, Gamma2: 0.5, Score: 0.19241201973433786\n"
     ]
    },
    {
     "name": "stderr",
     "output_type": "stream",
     "text": [
      " 52%|█████▏    | 230/441 [00:21<00:19, 10.89it/s]"
     ]
    },
    {
     "name": "stdout",
     "output_type": "stream",
     "text": [
      "RPS for INT1: 0.1924305605243458 \n",
      "\n",
      "Lambda2: 0.17, Gamma2: 0.5, Score: 0.1924305605243458\n",
      "RPS for INT1: 0.1924977449185025 \n",
      "\n",
      "Lambda2: 0.18, Gamma2: 0.5, Score: 0.1924977449185025\n",
      "RPS for INT1: 0.1926140646814813 \n",
      "\n",
      "Lambda2: 0.19, Gamma2: 0.5, Score: 0.1926140646814813\n"
     ]
    },
    {
     "name": "stderr",
     "output_type": "stream",
     "text": [
      " 53%|█████▎    | 232/441 [00:21<00:19, 10.72it/s]"
     ]
    },
    {
     "name": "stdout",
     "output_type": "stream",
     "text": [
      "RPS for INT1: 0.19277426118333119 \n",
      "\n",
      "Lambda2: 0.2, Gamma2: 0.5, Score: 0.19277426118333119\n",
      "RPS for INT1: 0.2105034717849795 \n",
      "\n",
      "Lambda2: 0.0, Gamma2: 0.55, Score: 0.2105034717849795\n",
      "RPS for INT1: 0.19734946714723972 \n",
      "\n",
      "Lambda2: 0.01, Gamma2: 0.55, Score: 0.19734946714723972\n"
     ]
    },
    {
     "name": "stderr",
     "output_type": "stream",
     "text": [
      " 54%|█████▎    | 236/441 [00:22<00:19, 10.79it/s]"
     ]
    },
    {
     "name": "stdout",
     "output_type": "stream",
     "text": [
      "RPS for INT1: 0.19391737438135778 \n",
      "\n",
      "Lambda2: 0.02, Gamma2: 0.55, Score: 0.19391737438135778\n",
      "RPS for INT1: 0.1928054281906573 \n",
      "\n",
      "Lambda2: 0.03, Gamma2: 0.55, Score: 0.1928054281906573\n",
      "RPS for INT1: 0.19248504925352494 \n",
      "\n",
      "Lambda2: 0.04, Gamma2: 0.55, Score: 0.19248504925352494\n"
     ]
    },
    {
     "name": "stderr",
     "output_type": "stream",
     "text": [
      " 54%|█████▍    | 238/441 [00:22<00:18, 10.85it/s]"
     ]
    },
    {
     "name": "stdout",
     "output_type": "stream",
     "text": [
      "RPS for INT1: 0.19245478977370098 \n",
      "\n",
      "Lambda2: 0.05, Gamma2: 0.55, Score: 0.19245478977370098\n",
      "RPS for INT1: 0.19253422700683873 \n",
      "\n",
      "Lambda2: 0.06, Gamma2: 0.55, Score: 0.19253422700683873\n",
      "RPS for INT1: 0.19262343618043049 \n",
      "\n",
      "Lambda2: 0.07, Gamma2: 0.55, Score: 0.19262343618043049\n",
      "RPS for INT1: 0.1926711427298322 \n",
      "\n",
      "Lambda2: 0.08, Gamma2: 0.55, Score: 0.1926711427298322\n"
     ]
    },
    {
     "name": "stderr",
     "output_type": "stream",
     "text": [
      " 55%|█████▍    | 242/441 [00:22<00:19, 10.33it/s]"
     ]
    },
    {
     "name": "stdout",
     "output_type": "stream",
     "text": [
      "RPS for INT1: 0.19265189294351462 \n",
      "\n",
      "Lambda2: 0.09, Gamma2: 0.55, Score: 0.19265189294351462\n",
      "RPS for INT1: 0.19257787458390657 \n",
      "\n",
      "Lambda2: 0.1, Gamma2: 0.55, Score: 0.19257787458390657\n",
      "RPS for INT1: 0.19247080417876825 \n",
      "\n",
      "Lambda2: 0.11, Gamma2: 0.55, Score: 0.19247080417876825\n"
     ]
    },
    {
     "name": "stderr",
     "output_type": "stream",
     "text": [
      " 56%|█████▌    | 246/441 [00:23<00:18, 10.42it/s]"
     ]
    },
    {
     "name": "stdout",
     "output_type": "stream",
     "text": [
      "RPS for INT1: 0.1923502593491321 \n",
      "\n",
      "Lambda2: 0.12, Gamma2: 0.55, Score: 0.1923502593491321\n",
      "RPS for INT1: 0.19224751384688077 \n",
      "\n",
      "Lambda2: 0.13, Gamma2: 0.55, Score: 0.19224751384688077\n",
      "RPS for INT1: 0.19216739303841254 \n",
      "\n",
      "Lambda2: 0.14, Gamma2: 0.55, Score: 0.19216739303841254\n"
     ]
    },
    {
     "name": "stderr",
     "output_type": "stream",
     "text": [
      " 56%|█████▌    | 248/441 [00:23<00:18, 10.45it/s]"
     ]
    },
    {
     "name": "stdout",
     "output_type": "stream",
     "text": [
      "RPS for INT1: 0.19211338393262203 \n",
      "\n",
      "Lambda2: 0.15, Gamma2: 0.55, Score: 0.19211338393262203\n",
      "RPS for INT1: 0.19208934609610664 \n",
      "\n",
      "Lambda2: 0.16, Gamma2: 0.55, Score: 0.19208934609610664\n",
      "RPS for INT1: 0.19210836582092278 \n",
      "\n",
      "Lambda2: 0.17, Gamma2: 0.55, Score: 0.19210836582092278\n",
      "RPS for INT1: 0.1921756792453045 \n",
      "\n",
      "Lambda2: 0.18, Gamma2: 0.55, Score: 0.1921756792453045\n"
     ]
    },
    {
     "name": "stderr",
     "output_type": "stream",
     "text": [
      " 57%|█████▋    | 252/441 [00:23<00:18, 10.45it/s]"
     ]
    },
    {
     "name": "stdout",
     "output_type": "stream",
     "text": [
      "RPS for INT1: 0.19229171411507207 \n",
      "\n",
      "Lambda2: 0.19, Gamma2: 0.55, Score: 0.19229171411507207\n",
      "RPS for INT1: 0.19245478232131225 \n",
      "\n",
      "Lambda2: 0.2, Gamma2: 0.55, Score: 0.19245478232131225\n",
      "RPS for INT1: 0.2105034717849795 \n",
      "\n",
      "Lambda2: 0.0, Gamma2: 0.6000000000000001, Score: 0.2105034717849795\n"
     ]
    },
    {
     "name": "stderr",
     "output_type": "stream",
     "text": [
      " 58%|█████▊    | 256/441 [00:24<00:17, 10.41it/s]"
     ]
    },
    {
     "name": "stdout",
     "output_type": "stream",
     "text": [
      "RPS for INT1: 0.19717301921621705 \n",
      "\n",
      "Lambda2: 0.01, Gamma2: 0.6000000000000001, Score: 0.19717301921621705\n",
      "RPS for INT1: 0.19370072515971726 \n",
      "\n",
      "Lambda2: 0.02, Gamma2: 0.6000000000000001, Score: 0.19370072515971726\n",
      "RPS for INT1: 0.19256118257758348 \n",
      "\n",
      "Lambda2: 0.03, Gamma2: 0.6000000000000001, Score: 0.19256118257758348\n"
     ]
    },
    {
     "name": "stderr",
     "output_type": "stream",
     "text": [
      " 59%|█████▊    | 258/441 [00:24<00:17, 10.39it/s]"
     ]
    },
    {
     "name": "stdout",
     "output_type": "stream",
     "text": [
      "RPS for INT1: 0.19222960157034064 \n",
      "\n",
      "Lambda2: 0.04, Gamma2: 0.6000000000000001, Score: 0.19222960157034064\n",
      "RPS for INT1: 0.19220139220512433 \n",
      "\n",
      "Lambda2: 0.05, Gamma2: 0.6000000000000001, Score: 0.19220139220512433\n",
      "RPS for INT1: 0.19228969499522947 \n",
      "\n",
      "Lambda2: 0.06, Gamma2: 0.6000000000000001, Score: 0.19228969499522947\n"
     ]
    },
    {
     "name": "stderr",
     "output_type": "stream",
     "text": [
      " 59%|█████▉    | 262/441 [00:24<00:17, 10.30it/s]"
     ]
    },
    {
     "name": "stdout",
     "output_type": "stream",
     "text": [
      "RPS for INT1: 0.19238416525666094 \n",
      "\n",
      "Lambda2: 0.07, Gamma2: 0.6000000000000001, Score: 0.19238416525666094\n",
      "RPS for INT1: 0.19242892656771893 \n",
      "\n",
      "Lambda2: 0.08, Gamma2: 0.6000000000000001, Score: 0.19242892656771893\n",
      "RPS for INT1: 0.19240126152385315 \n",
      "\n",
      "Lambda2: 0.09, Gamma2: 0.6000000000000001, Score: 0.19240126152385315\n"
     ]
    },
    {
     "name": "stderr",
     "output_type": "stream",
     "text": [
      " 60%|█████▉    | 264/441 [00:25<00:17, 10.22it/s]"
     ]
    },
    {
     "name": "stdout",
     "output_type": "stream",
     "text": [
      "RPS for INT1: 0.1923154569895316 \n",
      "\n",
      "Lambda2: 0.1, Gamma2: 0.6000000000000001, Score: 0.1923154569895316\n",
      "RPS for INT1: 0.1921916096490113 \n",
      "\n",
      "Lambda2: 0.11, Gamma2: 0.6000000000000001, Score: 0.1921916096490113\n",
      "RPS for INT1: 0.19206271753441034 \n",
      "\n",
      "Lambda2: 0.12, Gamma2: 0.6000000000000001, Score: 0.19206271753441034\n"
     ]
    },
    {
     "name": "stderr",
     "output_type": "stream",
     "text": [
      " 61%|██████    | 268/441 [00:25<00:16, 10.32it/s]"
     ]
    },
    {
     "name": "stdout",
     "output_type": "stream",
     "text": [
      "RPS for INT1: 0.1919550452709018 \n",
      "\n",
      "Lambda2: 0.13, Gamma2: 0.6000000000000001, Score: 0.1919550452709018\n",
      "RPS for INT1: 0.19187055148466997 \n",
      "\n",
      "Lambda2: 0.14, Gamma2: 0.6000000000000001, Score: 0.19187055148466997\n",
      "RPS for INT1: 0.19181290479153534 \n",
      "\n",
      "Lambda2: 0.15, Gamma2: 0.6000000000000001, Score: 0.19181290479153534\n"
     ]
    },
    {
     "name": "stderr",
     "output_type": "stream",
     "text": [
      " 61%|██████    | 270/441 [00:25<00:16, 10.34it/s]"
     ]
    },
    {
     "name": "stdout",
     "output_type": "stream",
     "text": [
      "RPS for INT1: 0.19178627588710437 \n",
      "\n",
      "Lambda2: 0.16, Gamma2: 0.6000000000000001, Score: 0.19178627588710437\n",
      "RPS for INT1: 0.1918048491911912 \n",
      "\n",
      "Lambda2: 0.17, Gamma2: 0.6000000000000001, Score: 0.1918048491911912\n",
      "RPS for INT1: 0.19187477245663628 \n",
      "\n",
      "Lambda2: 0.18, Gamma2: 0.6000000000000001, Score: 0.19187477245663628\n"
     ]
    },
    {
     "name": "stderr",
     "output_type": "stream",
     "text": [
      " 62%|██████▏   | 274/441 [00:25<00:16, 10.33it/s]"
     ]
    },
    {
     "name": "stdout",
     "output_type": "stream",
     "text": [
      "RPS for INT1: 0.19199366735540088 \n",
      "\n",
      "Lambda2: 0.19, Gamma2: 0.6000000000000001, Score: 0.19199366735540088\n",
      "RPS for INT1: 0.19215996123444257 \n",
      "\n",
      "Lambda2: 0.2, Gamma2: 0.6000000000000001, Score: 0.19215996123444257\n",
      "RPS for INT1: 0.2105034717849795 \n",
      "\n",
      "Lambda2: 0.0, Gamma2: 0.65, Score: 0.2105034717849795\n"
     ]
    },
    {
     "name": "stderr",
     "output_type": "stream",
     "text": [
      " 63%|██████▎   | 276/441 [00:26<00:15, 10.34it/s]"
     ]
    },
    {
     "name": "stdout",
     "output_type": "stream",
     "text": [
      "RPS for INT1: 0.1970150090237491 \n",
      "\n",
      "Lambda2: 0.01, Gamma2: 0.65, Score: 0.1970150090237491\n",
      "RPS for INT1: 0.19350461749510056 \n",
      "\n",
      "Lambda2: 0.02, Gamma2: 0.65, Score: 0.19350461749510056\n",
      "RPS for INT1: 0.19232947038168297 \n",
      "\n",
      "Lambda2: 0.03, Gamma2: 0.65, Score: 0.19232947038168297\n"
     ]
    },
    {
     "name": "stderr",
     "output_type": "stream",
     "text": [
      " 63%|██████▎   | 280/441 [00:26<00:15, 10.52it/s]"
     ]
    },
    {
     "name": "stdout",
     "output_type": "stream",
     "text": [
      "RPS for INT1: 0.19197555886450873 \n",
      "\n",
      "Lambda2: 0.04, Gamma2: 0.65, Score: 0.19197555886450873\n",
      "RPS for INT1: 0.191940366959974 \n",
      "\n",
      "Lambda2: 0.05, Gamma2: 0.65, Score: 0.191940366959974\n",
      "RPS for INT1: 0.1920317976741454 \n",
      "\n",
      "Lambda2: 0.06, Gamma2: 0.65, Score: 0.1920317976741454\n"
     ]
    },
    {
     "name": "stderr",
     "output_type": "stream",
     "text": [
      " 64%|██████▍   | 282/441 [00:26<00:15, 10.52it/s]"
     ]
    },
    {
     "name": "stdout",
     "output_type": "stream",
     "text": [
      "RPS for INT1: 0.19213027315968378 \n",
      "\n",
      "Lambda2: 0.07, Gamma2: 0.65, Score: 0.19213027315968378\n",
      "RPS for INT1: 0.19217388795170245 \n",
      "\n",
      "Lambda2: 0.08, Gamma2: 0.65, Score: 0.19217388795170245\n"
     ]
    },
    {
     "name": "stderr",
     "output_type": "stream",
     "text": [
      " 64%|██████▍   | 284/441 [00:27<00:17,  9.01it/s]"
     ]
    },
    {
     "name": "stdout",
     "output_type": "stream",
     "text": [
      "RPS for INT1: 0.1921427608406832 \n",
      "\n",
      "Lambda2: 0.09, Gamma2: 0.65, Score: 0.1921427608406832\n",
      "RPS for INT1: 0.19205117461634508 \n",
      "\n",
      "Lambda2: 0.1, Gamma2: 0.65, Score: 0.19205117461634508\n",
      "RPS for INT1: 0.19192056791351222 \n",
      "\n",
      "Lambda2: 0.11, Gamma2: 0.65, Score: 0.19192056791351222\n",
      "RPS for INT1: 0.19179222529732043 \n",
      "\n",
      "Lambda2: 0.12, Gamma2: 0.65, Score: 0.19179222529732043\n"
     ]
    },
    {
     "name": "stderr",
     "output_type": "stream",
     "text": [
      " 65%|██████▌   | 288/441 [00:27<00:15,  9.80it/s]"
     ]
    },
    {
     "name": "stdout",
     "output_type": "stream",
     "text": [
      "RPS for INT1: 0.1916835108105422 \n",
      "\n",
      "Lambda2: 0.13, Gamma2: 0.65, Score: 0.1916835108105422\n",
      "RPS for INT1: 0.19159669744852093 \n",
      "\n",
      "Lambda2: 0.14, Gamma2: 0.65, Score: 0.19159669744852093\n",
      "RPS for INT1: 0.19153548596538347 \n",
      "\n",
      "Lambda2: 0.15, Gamma2: 0.65, Score: 0.19153548596538347\n"
     ]
    },
    {
     "name": "stderr",
     "output_type": "stream",
     "text": [
      " 66%|██████▌   | 292/441 [00:27<00:14, 10.37it/s]"
     ]
    },
    {
     "name": "stdout",
     "output_type": "stream",
     "text": [
      "RPS for INT1: 0.1915088972434974 \n",
      "\n",
      "Lambda2: 0.16, Gamma2: 0.65, Score: 0.1915088972434974\n",
      "RPS for INT1: 0.19152996511994308 \n",
      "\n",
      "Lambda2: 0.17, Gamma2: 0.65, Score: 0.19152996511994308\n",
      "RPS for INT1: 0.19160129384473312 \n",
      "\n",
      "Lambda2: 0.18, Gamma2: 0.65, Score: 0.19160129384473312\n"
     ]
    },
    {
     "name": "stderr",
     "output_type": "stream",
     "text": [
      " 67%|██████▋   | 294/441 [00:27<00:13, 10.53it/s]"
     ]
    },
    {
     "name": "stdout",
     "output_type": "stream",
     "text": [
      "RPS for INT1: 0.19172085055638147 \n",
      "\n",
      "Lambda2: 0.19, Gamma2: 0.65, Score: 0.19172085055638147\n",
      "RPS for INT1: 0.19188981420556747 \n",
      "\n",
      "Lambda2: 0.2, Gamma2: 0.65, Score: 0.19188981420556747\n",
      "RPS for INT1: 0.2105034717849795 \n",
      "\n",
      "Lambda2: 0.0, Gamma2: 0.7000000000000001, Score: 0.2105034717849795\n",
      "RPS for INT1: 0.19687697484248606 \n",
      "\n",
      "Lambda2: 0.01, Gamma2: 0.7000000000000001, Score: 0.19687697484248606\n"
     ]
    },
    {
     "name": "stderr",
     "output_type": "stream",
     "text": [
      " 68%|██████▊   | 298/441 [00:28<00:13, 10.67it/s]"
     ]
    },
    {
     "name": "stdout",
     "output_type": "stream",
     "text": [
      "RPS for INT1: 0.19333348486595903 \n",
      "\n",
      "Lambda2: 0.02, Gamma2: 0.7000000000000001, Score: 0.19333348486595903\n",
      "RPS for INT1: 0.19211527263779146 \n",
      "\n",
      "Lambda2: 0.03, Gamma2: 0.7000000000000001, Score: 0.19211527263779146\n",
      "RPS for INT1: 0.19172665758938642 \n",
      "\n",
      "Lambda2: 0.04, Gamma2: 0.7000000000000001, Score: 0.19172665758938642\n"
     ]
    },
    {
     "name": "stderr",
     "output_type": "stream",
     "text": [
      " 68%|██████▊   | 302/441 [00:28<00:12, 10.76it/s]"
     ]
    },
    {
     "name": "stdout",
     "output_type": "stream",
     "text": [
      "RPS for INT1: 0.19167253617588317 \n",
      "\n",
      "Lambda2: 0.05, Gamma2: 0.7000000000000001, Score: 0.19167253617588317\n",
      "RPS for INT1: 0.19175776337915768 \n",
      "\n",
      "Lambda2: 0.06, Gamma2: 0.7000000000000001, Score: 0.19175776337915768\n",
      "RPS for INT1: 0.19185570840114505 \n",
      "\n",
      "Lambda2: 0.07, Gamma2: 0.7000000000000001, Score: 0.19185570840114505\n"
     ]
    },
    {
     "name": "stderr",
     "output_type": "stream",
     "text": [
      " 69%|██████▉   | 304/441 [00:28<00:12, 10.75it/s]"
     ]
    },
    {
     "name": "stdout",
     "output_type": "stream",
     "text": [
      "RPS for INT1: 0.19189867072986197 \n",
      "\n",
      "Lambda2: 0.08, Gamma2: 0.7000000000000001, Score: 0.19189867072986197\n",
      "RPS for INT1: 0.1918687082441252 \n",
      "\n",
      "Lambda2: 0.09, Gamma2: 0.7000000000000001, Score: 0.1918687082441252\n",
      "RPS for INT1: 0.19177842640297513 \n",
      "\n",
      "Lambda2: 0.1, Gamma2: 0.7000000000000001, Score: 0.19177842640297513\n",
      "RPS for INT1: 0.19165788968408062 \n",
      "\n",
      "Lambda2: 0.11, Gamma2: 0.7000000000000001, Score: 0.19165788968408062\n"
     ]
    },
    {
     "name": "stderr",
     "output_type": "stream",
     "text": [
      " 70%|██████▉   | 308/441 [00:29<00:12, 10.71it/s]"
     ]
    },
    {
     "name": "stdout",
     "output_type": "stream",
     "text": [
      "RPS for INT1: 0.19153847407085403 \n",
      "\n",
      "Lambda2: 0.12, Gamma2: 0.7000000000000001, Score: 0.19153847407085403\n",
      "RPS for INT1: 0.19143556590261837 \n",
      "\n",
      "Lambda2: 0.13, Gamma2: 0.7000000000000001, Score: 0.19143556590261837\n",
      "RPS for INT1: 0.19135096934275522 \n",
      "\n",
      "Lambda2: 0.14, Gamma2: 0.7000000000000001, Score: 0.19135096934275522\n"
     ]
    },
    {
     "name": "stderr",
     "output_type": "stream",
     "text": [
      " 71%|███████   | 312/441 [00:29<00:12, 10.74it/s]"
     ]
    },
    {
     "name": "stdout",
     "output_type": "stream",
     "text": [
      "RPS for INT1: 0.19129009958122584 \n",
      "\n",
      "Lambda2: 0.15, Gamma2: 0.7000000000000001, Score: 0.19129009958122584\n",
      "RPS for INT1: 0.19126738873713484 \n",
      "\n",
      "Lambda2: 0.16, Gamma2: 0.7000000000000001, Score: 0.19126738873713484\n",
      "RPS for INT1: 0.19129129786174942 \n",
      "\n",
      "Lambda2: 0.17, Gamma2: 0.7000000000000001, Score: 0.19129129786174942\n"
     ]
    },
    {
     "name": "stderr",
     "output_type": "stream",
     "text": [
      " 71%|███████   | 314/441 [00:29<00:11, 10.65it/s]"
     ]
    },
    {
     "name": "stdout",
     "output_type": "stream",
     "text": [
      "RPS for INT1: 0.19136355112102202 \n",
      "\n",
      "Lambda2: 0.18, Gamma2: 0.7000000000000001, Score: 0.19136355112102202\n",
      "RPS for INT1: 0.1914828244253999 \n",
      "\n",
      "Lambda2: 0.19, Gamma2: 0.7000000000000001, Score: 0.1914828244253999\n",
      "RPS for INT1: 0.19165000406954746 \n",
      "\n",
      "Lambda2: 0.2, Gamma2: 0.7000000000000001, Score: 0.19165000406954746\n"
     ]
    },
    {
     "name": "stderr",
     "output_type": "stream",
     "text": [
      " 72%|███████▏  | 318/441 [00:30<00:11, 10.61it/s]"
     ]
    },
    {
     "name": "stdout",
     "output_type": "stream",
     "text": [
      "RPS for INT1: 0.2105034717849795 \n",
      "\n",
      "Lambda2: 0.0, Gamma2: 0.75, Score: 0.2105034717849795\n",
      "RPS for INT1: 0.1967608332933404 \n",
      "\n",
      "Lambda2: 0.01, Gamma2: 0.75, Score: 0.1967608332933404\n",
      "RPS for INT1: 0.19319376823678774 \n",
      "\n",
      "Lambda2: 0.02, Gamma2: 0.75, Score: 0.19319376823678774\n"
     ]
    },
    {
     "name": "stderr",
     "output_type": "stream",
     "text": [
      " 73%|███████▎  | 320/441 [00:30<00:11, 10.63it/s]"
     ]
    },
    {
     "name": "stdout",
     "output_type": "stream",
     "text": [
      "RPS for INT1: 0.19192691540110454 \n",
      "\n",
      "Lambda2: 0.03, Gamma2: 0.75, Score: 0.19192691540110454\n",
      "RPS for INT1: 0.19149058695303678 \n",
      "\n",
      "Lambda2: 0.04, Gamma2: 0.75, Score: 0.19149058695303678\n",
      "RPS for INT1: 0.19140242739752436 \n",
      "\n",
      "Lambda2: 0.05, Gamma2: 0.75, Score: 0.19140242739752436\n",
      "RPS for INT1: 0.19146719439263693 \n",
      "\n",
      "Lambda2: 0.06, Gamma2: 0.75, Score: 0.19146719439263693\n"
     ]
    },
    {
     "name": "stderr",
     "output_type": "stream",
     "text": [
      " 73%|███████▎  | 324/441 [00:30<00:11, 10.54it/s]"
     ]
    },
    {
     "name": "stdout",
     "output_type": "stream",
     "text": [
      "RPS for INT1: 0.1915543907067802 \n",
      "\n",
      "Lambda2: 0.07, Gamma2: 0.75, Score: 0.1915543907067802\n",
      "RPS for INT1: 0.19159301000092077 \n",
      "\n",
      "Lambda2: 0.08, Gamma2: 0.75, Score: 0.19159301000092077\n",
      "RPS for INT1: 0.19156663684320788 \n",
      "\n",
      "Lambda2: 0.09, Gamma2: 0.75, Score: 0.19156663684320788\n"
     ]
    },
    {
     "name": "stderr",
     "output_type": "stream",
     "text": [
      " 74%|███████▍  | 328/441 [00:31<00:10, 10.50it/s]"
     ]
    },
    {
     "name": "stdout",
     "output_type": "stream",
     "text": [
      "RPS for INT1: 0.19148865622648215 \n",
      "\n",
      "Lambda2: 0.1, Gamma2: 0.75, Score: 0.19148865622648215\n",
      "RPS for INT1: 0.19139257849569058 \n",
      "\n",
      "Lambda2: 0.11, Gamma2: 0.75, Score: 0.19139257849569058\n",
      "RPS for INT1: 0.1912943036646938 \n",
      "\n",
      "Lambda2: 0.12, Gamma2: 0.75, Score: 0.1912943036646938\n"
     ]
    },
    {
     "name": "stderr",
     "output_type": "stream",
     "text": [
      " 75%|███████▍  | 330/441 [00:31<00:10, 10.57it/s]"
     ]
    },
    {
     "name": "stdout",
     "output_type": "stream",
     "text": [
      "RPS for INT1: 0.19120851401988379 \n",
      "\n",
      "Lambda2: 0.13, Gamma2: 0.75, Score: 0.19120851401988379\n",
      "RPS for INT1: 0.1911353253369728 \n",
      "\n",
      "Lambda2: 0.14, Gamma2: 0.75, Score: 0.1911353253369728\n",
      "RPS for INT1: 0.19108430424572986 \n",
      "\n",
      "Lambda2: 0.15, Gamma2: 0.75, Score: 0.19108430424572986\n",
      "RPS for INT1: 0.191070895690838 \n",
      "\n",
      "Lambda2: 0.16, Gamma2: 0.75, Score: 0.191070895690838\n"
     ]
    },
    {
     "name": "stderr",
     "output_type": "stream",
     "text": [
      " 76%|███████▌  | 334/441 [00:31<00:10, 10.50it/s]"
     ]
    },
    {
     "name": "stdout",
     "output_type": "stream",
     "text": [
      "RPS for INT1: 0.1911012089680705 \n",
      "\n",
      "Lambda2: 0.17, Gamma2: 0.75, Score: 0.1911012089680705\n",
      "RPS for INT1: 0.1911747263528632 \n",
      "\n",
      "Lambda2: 0.18, Gamma2: 0.75, Score: 0.1911747263528632\n",
      "RPS for INT1: 0.19129266964990527 \n",
      "\n",
      "Lambda2: 0.19, Gamma2: 0.75, Score: 0.19129266964990527\n"
     ]
    },
    {
     "name": "stderr",
     "output_type": "stream",
     "text": [
      " 77%|███████▋  | 338/441 [00:32<00:09, 10.59it/s]"
     ]
    },
    {
     "name": "stdout",
     "output_type": "stream",
     "text": [
      "RPS for INT1: 0.19145617987836108 \n",
      "\n",
      "Lambda2: 0.2, Gamma2: 0.75, Score: 0.19145617987836108\n",
      "RPS for INT1: 0.2105034717849795 \n",
      "\n",
      "Lambda2: 0.0, Gamma2: 0.8, Score: 0.2105034717849795\n",
      "RPS for INT1: 0.1966689032176731 \n",
      "\n",
      "Lambda2: 0.01, Gamma2: 0.8, Score: 0.1966689032176731\n"
     ]
    },
    {
     "name": "stderr",
     "output_type": "stream",
     "text": [
      " 77%|███████▋  | 340/441 [00:32<00:09, 10.58it/s]"
     ]
    },
    {
     "name": "stdout",
     "output_type": "stream",
     "text": [
      "RPS for INT1: 0.193094736427832 \n",
      "\n",
      "Lambda2: 0.02, Gamma2: 0.8, Score: 0.193094736427832\n",
      "RPS for INT1: 0.19177804216855038 \n",
      "\n",
      "Lambda2: 0.03, Gamma2: 0.8, Score: 0.19177804216855038\n",
      "RPS for INT1: 0.1912823290320966 \n",
      "\n",
      "Lambda2: 0.04, Gamma2: 0.8, Score: 0.1912823290320966\n",
      "RPS for INT1: 0.1911427990143441 \n",
      "\n",
      "Lambda2: 0.05, Gamma2: 0.8, Score: 0.1911427990143441\n"
     ]
    },
    {
     "name": "stderr",
     "output_type": "stream",
     "text": [
      " 78%|███████▊  | 344/441 [00:32<00:09, 10.51it/s]"
     ]
    },
    {
     "name": "stdout",
     "output_type": "stream",
     "text": [
      "RPS for INT1: 0.19116747194299005 \n",
      "\n",
      "Lambda2: 0.06, Gamma2: 0.8, Score: 0.19116747194299005\n",
      "RPS for INT1: 0.19122498492736797 \n",
      "\n",
      "Lambda2: 0.07, Gamma2: 0.8, Score: 0.19122498492736797\n",
      "RPS for INT1: 0.19124770840883476 \n",
      "\n",
      "Lambda2: 0.08, Gamma2: 0.8, Score: 0.19124770840883476\n"
     ]
    },
    {
     "name": "stderr",
     "output_type": "stream",
     "text": [
      " 79%|███████▉  | 348/441 [00:33<00:08, 10.54it/s]"
     ]
    },
    {
     "name": "stdout",
     "output_type": "stream",
     "text": [
      "RPS for INT1: 0.19121930891114686 \n",
      "\n",
      "Lambda2: 0.09, Gamma2: 0.8, Score: 0.19121930891114686\n",
      "RPS for INT1: 0.19116214746765756 \n",
      "\n",
      "Lambda2: 0.1, Gamma2: 0.8, Score: 0.19116214746765756\n",
      "RPS for INT1: 0.19109994994228602 \n",
      "\n",
      "Lambda2: 0.11, Gamma2: 0.8, Score: 0.19109994994228602\n"
     ]
    },
    {
     "name": "stderr",
     "output_type": "stream",
     "text": [
      " 79%|███████▉  | 350/441 [00:33<00:08, 10.57it/s]"
     ]
    },
    {
     "name": "stdout",
     "output_type": "stream",
     "text": [
      "RPS for INT1: 0.19103706214034333 \n",
      "\n",
      "Lambda2: 0.12, Gamma2: 0.8, Score: 0.19103706214034333\n",
      "RPS for INT1: 0.1909826778624611 \n",
      "\n",
      "Lambda2: 0.13, Gamma2: 0.8, Score: 0.1909826778624611\n",
      "RPS for INT1: 0.1909376846601793 \n",
      "\n",
      "Lambda2: 0.14, Gamma2: 0.8, Score: 0.1909376846601793\n"
     ]
    },
    {
     "name": "stderr",
     "output_type": "stream",
     "text": [
      " 80%|████████  | 354/441 [00:33<00:08, 10.55it/s]"
     ]
    },
    {
     "name": "stdout",
     "output_type": "stream",
     "text": [
      "RPS for INT1: 0.19091120937516187 \n",
      "\n",
      "Lambda2: 0.15, Gamma2: 0.8, Score: 0.19091120937516187\n",
      "RPS for INT1: 0.19091760323472715 \n",
      "\n",
      "Lambda2: 0.16, Gamma2: 0.8, Score: 0.19091760323472715\n",
      "RPS for INT1: 0.19096247233301614 \n",
      "\n",
      "Lambda2: 0.17, Gamma2: 0.8, Score: 0.19096247233301614\n"
     ]
    },
    {
     "name": "stderr",
     "output_type": "stream",
     "text": [
      " 81%|████████  | 356/441 [00:33<00:08, 10.56it/s]"
     ]
    },
    {
     "name": "stdout",
     "output_type": "stream",
     "text": [
      "RPS for INT1: 0.19104507321624448 \n",
      "\n",
      "Lambda2: 0.18, Gamma2: 0.8, Score: 0.19104507321624448\n",
      "RPS for INT1: 0.1911671991345386 \n",
      "\n",
      "Lambda2: 0.19, Gamma2: 0.8, Score: 0.1911671991345386\n",
      "RPS for INT1: 0.19132968742569653 \n",
      "\n",
      "Lambda2: 0.2, Gamma2: 0.8, Score: 0.19132968742569653\n",
      "RPS for INT1: 0.2105034717849795 \n",
      "\n",
      "Lambda2: 0.0, Gamma2: 0.8500000000000001, Score: 0.2105034717849795\n"
     ]
    },
    {
     "name": "stderr",
     "output_type": "stream",
     "text": [
      " 82%|████████▏ | 360/441 [00:34<00:07, 10.52it/s]"
     ]
    },
    {
     "name": "stdout",
     "output_type": "stream",
     "text": [
      "RPS for INT1: 0.19660397814527875 \n",
      "\n",
      "Lambda2: 0.01, Gamma2: 0.8500000000000001, Score: 0.19660397814527875\n",
      "RPS for INT1: 0.19304947982826653 \n",
      "\n",
      "Lambda2: 0.02, Gamma2: 0.8500000000000001, Score: 0.19304947982826653\n",
      "RPS for INT1: 0.19169131142754997 \n",
      "\n",
      "Lambda2: 0.03, Gamma2: 0.8500000000000001, Score: 0.19169131142754997\n"
     ]
    },
    {
     "name": "stderr",
     "output_type": "stream",
     "text": [
      " 83%|████████▎ | 364/441 [00:34<00:07, 10.63it/s]"
     ]
    },
    {
     "name": "stdout",
     "output_type": "stream",
     "text": [
      "RPS for INT1: 0.19113043127353915 \n",
      "\n",
      "Lambda2: 0.04, Gamma2: 0.8500000000000001, Score: 0.19113043127353915\n",
      "RPS for INT1: 0.19092334064814256 \n",
      "\n",
      "Lambda2: 0.05, Gamma2: 0.8500000000000001, Score: 0.19092334064814256\n",
      "RPS for INT1: 0.1908841937991369 \n",
      "\n",
      "Lambda2: 0.06, Gamma2: 0.8500000000000001, Score: 0.1908841937991369\n"
     ]
    },
    {
     "name": "stderr",
     "output_type": "stream",
     "text": [
      " 83%|████████▎ | 366/441 [00:34<00:07, 10.63it/s]"
     ]
    },
    {
     "name": "stdout",
     "output_type": "stream",
     "text": [
      "RPS for INT1: 0.1908844292547414 \n",
      "\n",
      "Lambda2: 0.07, Gamma2: 0.8500000000000001, Score: 0.1908844292547414\n",
      "RPS for INT1: 0.19086652672572532 \n",
      "\n",
      "Lambda2: 0.08, Gamma2: 0.8500000000000001, Score: 0.19086652672572532\n",
      "RPS for INT1: 0.190817436346096 \n",
      "\n",
      "Lambda2: 0.09, Gamma2: 0.8500000000000001, Score: 0.190817436346096\n"
     ]
    },
    {
     "name": "stderr",
     "output_type": "stream",
     "text": [
      " 84%|████████▍ | 370/441 [00:35<00:06, 10.63it/s]"
     ]
    },
    {
     "name": "stdout",
     "output_type": "stream",
     "text": [
      "RPS for INT1: 0.19077185308874187 \n",
      "\n",
      "Lambda2: 0.1, Gamma2: 0.8500000000000001, Score: 0.19077185308874187\n",
      "RPS for INT1: 0.19073765673298465 \n",
      "\n",
      "Lambda2: 0.11, Gamma2: 0.8500000000000001, Score: 0.19073765673298465\n",
      "RPS for INT1: 0.19071527814522737 \n",
      "\n",
      "Lambda2: 0.12, Gamma2: 0.8500000000000001, Score: 0.19071527814522737\n"
     ]
    },
    {
     "name": "stderr",
     "output_type": "stream",
     "text": [
      " 84%|████████▍ | 372/441 [00:35<00:06, 10.65it/s]"
     ]
    },
    {
     "name": "stdout",
     "output_type": "stream",
     "text": [
      "RPS for INT1: 0.19070649324322864 \n",
      "\n",
      "Lambda2: 0.13, Gamma2: 0.8500000000000001, Score: 0.19070649324322864\n",
      "RPS for INT1: 0.19070889636240806 \n",
      "\n",
      "Lambda2: 0.14, Gamma2: 0.8500000000000001, Score: 0.19070889636240806\n",
      "RPS for INT1: 0.1907280599656301 \n",
      "\n",
      "Lambda2: 0.15, Gamma2: 0.8500000000000001, Score: 0.1907280599656301\n",
      "RPS for INT1: 0.19077443681864237 \n",
      "\n",
      "Lambda2: 0.16, Gamma2: 0.8500000000000001, Score: 0.19077443681864237\n"
     ]
    },
    {
     "name": "stderr",
     "output_type": "stream",
     "text": [
      " 85%|████████▌ | 376/441 [00:35<00:06, 10.53it/s]"
     ]
    },
    {
     "name": "stdout",
     "output_type": "stream",
     "text": [
      "RPS for INT1: 0.1908539925974151 \n",
      "\n",
      "Lambda2: 0.17, Gamma2: 0.8500000000000001, Score: 0.1908539925974151\n",
      "RPS for INT1: 0.19096532304214411 \n",
      "\n",
      "Lambda2: 0.18, Gamma2: 0.8500000000000001, Score: 0.19096532304214411\n",
      "RPS for INT1: 0.19110640458701741 \n",
      "\n",
      "Lambda2: 0.19, Gamma2: 0.8500000000000001, Score: 0.19110640458701741\n"
     ]
    },
    {
     "name": "stderr",
     "output_type": "stream",
     "text": [
      " 86%|████████▌ | 380/441 [00:36<00:05, 10.60it/s]"
     ]
    },
    {
     "name": "stdout",
     "output_type": "stream",
     "text": [
      "RPS for INT1: 0.1912791418232045 \n",
      "\n",
      "Lambda2: 0.2, Gamma2: 0.8500000000000001, Score: 0.1912791418232045\n",
      "RPS for INT1: 0.2105034717849795 \n",
      "\n",
      "Lambda2: 0.0, Gamma2: 0.9, Score: 0.2105034717849795\n",
      "RPS for INT1: 0.19656949724787198 \n",
      "\n",
      "Lambda2: 0.01, Gamma2: 0.9, Score: 0.19656949724787198\n"
     ]
    },
    {
     "name": "stderr",
     "output_type": "stream",
     "text": [
      " 87%|████████▋ | 382/441 [00:36<00:05, 10.50it/s]"
     ]
    },
    {
     "name": "stdout",
     "output_type": "stream",
     "text": [
      "RPS for INT1: 0.19307666004253474 \n",
      "\n",
      "Lambda2: 0.02, Gamma2: 0.9, Score: 0.19307666004253474\n",
      "RPS for INT1: 0.19170505607336935 \n",
      "\n",
      "Lambda2: 0.03, Gamma2: 0.9, Score: 0.19170505607336935\n",
      "RPS for INT1: 0.19109035569245736 \n",
      "\n",
      "Lambda2: 0.04, Gamma2: 0.9, Score: 0.19109035569245736\n"
     ]
    },
    {
     "name": "stderr",
     "output_type": "stream",
     "text": [
      " 88%|████████▊ | 386/441 [00:36<00:05, 10.58it/s]"
     ]
    },
    {
     "name": "stdout",
     "output_type": "stream",
     "text": [
      "RPS for INT1: 0.19081129605258756 \n",
      "\n",
      "Lambda2: 0.05, Gamma2: 0.9, Score: 0.19081129605258756\n",
      "RPS for INT1: 0.1906896753029201 \n",
      "\n",
      "Lambda2: 0.06, Gamma2: 0.9, Score: 0.1906896753029201\n",
      "RPS for INT1: 0.19060382538461634 \n",
      "\n",
      "Lambda2: 0.07, Gamma2: 0.9, Score: 0.19060382538461634\n"
     ]
    },
    {
     "name": "stderr",
     "output_type": "stream",
     "text": [
      " 88%|████████▊ | 388/441 [00:36<00:05, 10.50it/s]"
     ]
    },
    {
     "name": "stdout",
     "output_type": "stream",
     "text": [
      "RPS for INT1: 0.19050772320551257 \n",
      "\n",
      "Lambda2: 0.08, Gamma2: 0.9, Score: 0.19050772320551257\n",
      "RPS for INT1: 0.19040168270147828 \n",
      "\n",
      "Lambda2: 0.09, Gamma2: 0.9, Score: 0.19040168270147828\n",
      "RPS for INT1: 0.19032505940320263 \n",
      "\n",
      "Lambda2: 0.1, Gamma2: 0.9, Score: 0.19032505940320263\n"
     ]
    },
    {
     "name": "stderr",
     "output_type": "stream",
     "text": [
      " 89%|████████▉ | 392/441 [00:37<00:04, 10.48it/s]"
     ]
    },
    {
     "name": "stdout",
     "output_type": "stream",
     "text": [
      "RPS for INT1: 0.1902817739502995 \n",
      "\n",
      "Lambda2: 0.11, Gamma2: 0.9, Score: 0.1902817739502995\n",
      "RPS for INT1: 0.19027348019329016 \n",
      "\n",
      "Lambda2: 0.12, Gamma2: 0.9, Score: 0.19027348019329016\n",
      "RPS for INT1: 0.19029780258856893 \n",
      "\n",
      "Lambda2: 0.13, Gamma2: 0.9, Score: 0.19029780258856893\n"
     ]
    },
    {
     "name": "stderr",
     "output_type": "stream",
     "text": [
      " 89%|████████▉ | 394/441 [00:37<00:04, 10.51it/s]"
     ]
    },
    {
     "name": "stdout",
     "output_type": "stream",
     "text": [
      "RPS for INT1: 0.19034974020163292 \n",
      "\n",
      "Lambda2: 0.14, Gamma2: 0.9, Score: 0.19034974020163292\n",
      "RPS for INT1: 0.1904254578215739 \n",
      "\n",
      "Lambda2: 0.15, Gamma2: 0.9, Score: 0.1904254578215739\n",
      "RPS for INT1: 0.19053125727108286 \n",
      "\n",
      "Lambda2: 0.16, Gamma2: 0.9, Score: 0.19053125727108286\n",
      "RPS for INT1: 0.19066894411142865 \n",
      "\n",
      "Lambda2: 0.17, Gamma2: 0.9, Score: 0.19066894411142865\n"
     ]
    },
    {
     "name": "stderr",
     "output_type": "stream",
     "text": [
      " 90%|█████████ | 398/441 [00:37<00:04, 10.52it/s]"
     ]
    },
    {
     "name": "stdout",
     "output_type": "stream",
     "text": [
      "RPS for INT1: 0.19083595177590557 \n",
      "\n",
      "Lambda2: 0.18, Gamma2: 0.9, Score: 0.19083595177590557\n",
      "RPS for INT1: 0.19102704911692048 \n",
      "\n",
      "Lambda2: 0.19, Gamma2: 0.9, Score: 0.19102704911692048\n",
      "RPS for INT1: 0.19124233876613633 \n",
      "\n",
      "Lambda2: 0.2, Gamma2: 0.9, Score: 0.19124233876613633\n"
     ]
    },
    {
     "name": "stderr",
     "output_type": "stream",
     "text": [
      " 91%|█████████ | 402/441 [00:38<00:03, 10.54it/s]"
     ]
    },
    {
     "name": "stdout",
     "output_type": "stream",
     "text": [
      "RPS for INT1: 0.2105034717849795 \n",
      "\n",
      "Lambda2: 0.0, Gamma2: 0.9500000000000001, Score: 0.2105034717849795\n",
      "RPS for INT1: 0.19656962646082646 \n",
      "\n",
      "Lambda2: 0.01, Gamma2: 0.9500000000000001, Score: 0.19656962646082646\n",
      "RPS for INT1: 0.19320287560576602 \n",
      "\n",
      "Lambda2: 0.02, Gamma2: 0.9500000000000001, Score: 0.19320287560576602\n"
     ]
    },
    {
     "name": "stderr",
     "output_type": "stream",
     "text": [
      " 92%|█████████▏| 404/441 [00:38<00:03, 10.39it/s]"
     ]
    },
    {
     "name": "stdout",
     "output_type": "stream",
     "text": [
      "RPS for INT1: 0.19188554692498586 \n",
      "\n",
      "Lambda2: 0.03, Gamma2: 0.9500000000000001, Score: 0.19188554692498586\n",
      "RPS for INT1: 0.1912744962231369 \n",
      "\n",
      "Lambda2: 0.04, Gamma2: 0.9500000000000001, Score: 0.1912744962231369\n",
      "RPS for INT1: 0.19096390294691648 \n",
      "\n",
      "Lambda2: 0.05, Gamma2: 0.9500000000000001, Score: 0.19096390294691648\n",
      "RPS for INT1: 0.19078219713133873 \n",
      "\n",
      "Lambda2: 0.06, Gamma2: 0.9500000000000001, Score: 0.19078219713133873\n"
     ]
    },
    {
     "name": "stderr",
     "output_type": "stream",
     "text": [
      " 93%|█████████▎| 408/441 [00:38<00:03, 10.30it/s]"
     ]
    },
    {
     "name": "stdout",
     "output_type": "stream",
     "text": [
      "RPS for INT1: 0.1906138296189856 \n",
      "\n",
      "Lambda2: 0.07, Gamma2: 0.9500000000000001, Score: 0.1906138296189856\n",
      "RPS for INT1: 0.1904216615608505 \n",
      "\n",
      "Lambda2: 0.08, Gamma2: 0.9500000000000001, Score: 0.1904216615608505\n",
      "RPS for INT1: 0.19021458837917532 \n",
      "\n",
      "Lambda2: 0.09, Gamma2: 0.9500000000000001, Score: 0.19021458837917532\n"
     ]
    },
    {
     "name": "stderr",
     "output_type": "stream",
     "text": [
      " 93%|█████████▎| 412/441 [00:39<00:02, 10.35it/s]"
     ]
    },
    {
     "name": "stdout",
     "output_type": "stream",
     "text": [
      "RPS for INT1: 0.19004455599966555 \n",
      "\n",
      "Lambda2: 0.1, Gamma2: 0.9500000000000001, Score: 0.19004455599966555\n",
      "RPS for INT1: 0.18992263175528665 \n",
      "\n",
      "Lambda2: 0.11, Gamma2: 0.9500000000000001, Score: 0.18992263175528665\n",
      "RPS for INT1: 0.1898548806267745 \n",
      "\n",
      "Lambda2: 0.12, Gamma2: 0.9500000000000001, Score: 0.1898548806267745\n"
     ]
    },
    {
     "name": "stderr",
     "output_type": "stream",
     "text": [
      " 94%|█████████▍| 414/441 [00:39<00:02, 10.30it/s]"
     ]
    },
    {
     "name": "stdout",
     "output_type": "stream",
     "text": [
      "RPS for INT1: 0.18983882844365282 \n",
      "\n",
      "Lambda2: 0.13, Gamma2: 0.9500000000000001, Score: 0.18983882844365282\n",
      "RPS for INT1: 0.18987128585420734 \n",
      "\n",
      "Lambda2: 0.14, Gamma2: 0.9500000000000001, Score: 0.18987128585420734\n",
      "RPS for INT1: 0.189948699508844 \n",
      "\n",
      "Lambda2: 0.15, Gamma2: 0.9500000000000001, Score: 0.189948699508844\n",
      "RPS for INT1: 0.19007331053682272 \n",
      "\n",
      "Lambda2: 0.16, Gamma2: 0.9500000000000001, Score: 0.19007331053682272\n"
     ]
    },
    {
     "name": "stderr",
     "output_type": "stream",
     "text": [
      " 95%|█████████▍| 418/441 [00:39<00:02, 10.22it/s]"
     ]
    },
    {
     "name": "stdout",
     "output_type": "stream",
     "text": [
      "RPS for INT1: 0.19024245723594835 \n",
      "\n",
      "Lambda2: 0.17, Gamma2: 0.9500000000000001, Score: 0.19024245723594835\n",
      "RPS for INT1: 0.19045205827640913 \n",
      "\n",
      "Lambda2: 0.18, Gamma2: 0.9500000000000001, Score: 0.19045205827640913\n",
      "RPS for INT1: 0.19069540283687306 \n",
      "\n",
      "Lambda2: 0.19, Gamma2: 0.9500000000000001, Score: 0.19069540283687306\n"
     ]
    },
    {
     "name": "stderr",
     "output_type": "stream",
     "text": [
      " 96%|█████████▌| 422/441 [00:40<00:01, 10.40it/s]"
     ]
    },
    {
     "name": "stdout",
     "output_type": "stream",
     "text": [
      "RPS for INT1: 0.19097202768782348 \n",
      "\n",
      "Lambda2: 0.2, Gamma2: 0.9500000000000001, Score: 0.19097202768782348\n",
      "RPS for INT1: 0.2105034717849795 \n",
      "\n",
      "Lambda2: 0.0, Gamma2: 1.0, Score: 0.2105034717849795\n",
      "RPS for INT1: 0.19660925915350771 \n",
      "\n",
      "Lambda2: 0.01, Gamma2: 1.0, Score: 0.19660925915350771\n"
     ]
    },
    {
     "name": "stderr",
     "output_type": "stream",
     "text": [
      " 96%|█████████▌| 424/441 [00:40<00:01, 10.48it/s]"
     ]
    },
    {
     "name": "stdout",
     "output_type": "stream",
     "text": [
      "RPS for INT1: 0.19346702396964588 \n",
      "\n",
      "Lambda2: 0.02, Gamma2: 1.0, Score: 0.19346702396964588\n",
      "RPS for INT1: 0.19234935370818912 \n",
      "\n",
      "Lambda2: 0.03, Gamma2: 1.0, Score: 0.19234935370818912\n",
      "RPS for INT1: 0.19192065575102832 \n",
      "\n",
      "Lambda2: 0.04, Gamma2: 1.0, Score: 0.19192065575102832\n"
     ]
    },
    {
     "name": "stderr",
     "output_type": "stream",
     "text": [
      " 97%|█████████▋| 428/441 [00:40<00:01, 10.53it/s]"
     ]
    },
    {
     "name": "stdout",
     "output_type": "stream",
     "text": [
      "RPS for INT1: 0.19178104059208506 \n",
      "\n",
      "Lambda2: 0.05, Gamma2: 1.0, Score: 0.19178104059208506\n",
      "RPS for INT1: 0.19175180546455517 \n",
      "\n",
      "Lambda2: 0.06, Gamma2: 1.0, Score: 0.19175180546455517\n",
      "RPS for INT1: 0.191718841955603 \n",
      "\n",
      "Lambda2: 0.07, Gamma2: 1.0, Score: 0.191718841955603\n"
     ]
    },
    {
     "name": "stderr",
     "output_type": "stream",
     "text": [
      " 98%|█████████▊| 430/441 [00:40<00:01, 10.43it/s]"
     ]
    },
    {
     "name": "stdout",
     "output_type": "stream",
     "text": [
      "RPS for INT1: 0.1916368313136263 \n",
      "\n",
      "Lambda2: 0.08, Gamma2: 1.0, Score: 0.1916368313136263\n",
      "RPS for INT1: 0.19151677233461506 \n",
      "\n",
      "Lambda2: 0.09, Gamma2: 1.0, Score: 0.19151677233461506\n",
      "RPS for INT1: 0.19139146105099478 \n",
      "\n",
      "Lambda2: 0.1, Gamma2: 1.0, Score: 0.19139146105099478\n"
     ]
    },
    {
     "name": "stderr",
     "output_type": "stream",
     "text": [
      " 98%|█████████▊| 434/441 [00:41<00:00, 10.48it/s]"
     ]
    },
    {
     "name": "stdout",
     "output_type": "stream",
     "text": [
      "RPS for INT1: 0.19130297015735356 \n",
      "\n",
      "Lambda2: 0.11, Gamma2: 1.0, Score: 0.19130297015735356\n",
      "RPS for INT1: 0.19125847788696357 \n",
      "\n",
      "Lambda2: 0.12, Gamma2: 1.0, Score: 0.19125847788696357\n",
      "RPS for INT1: 0.19125440552885153 \n",
      "\n",
      "Lambda2: 0.13, Gamma2: 1.0, Score: 0.19125440552885153\n"
     ]
    },
    {
     "name": "stderr",
     "output_type": "stream",
     "text": [
      " 99%|█████████▉| 436/441 [00:41<00:00, 10.49it/s]"
     ]
    },
    {
     "name": "stdout",
     "output_type": "stream",
     "text": [
      "RPS for INT1: 0.19128932377350963 \n",
      "\n",
      "Lambda2: 0.14, Gamma2: 1.0, Score: 0.19128932377350963\n",
      "RPS for INT1: 0.19136651277211875 \n",
      "\n",
      "Lambda2: 0.15, Gamma2: 1.0, Score: 0.19136651277211875\n",
      "RPS for INT1: 0.19148123058473246 \n",
      "\n",
      "Lambda2: 0.16, Gamma2: 1.0, Score: 0.19148123058473246\n",
      "RPS for INT1: 0.1916204968068126 \n",
      "\n",
      "Lambda2: 0.17, Gamma2: 1.0, Score: 0.1916204968068126\n"
     ]
    },
    {
     "name": "stderr",
     "output_type": "stream",
     "text": [
      "100%|██████████| 441/441 [00:41<00:00, 10.52it/s]"
     ]
    },
    {
     "name": "stdout",
     "output_type": "stream",
     "text": [
      "RPS for INT1: 0.19178353403473286 \n",
      "\n",
      "Lambda2: 0.18, Gamma2: 1.0, Score: 0.19178353403473286\n",
      "RPS for INT1: 0.19196914299534432 \n",
      "\n",
      "Lambda2: 0.19, Gamma2: 1.0, Score: 0.19196914299534432\n",
      "RPS for INT1: 0.19217645317900076 \n",
      "\n",
      "Lambda2: 0.2, Gamma2: 1.0, Score: 0.19217645317900076\n"
     ]
    },
    {
     "name": "stderr",
     "output_type": "stream",
     "text": [
      "\n"
     ]
    }
   ],
   "source": [
    "# Gridsearch on lambda2 and gamma2\n",
    "\n",
    "# Define the learning rates\n",
    "rates = {\n",
    "    'lambda': 0.043,\n",
    "    'gamma': 0.98,\n",
    "    'delta': 2.5,\n",
    "    'phi': 1,\n",
    "    'mu': 0.0,\n",
    "    'rho': 0.75,\n",
    "    'sigma': 0.75,\n",
    "    'tau': 0.001,\n",
    "    'ind_threshold': 6000,\n",
    "    'lambda2': 0.14,\n",
    "    'gamma2': 0.96,\n",
    "    'x': 1.3,\n",
    "    'y' : 1.0,\n",
    "    'a' : -1.625,\n",
    "    'b' : 0.75\n",
    "}\n",
    "\n",
    "\n",
    "# Define a parameter grid with the ranges for your parameters\n",
    "param_grid = {\n",
    "    'lambda2': np.linspace(0.0, 0.2, 21),\n",
    "    'gamma2': np.linspace(0.0, 1.0, 21)\n",
    "\n",
    "}\n",
    "\n",
    "# Create a ParameterGrid object from the dictionary\n",
    "grid = ParameterGrid(param_grid)\n",
    "\n",
    "# Initialize the best_score variable\n",
    "best_score = float('inf')  # assuming lower scores are better\n",
    "\n",
    "# Create an empty list to store the results\n",
    "gs_results2 = []\n",
    "\n",
    "ratings, league_ratings = initialize_ratings(df_results, df_fixtures,df_int_results, df_int_fixtures)\n",
    "\n",
    "ratings, _, training_games = update_ratings_multiple_games(df_results, ratings, league_ratings, rates)\n",
    "\n",
    "_, _ = predict_outcomes(df_fixtures, ratings, league_ratings, rates, model)\n",
    "\n",
    "df_train = pd.DataFrame(training_games)\n",
    "#df_train.to_csv(\"../data/train232.csv\", index=False)\n",
    "model = train_model(df_train)\n",
    "\n",
    "\n",
    "# Loop over the parameter combinations\n",
    "for params in tqdm.tqdm(grid):\n",
    "    # Update the rates dictionary\n",
    "    rates.update(params)\n",
    "    \n",
    "    _, league_ratings = initialize_ratings(df_results, df_fixtures, df_int_results, df_int_fixtures)\n",
    "    \n",
    "    # Re-train model with the new parameters\n",
    "    league_ratings = update_league_ratings_multiple_games(df_int_results, league_ratings, rates)\n",
    "  \n",
    "    \n",
    "        \n",
    "    int_rps = predict_outcomes_int(df_int_fixtures, ratings, league_ratings, rates, model)\n",
    "   \n",
    "    # Now you can calculate the mean RPS across all competitions\n",
    "    mean_rps = np.mean(int_rps)\n",
    "\n",
    "    score = mean_rps\n",
    "    \n",
    "    # Store the current results\n",
    "    gs_results2.append({\n",
    "        'lambda2': rates['lambda2'],\n",
    "        'gamma2': rates['gamma2'],\n",
    "        'score': score,\n",
    "    })\n",
    "    \n",
    "    print(f\"Lambda2: {rates['lambda2']}, Gamma2: {rates['gamma2']}, Score: {score}\")\n",
    "\n"
   ],
   "metadata": {
    "collapsed": false,
    "ExecuteTime": {
     "end_time": "2023-08-29T10:36:08.069300Z",
     "start_time": "2023-08-29T10:35:18.814898Z"
    }
   }
  },
  {
   "cell_type": "code",
   "execution_count": 50,
   "outputs": [
    {
     "name": "stdout",
     "output_type": "stream",
     "text": [
      "Top 5 combinations:\n",
      "Lambda2: 0.13, Gamma2: 0.9500000000000001, Score: 0.18983882844365282\n",
      "Lambda2: 0.12, Gamma2: 0.9500000000000001, Score: 0.1898548806267745\n",
      "Lambda2: 0.14, Gamma2: 0.9500000000000001, Score: 0.18987128585420734\n",
      "Lambda2: 0.11, Gamma2: 0.9500000000000001, Score: 0.18992263175528665\n",
      "Lambda2: 0.15, Gamma2: 0.9500000000000001, Score: 0.189948699508844\n",
      "Lambda2: 0.1, Gamma2: 0.9500000000000001, Score: 0.19004455599966555\n",
      "Lambda2: 0.16, Gamma2: 0.9500000000000001, Score: 0.19007331053682272\n",
      "Lambda2: 0.09, Gamma2: 0.9500000000000001, Score: 0.19021458837917532\n",
      "Lambda2: 0.17, Gamma2: 0.9500000000000001, Score: 0.19024245723594835\n",
      "Lambda2: 0.12, Gamma2: 0.9, Score: 0.19027348019329016\n"
     ]
    }
   ],
   "source": [
    "# Sort the results based on the score and get the top 5\n",
    "top_combinations = sorted(gs_results2, key=lambda x: x['score'])[:10]\n",
    "\n",
    "print(\"Top 5 combinations:\")\n",
    "for combo in top_combinations:\n",
    "    print(f\"Lambda2: {combo['lambda2']}, Gamma2: {combo['gamma2']}, Score: {combo['score']}\")\n",
    "\n",
    "# Convert the gs_results to a DataFrame and plot them\n",
    "\n",
    "df_gs_results2 = pd.DataFrame(gs_results2)\n",
    "#to csv\n",
    "df_gs_results2.to_csv(\"../data/gs_resultslam2gam2_fullrange.csv\", index=False)\n",
    "\n"
   ],
   "metadata": {
    "collapsed": false,
    "ExecuteTime": {
     "end_time": "2023-08-29T10:36:10.915710Z",
     "start_time": "2023-08-29T10:36:10.820233Z"
    }
   }
  },
  {
   "cell_type": "code",
   "execution_count": 68,
   "outputs": [
    {
     "data": {
      "text/plain": "<Figure size 1000x700 with 1 Axes>",
      "image/png": "[encoded data removed]"
     },
     "metadata": {},
     "output_type": "display_data"
    }
   ],
   "source": [
    "df_gs_results2 = pd.read_csv(\"../data/gs_resultslam2gam2_fullrange.csv\")\n",
    "\n",
    "# Define grid of x, y values\n",
    "lambda2_range = np.linspace(0.02, 0.2, num=100)\n",
    "gamma2_range = np.linspace(0.5, 1.0, num=100)\n",
    "lambda2_grid, gamma2_grid = np.meshgrid(lambda2_range, gamma2_range)\n",
    "\n",
    "# Interpolate z values for this grid\n",
    "rps2_grid = griddata((df_gs_results2['lambda2'], df_gs_results2['gamma2']), df_gs_results2['score'], (lambda2_grid, gamma2_grid), method='cubic')\n",
    "\n",
    "# Create 3D surface plot\n",
    "fig = plt.figure(figsize=(10, 7))\n",
    "ax = fig.add_subplot(111, projection='3d')\n",
    "surf = ax.plot_surface(lambda2_grid, gamma2_grid, rps2_grid, cmap='RdYlGn_r', edgecolor='none')\n",
    "ax.set_xlabel(r'$\\lambda_{\\mathcal{L}}$')\n",
    "ax.set_ylabel(r'$\\gamma_{\\mathcal{L}}$')\n",
    "ax.set_zlabel('RPS Score', fontsize=10, labelpad=5)\n",
    "ax.invert_zaxis()  # To make lower scores appear higher\n",
    "#fig.colorbar(surf)\n",
    "plt.savefig(\"../images/3d_plot_new_l2g2.png\", dpi=300)\n",
    "plt.show()\n"
   ],
   "metadata": {
    "collapsed": false,
    "ExecuteTime": {
     "end_time": "2023-08-29T10:50:47.294079Z",
     "start_time": "2023-08-29T10:50:44.738701Z"
    }
   }
  },
  {
   "cell_type": "code",
   "execution_count": 43,
   "outputs": [
    {
     "name": "stderr",
     "output_type": "stream",
     "text": [
      "  1%|          | 2/256 [00:00<00:21, 11.64it/s]"
     ]
    },
    {
     "name": "stdout",
     "output_type": "stream",
     "text": [
      "RPS for INT1: 0.232687417647728 \n",
      "\n",
      "rho: 0.0, sigma: 0.0, Score: 0.232687417647728\n",
      "RPS for INT1: 0.2242823645254441 \n",
      "\n",
      "rho: 0.0, sigma: 0.1, Score: 0.2242823645254441\n",
      "RPS for INT1: 0.21722881395192858 \n",
      "\n",
      "rho: 0.0, sigma: 0.2, Score: 0.21722881395192858\n"
     ]
    },
    {
     "name": "stderr",
     "output_type": "stream",
     "text": [
      "  2%|▏         | 6/256 [00:00<00:21, 11.44it/s]"
     ]
    },
    {
     "name": "stdout",
     "output_type": "stream",
     "text": [
      "RPS for INT1: 0.21154748073604304 \n",
      "\n",
      "rho: 0.0, sigma: 0.30000000000000004, Score: 0.21154748073604304\n",
      "RPS for INT1: 0.20718752285092404 \n",
      "\n",
      "rho: 0.0, sigma: 0.4, Score: 0.20718752285092404\n",
      "RPS for INT1: 0.20404470028460417 \n",
      "\n",
      "rho: 0.0, sigma: 0.5, Score: 0.20404470028460417\n"
     ]
    },
    {
     "name": "stderr",
     "output_type": "stream",
     "text": [
      "  3%|▎         | 8/256 [00:00<00:22, 11.26it/s]"
     ]
    },
    {
     "name": "stdout",
     "output_type": "stream",
     "text": [
      "RPS for INT1: 0.20198216986377285 \n",
      "\n",
      "rho: 0.0, sigma: 0.6000000000000001, Score: 0.20198216986377285\n",
      "RPS for INT1: 0.20084935942149873 \n",
      "\n",
      "rho: 0.0, sigma: 0.7000000000000001, Score: 0.20084935942149873\n",
      "RPS for INT1: 0.2004964086349719 \n",
      "\n",
      "rho: 0.0, sigma: 0.8, Score: 0.2004964086349719\n",
      "RPS for INT1: 0.20078359205538096 \n",
      "\n",
      "rho: 0.0, sigma: 0.9, Score: 0.20078359205538096\n"
     ]
    },
    {
     "name": "stderr",
     "output_type": "stream",
     "text": [
      "  5%|▍         | 12/256 [00:01<00:21, 11.27it/s]"
     ]
    },
    {
     "name": "stdout",
     "output_type": "stream",
     "text": [
      "RPS for INT1: 0.20158638006756957 \n",
      "\n",
      "rho: 0.0, sigma: 1.0, Score: 0.20158638006756957\n",
      "RPS for INT1: 0.2027972956179952 \n",
      "\n",
      "rho: 0.0, sigma: 1.1, Score: 0.2027972956179952\n",
      "RPS for INT1: 0.20432571972371083 \n",
      "\n",
      "rho: 0.0, sigma: 1.2000000000000002, Score: 0.20432571972371083\n"
     ]
    },
    {
     "name": "stderr",
     "output_type": "stream",
     "text": [
      "  6%|▋         | 16/256 [00:01<00:21, 11.19it/s]"
     ]
    },
    {
     "name": "stdout",
     "output_type": "stream",
     "text": [
      "RPS for INT1: 0.206096558575636 \n",
      "\n",
      "rho: 0.0, sigma: 1.3, Score: 0.206096558575636\n",
      "RPS for INT1: 0.20804839876528466 \n",
      "\n",
      "rho: 0.0, sigma: 1.4000000000000001, Score: 0.20804839876528466\n",
      "RPS for INT1: 0.21013153575450833 \n",
      "\n",
      "rho: 0.0, sigma: 1.5, Score: 0.21013153575450833\n"
     ]
    },
    {
     "name": "stderr",
     "output_type": "stream",
     "text": [
      "  7%|▋         | 18/256 [00:01<00:21, 11.12it/s]"
     ]
    },
    {
     "name": "stdout",
     "output_type": "stream",
     "text": [
      "RPS for INT1: 0.22802782605748742 \n",
      "\n",
      "rho: 0.1, sigma: 0.0, Score: 0.22802782605748742\n",
      "RPS for INT1: 0.21993127975486496 \n",
      "\n",
      "rho: 0.1, sigma: 0.1, Score: 0.21993127975486496\n",
      "RPS for INT1: 0.2131886558801093 \n",
      "\n",
      "rho: 0.1, sigma: 0.2, Score: 0.2131886558801093\n",
      "RPS for INT1: 0.20781223550593753 \n",
      "\n",
      "rho: 0.1, sigma: 0.30000000000000004, Score: 0.20781223550593753\n"
     ]
    },
    {
     "name": "stderr",
     "output_type": "stream",
     "text": [
      "  9%|▊         | 22/256 [00:01<00:20, 11.23it/s]"
     ]
    },
    {
     "name": "stdout",
     "output_type": "stream",
     "text": [
      "RPS for INT1: 0.20374454378439733 \n",
      "\n",
      "rho: 0.1, sigma: 0.4, Score: 0.20374454378439733\n",
      "RPS for INT1: 0.20087637732087288 \n",
      "\n",
      "rho: 0.1, sigma: 0.5, Score: 0.20087637732087288\n",
      "RPS for INT1: 0.1990674280376098 \n",
      "\n",
      "rho: 0.1, sigma: 0.6000000000000001, Score: 0.1990674280376098\n"
     ]
    },
    {
     "name": "stderr",
     "output_type": "stream",
     "text": [
      " 10%|█         | 26/256 [00:02<00:20, 11.05it/s]"
     ]
    },
    {
     "name": "stdout",
     "output_type": "stream",
     "text": [
      "RPS for INT1: 0.19816501970794398 \n",
      "\n",
      "rho: 0.1, sigma: 0.7000000000000001, Score: 0.19816501970794398\n",
      "RPS for INT1: 0.19801842521071614 \n",
      "\n",
      "rho: 0.1, sigma: 0.8, Score: 0.19801842521071614\n",
      "RPS for INT1: 0.19848813509693997 \n",
      "\n",
      "rho: 0.1, sigma: 0.9, Score: 0.19848813509693997\n"
     ]
    },
    {
     "name": "stderr",
     "output_type": "stream",
     "text": [
      " 11%|█         | 28/256 [00:02<00:20, 11.00it/s]"
     ]
    },
    {
     "name": "stdout",
     "output_type": "stream",
     "text": [
      "RPS for INT1: 0.19945071265239442 \n",
      "\n",
      "rho: 0.1, sigma: 1.0, Score: 0.19945071265239442\n",
      "RPS for INT1: 0.20080040729368437 \n",
      "\n",
      "rho: 0.1, sigma: 1.1, Score: 0.20080040729368437\n",
      "RPS for INT1: 0.20244871205073758 \n",
      "\n",
      "rho: 0.1, sigma: 1.2000000000000002, Score: 0.20244871205073758\n",
      "RPS for INT1: 0.2043228098547218 \n",
      "\n",
      "rho: 0.1, sigma: 1.3, Score: 0.2043228098547218\n"
     ]
    },
    {
     "name": "stderr",
     "output_type": "stream",
     "text": [
      " 12%|█▎        | 32/256 [00:02<00:20, 10.91it/s]"
     ]
    },
    {
     "name": "stdout",
     "output_type": "stream",
     "text": [
      "RPS for INT1: 0.20636355502390202 \n",
      "\n",
      "rho: 0.1, sigma: 1.4000000000000001, Score: 0.20636355502390202\n",
      "RPS for INT1: 0.2085233810486528 \n",
      "\n",
      "rho: 0.1, sigma: 1.5, Score: 0.2085233810486528\n",
      "RPS for INT1: 0.2238915348882139 \n",
      "\n",
      "rho: 0.2, sigma: 0.0, Score: 0.2238915348882139\n"
     ]
    },
    {
     "name": "stderr",
     "output_type": "stream",
     "text": [
      " 14%|█▍        | 36/256 [00:03<00:20, 10.79it/s]"
     ]
    },
    {
     "name": "stdout",
     "output_type": "stream",
     "text": [
      "RPS for INT1: 0.21612028543572392 \n",
      "\n",
      "rho: 0.2, sigma: 0.1, Score: 0.21612028543572392\n",
      "RPS for INT1: 0.2096909145761411 \n",
      "\n",
      "rho: 0.2, sigma: 0.2, Score: 0.2096909145761411\n",
      "RPS for INT1: 0.20460850946113027 \n",
      "\n",
      "rho: 0.2, sigma: 0.30000000000000004, Score: 0.20460850946113027\n"
     ]
    },
    {
     "name": "stderr",
     "output_type": "stream",
     "text": [
      " 15%|█▍        | 38/256 [00:03<00:20, 10.71it/s]"
     ]
    },
    {
     "name": "stdout",
     "output_type": "stream",
     "text": [
      "RPS for INT1: 0.20081117893867245 \n",
      "\n",
      "rho: 0.2, sigma: 0.4, Score: 0.20081117893867245\n",
      "RPS for INT1: 0.19818750255872572 \n",
      "\n",
      "rho: 0.2, sigma: 0.5, Score: 0.19818750255872572\n",
      "RPS for INT1: 0.19659654949933617 \n",
      "\n",
      "rho: 0.2, sigma: 0.6000000000000001, Score: 0.19659654949933617\n"
     ]
    },
    {
     "name": "stderr",
     "output_type": "stream",
     "text": [
      " 16%|█▋        | 42/256 [00:03<00:20, 10.51it/s]"
     ]
    },
    {
     "name": "stdout",
     "output_type": "stream",
     "text": [
      "RPS for INT1: 0.19588613963690393 \n",
      "\n",
      "rho: 0.2, sigma: 0.7000000000000001, Score: 0.19588613963690393\n",
      "RPS for INT1: 0.1959068312137729 \n",
      "\n",
      "rho: 0.2, sigma: 0.8, Score: 0.1959068312137729\n",
      "RPS for INT1: 0.1965209547684684 \n",
      "\n",
      "rho: 0.2, sigma: 0.9, Score: 0.1965209547684684\n"
     ]
    },
    {
     "name": "stderr",
     "output_type": "stream",
     "text": [
      " 17%|█▋        | 44/256 [00:04<00:20, 10.57it/s]"
     ]
    },
    {
     "name": "stdout",
     "output_type": "stream",
     "text": [
      "RPS for INT1: 0.19760727711445406 \n",
      "\n",
      "rho: 0.2, sigma: 1.0, Score: 0.19760727711445406\n",
      "RPS for INT1: 0.19906244320725597 \n",
      "\n",
      "rho: 0.2, sigma: 1.1, Score: 0.19906244320725597\n",
      "RPS for INT1: 0.2008003812320442 \n",
      "\n",
      "rho: 0.2, sigma: 1.2000000000000002, Score: 0.2008003812320442\n",
      "RPS for INT1: 0.20275062430385543 \n",
      "\n",
      "rho: 0.2, sigma: 1.3, Score: 0.20275062430385543\n"
     ]
    },
    {
     "name": "stderr",
     "output_type": "stream",
     "text": [
      " 19%|█▉        | 48/256 [00:04<00:19, 10.63it/s]"
     ]
    },
    {
     "name": "stdout",
     "output_type": "stream",
     "text": [
      "RPS for INT1: 0.20485620191200993 \n",
      "\n",
      "rho: 0.2, sigma: 1.4000000000000001, Score: 0.20485620191200993\n",
      "RPS for INT1: 0.20707149295704047 \n",
      "\n",
      "rho: 0.2, sigma: 1.5, Score: 0.20707149295704047\n",
      "RPS for INT1: 0.2202911168608037 \n",
      "\n",
      "rho: 0.30000000000000004, sigma: 0.0, Score: 0.2202911168608037\n"
     ]
    },
    {
     "name": "stderr",
     "output_type": "stream",
     "text": [
      " 20%|██        | 52/256 [00:04<00:19, 10.38it/s]"
     ]
    },
    {
     "name": "stdout",
     "output_type": "stream",
     "text": [
      "RPS for INT1: 0.21285383634428018 \n",
      "\n",
      "rho: 0.30000000000000004, sigma: 0.1, Score: 0.21285383634428018\n",
      "RPS for INT1: 0.20673274459292065 \n",
      "\n",
      "rho: 0.30000000000000004, sigma: 0.2, Score: 0.20673274459292065\n",
      "RPS for INT1: 0.20192746579997387 \n",
      "\n",
      "rho: 0.30000000000000004, sigma: 0.30000000000000004, Score: 0.20192746579997387\n"
     ]
    },
    {
     "name": "stderr",
     "output_type": "stream",
     "text": [
      " 21%|██        | 54/256 [00:04<00:19, 10.33it/s]"
     ]
    },
    {
     "name": "stdout",
     "output_type": "stream",
     "text": [
      "RPS for INT1: 0.1983741735635825 \n",
      "\n",
      "rho: 0.30000000000000004, sigma: 0.4, Score: 0.1983741735635825\n",
      "RPS for INT1: 0.19596202303797006 \n",
      "\n",
      "rho: 0.30000000000000004, sigma: 0.5, Score: 0.19596202303797006\n",
      "RPS for INT1: 0.19455217168354305 \n",
      "\n",
      "rho: 0.30000000000000004, sigma: 0.6000000000000001, Score: 0.19455217168354305\n"
     ]
    },
    {
     "name": "stderr",
     "output_type": "stream",
     "text": [
      " 23%|██▎       | 58/256 [00:05<00:19, 10.42it/s]"
     ]
    },
    {
     "name": "stdout",
     "output_type": "stream",
     "text": [
      "RPS for INT1: 0.19399528458572088 \n",
      "\n",
      "rho: 0.30000000000000004, sigma: 0.7000000000000001, Score: 0.19399528458572088\n",
      "RPS for INT1: 0.19414504749949693 \n",
      "\n",
      "rho: 0.30000000000000004, sigma: 0.8, Score: 0.19414504749949693\n",
      "RPS for INT1: 0.1948669395987723 \n",
      "\n",
      "rho: 0.30000000000000004, sigma: 0.9, Score: 0.1948669395987723\n"
     ]
    },
    {
     "name": "stderr",
     "output_type": "stream",
     "text": [
      " 23%|██▎       | 60/256 [00:05<00:18, 10.38it/s]"
     ]
    },
    {
     "name": "stdout",
     "output_type": "stream",
     "text": [
      "RPS for INT1: 0.1960427603677845 \n",
      "\n",
      "rho: 0.30000000000000004, sigma: 1.0, Score: 0.1960427603677845\n",
      "RPS for INT1: 0.19757199396671887 \n",
      "\n",
      "rho: 0.30000000000000004, sigma: 1.1, Score: 0.19757199396671887\n",
      "RPS for INT1: 0.19937116451415493 \n",
      "\n",
      "rho: 0.30000000000000004, sigma: 1.2000000000000002, Score: 0.19937116451415493\n"
     ]
    },
    {
     "name": "stderr",
     "output_type": "stream",
     "text": [
      " 25%|██▌       | 64/256 [00:05<00:18, 10.54it/s]"
     ]
    },
    {
     "name": "stdout",
     "output_type": "stream",
     "text": [
      "RPS for INT1: 0.20137212535777574 \n",
      "\n",
      "rho: 0.30000000000000004, sigma: 1.3, Score: 0.20137212535777574\n",
      "RPS for INT1: 0.20351993391674805 \n",
      "\n",
      "rho: 0.30000000000000004, sigma: 1.4000000000000001, Score: 0.20351993391674805\n",
      "RPS for INT1: 0.20577070351099566 \n",
      "\n",
      "rho: 0.30000000000000004, sigma: 1.5, Score: 0.20577070351099566\n"
     ]
    },
    {
     "name": "stderr",
     "output_type": "stream",
     "text": [
      " 26%|██▌       | 66/256 [00:06<00:18, 10.55it/s]"
     ]
    },
    {
     "name": "stdout",
     "output_type": "stream",
     "text": [
      "RPS for INT1: 0.21722755921287212 \n",
      "\n",
      "rho: 0.4, sigma: 0.0, Score: 0.21722755921287212\n",
      "RPS for INT1: 0.21012518128050103 \n",
      "\n",
      "rho: 0.4, sigma: 0.1, Score: 0.21012518128050103\n",
      "RPS for INT1: 0.2043010935133755 \n",
      "\n",
      "rho: 0.4, sigma: 0.2, Score: 0.2043010935133755\n",
      "RPS for INT1: 0.1997515045732215 \n",
      "\n",
      "rho: 0.4, sigma: 0.30000000000000004, Score: 0.1997515045732215\n"
     ]
    },
    {
     "name": "stderr",
     "output_type": "stream",
     "text": [
      " 27%|██▋       | 70/256 [00:06<00:17, 10.59it/s]"
     ]
    },
    {
     "name": "stdout",
     "output_type": "stream",
     "text": [
      "RPS for INT1: 0.19641319434650045 \n",
      "\n",
      "rho: 0.4, sigma: 0.4, Score: 0.19641319434650045\n",
      "RPS for INT1: 0.19417853946655603 \n",
      "\n",
      "rho: 0.4, sigma: 0.5, Score: 0.19417853946655603\n",
      "RPS for INT1: 0.192913212752635 \n",
      "\n",
      "rho: 0.4, sigma: 0.6000000000000001, Score: 0.192913212752635\n"
     ]
    },
    {
     "name": "stderr",
     "output_type": "stream",
     "text": [
      " 29%|██▉       | 74/256 [00:06<00:17, 10.36it/s]"
     ]
    },
    {
     "name": "stdout",
     "output_type": "stream",
     "text": [
      "RPS for INT1: 0.19247272388298733 \n",
      "\n",
      "rho: 0.4, sigma: 0.7000000000000001, Score: 0.19247272388298733\n",
      "RPS for INT1: 0.19271537271394407 \n",
      "\n",
      "rho: 0.4, sigma: 0.8, Score: 0.19271537271394407\n",
      "RPS for INT1: 0.19351077676185965 \n",
      "\n",
      "rho: 0.4, sigma: 0.9, Score: 0.19351077676185965\n"
     ]
    },
    {
     "name": "stderr",
     "output_type": "stream",
     "text": [
      " 30%|██▉       | 76/256 [00:07<00:17, 10.36it/s]"
     ]
    },
    {
     "name": "stdout",
     "output_type": "stream",
     "text": [
      "RPS for INT1: 0.19474433905066926 \n",
      "\n",
      "rho: 0.4, sigma: 1.0, Score: 0.19474433905066926\n",
      "RPS for INT1: 0.19631863715502762 \n",
      "\n",
      "rho: 0.4, sigma: 1.1, Score: 0.19631863715502762\n",
      "RPS for INT1: 0.19815282791144714 \n",
      "\n",
      "rho: 0.4, sigma: 1.2000000000000002, Score: 0.19815282791144714\n"
     ]
    },
    {
     "name": "stderr",
     "output_type": "stream",
     "text": [
      " 31%|███▏      | 80/256 [00:07<00:16, 10.38it/s]"
     ]
    },
    {
     "name": "stdout",
     "output_type": "stream",
     "text": [
      "RPS for INT1: 0.20018098633118245 \n",
      "\n",
      "rho: 0.4, sigma: 1.3, Score: 0.20018098633118245\n",
      "RPS for INT1: 0.20235002452494175 \n",
      "\n",
      "rho: 0.4, sigma: 1.4000000000000001, Score: 0.20235002452494175\n",
      "RPS for INT1: 0.2046175832613951 \n",
      "\n",
      "rho: 0.4, sigma: 1.5, Score: 0.2046175832613951\n"
     ]
    },
    {
     "name": "stderr",
     "output_type": "stream",
     "text": [
      " 32%|███▏      | 82/256 [00:07<00:17, 10.21it/s]"
     ]
    },
    {
     "name": "stdout",
     "output_type": "stream",
     "text": [
      "RPS for INT1: 0.21469119033354087 \n",
      "\n",
      "rho: 0.5, sigma: 0.0, Score: 0.21469119033354087\n",
      "RPS for INT1: 0.20791766388731153 \n",
      "\n",
      "rho: 0.5, sigma: 0.1, Score: 0.20791766388731153\n",
      "RPS for INT1: 0.2023742141314596 \n",
      "\n",
      "rho: 0.5, sigma: 0.2, Score: 0.2023742141314596\n"
     ]
    },
    {
     "name": "stderr",
     "output_type": "stream",
     "text": [
      " 33%|███▎      | 85/256 [00:07<00:17,  9.62it/s]"
     ]
    },
    {
     "name": "stdout",
     "output_type": "stream",
     "text": [
      "RPS for INT1: 0.19805580964921957 \n",
      "\n",
      "rho: 0.5, sigma: 0.30000000000000004, Score: 0.19805580964921957\n",
      "RPS for INT1: 0.19490225385379178 \n",
      "\n",
      "rho: 0.5, sigma: 0.4, Score: 0.19490225385379178\n",
      "RPS for INT1: 0.19281149320318505 \n",
      "\n",
      "rho: 0.5, sigma: 0.5, Score: 0.19281149320318505\n"
     ]
    },
    {
     "name": "stderr",
     "output_type": "stream",
     "text": [
      " 34%|███▍      | 88/256 [00:08<00:19,  8.75it/s]"
     ]
    },
    {
     "name": "stdout",
     "output_type": "stream",
     "text": [
      "RPS for INT1: 0.1916557582317416 \n",
      "\n",
      "rho: 0.5, sigma: 0.6000000000000001, Score: 0.1916557582317416\n",
      "RPS for INT1: 0.1912970034886657 \n",
      "\n",
      "rho: 0.5, sigma: 0.7000000000000001, Score: 0.1912970034886657\n",
      "RPS for INT1: 0.1915992665970147 \n",
      "\n",
      "rho: 0.5, sigma: 0.8, Score: 0.1915992665970147\n"
     ]
    },
    {
     "name": "stderr",
     "output_type": "stream",
     "text": [
      " 36%|███▌      | 91/256 [00:08<00:19,  8.54it/s]"
     ]
    },
    {
     "name": "stdout",
     "output_type": "stream",
     "text": [
      "RPS for INT1: 0.19243699439569822 \n",
      "\n",
      "rho: 0.5, sigma: 0.9, Score: 0.19243699439569822\n",
      "RPS for INT1: 0.19369953956618566 \n",
      "\n",
      "rho: 0.5, sigma: 1.0, Score: 0.19369953956618566\n",
      "RPS for INT1: 0.1952926738144888 \n",
      "\n",
      "rho: 0.5, sigma: 1.1, Score: 0.1952926738144888\n"
     ]
    },
    {
     "name": "stderr",
     "output_type": "stream",
     "text": [
      " 37%|███▋      | 94/256 [00:09<00:17,  9.23it/s]"
     ]
    },
    {
     "name": "stdout",
     "output_type": "stream",
     "text": [
      "RPS for INT1: 0.1971381313893617 \n",
      "\n",
      "rho: 0.5, sigma: 1.2000000000000002, Score: 0.1971381313893617\n",
      "RPS for INT1: 0.19917206691988174 \n",
      "\n",
      "rho: 0.5, sigma: 1.3, Score: 0.19917206691988174\n",
      "RPS for INT1: 0.20134306622535617 \n",
      "\n",
      "rho: 0.5, sigma: 1.4000000000000001, Score: 0.20134306622535617\n"
     ]
    },
    {
     "name": "stderr",
     "output_type": "stream",
     "text": [
      " 38%|███▊      | 97/256 [00:09<00:16,  9.55it/s]"
     ]
    },
    {
     "name": "stdout",
     "output_type": "stream",
     "text": [
      "RPS for INT1: 0.20361010716471972 \n",
      "\n",
      "rho: 0.5, sigma: 1.5, Score: 0.20361010716471972\n",
      "RPS for INT1: 0.2126631181911061 \n",
      "\n",
      "rho: 0.6000000000000001, sigma: 0.0, Score: 0.2126631181911061\n",
      "RPS for INT1: 0.2062064397054075 \n",
      "\n",
      "rho: 0.6000000000000001, sigma: 0.1, Score: 0.2062064397054075\n"
     ]
    },
    {
     "name": "stderr",
     "output_type": "stream",
     "text": [
      " 39%|███▉      | 100/256 [00:09<00:16,  9.74it/s]"
     ]
    },
    {
     "name": "stdout",
     "output_type": "stream",
     "text": [
      "RPS for INT1: 0.20092346767053063 \n",
      "\n",
      "rho: 0.6000000000000001, sigma: 0.2, Score: 0.20092346767053063\n",
      "RPS for INT1: 0.19681005792767323 \n",
      "\n",
      "rho: 0.6000000000000001, sigma: 0.30000000000000004, Score: 0.19681005792767323\n"
     ]
    },
    {
     "name": "stderr",
     "output_type": "stream",
     "text": [
      " 40%|████      | 103/256 [00:10<00:17,  8.58it/s]"
     ]
    },
    {
     "name": "stdout",
     "output_type": "stream",
     "text": [
      "RPS for INT1: 0.1938111860153829 \n",
      "\n",
      "rho: 0.6000000000000001, sigma: 0.4, Score: 0.1938111860153829\n",
      "RPS for INT1: 0.19183232257130303 \n",
      "\n",
      "rho: 0.6000000000000001, sigma: 0.5, Score: 0.19183232257130303\n",
      "RPS for INT1: 0.19075386686128096 \n",
      "\n",
      "rho: 0.6000000000000001, sigma: 0.6000000000000001, Score: 0.19075386686128096\n"
     ]
    },
    {
     "name": "stderr",
     "output_type": "stream",
     "text": [
      " 41%|████▏     | 106/256 [00:10<00:15,  9.42it/s]"
     ]
    },
    {
     "name": "stdout",
     "output_type": "stream",
     "text": [
      "RPS for INT1: 0.19044541420655572 \n",
      "\n",
      "rho: 0.6000000000000001, sigma: 0.7000000000000001, Score: 0.19044541420655572\n",
      "RPS for INT1: 0.1907775229655833 \n",
      "\n",
      "rho: 0.6000000000000001, sigma: 0.8, Score: 0.1907775229655833\n",
      "RPS for INT1: 0.19162989700199148 \n",
      "\n",
      "rho: 0.6000000000000001, sigma: 0.9, Score: 0.19162989700199148\n"
     ]
    },
    {
     "name": "stderr",
     "output_type": "stream",
     "text": [
      " 43%|████▎     | 109/256 [00:10<00:15,  9.79it/s]"
     ]
    },
    {
     "name": "stdout",
     "output_type": "stream",
     "text": [
      "RPS for INT1: 0.19289599738495045 \n",
      "\n",
      "rho: 0.6000000000000001, sigma: 1.0, Score: 0.19289599738495045\n",
      "RPS for INT1: 0.19448476944705873 \n",
      "\n",
      "rho: 0.6000000000000001, sigma: 1.1, Score: 0.19448476944705873\n",
      "RPS for INT1: 0.1963204016097953 \n",
      "\n",
      "rho: 0.6000000000000001, sigma: 1.2000000000000002, Score: 0.1963204016097953\n"
     ]
    },
    {
     "name": "stderr",
     "output_type": "stream",
     "text": [
      " 43%|████▎     | 111/256 [00:10<00:14, 10.04it/s]"
     ]
    },
    {
     "name": "stdout",
     "output_type": "stream",
     "text": [
      "RPS for INT1: 0.19834095845702795 \n",
      "\n",
      "rho: 0.6000000000000001, sigma: 1.3, Score: 0.19834095845702795\n",
      "RPS for INT1: 0.200496519754774 \n",
      "\n",
      "rho: 0.6000000000000001, sigma: 1.4000000000000001, Score: 0.200496519754774\n",
      "RPS for INT1: 0.2027472307795427 \n",
      "\n",
      "rho: 0.6000000000000001, sigma: 1.5, Score: 0.2027472307795427\n"
     ]
    },
    {
     "name": "stderr",
     "output_type": "stream",
     "text": [
      " 45%|████▍     | 115/256 [00:11<00:13, 10.36it/s]"
     ]
    },
    {
     "name": "stdout",
     "output_type": "stream",
     "text": [
      "RPS for INT1: 0.21111699720355073 \n",
      "\n",
      "rho: 0.7000000000000001, sigma: 0.0, Score: 0.21111699720355073\n",
      "RPS for INT1: 0.20496041144575522 \n",
      "\n",
      "rho: 0.7000000000000001, sigma: 0.1, Score: 0.20496041144575522\n",
      "RPS for INT1: 0.19991523473998155 \n",
      "\n",
      "rho: 0.7000000000000001, sigma: 0.2, Score: 0.19991523473998155\n"
     ]
    },
    {
     "name": "stderr",
     "output_type": "stream",
     "text": [
      " 46%|████▌     | 117/256 [00:11<00:13, 10.47it/s]"
     ]
    },
    {
     "name": "stdout",
     "output_type": "stream",
     "text": [
      "RPS for INT1: 0.19598014555310753 \n",
      "\n",
      "rho: 0.7000000000000001, sigma: 0.30000000000000004, Score: 0.19598014555310753\n",
      "RPS for INT1: 0.1931070781903922 \n",
      "\n",
      "rho: 0.7000000000000001, sigma: 0.4, Score: 0.1931070781903922\n",
      "RPS for INT1: 0.1912105464389307 \n",
      "\n",
      "rho: 0.7000000000000001, sigma: 0.5, Score: 0.1912105464389307\n",
      "RPS for INT1: 0.19018029913630458 \n",
      "\n",
      "rho: 0.7000000000000001, sigma: 0.6000000000000001, Score: 0.19018029913630458\n"
     ]
    },
    {
     "name": "stderr",
     "output_type": "stream",
     "text": [
      " 47%|████▋     | 121/256 [00:11<00:12, 10.54it/s]"
     ]
    },
    {
     "name": "stdout",
     "output_type": "stream",
     "text": [
      "RPS for INT1: 0.1898943931201459 \n",
      "\n",
      "rho: 0.7000000000000001, sigma: 0.7000000000000001, Score: 0.1898943931201459\n",
      "RPS for INT1: 0.19023039217236104 \n",
      "\n",
      "rho: 0.7000000000000001, sigma: 0.8, Score: 0.19023039217236104\n",
      "RPS for INT1: 0.19107346523100982 \n",
      "\n",
      "rho: 0.7000000000000001, sigma: 0.9, Score: 0.19107346523100982\n"
     ]
    },
    {
     "name": "stderr",
     "output_type": "stream",
     "text": [
      " 49%|████▉     | 125/256 [00:12<00:12, 10.63it/s]"
     ]
    },
    {
     "name": "stdout",
     "output_type": "stream",
     "text": [
      "RPS for INT1: 0.1923211902664263 \n",
      "\n",
      "rho: 0.7000000000000001, sigma: 1.0, Score: 0.1923211902664263\n",
      "RPS for INT1: 0.19388557177042773 \n",
      "\n",
      "rho: 0.7000000000000001, sigma: 1.1, Score: 0.19388557177042773\n",
      "RPS for INT1: 0.1956930781959218 \n",
      "\n",
      "rho: 0.7000000000000001, sigma: 1.2000000000000002, Score: 0.1956930781959218\n"
     ]
    },
    {
     "name": "stderr",
     "output_type": "stream",
     "text": [
      " 50%|████▉     | 127/256 [00:12<00:12, 10.73it/s]"
     ]
    },
    {
     "name": "stdout",
     "output_type": "stream",
     "text": [
      "RPS for INT1: 0.197683495117083 \n",
      "\n",
      "rho: 0.7000000000000001, sigma: 1.3, Score: 0.197683495117083\n",
      "RPS for INT1: 0.19980821954946065 \n",
      "\n",
      "rho: 0.7000000000000001, sigma: 1.4000000000000001, Score: 0.19980821954946065\n",
      "RPS for INT1: 0.20202841285085946 \n",
      "\n",
      "rho: 0.7000000000000001, sigma: 1.5, Score: 0.20202841285085946\n",
      "RPS for INT1: 0.21002093397933141 \n",
      "\n",
      "rho: 0.8, sigma: 0.0, Score: 0.21002093397933141\n"
     ]
    },
    {
     "name": "stderr",
     "output_type": "stream",
     "text": [
      " 51%|█████     | 131/256 [00:12<00:11, 10.68it/s]"
     ]
    },
    {
     "name": "stdout",
     "output_type": "stream",
     "text": [
      "RPS for INT1: 0.2041441941273915 \n",
      "\n",
      "rho: 0.8, sigma: 0.1, Score: 0.2041441941273915\n",
      "RPS for INT1: 0.19931277205226747 \n",
      "\n",
      "rho: 0.8, sigma: 0.2, Score: 0.19931277205226747\n",
      "RPS for INT1: 0.1955298116397982 \n",
      "\n",
      "rho: 0.8, sigma: 0.30000000000000004, Score: 0.1955298116397982\n"
     ]
    },
    {
     "name": "stderr",
     "output_type": "stream",
     "text": [
      " 53%|█████▎    | 135/256 [00:13<00:11, 10.83it/s]"
     ]
    },
    {
     "name": "stdout",
     "output_type": "stream",
     "text": [
      "RPS for INT1: 0.19275558829514114 \n",
      "\n",
      "rho: 0.8, sigma: 0.4, Score: 0.19275558829514114\n",
      "RPS for INT1: 0.19091474813378384 \n",
      "\n",
      "rho: 0.8, sigma: 0.5, Score: 0.19091474813378384\n",
      "RPS for INT1: 0.18990717750210473 \n",
      "\n",
      "rho: 0.8, sigma: 0.6000000000000001, Score: 0.18990717750210473\n"
     ]
    },
    {
     "name": "stderr",
     "output_type": "stream",
     "text": [
      " 54%|█████▎    | 137/256 [00:13<00:11, 10.80it/s]"
     ]
    },
    {
     "name": "stdout",
     "output_type": "stream",
     "text": [
      "RPS for INT1: 0.1896198927429435 \n",
      "\n",
      "rho: 0.8, sigma: 0.7000000000000001, Score: 0.1896198927429435\n",
      "RPS for INT1: 0.18993770355109552 \n",
      "\n",
      "rho: 0.8, sigma: 0.8, Score: 0.18993770355109552\n",
      "RPS for INT1: 0.19075127916444345 \n",
      "\n",
      "rho: 0.8, sigma: 0.9, Score: 0.19075127916444345\n",
      "RPS for INT1: 0.19196220789847646 \n",
      "\n",
      "rho: 0.8, sigma: 1.0, Score: 0.19196220789847646\n"
     ]
    },
    {
     "name": "stderr",
     "output_type": "stream",
     "text": [
      " 55%|█████▌    | 141/256 [00:13<00:10, 10.78it/s]"
     ]
    },
    {
     "name": "stdout",
     "output_type": "stream",
     "text": [
      "RPS for INT1: 0.19348536761378887 \n",
      "\n",
      "rho: 0.8, sigma: 1.1, Score: 0.19348536761378887\n",
      "RPS for INT1: 0.1952492933483875 \n",
      "\n",
      "rho: 0.8, sigma: 1.2000000000000002, Score: 0.1952492933483875\n",
      "RPS for INT1: 0.19719528645989373 \n",
      "\n",
      "rho: 0.8, sigma: 1.3, Score: 0.19719528645989373\n"
     ]
    },
    {
     "name": "stderr",
     "output_type": "stream",
     "text": [
      " 57%|█████▋    | 145/256 [00:13<00:10, 10.87it/s]"
     ]
    },
    {
     "name": "stdout",
     "output_type": "stream",
     "text": [
      "RPS for INT1: 0.1992758847434317 \n",
      "\n",
      "rho: 0.8, sigma: 1.4000000000000001, Score: 0.1992758847434317\n",
      "RPS for INT1: 0.201453126196453 \n",
      "\n",
      "rho: 0.8, sigma: 1.5, Score: 0.201453126196453\n",
      "RPS for INT1: 0.20933936236132492 \n",
      "\n",
      "rho: 0.9, sigma: 0.0, Score: 0.20933936236132492\n"
     ]
    },
    {
     "name": "stderr",
     "output_type": "stream",
     "text": [
      " 57%|█████▋    | 147/256 [00:14<00:10, 10.82it/s]"
     ]
    },
    {
     "name": "stdout",
     "output_type": "stream",
     "text": [
      "RPS for INT1: 0.20371995458139802 \n",
      "\n",
      "rho: 0.9, sigma: 0.1, Score: 0.20371995458139802\n",
      "RPS for INT1: 0.1990778900741857 \n",
      "\n",
      "rho: 0.9, sigma: 0.2, Score: 0.1990778900741857\n",
      "RPS for INT1: 0.19542207281659743 \n",
      "\n",
      "rho: 0.9, sigma: 0.30000000000000004, Score: 0.19542207281659743\n",
      "RPS for INT1: 0.19272209786425143 \n",
      "\n",
      "rho: 0.9, sigma: 0.4, Score: 0.19272209786425143\n"
     ]
    },
    {
     "name": "stderr",
     "output_type": "stream",
     "text": [
      " 59%|█████▉    | 151/256 [00:14<00:09, 10.79it/s]"
     ]
    },
    {
     "name": "stdout",
     "output_type": "stream",
     "text": [
      "RPS for INT1: 0.19091344239546712 \n",
      "\n",
      "rho: 0.9, sigma: 0.5, Score: 0.19091344239546712\n",
      "RPS for INT1: 0.18990658495394247 \n",
      "\n",
      "rho: 0.9, sigma: 0.6000000000000001, Score: 0.18990658495394247\n",
      "RPS for INT1: 0.18959774116597758 \n",
      "\n",
      "rho: 0.9, sigma: 0.7000000000000001, Score: 0.18959774116597758\n"
     ]
    },
    {
     "name": "stderr",
     "output_type": "stream",
     "text": [
      " 61%|██████    | 155/256 [00:14<00:09, 10.84it/s]"
     ]
    },
    {
     "name": "stdout",
     "output_type": "stream",
     "text": [
      "RPS for INT1: 0.18987902166361667 \n",
      "\n",
      "rho: 0.9, sigma: 0.8, Score: 0.18987902166361667\n",
      "RPS for INT1: 0.19064650526523902 \n",
      "\n",
      "rho: 0.9, sigma: 0.9, Score: 0.19064650526523902\n",
      "RPS for INT1: 0.1918056018584756 \n",
      "\n",
      "rho: 0.9, sigma: 1.0, Score: 0.1918056018584756\n"
     ]
    },
    {
     "name": "stderr",
     "output_type": "stream",
     "text": [
      " 61%|██████▏   | 157/256 [00:15<00:09, 10.94it/s]"
     ]
    },
    {
     "name": "stdout",
     "output_type": "stream",
     "text": [
      "RPS for INT1: 0.19327382501160095 \n",
      "\n",
      "rho: 0.9, sigma: 1.1, Score: 0.19327382501160095\n",
      "RPS for INT1: 0.19498153193271353 \n",
      "\n",
      "rho: 0.9, sigma: 1.2000000000000002, Score: 0.19498153193271353\n",
      "RPS for INT1: 0.19687131844312197 \n",
      "\n",
      "rho: 0.9, sigma: 1.3, Score: 0.19687131844312197\n",
      "RPS for INT1: 0.19889668157899906 \n",
      "\n",
      "rho: 0.9, sigma: 1.4000000000000001, Score: 0.19889668157899906\n"
     ]
    },
    {
     "name": "stderr",
     "output_type": "stream",
     "text": [
      " 63%|██████▎   | 161/256 [00:15<00:08, 10.90it/s]"
     ]
    },
    {
     "name": "stdout",
     "output_type": "stream",
     "text": [
      "RPS for INT1: 0.20102039996054427 \n",
      "\n",
      "rho: 0.9, sigma: 1.5, Score: 0.20102039996054427\n",
      "RPS for INT1: 0.20903475606210173 \n",
      "\n",
      "rho: 1.0, sigma: 0.0, Score: 0.20903475606210173\n",
      "RPS for INT1: 0.20364901569440835 \n",
      "\n",
      "rho: 1.0, sigma: 0.1, Score: 0.20364901569440835\n"
     ]
    },
    {
     "name": "stderr",
     "output_type": "stream",
     "text": [
      " 64%|██████▍   | 165/256 [00:15<00:08, 10.77it/s]"
     ]
    },
    {
     "name": "stdout",
     "output_type": "stream",
     "text": [
      "RPS for INT1: 0.19917237063454624 \n",
      "\n",
      "rho: 1.0, sigma: 0.2, Score: 0.19917237063454624\n",
      "RPS for INT1: 0.1956204157977724 \n",
      "\n",
      "rho: 1.0, sigma: 0.30000000000000004, Score: 0.1956204157977724\n",
      "RPS for INT1: 0.19297267178477875 \n",
      "\n",
      "rho: 1.0, sigma: 0.4, Score: 0.19297267178477875\n"
     ]
    },
    {
     "name": "stderr",
     "output_type": "stream",
     "text": [
      " 65%|██████▌   | 167/256 [00:16<00:08, 10.70it/s]"
     ]
    },
    {
     "name": "stdout",
     "output_type": "stream",
     "text": [
      "RPS for INT1: 0.19117581368201322 \n",
      "\n",
      "rho: 1.0, sigma: 0.5, Score: 0.19117581368201322\n",
      "RPS for INT1: 0.19015110261169807 \n",
      "\n",
      "rho: 1.0, sigma: 0.6000000000000001, Score: 0.19015110261169807\n",
      "RPS for INT1: 0.18980400214379956 \n",
      "\n",
      "rho: 1.0, sigma: 0.7000000000000001, Score: 0.18980400214379956\n"
     ]
    },
    {
     "name": "stderr",
     "output_type": "stream",
     "text": [
      " 67%|██████▋   | 171/256 [00:16<00:08, 10.61it/s]"
     ]
    },
    {
     "name": "stdout",
     "output_type": "stream",
     "text": [
      "RPS for INT1: 0.1900338512208025 \n",
      "\n",
      "rho: 1.0, sigma: 0.8, Score: 0.1900338512208025\n",
      "RPS for INT1: 0.1907419664507638 \n",
      "\n",
      "rho: 1.0, sigma: 0.9, Score: 0.1907419664507638\n",
      "RPS for INT1: 0.191837339294399 \n",
      "\n",
      "rho: 1.0, sigma: 1.0, Score: 0.191837339294399\n"
     ]
    },
    {
     "name": "stderr",
     "output_type": "stream",
     "text": [
      " 68%|██████▊   | 173/256 [00:16<00:08, 10.28it/s]"
     ]
    },
    {
     "name": "stdout",
     "output_type": "stream",
     "text": [
      "RPS for INT1: 0.19323984757943183 \n",
      "\n",
      "rho: 1.0, sigma: 1.1, Score: 0.19323984757943183\n",
      "RPS for INT1: 0.1948814026725018 \n",
      "\n",
      "rho: 1.0, sigma: 1.2000000000000002, Score: 0.1948814026725018\n",
      "RPS for INT1: 0.19670565682930907 \n",
      "\n",
      "rho: 1.0, sigma: 1.3, Score: 0.19670565682930907\n"
     ]
    },
    {
     "name": "stderr",
     "output_type": "stream",
     "text": [
      " 69%|██████▉   | 177/256 [00:16<00:07, 10.47it/s]"
     ]
    },
    {
     "name": "stdout",
     "output_type": "stream",
     "text": [
      "RPS for INT1: 0.19866687384871903 \n",
      "\n",
      "rho: 1.0, sigma: 1.4000000000000001, Score: 0.19866687384871903\n",
      "RPS for INT1: 0.20072843147070382 \n",
      "\n",
      "rho: 1.0, sigma: 1.5, Score: 0.20072843147070382\n",
      "RPS for INT1: 0.20906909292204945 \n",
      "\n",
      "rho: 1.1, sigma: 0.0, Score: 0.20906909292204945\n"
     ]
    },
    {
     "name": "stderr",
     "output_type": "stream",
     "text": [
      " 70%|██████▉   | 179/256 [00:17<00:07, 10.52it/s]"
     ]
    },
    {
     "name": "stdout",
     "output_type": "stream",
     "text": [
      "RPS for INT1: 0.20389316442831285 \n",
      "\n",
      "rho: 1.1, sigma: 0.1, Score: 0.20389316442831285\n",
      "RPS for INT1: 0.19955908619295795 \n",
      "\n",
      "rho: 1.1, sigma: 0.2, Score: 0.19955908619295795\n",
      "RPS for INT1: 0.19608972607243746 \n",
      "\n",
      "rho: 1.1, sigma: 0.30000000000000004, Score: 0.19608972607243746\n",
      "RPS for INT1: 0.19347481237833242 \n",
      "\n",
      "rho: 1.1, sigma: 0.4, Score: 0.19347481237833242\n"
     ]
    },
    {
     "name": "stderr",
     "output_type": "stream",
     "text": [
      " 71%|███████▏  | 183/256 [00:17<00:06, 10.60it/s]"
     ]
    },
    {
     "name": "stdout",
     "output_type": "stream",
     "text": [
      "RPS for INT1: 0.19167231800891368 \n",
      "\n",
      "rho: 1.1, sigma: 0.5, Score: 0.19167231800891368\n",
      "RPS for INT1: 0.19061428034690403 \n",
      "\n",
      "rho: 1.1, sigma: 0.6000000000000001, Score: 0.19061428034690403\n",
      "RPS for INT1: 0.19021533057185502 \n",
      "\n",
      "rho: 1.1, sigma: 0.7000000000000001, Score: 0.19021533057185502\n"
     ]
    },
    {
     "name": "stderr",
     "output_type": "stream",
     "text": [
      " 73%|███████▎  | 187/256 [00:17<00:06, 10.65it/s]"
     ]
    },
    {
     "name": "stdout",
     "output_type": "stream",
     "text": [
      "RPS for INT1: 0.19038188816359175 \n",
      "\n",
      "rho: 1.1, sigma: 0.8, Score: 0.19038188816359175\n",
      "RPS for INT1: 0.19102029580845314 \n",
      "\n",
      "rho: 1.1, sigma: 0.9, Score: 0.19102029580845314\n",
      "RPS for INT1: 0.19204286472805998 \n",
      "\n",
      "rho: 1.1, sigma: 1.0, Score: 0.19204286472805998\n"
     ]
    },
    {
     "name": "stderr",
     "output_type": "stream",
     "text": [
      " 74%|███████▍  | 189/256 [00:18<00:06, 10.59it/s]"
     ]
    },
    {
     "name": "stdout",
     "output_type": "stream",
     "text": [
      "RPS for INT1: 0.1933715500221644 \n",
      "\n",
      "rho: 1.1, sigma: 1.1, Score: 0.1933715500221644\n",
      "RPS for INT1: 0.19493953408700215 \n",
      "\n",
      "rho: 1.1, sigma: 1.2000000000000002, Score: 0.19493953408700215\n",
      "RPS for INT1: 0.19669127159609467 \n",
      "\n",
      "rho: 1.1, sigma: 1.3, Score: 0.19669127159609467\n"
     ]
    },
    {
     "name": "stderr",
     "output_type": "stream",
     "text": [
      " 75%|███████▌  | 193/256 [00:18<00:05, 10.56it/s]"
     ]
    },
    {
     "name": "stdout",
     "output_type": "stream",
     "text": [
      "RPS for INT1: 0.19858158493287062 \n",
      "\n",
      "rho: 1.1, sigma: 1.4000000000000001, Score: 0.19858158493287062\n",
      "RPS for INT1: 0.2005742958674161 \n",
      "\n",
      "rho: 1.1, sigma: 1.5, Score: 0.2005742958674161\n",
      "RPS for INT1: 0.20940502944242873 \n",
      "\n",
      "rho: 1.2000000000000002, sigma: 0.0, Score: 0.20940502944242873\n"
     ]
    },
    {
     "name": "stderr",
     "output_type": "stream",
     "text": [
      " 76%|███████▌  | 195/256 [00:18<00:05, 10.37it/s]"
     ]
    },
    {
     "name": "stdout",
     "output_type": "stream",
     "text": [
      "RPS for INT1: 0.20441564600842935 \n",
      "\n",
      "rho: 1.2000000000000002, sigma: 0.1, Score: 0.20441564600842935\n",
      "RPS for INT1: 0.20020281847667792 \n",
      "\n",
      "rho: 1.2000000000000002, sigma: 0.2, Score: 0.20020281847667792\n",
      "RPS for INT1: 0.19679695625461288 \n",
      "\n",
      "rho: 1.2000000000000002, sigma: 0.30000000000000004, Score: 0.19679695625461288\n"
     ]
    },
    {
     "name": "stderr",
     "output_type": "stream",
     "text": [
      " 78%|███████▊  | 199/256 [00:19<00:05, 10.49it/s]"
     ]
    },
    {
     "name": "stdout",
     "output_type": "stream",
     "text": [
      "RPS for INT1: 0.19419800973630186 \n",
      "\n",
      "rho: 1.2000000000000002, sigma: 0.4, Score: 0.19419800973630186\n",
      "RPS for INT1: 0.19237514457594834 \n",
      "\n",
      "rho: 1.2000000000000002, sigma: 0.5, Score: 0.19237514457594834\n",
      "RPS for INT1: 0.19127103047075095 \n",
      "\n",
      "rho: 1.2000000000000002, sigma: 0.6000000000000001, Score: 0.19127103047075095\n"
     ]
    },
    {
     "name": "stderr",
     "output_type": "stream",
     "text": [
      " 79%|███████▊  | 201/256 [00:19<00:05, 10.46it/s]"
     ]
    },
    {
     "name": "stdout",
     "output_type": "stream",
     "text": [
      "RPS for INT1: 0.19080930893397818 \n",
      "\n",
      "rho: 1.2000000000000002, sigma: 0.7000000000000001, Score: 0.19080930893397818\n",
      "RPS for INT1: 0.19090330095420677 \n",
      "\n",
      "rho: 1.2000000000000002, sigma: 0.8, Score: 0.19090330095420677\n",
      "RPS for INT1: 0.19146415931770341 \n",
      "\n",
      "rho: 1.2000000000000002, sigma: 0.9, Score: 0.19146415931770341\n"
     ]
    },
    {
     "name": "stderr",
     "output_type": "stream",
     "text": [
      " 80%|████████  | 205/256 [00:19<00:04, 10.56it/s]"
     ]
    },
    {
     "name": "stdout",
     "output_type": "stream",
     "text": [
      "RPS for INT1: 0.19240725877060028 \n",
      "\n",
      "rho: 1.2000000000000002, sigma: 1.0, Score: 0.19240725877060028\n",
      "RPS for INT1: 0.19365634821972344 \n",
      "\n",
      "rho: 1.2000000000000002, sigma: 1.1, Score: 0.19365634821972344\n",
      "RPS for INT1: 0.19514559383092261 \n",
      "\n",
      "rho: 1.2000000000000002, sigma: 1.2000000000000002, Score: 0.19514559383092261\n"
     ]
    },
    {
     "name": "stderr",
     "output_type": "stream",
     "text": [
      " 81%|████████  | 207/256 [00:19<00:04, 10.51it/s]"
     ]
    },
    {
     "name": "stdout",
     "output_type": "stream",
     "text": [
      "RPS for INT1: 0.19681998644869153 \n",
      "\n",
      "rho: 1.2000000000000002, sigma: 1.3, Score: 0.19681998644869153\n",
      "RPS for INT1: 0.1986346811244241 \n",
      "\n",
      "rho: 1.2000000000000002, sigma: 1.4000000000000001, Score: 0.1986346811244241\n",
      "RPS for INT1: 0.2005537689119499 \n",
      "\n",
      "rho: 1.2000000000000002, sigma: 1.5, Score: 0.2005537689119499\n"
     ]
    },
    {
     "name": "stderr",
     "output_type": "stream",
     "text": [
      " 82%|████████▏ | 211/256 [00:20<00:04, 10.47it/s]"
     ]
    },
    {
     "name": "stdout",
     "output_type": "stream",
     "text": [
      "RPS for INT1: 0.21000678139142637 \n",
      "\n",
      "rho: 1.3, sigma: 0.0, Score: 0.21000678139142637\n",
      "RPS for INT1: 0.20518185985410684 \n",
      "\n",
      "rho: 1.3, sigma: 0.1, Score: 0.20518185985410684\n",
      "RPS for INT1: 0.20107080060803362 \n",
      "\n",
      "rho: 1.3, sigma: 0.2, Score: 0.20107080060803362\n"
     ]
    },
    {
     "name": "stderr",
     "output_type": "stream",
     "text": [
      " 83%|████████▎ | 213/256 [00:20<00:04, 10.55it/s]"
     ]
    },
    {
     "name": "stdout",
     "output_type": "stream",
     "text": [
      "RPS for INT1: 0.1977115565023956 \n",
      "\n",
      "rho: 1.3, sigma: 0.30000000000000004, Score: 0.1977115565023956\n",
      "RPS for INT1: 0.19511410188681483 \n",
      "\n",
      "rho: 1.3, sigma: 0.4, Score: 0.19511410188681483\n",
      "RPS for INT1: 0.1932585387069401 \n",
      "\n",
      "rho: 1.3, sigma: 0.5, Score: 0.1932585387069401\n"
     ]
    },
    {
     "name": "stderr",
     "output_type": "stream",
     "text": [
      " 85%|████████▍ | 217/256 [00:20<00:03, 10.49it/s]"
     ]
    },
    {
     "name": "stdout",
     "output_type": "stream",
     "text": [
      "RPS for INT1: 0.19209793425718827 \n",
      "\n",
      "rho: 1.3, sigma: 0.6000000000000001, Score: 0.19209793425718827\n",
      "RPS for INT1: 0.19156474553981476 \n",
      "\n",
      "rho: 1.3, sigma: 0.7000000000000001, Score: 0.19156474553981476\n",
      "RPS for INT1: 0.19157901795271848 \n",
      "\n",
      "rho: 1.3, sigma: 0.8, Score: 0.19157901795271848\n"
     ]
    },
    {
     "name": "stderr",
     "output_type": "stream",
     "text": [
      " 86%|████████▌ | 219/256 [00:20<00:03, 10.53it/s]"
     ]
    },
    {
     "name": "stdout",
     "output_type": "stream",
     "text": [
      "RPS for INT1: 0.1920565225426997 \n",
      "\n",
      "rho: 1.3, sigma: 0.9, Score: 0.1920565225426997\n",
      "RPS for INT1: 0.19291547101764317 \n",
      "\n",
      "rho: 1.3, sigma: 1.0, Score: 0.19291547101764317\n",
      "RPS for INT1: 0.19408114547916872 \n",
      "\n",
      "rho: 1.3, sigma: 1.1, Score: 0.19408114547916872\n",
      "RPS for INT1: 0.19548841825538754 \n",
      "\n",
      "rho: 1.3, sigma: 1.2000000000000002, Score: 0.19548841825538754\n"
     ]
    },
    {
     "name": "stderr",
     "output_type": "stream",
     "text": [
      " 87%|████████▋ | 223/256 [00:21<00:03, 10.52it/s]"
     ]
    },
    {
     "name": "stdout",
     "output_type": "stream",
     "text": [
      "RPS for INT1: 0.1970825456759726 \n",
      "\n",
      "rho: 1.3, sigma: 1.3, Score: 0.1970825456759726\n",
      "RPS for INT1: 0.19881877385934502 \n",
      "\n",
      "rho: 1.3, sigma: 1.4000000000000001, Score: 0.19881877385934502\n",
      "RPS for INT1: 0.20066126602859027 \n",
      "\n",
      "rho: 1.3, sigma: 1.5, Score: 0.20066126602859027\n"
     ]
    },
    {
     "name": "stderr",
     "output_type": "stream",
     "text": [
      " 89%|████████▊ | 227/256 [00:21<00:02, 10.25it/s]"
     ]
    },
    {
     "name": "stdout",
     "output_type": "stream",
     "text": [
      "RPS for INT1: 0.21084073284263613 \n",
      "\n",
      "rho: 1.4000000000000001, sigma: 0.0, Score: 0.21084073284263613\n",
      "RPS for INT1: 0.206159794221872 \n",
      "\n",
      "rho: 1.4000000000000001, sigma: 0.1, Score: 0.206159794221872\n",
      "RPS for INT1: 0.2021330230746451 \n",
      "\n",
      "rho: 1.4000000000000001, sigma: 0.2, Score: 0.2021330230746451\n"
     ]
    },
    {
     "name": "stderr",
     "output_type": "stream",
     "text": [
      " 89%|████████▉ | 229/256 [00:21<00:02, 10.31it/s]"
     ]
    },
    {
     "name": "stdout",
     "output_type": "stream",
     "text": [
      "RPS for INT1: 0.19880570148947066 \n",
      "\n",
      "rho: 1.4000000000000001, sigma: 0.30000000000000004, Score: 0.19880570148947066\n",
      "RPS for INT1: 0.1961974673051133 \n",
      "\n",
      "rho: 1.4000000000000001, sigma: 0.4, Score: 0.1961974673051133\n",
      "RPS for INT1: 0.19429899390555588 \n",
      "\n",
      "rho: 1.4000000000000001, sigma: 0.5, Score: 0.19429899390555588\n"
     ]
    },
    {
     "name": "stderr",
     "output_type": "stream",
     "text": [
      " 90%|█████████ | 231/256 [00:22<00:02, 10.19it/s]"
     ]
    },
    {
     "name": "stdout",
     "output_type": "stream",
     "text": [
      "RPS for INT1: 0.193073454646854 \n",
      "\n",
      "rho: 1.4000000000000001, sigma: 0.6000000000000001, Score: 0.193073454646854\n",
      "RPS for INT1: 0.19246191597030055 \n",
      "\n",
      "rho: 1.4000000000000001, sigma: 0.7000000000000001, Score: 0.19246191597030055\n",
      "RPS for INT1: 0.19239099428971648 \n",
      "\n",
      "rho: 1.4000000000000001, sigma: 0.8, Score: 0.19239099428971648\n"
     ]
    },
    {
     "name": "stderr",
     "output_type": "stream",
     "text": [
      " 92%|█████████▏| 235/256 [00:22<00:02,  9.96it/s]"
     ]
    },
    {
     "name": "stdout",
     "output_type": "stream",
     "text": [
      "RPS for INT1: 0.19278093106253447 \n",
      "\n",
      "rho: 1.4000000000000001, sigma: 0.9, Score: 0.19278093106253447\n",
      "RPS for INT1: 0.19355259718771925 \n",
      "\n",
      "rho: 1.4000000000000001, sigma: 1.0, Score: 0.19355259718771925\n",
      "RPS for INT1: 0.19463258821707435 \n",
      "\n",
      "rho: 1.4000000000000001, sigma: 1.1, Score: 0.19463258821707435\n"
     ]
    },
    {
     "name": "stderr",
     "output_type": "stream",
     "text": [
      " 93%|█████████▎| 237/256 [00:22<00:01, 10.00it/s]"
     ]
    },
    {
     "name": "stdout",
     "output_type": "stream",
     "text": [
      "RPS for INT1: 0.19595623027440354 \n",
      "\n",
      "rho: 1.4000000000000001, sigma: 1.2000000000000002, Score: 0.19595623027440354\n",
      "RPS for INT1: 0.1974687817459482 \n",
      "\n",
      "rho: 1.4000000000000001, sigma: 1.3, Score: 0.1974687817459482\n",
      "RPS for INT1: 0.19912532936985172 \n",
      "\n",
      "rho: 1.4000000000000001, sigma: 1.4000000000000001, Score: 0.19912532936985172\n"
     ]
    },
    {
     "name": "stderr",
     "output_type": "stream",
     "text": [
      " 94%|█████████▍| 241/256 [00:23<00:01, 10.00it/s]"
     ]
    },
    {
     "name": "stdout",
     "output_type": "stream",
     "text": [
      "RPS for INT1: 0.2008898908930136 \n",
      "\n",
      "rho: 1.4000000000000001, sigma: 1.5, Score: 0.2008898908930136\n",
      "RPS for INT1: 0.21187581171962314 \n",
      "\n",
      "rho: 1.5, sigma: 0.0, Score: 0.21187581171962314\n",
      "RPS for INT1: 0.20732024704610275 \n",
      "\n",
      "rho: 1.5, sigma: 0.1, Score: 0.20732024704610275\n"
     ]
    },
    {
     "name": "stderr",
     "output_type": "stream",
     "text": [
      " 96%|█████████▌| 245/256 [00:23<00:01, 10.12it/s]"
     ]
    },
    {
     "name": "stdout",
     "output_type": "stream",
     "text": [
      "RPS for INT1: 0.2033623510312091 \n",
      "\n",
      "rho: 1.5, sigma: 0.2, Score: 0.2033623510312091\n",
      "RPS for INT1: 0.20005435420977977 \n",
      "\n",
      "rho: 1.5, sigma: 0.30000000000000004, Score: 0.20005435420977977\n",
      "RPS for INT1: 0.19742507812703727 \n",
      "\n",
      "rho: 1.5, sigma: 0.4, Score: 0.19742507812703727\n"
     ]
    },
    {
     "name": "stderr",
     "output_type": "stream",
     "text": [
      " 96%|█████████▋| 247/256 [00:23<00:00, 10.12it/s]"
     ]
    },
    {
     "name": "stdout",
     "output_type": "stream",
     "text": [
      "RPS for INT1: 0.1954753271078722 \n",
      "\n",
      "rho: 1.5, sigma: 0.5, Score: 0.1954753271078722\n",
      "RPS for INT1: 0.1941780546508405 \n",
      "\n",
      "rho: 1.5, sigma: 0.6000000000000001, Score: 0.1941780546508405\n",
      "RPS for INT1: 0.19348273417265852 \n",
      "\n",
      "rho: 1.5, sigma: 0.7000000000000001, Score: 0.19348273417265852\n"
     ]
    },
    {
     "name": "stderr",
     "output_type": "stream",
     "text": [
      " 98%|█████████▊| 251/256 [00:24<00:00, 10.18it/s]"
     ]
    },
    {
     "name": "stdout",
     "output_type": "stream",
     "text": [
      "RPS for INT1: 0.1933224344760495 \n",
      "\n",
      "rho: 1.5, sigma: 0.8, Score: 0.1933224344760495\n",
      "RPS for INT1: 0.19362177443888168 \n",
      "\n",
      "rho: 1.5, sigma: 0.9, Score: 0.19362177443888168\n",
      "RPS for INT1: 0.19430416785712426 \n",
      "\n",
      "rho: 1.5, sigma: 1.0, Score: 0.19430416785712426\n"
     ]
    },
    {
     "name": "stderr",
     "output_type": "stream",
     "text": [
      " 99%|█████████▉| 253/256 [00:24<00:00, 10.15it/s]"
     ]
    },
    {
     "name": "stdout",
     "output_type": "stream",
     "text": [
      "RPS for INT1: 0.19529735951930138 \n",
      "\n",
      "rho: 1.5, sigma: 1.1, Score: 0.19529735951930138\n",
      "RPS for INT1: 0.19653691761527498 \n",
      "\n",
      "rho: 1.5, sigma: 1.2000000000000002, Score: 0.19653691761527498\n",
      "RPS for INT1: 0.19796786063470936 \n",
      "\n",
      "rho: 1.5, sigma: 1.3, Score: 0.19796786063470936\n"
     ]
    },
    {
     "name": "stderr",
     "output_type": "stream",
     "text": [
      "100%|██████████| 256/256 [00:24<00:00, 10.39it/s]"
     ]
    },
    {
     "name": "stdout",
     "output_type": "stream",
     "text": [
      "RPS for INT1: 0.19954486783055045 \n",
      "\n",
      "rho: 1.5, sigma: 1.4000000000000001, Score: 0.19954486783055045\n",
      "RPS for INT1: 0.20123158019617335 \n",
      "\n",
      "rho: 1.5, sigma: 1.5, Score: 0.20123158019617335\n"
     ]
    },
    {
     "name": "stderr",
     "output_type": "stream",
     "text": [
      "\n"
     ]
    }
   ],
   "source": [
    "# Gridsearch on sigma and rho\n",
    "\n",
    "# Define the learning rates\n",
    "rates = {\n",
    "    'lambda': 0.043,\n",
    "    'gamma': 0.98,\n",
    "    'delta': 2.5,\n",
    "    'phi': 1,\n",
    "    'mu': 0.0,\n",
    "    'rho': 0.9,\n",
    "    'sigma': 0.7,\n",
    "    'tau': 0.001,\n",
    "    'ind_threshold': 6000,\n",
    "    'lambda2': 0.13,\n",
    "    'gamma2': 0.96,\n",
    "    'x': 1.3,\n",
    "    'y' : 1.0,\n",
    "    'a' : -1.625,\n",
    "    'b' : 0.75\n",
    "}\n",
    "\n",
    "\n",
    "# Define a parameter grid with the ranges for your parameters\n",
    "param_grid = {\n",
    "    'rho': np.linspace(0.0, 1.5, 16),\n",
    "    'sigma': np.linspace(0.0, 1.5, 16)\n",
    "\n",
    "}\n",
    "\n",
    "# Create a ParameterGrid object from the dictionary\n",
    "grid = ParameterGrid(param_grid)\n",
    "\n",
    "# Initialize the best_score variable\n",
    "best_score = float('inf')  # assuming lower scores are better\n",
    "\n",
    "# Create an empty list to store the results\n",
    "gs_results3 = []\n",
    "\n",
    "ratings, league_ratings = initialize_ratings(df_results, df_fixtures,df_int_results, df_int_fixtures)\n",
    "\n",
    "ratings, _, training_games = update_ratings_multiple_games(df_results, ratings, league_ratings, rates)\n",
    "\n",
    "_, _ = predict_outcomes(df_fixtures, ratings, league_ratings, rates, model)\n",
    "\n",
    "df_train = pd.DataFrame(training_games)\n",
    "#df_train.to_csv(\"../data/train232.csv\", index=False)\n",
    "model = train_model(df_train)\n",
    "\n",
    "\n",
    "# Loop over the parameter combinations\n",
    "for params in tqdm.tqdm(grid):\n",
    "    # Update the rates dictionary\n",
    "    rates.update(params)\n",
    "    \n",
    "    _, league_ratings = initialize_ratings(df_results, df_fixtures, df_int_results, df_int_fixtures)\n",
    "    \n",
    "    # Re-train model with the new parameters\n",
    "    league_ratings = update_league_ratings_multiple_games(df_int_results, league_ratings, rates)\n",
    "  \n",
    "    \n",
    "        \n",
    "    int_rps = predict_outcomes_int(df_int_fixtures, ratings, league_ratings, rates, model)\n",
    "   \n",
    "    # Now you can calculate the mean RPS across all competitions\n",
    "    mean_rps = np.mean(int_rps)\n",
    "\n",
    "    score = mean_rps\n",
    "    \n",
    "    # Store the current results\n",
    "    gs_results3.append({\n",
    "        'rho': rates['rho'],\n",
    "        'sigma': rates['sigma'],\n",
    "        'score': score,\n",
    "    })\n",
    "    \n",
    "    print(f\"rho: {rates['rho']}, sigma: {rates['sigma']}, Score: {score}\")\n"
   ],
   "metadata": {
    "collapsed": false,
    "ExecuteTime": {
     "end_time": "2023-08-29T10:32:22.187810Z",
     "start_time": "2023-08-29T10:31:50.564142Z"
    }
   }
  },
  {
   "cell_type": "code",
   "execution_count": 44,
   "outputs": [
    {
     "name": "stdout",
     "output_type": "stream",
     "text": [
      "Top combinations:\n",
      "rho: 0.9, sigma: 0.7000000000000001, Score: 0.18959774116597758\n",
      "rho: 0.8, sigma: 0.7000000000000001, Score: 0.1896198927429435\n",
      "rho: 1.0, sigma: 0.7000000000000001, Score: 0.18980400214379956\n",
      "rho: 0.9, sigma: 0.8, Score: 0.18987902166361667\n",
      "rho: 0.7000000000000001, sigma: 0.7000000000000001, Score: 0.1898943931201459\n",
      "rho: 0.9, sigma: 0.6000000000000001, Score: 0.18990658495394247\n",
      "rho: 0.8, sigma: 0.6000000000000001, Score: 0.18990717750210473\n",
      "rho: 0.8, sigma: 0.8, Score: 0.18993770355109552\n",
      "rho: 1.0, sigma: 0.8, Score: 0.1900338512208025\n",
      "rho: 1.0, sigma: 0.6000000000000001, Score: 0.19015110261169807\n"
     ]
    }
   ],
   "source": [
    "# Sort the results based on the score and get the top 5\n",
    "top_combinations = sorted(gs_results3, key=lambda x: x['score'])[:10]\n",
    "\n",
    "print(\"Top combinations:\")\n",
    "for combo in top_combinations:\n",
    "    print(f\"rho: {combo['rho']}, sigma: {combo['sigma']}, Score: {combo['score']}\")\n",
    "\n",
    "# Convert the gs_results to a DataFrame and plot them\n",
    "\n",
    "df_gs_results3 = pd.DataFrame(gs_results3)\n",
    "#to csv\n",
    "df_gs_results3.to_csv(\"../data/gs_resultsrhosig.csv\", index=False)\n"
   ],
   "metadata": {
    "collapsed": false,
    "ExecuteTime": {
     "end_time": "2023-08-29T10:32:42.402443Z",
     "start_time": "2023-08-29T10:32:42.374471Z"
    }
   }
  },
  {
   "cell_type": "code",
   "execution_count": 69,
   "outputs": [
    {
     "data": {
      "text/plain": "<Figure size 1000x700 with 1 Axes>",
      "image/png": "[encoded data removed]"
     },
     "metadata": {},
     "output_type": "display_data"
    }
   ],
   "source": [
    "df_gs_results3 = pd.read_csv(\"../data/gs_resultsrhosig.csv\")\n",
    "\n",
    "# Define grid of x, y values\n",
    "rho_range = np.linspace(0, 1.5, num=100)\n",
    "sigma_range = np.linspace(0, 1.5, num=100)\n",
    "rho_grid, sigma_grid = np.meshgrid(rho_range, sigma_range)\n",
    "\n",
    "# Interpolate z values for this grid\n",
    "rps3_grid = griddata((df_gs_results3['rho'], df_gs_results3['sigma']), df_gs_results3['score'], (rho_grid, sigma_grid), method='cubic')\n",
    "\n",
    "# Create 3D surface plot\n",
    "fig = plt.figure(figsize=(10, 7))\n",
    "ax = fig.add_subplot(111, projection='3d')\n",
    "surf = ax.plot_surface(rho_grid, sigma_grid, rps3_grid, cmap='RdYlGn_r', edgecolor='none')\n",
    "ax.set_xlabel(r'$\\rho}$')\n",
    "ax.set_ylabel(r'$\\sigma}$')\n",
    "ax.set_zlabel('RPS Score', fontsize=10, labelpad=5)\n",
    "ax.invert_zaxis()  # To make lower scores appear higher\n",
    "#fig.colorbar(surf)\n",
    "plt.savefig(\"../images/3d_plot_new_rs.png\", dpi=300)\n",
    "plt.show()"
   ],
   "metadata": {
    "collapsed": false,
    "ExecuteTime": {
     "end_time": "2023-08-29T10:51:26.163332Z",
     "start_time": "2023-08-29T10:51:23.584327Z"
    }
   }
  },
  {
   "cell_type": "code",
   "execution_count": null,
   "outputs": [],
   "source": [
    "# Gridsearch on int rating\n",
    "\n",
    "# Define the learning rates\n",
    "rates = {\n",
    "    'lambda': 0.043,\n",
    "    'gamma': 0.98,\n",
    "    'delta': 2.5,\n",
    "    'phi': 1,\n",
    "    'mu': 0.0,\n",
    "    'rho': 0.9,\n",
    "    'sigma': 0.7,\n",
    "    'tau': 0.001,\n",
    "    'ind_threshold': 6000,\n",
    "    'lambda2': 0.14,\n",
    "    'gamma2': 0.96,\n",
    "    'x': 1.3,\n",
    "    'y' : 1.0,\n",
    "    'a' : -1.625,\n",
    "    'b' : 0.75\n",
    "}\n",
    "\n",
    "\n",
    "# Define a parameter grid with the ranges for your parameters\n",
    "param_grid = {\n",
    "    'lambda2': np.linspace(0.1, 0.2, 11),\n",
    "    'gamma2': np.linspace(0.94, 0.98, 5),\n",
    "    'rho': np.linspace(0.8, 1.0, 5),\n",
    "    'sigma': np.linspace(0.5, 0.9, 5)\n",
    "\n",
    "}\n",
    "\n",
    "# Create a ParameterGrid object from the dictionary\n",
    "grid = ParameterGrid(param_grid)\n",
    "\n",
    "# Initialize the best_score variable\n",
    "best_score = float('inf')  # assuming lower scores are better\n",
    "\n",
    "# Create an empty list to store the results\n",
    "gs_results4 = []\n",
    "\n",
    "ratings, league_ratings = initialize_ratings(df_results, df_fixtures,df_int_results, df_int_fixtures)\n",
    "\n",
    "ratings, _, training_games = update_ratings_multiple_games(df_results, ratings, league_ratings, rates)\n",
    "\n",
    "_, _ = predict_outcomes(df_fixtures, ratings, league_ratings, rates, model)\n",
    "\n",
    "df_train = pd.DataFrame(training_games)\n",
    "#df_train.to_csv(\"../data/train232.csv\", index=False)\n",
    "model = train_model(df_train)\n",
    "\n",
    "\n",
    "# Loop over the parameter combinations\n",
    "for params in tqdm.tqdm(grid):\n",
    "    # Update the rates dictionary\n",
    "    rates.update(params)\n",
    "    \n",
    "    _, league_ratings = initialize_ratings(df_results, df_fixtures, df_int_results, df_int_fixtures)\n",
    "    \n",
    "    # Re-train model with the new parameters\n",
    "    league_ratings = update_league_ratings_multiple_games(df_int_results, league_ratings, rates)\n",
    "  \n",
    "    \n",
    "        \n",
    "    int_rps = predict_outcomes_int(df_int_fixtures, ratings, league_ratings, rates, model)\n",
    "   \n",
    "    # Now you can calculate the mean RPS across all competitions\n",
    "    mean_rps = np.mean(int_rps)\n",
    "\n",
    "    score = mean_rps\n",
    "    \n",
    "    # Store the current results\n",
    "    gs_results4.append({\n",
    "        'lambda2': rates['lambda2'],\n",
    "        'gamma2': rates['gamma2'],\n",
    "        'rho': rates['rho'],\n",
    "        'sigma': rates['sigma'],\n",
    "        'score': score,\n",
    "    })\n",
    "    \n",
    "    print(f\"lambda2: {rates['lambda2']}, gamma2: {rates['gamma2']}, rho: {rates['rho']}, sigma: {rates['sigma']}, Score: {score}\")\n"
   ],
   "metadata": {
    "collapsed": false
   }
  },
  {
   "cell_type": "code",
   "execution_count": null,
   "outputs": [],
   "source": [
    "# Sort the results based on the score and get the top 5\n",
    "top_combinations = sorted(gs_results4, key=lambda x: x['score'])[:10]\n",
    "\n",
    "print(\"Top combinations:\")\n",
    "for combo in top_combinations:\n",
    "    print(f\"lambda2: {combo['lambda2']}, gamma2: {combo['gamma2']}, rho: {combo['rho']}, sigma: {combo['sigma']}, Score: {combo['score']}\")\n",
    "\n",
    "# Convert the gs_results to a DataFrame and plot them\n",
    "\n",
    "df_gs_results4 = pd.DataFrame(gs_results4)\n",
    "#to csv\n",
    "df_gs_results4.to_csv(\"../data/gs_results_lam2gam2rhosig.csv\", index=False)"
   ],
   "metadata": {
    "collapsed": false
   }
  },
  {
   "cell_type": "code",
   "execution_count": null,
   "outputs": [],
   "source": [
    "\n",
    "# Potential values for lambda2 and gamma2\n",
    "potential_lambda2_values = np.linspace(0.01, 0.2, num=21)  \n",
    "potential_gamma2_values = np.linspace(0.9, 1.0, num=11)  \n",
    "\n",
    "# Lists to hold the parameter 'lambda2', 'gamma2' and the corresponding RPS values\n",
    "parameter_values = []\n",
    "rps_values = []\n",
    "\n",
    "# Iterate over potential lambda2 and gamma2 values\n",
    "for lambda2 in potential_lambda2_values:\n",
    "    for gamma2 in potential_gamma2_values:\n",
    "        _, league_ratings = initialize_ratings(df_results, df_fixtures, df_int_results, df_int_fixtures)\n",
    "        \n",
    "        # Update rates dictionary with the current lambda2 and gamma2 values\n",
    "        rates['lambda2'] = lambda2\n",
    "        rates['gamma2'] = gamma2\n",
    "\n",
    "        # ... [Your existing code to update ratings and calculate RPS]\n",
    "        league_ratings = update_league_ratings_multiple_games(df_int_results, league_ratings, rates)\n",
    "        int_rps = predict_outcomes_int(df_int_fixtures, ratings, league_ratings, rates, model)\n",
    "        # Calculate the mean RPS score for this combination\n",
    "        mean_rps = np.mean(int_rps)\n",
    "        \n",
    "        # Store the lambda2, gamma2, and corresponding RPS value\n",
    "        parameter_values.append((lambda2, gamma2))\n",
    "        rps_values.append(mean_rps)\n",
    "        \n",
    "\n",
    "# Identify top 5 parameter combinations\n",
    "top_indices = np.argsort(rps_values)[:5]  # gets the indices of the 5 lowest RPS scores\n",
    "top_parameters = [parameter_values[i] for i in top_indices]\n",
    "top_rps_values = [rps_values[i] for i in top_indices]\n",
    "\n",
    "# Print top 5 parameter combinations\n",
    "for i in range(5):\n",
    "    print(f\"Rank {i+1}, Parameters (lambda2, gamma2): {top_parameters[i]}, RPS Score: {top_rps_values[i]}\")\n"
   ],
   "metadata": {
    "collapsed": false
   }
  },
  {
   "cell_type": "code",
   "execution_count": null,
   "outputs": [],
   "source": [
    "\n",
    "# Define range for int_threshold\n",
    "thresholds = np.arange(0, 34000, 2000)  \n",
    "\n",
    "# Initialize the best_score variable\n",
    "best_score = float('inf')  \n",
    "\n",
    "# Create an empty list to store the results\n",
    "optimization_results = []\n",
    "\n",
    "for threshold in tqdm.tqdm(thresholds):\n",
    "    # Update rates with the current threshold\n",
    "    rates['int_threshold'] = threshold\n",
    "\n",
    "    ratings, league_ratings = initialize_ratings(df_results, df_fixtures, df_int_results, df_int_fixtures)\n",
    "        \n",
    "    # Train and evaluate your model with the current threshold\n",
    "    ratings, games_with_ratings, training_games = update_ratings_multiple_games(df_results, ratings, league_ratings, rates)\n",
    "        \n",
    "    df_train = pd.DataFrame(training_games)\n",
    "    #df_train.to_csv(\"../data/train.csv\", index=False)\n",
    "    model = train_model(df_train)\n",
    "\n",
    "    all_rps, league_tables = predict_outcomes(df_fixtures, ratings, league_ratings, rates, model)\n",
    "    score = np.mean(all_rps)\n",
    "\n",
    "    # If the current score is better than the best_score, update best_score\n",
    "    if score < best_score:\n",
    "        best_score = score\n",
    "        best_threshold = threshold\n",
    "\n",
    "    # Store the current score and threshold\n",
    "    optimization_results.append({\n",
    "        'int_threshold': threshold,\n",
    "        'score': score,\n",
    "    })\n",
    "        \n",
    "    print(f\"Threshold: {threshold}, Score: {score}\")\n",
    "\n",
    "# Convert the results to a DataFrame and sort by score\n",
    "df_optimization_results = pd.DataFrame(optimization_results).sort_values(by='score', ascending=True)\n",
    "\n",
    "# Display the top 5 combinations of the threshold and their score\n",
    "print(df_optimization_results.head(10))\n",
    "\n",
    "\n",
    "print(f\"Best int_threshold: {best_threshold}\")\n",
    "print(f\"Best score: {best_score}\")\n"
   ],
   "metadata": {
    "collapsed": false
   }
  },
  {
   "cell_type": "code",
   "execution_count": null,
   "outputs": [],
   "source": [
    "rates = {\n",
    "    'lambda': 0.04,\n",
    "    'gamma': 0.96,\n",
    "    'delta': 1,\n",
    "    'phi': 1,\n",
    "    'mu': 0,\n",
    "    'rho': 0.93,\n",
    "    'sigma': 0.6,\n",
    "    'tau': 0.001,\n",
    "    'ind_threshold': 0,\n",
    "    'lambda2': 0.15,\n",
    "    'gamma2': 0.97,\n",
    "    'x': 1.3,\n",
    "    'y' : 1.0,\n",
    "    'a' : -1.625,\n",
    "    'b' : 0.75\n",
    "}\n",
    "\n",
    "# Train and predict with current_rates (and current_model if necessary)\n",
    "ratings, league_ratings = initialize_ratings(df_results, df_fixtures, df_int_results, df_int_fixtures)\n",
    "    \n",
    "# 3. Re-train model with the new parameters\n",
    "ratings, _, training_games = update_ratings_multiple_games(df_results, ratings, league_ratings, rates)\n",
    "    \n",
    "    \n",
    "df_train = pd.DataFrame(training_games)\n",
    "#df_train.to_csv(\"../data/train232.csv\", index=False)\n",
    "current_model = train_model(df_train)\n",
    "\n",
    "# 1. Define the parameter grid\n",
    "param_grid = {\n",
    "    'mu': np.linspace(0.0, 0.2, 3),  \n",
    "    'phi': np.linspace(0, 2, 3), \n",
    "    'delta': np.linspace(1.5, 3.5, 3)  \n",
    "}\n",
    "\n",
    "\n",
    "# Initialize the best_score variable and best_params dictionary\n",
    "best_score = float('inf')\n",
    "best_params = {}\n",
    "\n",
    "# Create an empty list to store the results\n",
    "gs_results = []\n",
    "\n",
    "# 2. Iterate over the parameter combinations\n",
    "for params in tqdm.tqdm(ParameterGrid(param_grid)):\n",
    "    # Extract rates from params and merge with the existing rates dictionary\n",
    "    current_rates = rates.copy()\n",
    "    current_rates.update(params)\n",
    "    \n",
    "    \n",
    "    # Train and predict with current_rates (and current_model if necessary)\n",
    "    ratings, league_ratings = initialize_ratings(df_results, df_fixtures, df_int_results, df_int_fixtures)\n",
    "    \n",
    "    # 3. Re-train model with the new parameters\n",
    "    ratings, _, training_games = update_ratings_multiple_games(df_results, ratings, league_ratings, current_rates)\n",
    "    \n",
    "    # If your training method updates the model based on rates, you should train it here\n",
    "    \n",
    "    # Predict the probabilities of home win, draw and away win for the fixtures data\n",
    "    all_rps = []\n",
    "    for competition in df_fixtures['Div'].unique():\n",
    "        competition_fixtures = df_fixtures[df_fixtures['Div'] == competition]\n",
    "        competition_rps, _ = predict_outcomes(competition_fixtures, ratings, league_ratings, current_rates, model)\n",
    "        all_rps.extend(competition_rps)  # extend the list with rps scores from the current competition\n",
    "    \n",
    "    score = np.mean(all_rps)\n",
    "    \n",
    "\n",
    "    # If the current score is better than the best_score, update best_score and best_params\n",
    "    if score < best_score:\n",
    "        best_score = score\n",
    "        best_params = params\n",
    "\n",
    "    # Store the current score and parameters\n",
    "    gs_results.append({\n",
    "        'mu': params['mu'],\n",
    "        'phi': params['phi'],\n",
    "        'delta': params['delta'],\n",
    "        'score': score,\n",
    "    })\n",
    "    \n",
    "#  Identify the best parameters based on the score\n",
    "print(f'Best score: {best_score}')\n",
    "print(f'Best params: {best_params}')\n",
    "\n",
    "# Convert the gs_results to a DataFrame\n",
    "df_gs_results = pd.DataFrame(gs_results)\n",
    "\n",
    "# Sort the results by score and get the top 5\n",
    "top_5_results = df_gs_results.sort_values(by='score', ascending=True).head(5)\n",
    "\n",
    "print(\"Top 5 parameter combinations:\")\n",
    "print(top_5_results)\n"
   ],
   "metadata": {
    "collapsed": false
   }
  },
  {
   "cell_type": "code",
   "execution_count": null,
   "outputs": [],
   "source": [
    "# Gridsearch on x and y; a and b\n",
    "\n",
    "# Initialize the rates\n",
    "\n",
    "\n",
    "# Define a parameter grid with the ranges for your parameters\n",
    "param_grid = {\n",
    "    'x': np.linspace(1.0, 1.4, 5),\n",
    "    'y': np.linspace(1.0, 1.0, 1),\n",
    "    'a': np.linspace(-1.625, -1.625, 1),\n",
    "    'b': np.linspace(0.75, 0.75, 1)\n",
    "\n",
    "}\n",
    "\n",
    "# Create a ParameterGrid object from the dictionary\n",
    "grid = ParameterGrid(param_grid)\n",
    "\n",
    "# Initialize the best_score variable\n",
    "best_score = float('inf')  # assuming lower scores are better\n",
    "\n",
    "# Create an empty list to store the results\n",
    "gs_results = []\n",
    "\n",
    "# Loop over the parameter combinations\n",
    "for params in tqdm.tqdm(grid):\n",
    "    # Update the rates dictionary\n",
    "    rates.update(params)\n",
    "    \n",
    "    ratings, league_ratings = initialize_ratings(df_results, df_fixtures, df_int_results, df_int_fixtures)\n",
    "    \n",
    "    # Re-train model with the new parameters\n",
    "    ratings, games_with_ratings, training_games = update_ratings_multiple_games(df_results, ratings, league_ratings, rates)\n",
    "\n",
    "    df_train = pd.DataFrame(training_games)\n",
    "    #df_train.to_csv(\"../data/train232.csv\", index=False)\n",
    "    model = train_model(df_train)\n",
    "\n",
    "    all_rps, league_tables = predict_outcomes(df_fixtures, ratings, league_ratings, rates, model)\n",
    "    score = np.mean(all_rps)\n",
    "\n",
    "    # Store the current results\n",
    "    gs_results.append({\n",
    "        'x': rates['x'],\n",
    "        'y': rates['y'],\n",
    "        'a': rates['a'],\n",
    "        'b': rates['b'],\n",
    "        'score': score,\n",
    "    })\n",
    "\n",
    "# Sort the results based on the score and get the top 5\n",
    "top_5_combinations = sorted(gs_results, key=lambda z: z['score'])[:5]\n",
    "\n",
    "print(\"Top 5 combinations:\")\n",
    "for combo in top_5_combinations:\n",
    "    print(f\"x: {combo['x']}, y: {combo['y']}, a: {combo['a']}, b: {combo['b']}, Score: {combo['score']}\")"
   ],
   "metadata": {
    "collapsed": false
   }
  },
  {
   "cell_type": "code",
   "execution_count": null,
   "outputs": [],
   "source": [
    "#to csv\n",
    "df_gs_results.to_csv(\"../data/gs_results.csv\", index=False)\n",
    "top_27_results = df_gs_results.sort_values(by='score', ascending=True).head(27)\n",
    "\n",
    "print(\"Top 27 parameter combinations:\")\n",
    "print(top_27_results)\n"
   ],
   "metadata": {
    "collapsed": false
   }
  },
  {
   "cell_type": "code",
   "execution_count": null,
   "outputs": [],
   "source": [
    "\n",
    "\n",
    "import numpy as np\n",
    "import pandas as pd\n",
    "import matplotlib.pyplot as plt\n",
    "\n",
    "# Assuming df_gs_results is already loaded with your data\n",
    "\n",
    "# Combine mu and phi into a single column for visualization\n",
    "df_gs_results['mu_phi'] = df_gs_results['mu'].astype(str) + \", \" + df_gs_results['phi'].astype(str)\n",
    "\n",
    "# Create a numerical mapping for the mu_phi combinations\n",
    "unique_mu_phi = df_gs_results['mu_phi'].unique()\n",
    "mapping = {unique_mu_phi[i]: i for i in range(len(unique_mu_phi))}\n",
    "df_gs_results['mu_phi_mapped'] = df_gs_results['mu_phi'].map(mapping)\n",
    "\n",
    "# Sorting for a consistent visualization\n",
    "df_gs_results = df_gs_results.sort_values(by=['mu_phi_mapped', 'delta'])\n",
    "\n",
    "# Create 3D plot\n",
    "fig = plt.figure(figsize=(10, 7))\n",
    "ax = fig.add_subplot(111, projection='3d')\n",
    "sc = ax.scatter(df_gs_results['mu_phi_mapped'], df_gs_results['delta'], df_gs_results['score'], c=df_gs_results['score'], cmap='RdYlGn_r')\n",
    "ax.set_xlabel('Mu, Phi')\n",
    "ax.set_ylabel('Delta')\n",
    "ax.set_zlabel('RPS Score')\n",
    "ax.invert_zaxis()  # To make lower scores appear higher\n",
    "\n",
    "# Set x-ticks to be the string representation\n",
    "ax.set_xticks(list(mapping.values()))\n",
    "ax.set_xticklabels(list(mapping.keys()), rotation=45, ha='right')\n",
    "\n",
    "plt.tight_layout()\n",
    "plt.show()\n"
   ],
   "metadata": {
    "collapsed": false
   }
  },
  {
   "cell_type": "code",
   "execution_count": null,
   "outputs": [],
   "source": [
    "# Lists to hold the parameter 'rho', 'sigma' and the corresponding RPS values\n",
    "parameter_values = []\n",
    "rps_values = []\n",
    "\n",
    "# Grid of potential values for rho and sigma\n",
    "potential_rho_values = np.linspace(0.75, 1.0, num=26)\n",
    "potential_sigma_values = np.linspace(0.5, 0.7, num=21)\n",
    "\n",
    "# Iterate over potential rho and sigma values\n",
    "for rho in potential_rho_values:\n",
    "    for sigma in potential_sigma_values:\n",
    "        rates['rho'] = rho\n",
    "        rates['sigma'] = sigma\n",
    "        \n",
    "        # Obtain the RPS for the current value of rho and sigma\n",
    "        int_rps = predict_outcomes_int(df_int_fixtures, ratings, league_ratings, rates, model)\n",
    "\n",
    "        # Compute the average RPS\n",
    "        avg_rps = np.mean(int_rps)\n",
    "\n",
    "        # Add current result to the lists\n",
    "        parameter_values.append((rho, sigma))\n",
    "        rps_values.append(avg_rps)\n",
    "\n",
    "# Identify top 5 parameter combinations\n",
    "top_indices = np.argsort(rps_values)[:5]  # gets the indices of the 5 lowest RPS scores\n",
    "top_parameters = [parameter_values[i] for i in top_indices]\n",
    "top_rps_values = [rps_values[i] for i in top_indices]\n",
    "\n",
    "# Print top 5 parameter combinations\n",
    "for i in range(5):\n",
    "    print(f\"Rank {i+1}, Parameters (rho, sigma): {top_parameters[i]}, RPS Score: {top_rps_values[i]}\")\n"
   ],
   "metadata": {
    "collapsed": false
   }
  },
  {
   "cell_type": "code",
   "execution_count": null,
   "outputs": [],
   "source": [
    "# Generate meshgrid for 3D plot\n",
    "a_grid, b_grid = np.meshgrid(potential_a_values, potential_b_values)\n",
    "\n",
    "# Reshape rps_values into grid\n",
    "rps_grid = np.array(rps_values).reshape(a_grid.shape)\n",
    "\n",
    "# Create 3D surface plot\n",
    "fig = plt.figure(figsize=(10, 7))\n",
    "ax = fig.add_subplot(111, projection='3d')\n",
    "surf = ax.plot_surface(a_grid, b_grid, rps_grid, cmap='RdYlGn_r', edgecolor='none')\n",
    "ax.set_xlabel('a')\n",
    "ax.set_ylabel('b')\n",
    "ax.set_zlabel('RPS Score', fontsize=10, labelpad=5)\n",
    "ax.invert_zaxis()  # To make lower scores appear higher\n",
    "plt.savefig(\"../images/3d_plot_ab_rps.png\", dpi=300)\n",
    "plt.show()\n"
   ],
   "metadata": {
    "collapsed": false
   }
  },
  {
   "cell_type": "code",
   "execution_count": null,
   "outputs": [],
   "source": [
    "import seaborn as sns\n",
    "\n",
    "# Convert numpy arrays to lists\n",
    "a_values = [round(a, 2) for a in potential_a_values]\n",
    "b_values = [round(b, 2) for b in potential_b_values]\n",
    "\n",
    "# Reshape RPS values to the shape of the grid\n",
    "rps_grid = np.array(rps_values).reshape(len(a_values), len(b_values))\n",
    "\n",
    "# Create a dataframe from the grid\n",
    "df_rps = pd.DataFrame(rps_grid, index=a_values, columns=b_values)\n",
    "\n",
    "# Create the heatmap\n",
    "plt.figure(figsize=(10, 8))\n",
    "ax = sns.heatmap(df_rps, cmap='RdYlGn_r', annot=False, fmt=\".3f\")\n",
    "plt.title('Heatmap of RPS scores for different values of \"a\" and \"b\"')\n",
    "plt.xlabel('b')\n",
    "plt.ylabel('a')\n",
    "\n",
    "# Invert y-axis\n",
    "ax.invert_yaxis()\n",
    "\n",
    "plt.savefig(\"../images/heatmap_ab_rps.png\", dpi=300)\n",
    "plt.show()\n",
    "\n"
   ],
   "metadata": {
    "collapsed": false
   }
  },
  {
   "cell_type": "code",
   "execution_count": null,
   "outputs": [],
   "source": [
    "import seaborn as sns\n",
    "from matplotlib.patches import Rectangle\n",
    "\n",
    "\n",
    "# Convert numpy arrays to lists\n",
    "a_values = [round(a, 2) for a in potential_a_values]\n",
    "b_values = [round(b, 2) for b in potential_b_values]\n",
    "\n",
    "# Reshape RPS values to the shape of the grid\n",
    "rps_grid = np.array(rps_values).reshape(len(a_values), len(b_values))\n",
    "\n",
    "# Create a dataframe from the grid\n",
    "df_rps = pd.DataFrame(rps_grid, index=a_values, columns=b_values)\n",
    "\n",
    "plt.figure(figsize=(10, 8))\n",
    "ax = sns.heatmap(df_rps, cmap='RdYlGn_r', annot=False, fmt=\".3f\")\n",
    "plt.title('Heatmap of RPS scores for different values of \"a\" and \"b\"')\n",
    "plt.xlabel('b')\n",
    "plt.ylabel('a')\n",
    "\n",
    "# Manually highlight the best area\n",
    "highlight_a = 0.25\n",
    "highlight_b = 1.05\n",
    "\n",
    "# Add a red rectangle around the cell to highlight it\n",
    "for _, spine in ax.spines.items():\n",
    "    spine.set_visible(True)\n",
    "ax.add_patch(Rectangle((b_values.index(highlight_b), a_values.index(highlight_a)), 1, 1, fill=False, edgecolor='red', lw=3))\n",
    "\n",
    "ax.invert_yaxis()\n",
    "plt.savefig(\"../images/heatmap_ab_rps1.png\", dpi=300)\n",
    "plt.show()\n"
   ],
   "metadata": {
    "collapsed": false
   }
  },
  {
   "cell_type": "code",
   "execution_count": null,
   "outputs": [],
   "source": [
    "from matplotlib.patches import Rectangle\n",
    "\n",
    "\n",
    "# Manually highlight the best area\n",
    "highlight_a = 0.25\n",
    "highlight_b = 1.05\n",
    "\n",
    "# Find indices of the desired range in a_values and b_values\n",
    "start_a_index = a_values.index(0)\n",
    "end_a_index = a_values.index(0.5) + 1  # plus 1 to include 0.5\n",
    "start_b_index = b_values.index(0.75)\n",
    "end_b_index = b_values.index(1.25) + 1  # plus 1 to include 1.25\n",
    "\n",
    "# Select subsets\n",
    "a_values_subset = a_values[start_a_index:end_a_index]\n",
    "b_values_subset = b_values[start_b_index:end_b_index]\n",
    "rps_grid_subset = rps_grid[start_a_index:end_a_index, start_b_index:end_b_index]\n",
    "\n",
    "# Create a heatmap\n",
    "fig, ax = plt.subplots(figsize=(10, 7))\n",
    "cax = ax.matshow(rps_grid_subset, origin='lower', cmap='RdYlGn_r')\n",
    "fig.colorbar(cax)\n",
    "# Move x-axis labels to bottom\n",
    "ax.xaxis.tick_bottom()\n",
    "ax.set_xticks(range(len(b_values_subset)))\n",
    "ax.set_yticks(range(len(a_values_subset)))\n",
    "ax.set_xticklabels(np.round(b_values_subset, 2))\n",
    "ax.set_yticklabels(np.round(a_values_subset, 2))\n",
    "\n",
    "plt.title('Heatmap of RPS scores for different values of \"a\" and \"b\"')\n",
    "plt.xlabel('b')\n",
    "plt.ylabel('a')\n",
    "\n",
    "plt.savefig(\"../images/heatmap_ab_rps2.png\", dpi=300)\n",
    "plt.show()\n"
   ],
   "metadata": {
    "collapsed": false
   }
  },
  {
   "cell_type": "code",
   "execution_count": null,
   "outputs": [],
   "source": [
    "\"\"\"\n",
    "from sklearn.ensemble import RandomForestClassifier, GradientBoostingClassifier\n",
    "from sklearn.metrics import accuracy_score, precision_score, recall_score, f1_score\n",
    "\n",
    "\n",
    "def train_model2(df_train):\n",
    "    # Feature Selection\n",
    "    X = df_train[\"rating_difference\"].values.reshape(-1, 1)\n",
    "    y = df_train['FTR']\n",
    "    \n",
    "    # Split data into training and testing sets\n",
    "    X_train, X_test, y_train, y_test = train_test_split(X, y, test_size=0.1)\n",
    "    \n",
    "    # Model Selection and Parameter Tuning\n",
    "    #model = LogisticRegression(solver=\"saga\", penalty=\"l2\", tol=1e-3, C=0.1)\n",
    "    #model = RandomForestClassifier(n_estimators=100, random_state=42)\n",
    "    model = GradientBoostingClassifier(n_estimators=100)\n",
    "    #model = MLPClassifier(solver='lbfgs', alpha=1e-3, hidden_layer_sizes=(5, 2), max_iter=1000)\n",
    "    \n",
    "    # Fit the model with the training data\n",
    "    model.fit(X_train, y_train)\n",
    "    \n",
    "    # Save the model and label encoder here\n",
    "    joblib.dump(model, '../Models/model.pkl')\n",
    "    \n",
    "    \n",
    "    # Evaluate the model on the test set\n",
    "    y_pred = model.predict(X_test)\n",
    "    accuracy = accuracy_score(y_test, y_pred)\n",
    "    precision = precision_score(y_test, y_pred, average='weighted')\n",
    "    recall = recall_score(y_test, y_pred, average='weighted')\n",
    "    f1 = f1_score(y_test, y_pred, average='weighted')\n",
    "    print(f'Model accuracy: {accuracy*100:.2f}%')\n",
    "    print(f'Model precision: {precision*100:.2f}%')\n",
    "    print(f'Model recall: {recall*100:.2f}%')\n",
    "    print(f'Model F1-score: {f1*100:.2f}%')\n",
    "    \n",
    "    return model\n",
    "\"\"\"\n",
    "    \n",
    ";"
   ],
   "metadata": {
    "collapsed": false
   }
  },
  {
   "cell_type": "code",
   "execution_count": null,
   "outputs": [],
   "source": [
    "\"\"\"\n",
    "from sklearn.model_selection import cross_val_score\n",
    "\n",
    "def train_model(df_train):\n",
    "    \n",
    "    # Feature Selection\n",
    "    X = df_train[\"rating_difference\"].values.reshape(-1, 1)\n",
    "    y = df_train['FTR']\n",
    "    \n",
    "    # Model Selection and Parameter Tuning\n",
    "    model = LogisticRegression(solver=\"saga\", penalty=\"l2\")\n",
    "    \n",
    "    # Cross-Validation\n",
    "    scores = cross_val_score(model, X, y, cv=5, scoring='accuracy')\n",
    "    print(f'Cross-Validation Accuracy Scores: {scores}')\n",
    "    print(f'Mean Accuracy: {scores.mean()*100:.2f}%')\n",
    "    print(f'Standard Deviation: {scores.std()*100:.2f}%')\n",
    "    \n",
    "    # Fit the model with all the data\n",
    "    model.fit(X, y)\n",
    "    \n",
    "    # Save the model and label encoder here\n",
    "    joblib.dump(model, '../Models/model.pkl')\n",
    "    \n",
    "    return model\n",
    "\"\"\""
   ],
   "metadata": {
    "collapsed": false
   }
  },
  {
   "cell_type": "code",
   "execution_count": null,
   "outputs": [],
   "source": [
    "# Create 2D plot with colormap\n",
    "plt.figure(figsize=(10, 10))  # Adjust figsize to your preference to make the plot square\n",
    "plt.title('Grid Search Scores')\n",
    "\n",
    "cmap_reversed = plt.cm.get_cmap('RdYlGn_r')  # Reversed Red-Yellow-Green colormap\n",
    "\n",
    "# Here we store the image object returned by imshow\n",
    "im = plt.imshow(rps_grid, interpolation='nearest', cmap=cmap_reversed,\n",
    "           extent=(param_grid['lambda'].min(), param_grid['lambda'].max(), param_grid['gamma'].min(), param_grid['gamma'].max()), origin='lower')\n",
    "\n",
    "# We use the stored image object for the colorbar\n",
    "plt.colorbar(im, cmap=cmap_reversed)\n",
    "\n",
    "plt.axis('square')  # This will enforce a square aspect ratio\n",
    "\n",
    "plt.xticks(fontsize=8)\n",
    "plt.yticks(fontsize=8)\n",
    "plt.xlabel(\"Lambda\")\n",
    "plt.ylabel(\"Gamma\")\n",
    "plt.savefig(\"../images/2d_plot_heat_new.png\", dpi=300)\n",
    "plt.show()\n",
    "\n",
    "# Convert grid search results into a pivot table for plotting\n",
    "pivot_table = df_gs_results.pivot('lambda', 'gamma', 'score')\n",
    "\n",
    "# Create contour plot\n",
    "plt.figure(figsize=(10,7))\n",
    "contour_plot = plt.contourf(pivot_table.columns, pivot_table.index, pivot_table.values, cmap='RdYlGn_r', levels=100)\n",
    "plt.title('Grid Search RPS Scores')\n",
    "plt.xlabel('Lambda')\n",
    "plt.ylabel('Gamma')\n",
    "\n",
    "# Add a colorbar\n",
    "cbar = plt.colorbar(contour_plot)\n",
    "cbar.ax.set_ylabel('RPS Score')\n",
    "\n",
    "plt.savefig(\"../images/2d_plot_contour_gs232.png\", dpi=300)\n",
    "plt.show()"
   ],
   "metadata": {
    "collapsed": false
   }
  }
 ],
 "metadata": {
  "kernelspec": {
   "display_name": "Python 3",
   "language": "python",
   "name": "python3"
  },
  "language_info": {
   "codemirror_mode": {
    "name": "ipython",
    "version": 2
   },
   "file_extension": ".py",
   "mimetype": "text/x-python",
   "name": "python",
   "nbconvert_exporter": "python",
   "pygments_lexer": "ipython2",
   "version": "2.7.6"
  }
 },
 "nbformat": 4,
 "nbformat_minor": 0
}
